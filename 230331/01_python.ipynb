{
 "cells": [
  {
   "attachments": {},
   "cell_type": "markdown",
   "metadata": {},
   "source": [
    "# 변수"
   ]
  },
  {
   "cell_type": "code",
   "execution_count": 7,
   "metadata": {},
   "outputs": [
    {
     "name": "stdout",
     "output_type": "stream",
     "text": [
      "10\n",
      "test\n",
      "<class 'int'>\n",
      "<class 'str'>\n"
     ]
    }
   ],
   "source": [
    "# 변수 선언과 동시에 값을 할당\n",
    "a = 10\n",
    "b = \"test\"\n",
    "\n",
    "# 두 변수를 출력\n",
    "print(a)\n",
    "print(b)\n",
    "# 두 변수의 데이터의 형태 출력\n",
    "print(type(a))\n",
    "print(type(b))"
   ]
  },
  {
   "cell_type": "code",
   "execution_count": 8,
   "metadata": {},
   "outputs": [
    {
     "name": "stdout",
     "output_type": "stream",
     "text": [
      "10\n",
      "<class 'str'>\n"
     ]
    }
   ],
   "source": [
    "# 숫자 형태의 데이터에 \"\"로 묶어주면 문자열 데이터로 데이터 대입\n",
    "c = \"10\"\n",
    "\n",
    "print(c)\n",
    "print(type(c))"
   ]
  },
  {
   "attachments": {},
   "cell_type": "markdown",
   "metadata": {},
   "source": [
    "# 연산자"
   ]
  },
  {
   "cell_type": "code",
   "execution_count": 10,
   "metadata": {},
   "outputs": [
    {
     "name": "stdout",
     "output_type": "stream",
     "text": [
      "10 4 21 2.3333333333333335 2 1 343\n"
     ]
    }
   ],
   "source": [
    "# 산술 연산자\n",
    "x = 7\n",
    "y = 3\n",
    "\n",
    "print(x+y, x-y, x*y, x/y, x//y, x%y, x**y)"
   ]
  },
  {
   "cell_type": "code",
   "execution_count": 11,
   "metadata": {},
   "outputs": [
    {
     "name": "stdout",
     "output_type": "stream",
     "text": [
      "7\n",
      "8\n",
      "5\n",
      "10\n",
      "3.3333333333333335\n",
      "5.333333333333334\n",
      "3.3333333333333335\n"
     ]
    }
   ],
   "source": [
    "# 대입 연산자\n",
    "# +=, -=, *=, /=, //=, %=, **=\n",
    "# 산술 연산자와의 차이는 기준이 되는 변수의 데이터를 변경\n",
    "print(x)\n",
    "x += 1\n",
    "print(x)\n",
    "x -= 3\n",
    "print(x)\n",
    "x *= 2\n",
    "print(x)\n",
    "x /= 3\n",
    "print(x)\n",
    "print(x + 2)\n",
    "print(x)"
   ]
  },
  {
   "cell_type": "code",
   "execution_count": 12,
   "metadata": {},
   "outputs": [
    {
     "name": "stdout",
     "output_type": "stream",
     "text": [
      "False\n",
      "True\n",
      "True\n",
      "False\n",
      "True\n",
      "False\n"
     ]
    }
   ],
   "source": [
    "# 비교 연산자\n",
    "# 데이터의 비교를 하여 논리값을 출력\n",
    "# 논리값 bool의 형태 (True, False)\n",
    "x = 7\n",
    "y = 3\n",
    "\n",
    "print(x == y)\n",
    "print(x != y)\n",
    "print(x > y)\n",
    "print(x < y)\n",
    "print(x >= y)\n",
    "print(x <= y)"
   ]
  },
  {
   "cell_type": "code",
   "execution_count": 14,
   "metadata": {},
   "outputs": [
    {
     "name": "stdout",
     "output_type": "stream",
     "text": [
      "True\n",
      "False\n",
      "False\n"
     ]
    }
   ],
   "source": [
    "# and, or, not\n",
    "# and : 두 조건이 모두 참인 경우에 참, 나머지의 경우는 모두 거짓\n",
    "print(True and True)\n",
    "print(True and False)\n",
    "print(False and False)"
   ]
  },
  {
   "cell_type": "code",
   "execution_count": 16,
   "metadata": {},
   "outputs": [
    {
     "name": "stdout",
     "output_type": "stream",
     "text": [
      "True\n",
      "True\n",
      "False\n"
     ]
    }
   ],
   "source": [
    "# or : 두 조건 중 하나만 참이면 참, 두 조건이 모두 거짓인 경우에만 거짓\n",
    "print(True or True)\n",
    "print(True or False)\n",
    "print(False or False)"
   ]
  },
  {
   "cell_type": "code",
   "execution_count": 17,
   "metadata": {},
   "outputs": [
    {
     "name": "stdout",
     "output_type": "stream",
     "text": [
      "False\n"
     ]
    }
   ],
   "source": [
    "# not : True는 False로, False는 True로 출력\n",
    "print(not(True))"
   ]
  },
  {
   "attachments": {},
   "cell_type": "markdown",
   "metadata": {},
   "source": [
    "# 조건문"
   ]
  },
  {
   "attachments": {},
   "cell_type": "markdown",
   "metadata": {},
   "source": [
    "- if문\n",
    "    1. if 뒤의 조건식이 창민 경우 코드가 실행된다.\n",
    "    2. 조건식이 거짓인 경우에는 코드가 실행되지 않는다.\n",
    "    3. 거짓인 경우 코드를 실행하려면 else 구문이 필요하다.\n",
    "    4. 조건식이 여러개 인 경우에는 elif 조건식의 형태로 구문을 만들어준다"
   ]
  },
  {
   "cell_type": "code",
   "execution_count": 18,
   "metadata": {},
   "outputs": [
    {
     "name": "stdout",
     "output_type": "stream",
     "text": [
      "a는 10보다 작다\n",
      "프로그램 종료\n"
     ]
    }
   ],
   "source": [
    "a = 5\n",
    "\n",
    "# a가 10보다 작은 경우에는 첫번째 print를 실행.\n",
    "# a가 10보다 크거나 같은 경우에는 첫번째 print를 실행하지 않는다.\n",
    "if a < 10 :\n",
    "    print(\"a는 10보다 작다\")\n",
    "\n",
    "print(\"프로그램 종료\")"
   ]
  },
  {
   "cell_type": "code",
   "execution_count": 19,
   "metadata": {},
   "outputs": [
    {
     "name": "stdout",
     "output_type": "stream",
     "text": [
      "a는 10보다 크거나 같다\n",
      "프로그램 종료\n"
     ]
    }
   ],
   "source": [
    "# if ~ else문\n",
    "a = 15\n",
    "\n",
    "if a < 10 :\n",
    "    print(\"a는 10보다 작다\")\n",
    "else :\n",
    "    print(\"a는 10보다 크거나 같다\")\n",
    "\n",
    "print(\"프로그램 종료\")"
   ]
  },
  {
   "cell_type": "code",
   "execution_count": 20,
   "metadata": {},
   "outputs": [
    {
     "name": "stdout",
     "output_type": "stream",
     "text": [
      "B\n",
      "프로그램 종료\n"
     ]
    }
   ],
   "source": [
    "score = int(input(\"점수를 입력하시오\"))\n",
    "\n",
    "if score >= 90 :\n",
    "    print(\"A\")\n",
    "elif score >= 80 :\n",
    "    print(\"B\")\n",
    "elif score >= 70 :\n",
    "    print(\"C\")\n",
    "else :\n",
    "    print(\"F\")\n",
    "\n",
    "print(\"프로그램 종료\")"
   ]
  },
  {
   "attachments": {},
   "cell_type": "markdown",
   "metadata": {},
   "source": [
    "# 반복문"
   ]
  },
  {
   "cell_type": "code",
   "execution_count": 21,
   "metadata": {},
   "outputs": [
    {
     "name": "stdout",
     "output_type": "stream",
     "text": [
      "[1, 3, 5, 7, 9]\n"
     ]
    }
   ],
   "source": [
    "# range(시작값, 종료값, 증가값)\n",
    "print(list(range(1, 11, 2)))"
   ]
  },
  {
   "cell_type": "code",
   "execution_count": 26,
   "metadata": {},
   "outputs": [
    {
     "name": "stdout",
     "output_type": "stream",
     "text": [
      "1\n",
      "2\n",
      "3\n",
      "4\n",
      "5\n",
      "6\n",
      "7\n",
      "8\n",
      "9\n",
      "10\n",
      "프로그램 종료\n"
     ]
    }
   ],
   "source": [
    "# for 문\n",
    "for i in range(1, 11, 1) :\n",
    "    print(i)\n",
    "print(\"프로그램 종료\")"
   ]
  },
  {
   "cell_type": "code",
   "execution_count": 28,
   "metadata": {},
   "outputs": [
    {
     "name": "stdout",
     "output_type": "stream",
     "text": [
      "0\n",
      "1\n",
      "2\n",
      "3\n",
      "4\n",
      "5\n",
      "6\n",
      "7\n",
      "8\n",
      "9\n"
     ]
    }
   ],
   "source": [
    "for i in range(10) :\n",
    "    print(i)"
   ]
  },
  {
   "cell_type": "code",
   "execution_count": 29,
   "metadata": {},
   "outputs": [
    {
     "name": "stdout",
     "output_type": "stream",
     "text": [
      "10\n",
      "8\n",
      "6\n",
      "4\n",
      "2\n"
     ]
    }
   ],
   "source": [
    "for i in range(10, 1, -2) :\n",
    "    print(i)"
   ]
  },
  {
   "cell_type": "code",
   "execution_count": 31,
   "metadata": {},
   "outputs": [
    {
     "name": "stdout",
     "output_type": "stream",
     "text": [
      "55\n"
     ]
    }
   ],
   "source": [
    "# 1부터 10까지의 합계를 구하시오\n",
    "# 10번 반복\n",
    "\n",
    "# 초기의 합계 값 지정\n",
    "result = 0\n",
    "\n",
    "# 반복문 시작\n",
    "for i in range(1, 11, 1) :\n",
    "    # 합계값에 i를 더해준다\n",
    "    # result = result + i\n",
    "    result += i\n",
    "\n",
    "print(result)"
   ]
  },
  {
   "cell_type": "code",
   "execution_count": 34,
   "metadata": {},
   "outputs": [
    {
     "name": "stdout",
     "output_type": "stream",
     "text": [
      "650\n"
     ]
    }
   ],
   "source": [
    "# 1부터 50까지의 합계를 구한다.\n",
    "# 1부터 50까지 짝수의 합계만 구하는 방법은?\n",
    "\n",
    "result = 0\n",
    "for i in range(1, 51, 1) :\n",
    "    # 짝수의 조건 : 2로 나눴을때 나머지가 0 인 경우\n",
    "    if i % 2 == 0 :\n",
    "        result += i\n",
    "print(result)"
   ]
  },
  {
   "cell_type": "code",
   "execution_count": 38,
   "metadata": {},
   "outputs": [
    {
     "name": "stdout",
     "output_type": "stream",
     "text": [
      "1 4\n",
      "2 3\n",
      "3 2\n",
      "4 1\n",
      "4 6\n",
      "5 5\n",
      "6 4\n"
     ]
    }
   ],
   "source": [
    "# 주사위 2개를 굴려서 두 주사위의 합계가 5의 배수인 경우를 출력하시오\n",
    "# 경우의 수 : 36번 -> 6번 경우의수 * 6번 경우의 수\n",
    "# 다중 for 문 + if 문\n",
    "\n",
    "for i in range(1, 7, 1) :\n",
    "    for j in range(1, 7, 1) :\n",
    "        sum = i + j\n",
    "        if sum % 5 == 0 :\n",
    "            print(i, j)"
   ]
  },
  {
   "attachments": {},
   "cell_type": "markdown",
   "metadata": {},
   "source": [
    "### 문제\n",
    "- 페르마의 마지막 정리를 증명하시오.\n",
    "    > a<sup>n</sup> + b<sup>n</sup> = c<sup>n</sup> 이 수식에서 n의 값이 2보다 큰 자연수이면 a + b + c의 자연수의 값은 존재하지 않는다.\n",
    "    \n",
    "    > n의 값이 3인 경우 a, b, c가 1부터 10까지 이 정리가 사실임을 증명하시오.\n",
    "- 다중 for 문과 if 문을 사용"
   ]
  },
  {
   "cell_type": "code",
   "execution_count": 43,
   "metadata": {},
   "outputs": [
    {
     "name": "stdout",
     "output_type": "stream",
     "text": [
      "페르마의 정리 증명을 종료\n"
     ]
    }
   ],
   "source": [
    "# 1. 1부터 10까지 반복하는 반목문 생성\n",
    "for a in range (1, 11, 1) :\n",
    "    # 2. 이러한 반복문 a, b, c 10번씩 반복한다.\n",
    "    for b in range (1, 11, 1) :\n",
    "        for c in range (1, 11, 1) :\n",
    "            # 1000번을 반복하는 반복문을 생성\n",
    "            # 조건 생성 -> a**n + b**n == c**n\n",
    "            if a**3 + b**3 == c**3 :\n",
    "                print (a, b, c)\n",
    "\n",
    "print(\"페르마의 정리 증명을 종료\")"
   ]
  },
  {
   "cell_type": "code",
   "execution_count": 44,
   "metadata": {},
   "outputs": [
    {
     "name": "stdout",
     "output_type": "stream",
     "text": [
      "0\n",
      "1\n",
      "2\n",
      "3\n",
      "4\n",
      "5\n",
      "6\n",
      "7\n",
      "8\n",
      "9\n"
     ]
    }
   ],
   "source": [
    "# while 문\n",
    "\n",
    "# 초기값 지정\n",
    "i = 0\n",
    "\n",
    "while i < 10 :\n",
    "    print(i)\n",
    "    i += 1"
   ]
  },
  {
   "cell_type": "code",
   "execution_count": 46,
   "metadata": {},
   "outputs": [
    {
     "name": "stdout",
     "output_type": "stream",
     "text": [
      "55\n"
     ]
    }
   ],
   "source": [
    "# while 문을 이용하여 1부터 10까지의 합계\n",
    "\n",
    "result = 0\n",
    "i = 1\n",
    "\n",
    "while i <= 10 :\n",
    "    result += i\n",
    "    i += 1\n",
    "print(result)"
   ]
  },
  {
   "cell_type": "code",
   "execution_count": 48,
   "metadata": {},
   "outputs": [
    {
     "name": "stdout",
     "output_type": "stream",
     "text": [
      "3\n",
      "4\n",
      "5\n",
      "6\n",
      "7\n",
      "8\n",
      "9\n",
      "10\n"
     ]
    }
   ],
   "source": [
    "# continue, break\n",
    "# continue : 반복문으로 돌아간다.\n",
    "# break : 반복문 종료한다.\n",
    "\n",
    "for i in range(1, 11, 1) :\n",
    "    if i < 3 :\n",
    "        continue\n",
    "    print(i)"
   ]
  },
  {
   "cell_type": "code",
   "execution_count": 50,
   "metadata": {},
   "outputs": [
    {
     "name": "stdout",
     "output_type": "stream",
     "text": [
      "0\n",
      "1\n",
      "2\n",
      "3\n",
      "4\n",
      "5\n",
      "6\n"
     ]
    }
   ],
   "source": [
    "i = 0\n",
    "\n",
    "while i < 11 :\n",
    "    if i == 7 :\n",
    "        break\n",
    "    print(i)\n",
    "    i += 1"
   ]
  },
  {
   "attachments": {},
   "cell_type": "markdown",
   "metadata": {},
   "source": [
    "### 문제\n",
    " - 1부터 1000까지의 합을 구하는데 합계가 900이 넘어가는 최초의 숫자는 무엇인가?\n",
    "    1. 합계라는 변수를 하나 지정 0을 대입\n",
    "    2. for, while 문을 사용하여 1부터 1000까지의 합계를 구하는 반복문 생성\n",
    "    3. 합계가 900이 넘어가는 순간 break\n",
    "    4. break 당시의 i값을 출력"
   ]
  },
  {
   "cell_type": "code",
   "execution_count": 55,
   "metadata": {},
   "outputs": [
    {
     "name": "stdout",
     "output_type": "stream",
     "text": [
      "42\n",
      "903\n"
     ]
    }
   ],
   "source": [
    "# for 문\n",
    "result = 0\n",
    "for i in range (1, 1001, 1) :\n",
    "    result += i\n",
    "    if result > 900 :\n",
    "        break\n",
    "\n",
    "print(i)\n",
    "print(result)\n"
   ]
  },
  {
   "cell_type": "code",
   "execution_count": 63,
   "metadata": {},
   "outputs": [
    {
     "name": "stdout",
     "output_type": "stream",
     "text": [
      "42\n",
      "903\n"
     ]
    }
   ],
   "source": [
    "# while 문\n",
    "result = 0\n",
    "i = 1\n",
    "while i <= 1000 :\n",
    "    result += i\n",
    "    if result > 900 :\n",
    "        break\n",
    "    i += 1\n",
    "\n",
    "print(i)\n",
    "print(result)"
   ]
  },
  {
   "attachments": {},
   "cell_type": "markdown",
   "metadata": {},
   "source": [
    "# 튜플"
   ]
  },
  {
   "cell_type": "code",
   "execution_count": 68,
   "metadata": {},
   "outputs": [
    {
     "name": "stdout",
     "output_type": "stream",
     "text": [
      "(4, 'Hello')\n",
      "(3, 3.14)\n",
      "(4, 'Hello', 3, 3.14)\n",
      "(4, 'Hello', 4, 'Hello', 4, 'Hello')\n"
     ]
    }
   ],
   "source": [
    "a = (4, \"Hello\")\n",
    "b = (3, 3.14)\n",
    "c = a + b\n",
    "d = a * 3\n",
    "print(a)\n",
    "print(b)\n",
    "print(c)\n",
    "print(d)"
   ]
  },
  {
   "cell_type": "code",
   "execution_count": 65,
   "metadata": {},
   "outputs": [
    {
     "name": "stdout",
     "output_type": "stream",
     "text": [
      "4\n"
     ]
    }
   ],
   "source": [
    "# 튜플과 같은 여러개의 원소를 담아내고 있는 변수들은 위치 값으로 각각의 원소를 출력할 수 있다.\n",
    "print(a[0])"
   ]
  },
  {
   "cell_type": "code",
   "execution_count": 69,
   "metadata": {},
   "outputs": [
    {
     "name": "stdout",
     "output_type": "stream",
     "text": [
      "H\n"
     ]
    }
   ],
   "source": [
    "print(a[1][0])"
   ]
  },
  {
   "cell_type": "code",
   "execution_count": 70,
   "metadata": {},
   "outputs": [
    {
     "name": "stdout",
     "output_type": "stream",
     "text": [
      "(20, 30, 40)\n"
     ]
    }
   ],
   "source": [
    "a = (10, 20, 30, 40, 50)\n",
    "\n",
    "# 2번째 원소부터 4번째 원소까지 출력\n",
    "print(a[1 : 4])"
   ]
  },
  {
   "cell_type": "code",
   "execution_count": 71,
   "metadata": {},
   "outputs": [
    {
     "name": "stdout",
     "output_type": "stream",
     "text": [
      "(20, 30, 40, 50)\n",
      "(10, 20, 30)\n"
     ]
    }
   ],
   "source": [
    "print(a[1 : ])      # 2번째부터 마지막까지 출력\n",
    "print(a[ : 3])      # 처음부터 3번째 항목까지 출력"
   ]
  },
  {
   "attachments": {},
   "cell_type": "markdown",
   "metadata": {},
   "source": [
    "# 리스트"
   ]
  },
  {
   "cell_type": "code",
   "execution_count": 72,
   "metadata": {},
   "outputs": [
    {
     "name": "stdout",
     "output_type": "stream",
     "text": [
      "[10, 20, 30, 40]\n",
      "[40, 30, 20, 10]\n"
     ]
    }
   ],
   "source": [
    "a = [20, 10, 40, 30]\n",
    "b = [10, 20, 30, 40]\n",
    "\n",
    "# a 리스트의 순서를 오름차순으로 변경\n",
    "a.sort()\n",
    "# b 리스트의 순서를 역순으로 변경\n",
    "b.reverse()\n",
    "\n",
    "print(a)\n",
    "print(b)"
   ]
  },
  {
   "cell_type": "code",
   "execution_count": 73,
   "metadata": {},
   "outputs": [
    {
     "name": "stdout",
     "output_type": "stream",
     "text": [
      "[10, 20, 30]\n",
      "[40, 30, 20, 10, 22]\n"
     ]
    }
   ],
   "source": [
    "# a 리스트에서 마지막 항목 삭제\n",
    "a.pop()\n",
    "# b 리스트에 22 라는 항목을 마지막 항에 추가\n",
    "b.append(22)\n",
    "\n",
    "print(a)\n",
    "print(b)"
   ]
  },
  {
   "cell_type": "code",
   "execution_count": 74,
   "metadata": {},
   "outputs": [
    {
     "name": "stdout",
     "output_type": "stream",
     "text": [
      "[1, 2, 3, 4, 5, 6, 7, 8, 9, 10]\n"
     ]
    }
   ],
   "source": [
    "x = []\n",
    "\n",
    "for i in range(1, 11, 1) :\n",
    "    x.append(i)\n",
    "print(x)"
   ]
  },
  {
   "cell_type": "code",
   "execution_count": 76,
   "metadata": {},
   "outputs": [
    {
     "name": "stdout",
     "output_type": "stream",
     "text": [
      "30\n",
      "20\n",
      "80\n",
      "10\n",
      "30\n",
      "20\n",
      "80\n",
      "10\n"
     ]
    }
   ],
   "source": [
    "y = [30, 20, 80, 10]\n",
    "\n",
    "for i in y :\n",
    "    print(i)\n",
    "\n",
    "for i in range(0, len(y), 1) :\n",
    "    print(y[i])"
   ]
  },
  {
   "attachments": {},
   "cell_type": "markdown",
   "metadata": {},
   "source": [
    "- 1부터 70까지의 숫자등 중에 3의 배수를 리스트의 형태로 만들어서 출력\n",
    "    1. 비어있는 리스트를 하나 생성\n",
    "    2. 1부터 70까지 반목을 하는 반복문 생성\n",
    "    3. 1부터 70까지 항목들을 비어있는 리스트에 추가\n",
    "    4. 3의 배수인 값들만 리스트 추가"
   ]
  },
  {
   "cell_type": "code",
   "execution_count": 77,
   "metadata": {},
   "outputs": [
    {
     "name": "stdout",
     "output_type": "stream",
     "text": [
      "[3, 6, 9, 12, 15, 18, 21, 24, 27, 30, 33, 36, 39, 42, 45, 48, 51, 54, 57, 60, 63, 66, 69]\n"
     ]
    }
   ],
   "source": [
    "# for 문\n",
    "\n",
    "x = []\n",
    "\n",
    "for i in range(1, 71, 1) :\n",
    "    if i % 3 == 0 :\n",
    "        x.append(i)\n",
    "\n",
    "print(x)"
   ]
  },
  {
   "cell_type": "code",
   "execution_count": 78,
   "metadata": {},
   "outputs": [
    {
     "name": "stdout",
     "output_type": "stream",
     "text": [
      "[3, 6, 9, 12, 15, 18, 21, 24, 27, 30, 33, 36, 39, 42, 45, 48, 51, 54, 57, 60, 63, 66, 69]\n"
     ]
    }
   ],
   "source": [
    "# while 문\n",
    "\n",
    "x = []\n",
    "i = 1\n",
    "\n",
    "while i <= 70 :\n",
    "    if i % 3 == 0 :\n",
    "        x.append(i)\n",
    "    i += 1\n",
    "\n",
    "print(x)"
   ]
  },
  {
   "attachments": {},
   "cell_type": "markdown",
   "metadata": {},
   "source": [
    "# 딕셔너리"
   ]
  },
  {
   "cell_type": "code",
   "execution_count": 81,
   "metadata": {},
   "outputs": [
    {
     "name": "stdout",
     "output_type": "stream",
     "text": [
      "{'name': 'test', 'age': 20, 'phone': '01012345678'}\n"
     ]
    }
   ],
   "source": [
    "# 사전형 데이터\n",
    "# {key1 : value1, ket2 : value2, ...}\n",
    "dict = {'name' : 'test', 'age' : 20, 'phone' : '01012345678'}\n",
    "\n",
    "print(dict)"
   ]
  },
  {
   "cell_type": "code",
   "execution_count": 83,
   "metadata": {},
   "outputs": [
    {
     "name": "stdout",
     "output_type": "stream",
     "text": [
      "{'name': 'test', 'age': 30, 'phone': '01012345678', 'area': 'seoul'}\n"
     ]
    }
   ],
   "source": [
    "# 새로운 키 : 밸류 를 추가\n",
    "# 새로운 키값을 입력\n",
    "dict['area'] = 'seoul'\n",
    "\n",
    "print(dict)"
   ]
  },
  {
   "cell_type": "code",
   "execution_count": 84,
   "metadata": {},
   "outputs": [
    {
     "name": "stdout",
     "output_type": "stream",
     "text": [
      "{'name': 'test', 'age': 30, 'phone': '01012345678', 'area': 'seoul'}\n"
     ]
    }
   ],
   "source": [
    "# 기존의 키 값에 있는 밸류를 수정\n",
    "dict['age'] = 30\n",
    "\n",
    "print(dict)"
   ]
  },
  {
   "cell_type": "code",
   "execution_count": 85,
   "metadata": {},
   "outputs": [
    {
     "name": "stdout",
     "output_type": "stream",
     "text": [
      "{'name': 'test', 'age': 30, 'area': 'seoul'}\n"
     ]
    }
   ],
   "source": [
    "# 키 값을 삭제\n",
    "del(dict['phone'])\n",
    "\n",
    "print(dict)"
   ]
  },
  {
   "cell_type": "code",
   "execution_count": 86,
   "metadata": {},
   "outputs": [
    {
     "name": "stdout",
     "output_type": "stream",
     "text": [
      "[{'name': 'test', 'age': 20}, {'name': 'test2', 'age': 30}, {'name': 'test3', 'age': 25}]\n"
     ]
    }
   ],
   "source": [
    "# DB와 python을 연동하여 데이터를 받을 시\n",
    "# 데이터의 형태 [{}, {}]\n",
    "\n",
    "test_data = [\n",
    "    {\n",
    "        \"name\" : \"test\",\n",
    "        \"age\" : 20\n",
    "    },\n",
    "    {\n",
    "        \"name\" : \"test2\",\n",
    "        \"age\" : 30\n",
    "    },\n",
    "    {\n",
    "        \"name\" : \"test3\",\n",
    "        \"age\" : 25\n",
    "\n",
    "    }\n",
    "    ]\n",
    "\n",
    "print(test_data)"
   ]
  },
  {
   "cell_type": "code",
   "execution_count": 87,
   "metadata": {},
   "outputs": [
    {
     "name": "stdout",
     "output_type": "stream",
     "text": [
      "{'name': 'test2', 'age': 30}\n",
      "test2\n"
     ]
    }
   ],
   "source": [
    "# test_data에서 \"test2\"라는 항목을 출력하려면?\n",
    "print(test_data[1])\n",
    "print(test_data[1]['name'])"
   ]
  },
  {
   "attachments": {},
   "cell_type": "markdown",
   "metadata": {},
   "source": [
    "- test_data에서 연령대가 20대인 사람의 이름을 리스트로 출력하시오\n",
    "    1. 비어있는 리스트를 생성\n",
    "    2. test_data의 항목들을 반복문을 이용하여 출력\n",
    "    3. 각 항목들의 나이를 출력\n",
    "    4. 조건을 생성하여 연령대가 20대인 항목을 출력\n",
    "    5. 20개인 항목에서 이름의 값만 출력\n",
    "    6. 해당하는 이름들을 리스트에 추가"
   ]
  },
  {
   "cell_type": "code",
   "execution_count": 102,
   "metadata": {},
   "outputs": [
    {
     "name": "stdout",
     "output_type": "stream",
     "text": [
      "['test', 'test3']\n"
     ]
    }
   ],
   "source": [
    "# for 문 1\n",
    "\n",
    "x = []\n",
    "\n",
    "for i in range(0, len(test_data), 1) :\n",
    "    if test_data[i]['age'] >= 20 and test_data[i]['age'] < 30 :\n",
    "        # print(test_data[i]['name'])\n",
    "        x.append(test_data[i]['name'])\n",
    "    # print(test_data[i]['age'])\n",
    "    \n",
    "print(x)"
   ]
  },
  {
   "cell_type": "code",
   "execution_count": 101,
   "metadata": {},
   "outputs": [
    {
     "name": "stdout",
     "output_type": "stream",
     "text": [
      "['test', 'test3']\n"
     ]
    }
   ],
   "source": [
    "# for 문 2\n",
    "\n",
    "x = []\n",
    "\n",
    "for i in test_data :\n",
    "    if i['age'] >= 20 and i['age'] < 30 :\n",
    "        # print(i['name'])\n",
    "        x.append(i['name'])\n",
    "    # print(i['age'])\n",
    "\n",
    "print(x)"
   ]
  },
  {
   "cell_type": "code",
   "execution_count": 108,
   "metadata": {},
   "outputs": [
    {
     "name": "stdout",
     "output_type": "stream",
     "text": [
      "['test', 'test3']\n"
     ]
    }
   ],
   "source": [
    "# while 문\n",
    "\n",
    "x = []\n",
    "\n",
    "i = 0\n",
    "\n",
    "while i < len(test_data) :\n",
    "    if test_data[i]['age'] >= 20 and test_data[i]['age'] < 30 :\n",
    "        x.append(test_data[i]['name'])\n",
    "    i += 1\n",
    "\n",
    "print(x)"
   ]
  },
  {
   "cell_type": "code",
   "execution_count": null,
   "metadata": {},
   "outputs": [],
   "source": []
  }
 ],
 "metadata": {
  "kernelspec": {
   "display_name": "Python 3",
   "language": "python",
   "name": "python3"
  },
  "language_info": {
   "codemirror_mode": {
    "name": "ipython",
    "version": 3
   },
   "file_extension": ".py",
   "mimetype": "text/x-python",
   "name": "python",
   "nbconvert_exporter": "python",
   "pygments_lexer": "ipython3",
   "version": "3.11.2"
  },
  "orig_nbformat": 4,
  "vscode": {
   "interpreter": {
    "hash": "9a1cf8048fa9799cd9f3428802577c37e6a97ae1904847691bc8201f9d5fe797"
   }
  }
 },
 "nbformat": 4,
 "nbformat_minor": 2
}
