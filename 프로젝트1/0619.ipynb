{
 "cells": [
  {
   "cell_type": "code",
   "execution_count": 1,
   "metadata": {},
   "outputs": [],
   "source": [
    "import pandas as pd"
   ]
  },
  {
   "cell_type": "code",
   "execution_count": null,
   "metadata": {},
   "outputs": [],
   "source": [
    "# df = pd.read_excel(\"./datasets/0619/대한항공뉴스기사(0619).xlsx\")\n",
    "# df.head()"
   ]
  },
  {
   "cell_type": "code",
   "execution_count": null,
   "metadata": {},
   "outputs": [],
   "source": [
    "# df = df.sort_values(by=\"일자\").reset_index(drop=True)\n",
    "# df.head()"
   ]
  },
  {
   "cell_type": "code",
   "execution_count": null,
   "metadata": {},
   "outputs": [],
   "source": [
    "# news_df = pd.read_csv(\"./datasets/0619/대한항공뉴스(0619명사처리후).csv\")\n",
    "# news_df.info()"
   ]
  },
  {
   "cell_type": "code",
   "execution_count": null,
   "metadata": {},
   "outputs": [],
   "source": [
    "# stock_df = pd.read_csv(\"./datasets/주가데이터(0616).csv\")"
   ]
  },
  {
   "cell_type": "code",
   "execution_count": null,
   "metadata": {},
   "outputs": [],
   "source": [
    "# stock_df[\"날짜\"] = pd.to_datetime(stock_df[\"날짜\"])"
   ]
  },
  {
   "cell_type": "code",
   "execution_count": null,
   "metadata": {},
   "outputs": [],
   "source": [
    "# stock_df.info()"
   ]
  },
  {
   "cell_type": "code",
   "execution_count": null,
   "metadata": {},
   "outputs": [],
   "source": [
    "# stock_df = stock_df.rename(columns={\"날짜\" : \"주식일자\"})"
   ]
  },
  {
   "cell_type": "code",
   "execution_count": null,
   "metadata": {},
   "outputs": [],
   "source": [
    "# news_df[\"주식일자\"] = pd.to_datetime(news_df[\"주식일자\"])"
   ]
  },
  {
   "cell_type": "code",
   "execution_count": null,
   "metadata": {},
   "outputs": [],
   "source": [
    "# merge_df = pd.merge(news_df, stock_df, on='주식일자', how=\"left\")"
   ]
  },
  {
   "cell_type": "code",
   "execution_count": null,
   "metadata": {},
   "outputs": [],
   "source": [
    "# merge_df.drop(columns=\"Unnamed: 7\", axis=1, inplace=True)"
   ]
  },
  {
   "cell_type": "code",
   "execution_count": null,
   "metadata": {},
   "outputs": [],
   "source": [
    "# merge_df"
   ]
  },
  {
   "cell_type": "code",
   "execution_count": null,
   "metadata": {},
   "outputs": [],
   "source": [
    "# merge_df.drop(merge_df.loc[merge_df[\"URL\"].isna()].index, axis=0, inplace=True)"
   ]
  },
  {
   "cell_type": "code",
   "execution_count": null,
   "metadata": {},
   "outputs": [],
   "source": [
    "# merge_df.drop(merge_df.loc[merge_df[\"nouns\"].isna()].index, axis=0, inplace=True)"
   ]
  },
  {
   "cell_type": "code",
   "execution_count": null,
   "metadata": {},
   "outputs": [],
   "source": [
    "# merge_df.isna().sum()"
   ]
  },
  {
   "cell_type": "code",
   "execution_count": null,
   "metadata": {},
   "outputs": [],
   "source": [
    "# merge_df.to_csv('./정제데이터(0619).csv', index=False, encoding='utf-8-sig')"
   ]
  },
  {
   "cell_type": "code",
   "execution_count": 3,
   "metadata": {},
   "outputs": [
    {
     "data": {
      "text/html": [
       "<div>\n",
       "<style scoped>\n",
       "    .dataframe tbody tr th:only-of-type {\n",
       "        vertical-align: middle;\n",
       "    }\n",
       "\n",
       "    .dataframe tbody tr th {\n",
       "        vertical-align: top;\n",
       "    }\n",
       "\n",
       "    .dataframe thead th {\n",
       "        text-align: right;\n",
       "    }\n",
       "</style>\n",
       "<table border=\"1\" class=\"dataframe\">\n",
       "  <thead>\n",
       "    <tr style=\"text-align: right;\">\n",
       "      <th></th>\n",
       "      <th>일자</th>\n",
       "      <th>언론사</th>\n",
       "      <th>제목</th>\n",
       "      <th>특성추출(가중치순 상위 50개)</th>\n",
       "      <th>URL</th>\n",
       "      <th>nouns</th>\n",
       "      <th>주식일자</th>\n",
       "      <th>종가</th>\n",
       "      <th>금종가</th>\n",
       "      <th>유가종가</th>\n",
       "      <th>target</th>\n",
       "    </tr>\n",
       "  </thead>\n",
       "  <tbody>\n",
       "    <tr>\n",
       "      <th>0</th>\n",
       "      <td>2022-05-01</td>\n",
       "      <td>아시아경제</td>\n",
       "      <td>아시아나항공, 게이트 그룹 고소 \"기내식 독점 공급권 헐값\"</td>\n",
       "      <td>기내식,아시아나항공,경영진,스위스,계열사,순이익,서울중앙지검,게이트고메그룹,사업권,...</td>\n",
       "      <td>https://view.asiae.co.kr/article/2022050119353...</td>\n",
       "      <td>아시아나 항공 게이트 그룹 고소 기내식 독점 공급 헐값</td>\n",
       "      <td>2022-05-02</td>\n",
       "      <td>29950</td>\n",
       "      <td>76700</td>\n",
       "      <td>105.17</td>\n",
       "      <td>0</td>\n",
       "    </tr>\n",
       "    <tr>\n",
       "      <th>1</th>\n",
       "      <td>2022-05-01</td>\n",
       "      <td>서울신문</td>\n",
       "      <td>아시아나항공, 기내식 공급사 경영진 고소</td>\n",
       "      <td>기내식,아시아나항공,스위스,경영진,계열사,순이익,서울중앙지검,인수권부,가능성,신주인...</td>\n",
       "      <td>http://www.seoul.co.kr/news/newsView.php?id=20...</td>\n",
       "      <td>아시아나 항공 기내식 급사 영진 고소</td>\n",
       "      <td>2022-05-02</td>\n",
       "      <td>29950</td>\n",
       "      <td>76700</td>\n",
       "      <td>105.17</td>\n",
       "      <td>0</td>\n",
       "    </tr>\n",
       "    <tr>\n",
       "      <th>2</th>\n",
       "      <td>2022-05-01</td>\n",
       "      <td>세계일보</td>\n",
       "      <td>아시아나항공, 박삼구 전 회장 기내식 독점 계약 업체 고소</td>\n",
       "      <td>기내식,아시아나항공,경영진,계열사,스위스,서울중앙지검,순이익,박삼구,사업권,1600...</td>\n",
       "      <td>http://www.segye.com/content/html/2022/05/01/2...</td>\n",
       "      <td>아시아나 항공 박삼구 회장 기내식 독점 계약 업체 고소</td>\n",
       "      <td>2022-05-02</td>\n",
       "      <td>29950</td>\n",
       "      <td>76700</td>\n",
       "      <td>105.17</td>\n",
       "      <td>0</td>\n",
       "    </tr>\n",
       "    <tr>\n",
       "      <th>3</th>\n",
       "      <td>2022-05-01</td>\n",
       "      <td>헤럴드경제</td>\n",
       "      <td>아시아나항공, 스위스 게이트그룹 경영진 고소 기내식 공급 계약 무효 소송도</td>\n",
       "      <td>아시아나항공,기내식,스위스,경영진,계열사,순이익,서울중앙지검,소송도,사업권,인수권부...</td>\n",
       "      <td>http://biz.heraldcorp.com/view.php?ud=20220501...</td>\n",
       "      <td>아시아나 항공 스위스 게이트 그룹 영진 고소 기내식 공급 계약 무효 소송도</td>\n",
       "      <td>2022-05-02</td>\n",
       "      <td>29950</td>\n",
       "      <td>76700</td>\n",
       "      <td>105.17</td>\n",
       "      <td>0</td>\n",
       "    </tr>\n",
       "    <tr>\n",
       "      <th>4</th>\n",
       "      <td>2022-05-01</td>\n",
       "      <td>한국경제</td>\n",
       "      <td>아시아나 \"기내식 30년 계약 무효\" 게이트그룹 고소</td>\n",
       "      <td>아시아나항공,게이트그룹,기내식,경영진,금호,대한항공,테마섹,만큼,관계자,워크아웃,싱...</td>\n",
       "      <td>https://www.hankyung.com/economy/article/20220...</td>\n",
       "      <td>아시아나 기내식 계약 무효 게이트 그룹 고소</td>\n",
       "      <td>2022-05-02</td>\n",
       "      <td>29950</td>\n",
       "      <td>76700</td>\n",
       "      <td>105.17</td>\n",
       "      <td>0</td>\n",
       "    </tr>\n",
       "    <tr>\n",
       "      <th>...</th>\n",
       "      <td>...</td>\n",
       "      <td>...</td>\n",
       "      <td>...</td>\n",
       "      <td>...</td>\n",
       "      <td>...</td>\n",
       "      <td>...</td>\n",
       "      <td>...</td>\n",
       "      <td>...</td>\n",
       "      <td>...</td>\n",
       "      <td>...</td>\n",
       "      <td>...</td>\n",
       "    </tr>\n",
       "    <tr>\n",
       "      <th>954</th>\n",
       "      <td>2022-08-31</td>\n",
       "      <td>헤럴드경제</td>\n",
       "      <td>대한항공, 10월 부다페스트 신규 취항 두바이 푸켓도 운항 재개</td>\n",
       "      <td>부다페스트,인천,헝가리,대한항공,동유럽,푸켓,달간,두바이,유네스코,한국,제조업,자동...</td>\n",
       "      <td>http://biz.heraldcorp.com/view.php?ud=20220831...</td>\n",
       "      <td>대한항공 부다페스트 신규 취항 두바이 푸켓 운항 재개</td>\n",
       "      <td>2022-09-01</td>\n",
       "      <td>26150</td>\n",
       "      <td>74300</td>\n",
       "      <td>86.61</td>\n",
       "      <td>0</td>\n",
       "    </tr>\n",
       "    <tr>\n",
       "      <th>955</th>\n",
       "      <td>2022-08-31</td>\n",
       "      <td>아주경제</td>\n",
       "      <td>대한항공, 10월 부다페스트 신규 취항 두바이-푸켓-치앙마이 운항 재개</td>\n",
       "      <td>대한항공,인천공항,치앙마이,부다페스트,푸켓,인천,두바이,헝가리,중동,보잉,경쟁력</td>\n",
       "      <td>https://www.ajunews.com/view/20220831132626006</td>\n",
       "      <td>대한항공 부다페스트 신규 취항 두바이 푸켓 치앙마이 운항 재개</td>\n",
       "      <td>2022-09-01</td>\n",
       "      <td>26150</td>\n",
       "      <td>74300</td>\n",
       "      <td>86.61</td>\n",
       "      <td>0</td>\n",
       "    </tr>\n",
       "    <tr>\n",
       "      <th>956</th>\n",
       "      <td>2022-08-31</td>\n",
       "      <td>동아일보</td>\n",
       "      <td>입국 전 코로나 검사 폐지에 항공업계, 신규 취항-운항 재개 ‘기지개’</td>\n",
       "      <td>대한항공,인천공항,코로나,부다페스트,치앙마이,국제선,인천,항공사,중동,코로나19,pcr</td>\n",
       "      <td>https://www.donga.com/news/article/all/2022083...</td>\n",
       "      <td>입국 코로나 검사 폐지 항공 업계 신규 취항 운항 재개 기지개</td>\n",
       "      <td>2022-09-01</td>\n",
       "      <td>26150</td>\n",
       "      <td>74300</td>\n",
       "      <td>86.61</td>\n",
       "      <td>0</td>\n",
       "    </tr>\n",
       "    <tr>\n",
       "      <th>957</th>\n",
       "      <td>2022-08-31</td>\n",
       "      <td>디지털타임스</td>\n",
       "      <td>대한항공, 10월 부다페스트 신규 취항 중동 동남아 운항도 재개</td>\n",
       "      <td>인천공항,치앙마이,인천,부다페스트,달간,대한항공,복편,다음날,중동,헝가리,푸켓</td>\n",
       "      <td>http://www.dt.co.kr/contents.html?article_no=2...</td>\n",
       "      <td>대한항공 부다페스트 신규 취항 중동 동남아 운항 재개</td>\n",
       "      <td>2022-09-01</td>\n",
       "      <td>26150</td>\n",
       "      <td>74300</td>\n",
       "      <td>86.61</td>\n",
       "      <td>0</td>\n",
       "    </tr>\n",
       "    <tr>\n",
       "      <th>958</th>\n",
       "      <td>2022-08-31</td>\n",
       "      <td>매일경제</td>\n",
       "      <td>대한항공, 10월 부다페스트 신규 취항 두바이 푸켓 치앙마이 운항 재개</td>\n",
       "      <td>인천,대한항공,부다페스트,동유럽,인천공항,달간,푸켓,두바이,치앙마이,헝가리,보잉,코...</td>\n",
       "      <td>http://news.mk.co.kr/newsRead.php?no=770841&amp;ye...</td>\n",
       "      <td>대한항공 부다페스트 신규 취항 두바이 푸켓 치앙마이 운항 재개</td>\n",
       "      <td>2022-09-01</td>\n",
       "      <td>26150</td>\n",
       "      <td>74300</td>\n",
       "      <td>86.61</td>\n",
       "      <td>0</td>\n",
       "    </tr>\n",
       "  </tbody>\n",
       "</table>\n",
       "<p>959 rows × 11 columns</p>\n",
       "</div>"
      ],
      "text/plain": [
       "             일자     언론사                                         제목   \n",
       "0    2022-05-01   아시아경제          아시아나항공, 게이트 그룹 고소 \"기내식 독점 공급권 헐값\"  \\\n",
       "1    2022-05-01    서울신문                     아시아나항공, 기내식 공급사 경영진 고소   \n",
       "2    2022-05-01    세계일보           아시아나항공, 박삼구 전 회장 기내식 독점 계약 업체 고소   \n",
       "3    2022-05-01   헤럴드경제  아시아나항공, 스위스 게이트그룹 경영진 고소 기내식 공급 계약 무효 소송도   \n",
       "4    2022-05-01    한국경제              아시아나 \"기내식 30년 계약 무효\" 게이트그룹 고소   \n",
       "..          ...     ...                                        ...   \n",
       "954  2022-08-31   헤럴드경제        대한항공, 10월 부다페스트 신규 취항 두바이 푸켓도 운항 재개   \n",
       "955  2022-08-31    아주경제    대한항공, 10월 부다페스트 신규 취항 두바이-푸켓-치앙마이 운항 재개   \n",
       "956  2022-08-31    동아일보    입국 전 코로나 검사 폐지에 항공업계, 신규 취항-운항 재개 ‘기지개’   \n",
       "957  2022-08-31  디지털타임스        대한항공, 10월 부다페스트 신규 취항 중동 동남아 운항도 재개   \n",
       "958  2022-08-31    매일경제    대한항공, 10월 부다페스트 신규 취항 두바이 푸켓 치앙마이 운항 재개   \n",
       "\n",
       "                                     특성추출(가중치순 상위 50개)   \n",
       "0    기내식,아시아나항공,경영진,스위스,계열사,순이익,서울중앙지검,게이트고메그룹,사업권,...  \\\n",
       "1    기내식,아시아나항공,스위스,경영진,계열사,순이익,서울중앙지검,인수권부,가능성,신주인...   \n",
       "2    기내식,아시아나항공,경영진,계열사,스위스,서울중앙지검,순이익,박삼구,사업권,1600...   \n",
       "3    아시아나항공,기내식,스위스,경영진,계열사,순이익,서울중앙지검,소송도,사업권,인수권부...   \n",
       "4    아시아나항공,게이트그룹,기내식,경영진,금호,대한항공,테마섹,만큼,관계자,워크아웃,싱...   \n",
       "..                                                 ...   \n",
       "954  부다페스트,인천,헝가리,대한항공,동유럽,푸켓,달간,두바이,유네스코,한국,제조업,자동...   \n",
       "955       대한항공,인천공항,치앙마이,부다페스트,푸켓,인천,두바이,헝가리,중동,보잉,경쟁력   \n",
       "956   대한항공,인천공항,코로나,부다페스트,치앙마이,국제선,인천,항공사,중동,코로나19,pcr   \n",
       "957        인천공항,치앙마이,인천,부다페스트,달간,대한항공,복편,다음날,중동,헝가리,푸켓   \n",
       "958  인천,대한항공,부다페스트,동유럽,인천공항,달간,푸켓,두바이,치앙마이,헝가리,보잉,코...   \n",
       "\n",
       "                                                   URL   \n",
       "0    https://view.asiae.co.kr/article/2022050119353...  \\\n",
       "1    http://www.seoul.co.kr/news/newsView.php?id=20...   \n",
       "2    http://www.segye.com/content/html/2022/05/01/2...   \n",
       "3    http://biz.heraldcorp.com/view.php?ud=20220501...   \n",
       "4    https://www.hankyung.com/economy/article/20220...   \n",
       "..                                                 ...   \n",
       "954  http://biz.heraldcorp.com/view.php?ud=20220831...   \n",
       "955     https://www.ajunews.com/view/20220831132626006   \n",
       "956  https://www.donga.com/news/article/all/2022083...   \n",
       "957  http://www.dt.co.kr/contents.html?article_no=2...   \n",
       "958  http://news.mk.co.kr/newsRead.php?no=770841&ye...   \n",
       "\n",
       "                                         nouns        주식일자     종가    금종가   \n",
       "0               아시아나 항공 게이트 그룹 고소 기내식 독점 공급 헐값  2022-05-02  29950  76700  \\\n",
       "1                         아시아나 항공 기내식 급사 영진 고소  2022-05-02  29950  76700   \n",
       "2               아시아나 항공 박삼구 회장 기내식 독점 계약 업체 고소  2022-05-02  29950  76700   \n",
       "3    아시아나 항공 스위스 게이트 그룹 영진 고소 기내식 공급 계약 무효 소송도  2022-05-02  29950  76700   \n",
       "4                     아시아나 기내식 계약 무효 게이트 그룹 고소  2022-05-02  29950  76700   \n",
       "..                                         ...         ...    ...    ...   \n",
       "954              대한항공 부다페스트 신규 취항 두바이 푸켓 운항 재개  2022-09-01  26150  74300   \n",
       "955         대한항공 부다페스트 신규 취항 두바이 푸켓 치앙마이 운항 재개  2022-09-01  26150  74300   \n",
       "956         입국 코로나 검사 폐지 항공 업계 신규 취항 운항 재개 기지개  2022-09-01  26150  74300   \n",
       "957              대한항공 부다페스트 신규 취항 중동 동남아 운항 재개  2022-09-01  26150  74300   \n",
       "958         대한항공 부다페스트 신규 취항 두바이 푸켓 치앙마이 운항 재개  2022-09-01  26150  74300   \n",
       "\n",
       "       유가종가  target  \n",
       "0    105.17       0  \n",
       "1    105.17       0  \n",
       "2    105.17       0  \n",
       "3    105.17       0  \n",
       "4    105.17       0  \n",
       "..      ...     ...  \n",
       "954   86.61       0  \n",
       "955   86.61       0  \n",
       "956   86.61       0  \n",
       "957   86.61       0  \n",
       "958   86.61       0  \n",
       "\n",
       "[959 rows x 11 columns]"
      ]
     },
     "execution_count": 3,
     "metadata": {},
     "output_type": "execute_result"
    }
   ],
   "source": [
    "df = pd.read_csv(\"./정제데이터(두현).csv\")\n",
    "df"
   ]
  },
  {
   "cell_type": "code",
   "execution_count": null,
   "metadata": {},
   "outputs": [],
   "source": []
  }
 ],
 "metadata": {
  "kernelspec": {
   "display_name": "Python 3",
   "language": "python",
   "name": "python3"
  },
  "language_info": {
   "codemirror_mode": {
    "name": "ipython",
    "version": 3
   },
   "file_extension": ".py",
   "mimetype": "text/x-python",
   "name": "python",
   "nbconvert_exporter": "python",
   "pygments_lexer": "ipython3",
   "version": "3.10.9"
  },
  "orig_nbformat": 4
 },
 "nbformat": 4,
 "nbformat_minor": 2
}
