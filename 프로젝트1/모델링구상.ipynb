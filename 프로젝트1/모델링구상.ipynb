{
 "cells": [
  {
   "cell_type": "code",
   "execution_count": 62,
   "metadata": {},
   "outputs": [],
   "source": [
    "from konlpy.tag import Okt\n",
    "from tqdm import tqdm\n",
    "import pandas as pd\n",
    "from datetime import timedelta"
   ]
  },
  {
   "cell_type": "code",
   "execution_count": 63,
   "metadata": {},
   "outputs": [],
   "source": [
    "# import re\n",
    "\n",
    "# def preprocess_text(text):\n",
    "#     # 괄호와 괄호 안에 있는 내용 삭제\n",
    "#     text = re.sub(r'\\([^()]*\\)', '', text)  # () 안에 있는 내용 삭제\n",
    "#     text = re.sub(r'\\[[^\\[\\]]*\\]', '', text)  # [] 안에 있는 내용 삭제\n",
    "#     text = re.sub(r'\\{[^{}]*\\}', '', text)  # {} 안에 있는 내용 삭제\n",
    "\n",
    "#     pattern_others = re.compile(r'\\.([^\\.]*(?:기자|특파원|교수|작가|대표|논설|고문|주필|부문장|팀장|장관|원장|연구원|이사장|위원|실장|차장|부장|에세이|화백|사설|소장|단장|과장|기획자|큐레이터|저작권|평론가|©|©|ⓒ|\\@|\\/|=|▶|무단|전재|재배포|금지|\\[|\\]|\\(\\))[^\\.]*)$')\n",
    "#     text = pattern_others.sub('.', text)\n",
    "\n",
    "#     # 특수문자 제거\n",
    "#     text = re.sub(r'[^%.,+-\\w\\s]', ' ', text)  # 특수문자를 공백으로 대체\n",
    "\n",
    "#     # 공백 제거\n",
    "#     text = re.sub(r'\\s+', ' ', text)  # 연속된 공백을 하나의 공백으로 대체\n",
    "#     text = text.strip()  # 문장 앞뒤의 공백 제거\n",
    "\n",
    "#     # 연속된 줄바꿈을 하나의 줄바꿈으로 대체\n",
    "#     text = re.sub(r'\\n+', '\\n', text)\n",
    "\n",
    "#     return text"
   ]
  },
  {
   "cell_type": "code",
   "execution_count": 64,
   "metadata": {},
   "outputs": [],
   "source": [
    "dh_df = pd.read_excel('./DH(뉴스+타겟).xlsx', index_col=0)"
   ]
  },
  {
   "cell_type": "code",
   "execution_count": 65,
   "metadata": {},
   "outputs": [],
   "source": [
    "import re\n",
    "\n",
    "def preprocess_text(text):\n",
    "    # Delete parentheses and contents inside parentheses\n",
    "    text = re.sub(r'\\([^()]*\\)', '', text) # 괄호와 괄호 안의 내용 삭제\n",
    "    text = re.sub(r'\\[[^\\[\\]]*\\]', '', text) # 대괄호와 대괄호 안의 내용 삭제\n",
    "    text = re.sub(r'\\{[^{}]*\\}', '', text) # 중괄호와 중괄호 안의 내용 삭제\n",
    "\n",
    "    pattern_others = re.compile(r'\\.([^\\.]*(?: 기자|특파원|교수|작가|대표|논설|고문|주필|부문장|팀장|장관|원장|연구원|이사장|위원|실장|차장|부장|에세이|화백|사설|소장|단장|과장|기획자|큐레이터|저작권|평론가|©|©|ⓒ|\\@|\\/|=|▶|무단|전재|재배포|금지|\\[|\\]|\\(\\))[^\\.]*)$')\n",
    "    text = pattern_others.sub('.', text)\n",
    "\n",
    "    # 특수 문자 제거\n",
    "    text = re.sub(r'[^%.,+\\-\\w\\s]', ' ', text) # 특수 문자를 공백으로 대체\n",
    "\n",
    "    # 공백 정리\n",
    "    text = re.sub(r'\\s+', ' ', text) # 연속된 공백을 단일 공백으로 대체\n",
    "    text = text.strip() # 앞뒤 공백 제거\n",
    "\n",
    "    # 연속된 줄바꿈을 단일 줄바꿈으로 대체\n",
    "    text = re.sub(r'\\n+', '\\n', text)\n",
    "\n",
    "    return text"
   ]
  },
  {
   "cell_type": "code",
   "execution_count": 66,
   "metadata": {},
   "outputs": [],
   "source": [
    "stopwords = ['원본보기', '아이콘', 'AD','자료','ADVERTISEMENT','Advertisement','viewer']"
   ]
  },
  {
   "cell_type": "code",
   "execution_count": 67,
   "metadata": {},
   "outputs": [],
   "source": [
    "def remove_stopwords(text, stopwords):\n",
    "    words = text.split()\n",
    "    words = [word for word in words if word.lower() not in stopwords]\n",
    "    return ' '.join(words)"
   ]
  },
  {
   "cell_type": "code",
   "execution_count": 68,
   "metadata": {},
   "outputs": [],
   "source": [
    "dh_df['article_text'] = dh_df['article_text'].apply(preprocess_text)"
   ]
  },
  {
   "cell_type": "code",
   "execution_count": 69,
   "metadata": {},
   "outputs": [],
   "source": [
    "dh_df['article_text'] = dh_df['article_text'].apply(remove_stopwords, stopwords=stopwords)"
   ]
  },
  {
   "cell_type": "code",
   "execution_count": 70,
   "metadata": {},
   "outputs": [],
   "source": [
    "dh_df['oil_news'] = dh_df['oil_news'].apply(preprocess_text)\n",
    "dh_df['oil_news'] = dh_df['oil_news'].apply(remove_stopwords, stopwords=stopwords)"
   ]
  },
  {
   "cell_type": "code",
   "execution_count": 71,
   "metadata": {},
   "outputs": [
    {
     "data": {
      "text/html": [
       "<div>\n",
       "<style scoped>\n",
       "    .dataframe tbody tr th:only-of-type {\n",
       "        vertical-align: middle;\n",
       "    }\n",
       "\n",
       "    .dataframe tbody tr th {\n",
       "        vertical-align: top;\n",
       "    }\n",
       "\n",
       "    .dataframe thead th {\n",
       "        text-align: right;\n",
       "    }\n",
       "</style>\n",
       "<table border=\"1\" class=\"dataframe\">\n",
       "  <thead>\n",
       "    <tr style=\"text-align: right;\">\n",
       "      <th></th>\n",
       "      <th>predict_date</th>\n",
       "      <th>oil_news</th>\n",
       "      <th>article_text</th>\n",
       "      <th>대한종가</th>\n",
       "      <th>대한타겟</th>\n",
       "    </tr>\n",
       "  </thead>\n",
       "  <tbody>\n",
       "    <tr>\n",
       "      <th>0</th>\n",
       "      <td>2022-01-02</td>\n",
       "      <td>코로나19가 2년가까이 지속되면서 대면서비스업을 중심으로 한 내수경기의 부진은 더욱...</td>\n",
       "      <td>2022년에도 국제선 여객 정상화는 어렵다는 판단이며 이에 따라 항공화물 시황은 호...</td>\n",
       "      <td>29500</td>\n",
       "      <td>0</td>\n",
       "    </tr>\n",
       "    <tr>\n",
       "      <th>1</th>\n",
       "      <td>2022-01-03</td>\n",
       "      <td>2021년 12월 충청지역 소비자물가동향 충북과 충남의 물가 상승률이 4%대를 기록...</td>\n",
       "      <td>26일 오후 경기도 의정부체육관에서 열린 2021 의정부 도드람컵 프로배구대회 순위...</td>\n",
       "      <td>29500</td>\n",
       "      <td>0</td>\n",
       "    </tr>\n",
       "    <tr>\n",
       "      <th>2</th>\n",
       "      <td>2022-01-04</td>\n",
       "      <td>서울 시내 주유소 모습. 주요 에너지기관들은 2022년에도 국제 유가가 상승세를 이...</td>\n",
       "      <td>사천공항 경남도는 진에어가 오는 28일부터 김포-사천 노선에 신규 취항한다고 4일 ...</td>\n",
       "      <td>29100</td>\n",
       "      <td>0</td>\n",
       "    </tr>\n",
       "    <tr>\n",
       "      <th>3</th>\n",
       "      <td>2022-01-05</td>\n",
       "      <td>저작권자 서울경제, 무단 전재 및 재배포 금지 미국 뉴욕증시의 주요 지수가 국채금리...</td>\n",
       "      <td>인천 중구 영종국제도시 대한항공 항공정비단지 부지. 인천시 제공 대한항공이 인천 영...</td>\n",
       "      <td>28900</td>\n",
       "      <td>0</td>\n",
       "    </tr>\n",
       "    <tr>\n",
       "      <th>4</th>\n",
       "      <td>2022-01-06</td>\n",
       "      <td>美 남미 등 수입처 다변화 안정적 물량 확보는 어려워 코로나19 여파로 원유 가격이...</td>\n",
       "      <td>인천시-대한항공, 항공정비산업 발전 업무협약 체결 대한항공, 3346억 투자 202...</td>\n",
       "      <td>28450</td>\n",
       "      <td>0</td>\n",
       "    </tr>\n",
       "  </tbody>\n",
       "</table>\n",
       "</div>"
      ],
      "text/plain": [
       "  predict_date                                           oil_news   \n",
       "0   2022-01-02  코로나19가 2년가까이 지속되면서 대면서비스업을 중심으로 한 내수경기의 부진은 더욱...  \\\n",
       "1   2022-01-03  2021년 12월 충청지역 소비자물가동향 충북과 충남의 물가 상승률이 4%대를 기록...   \n",
       "2   2022-01-04  서울 시내 주유소 모습. 주요 에너지기관들은 2022년에도 국제 유가가 상승세를 이...   \n",
       "3   2022-01-05  저작권자 서울경제, 무단 전재 및 재배포 금지 미국 뉴욕증시의 주요 지수가 국채금리...   \n",
       "4   2022-01-06  美 남미 등 수입처 다변화 안정적 물량 확보는 어려워 코로나19 여파로 원유 가격이...   \n",
       "\n",
       "                                        article_text   대한종가  대한타겟  \n",
       "0  2022년에도 국제선 여객 정상화는 어렵다는 판단이며 이에 따라 항공화물 시황은 호...  29500     0  \n",
       "1  26일 오후 경기도 의정부체육관에서 열린 2021 의정부 도드람컵 프로배구대회 순위...  29500     0  \n",
       "2  사천공항 경남도는 진에어가 오는 28일부터 김포-사천 노선에 신규 취항한다고 4일 ...  29100     0  \n",
       "3  인천 중구 영종국제도시 대한항공 항공정비단지 부지. 인천시 제공 대한항공이 인천 영...  28900     0  \n",
       "4  인천시-대한항공, 항공정비산업 발전 업무협약 체결 대한항공, 3346억 투자 202...  28450     0  "
      ]
     },
     "execution_count": 71,
     "metadata": {},
     "output_type": "execute_result"
    }
   ],
   "source": [
    "dh_df.head()"
   ]
  },
  {
   "cell_type": "code",
   "execution_count": 36,
   "metadata": {},
   "outputs": [
    {
     "name": "stderr",
     "output_type": "stream",
     "text": [
      "100%|██████████| 484/484 [00:51<00:00,  9.37it/s]\n"
     ]
    }
   ],
   "source": [
    "n_ = []\n",
    "okt = Okt()\n",
    "# data = pd.read_excel('./DH(뉴스+타겟).xlsx')\n",
    "data = dh_df\n",
    "data['oil_news'] = data['oil_news'].astype(str)\n",
    "data['oil_news'] = data['oil_news'].str.replace(r'[\\(\\[].*?[\\)\\]]', '', regex=True)\n",
    "for i in tqdm(range(len(data))):\n",
    "    # 바뀌어진 기사 제목에서 okt로 명사만 뽑기\n",
    "    n_.append(' '.join(okt.nouns(data.loc[i, 'oil_news'])))\n",
    "\n",
    "data['oil_nouns'] = n_\n",
    "data = data[data['oil_nouns'] != '']\n",
    "\n",
    "# 한 글자 명사 삭제\n",
    "data['oil_nouns'] = data['oil_nouns'].apply(lambda x: [word for word in x.split() if len(word) > 1])\n",
    "data['oil_nouns'] = data['oil_nouns'].apply(lambda x: ' '.join(x))\n",
    "\n",
    "data['oil_nouns'] = data['oil_nouns'].str.replace('[', '').str.replace(']', '')\n",
    "\n",
    "# data['일자'] = pd.to_datetime(data['일자'].astype(str))\n",
    "\n",
    "# data['주식일자'] = data['일자'] + timedelta(days=1)"
   ]
  },
  {
   "cell_type": "code",
   "execution_count": 38,
   "metadata": {},
   "outputs": [
    {
     "data": {
      "text/html": [
       "<div>\n",
       "<style scoped>\n",
       "    .dataframe tbody tr th:only-of-type {\n",
       "        vertical-align: middle;\n",
       "    }\n",
       "\n",
       "    .dataframe tbody tr th {\n",
       "        vertical-align: top;\n",
       "    }\n",
       "\n",
       "    .dataframe thead th {\n",
       "        text-align: right;\n",
       "    }\n",
       "</style>\n",
       "<table border=\"1\" class=\"dataframe\">\n",
       "  <thead>\n",
       "    <tr style=\"text-align: right;\">\n",
       "      <th></th>\n",
       "      <th>predict_date</th>\n",
       "      <th>oil_news</th>\n",
       "      <th>article_text</th>\n",
       "      <th>대한종가</th>\n",
       "      <th>대한타겟</th>\n",
       "      <th>oil_nouns</th>\n",
       "    </tr>\n",
       "  </thead>\n",
       "  <tbody>\n",
       "    <tr>\n",
       "      <th>0</th>\n",
       "      <td>2022-01-02</td>\n",
       "      <td>코로나19가 2년가까이 지속되면서 대면서비스업을 중심으로 한 내수경기의 부진은 더욱...</td>\n",
       "      <td>2022년에도 국제선 여객 정상화는 어렵다는 판단이며 이에 따라 항공화물 시황은 호...</td>\n",
       "      <td>29500</td>\n",
       "      <td>0</td>\n",
       "      <td>코로나 지속 대면 서비스업 중심 경기 부진 더욱 반면 대외 무역 사상 최대 실적 기...</td>\n",
       "    </tr>\n",
       "    <tr>\n",
       "      <th>1</th>\n",
       "      <td>2022-01-03</td>\n",
       "      <td>2021년 12월 충청지역 소비자물가동향 충북과 충남의 물가 상승률이 4%대를 기록...</td>\n",
       "      <td>26일 오후 경기도 의정부체육관에서 열린 2021 의정부 도드람컵 프로배구대회 순위...</td>\n",
       "      <td>29500</td>\n",
       "      <td>0</td>\n",
       "      <td>충청 지역 소비자 물가 동향 충북 충남 물가 승률 기록 축산물 가격 국제 유가 계속...</td>\n",
       "    </tr>\n",
       "    <tr>\n",
       "      <th>2</th>\n",
       "      <td>2022-01-04</td>\n",
       "      <td>서울 시내 주유소 모습. 주요 에너지기관들은 2022년에도 국제 유가가 상승세를 이...</td>\n",
       "      <td>사천공항 경남도는 진에어가 오는 28일부터 김포-사천 노선에 신규 취항한다고 4일 ...</td>\n",
       "      <td>29100</td>\n",
       "      <td>0</td>\n",
       "      <td>서울 시내 주유소 모습 주요 에너지 기관 국제 유가 상승세 전망 코로나 바이러스 오...</td>\n",
       "    </tr>\n",
       "    <tr>\n",
       "      <th>3</th>\n",
       "      <td>2022-01-05</td>\n",
       "      <td>저작권자 서울경제, 무단 전재 및 재배포 금지 미국 뉴욕증시의 주요 지수가 국채금리...</td>\n",
       "      <td>인천 중구 영종국제도시 대한항공 항공정비단지 부지. 인천시 제공 대한항공이 인천 영...</td>\n",
       "      <td>28900</td>\n",
       "      <td>0</td>\n",
       "      <td>저작권 서울 경제 무단 배포 금지 미국 뉴욕증시 주요 지수 국채 금리 상승 결과 경...</td>\n",
       "    </tr>\n",
       "    <tr>\n",
       "      <th>4</th>\n",
       "      <td>2022-01-06</td>\n",
       "      <td>美 남미 등 수입처 다변화 안정적 물량 확보는 어려워 코로나19 여파로 원유 가격이...</td>\n",
       "      <td>인천시-대한항공, 항공정비산업 발전 업무협약 체결 대한항공, 3346억 투자 202...</td>\n",
       "      <td>28450</td>\n",
       "      <td>0</td>\n",
       "      <td>남미 입처 다변 안정 물량 확보 코로나 여파 원유 가격 지난해 연말 이후 상승세 국...</td>\n",
       "    </tr>\n",
       "  </tbody>\n",
       "</table>\n",
       "</div>"
      ],
      "text/plain": [
       "  predict_date                                           oil_news   \n",
       "0   2022-01-02  코로나19가 2년가까이 지속되면서 대면서비스업을 중심으로 한 내수경기의 부진은 더욱...  \\\n",
       "1   2022-01-03  2021년 12월 충청지역 소비자물가동향 충북과 충남의 물가 상승률이 4%대를 기록...   \n",
       "2   2022-01-04  서울 시내 주유소 모습. 주요 에너지기관들은 2022년에도 국제 유가가 상승세를 이...   \n",
       "3   2022-01-05  저작권자 서울경제, 무단 전재 및 재배포 금지 미국 뉴욕증시의 주요 지수가 국채금리...   \n",
       "4   2022-01-06  美 남미 등 수입처 다변화 안정적 물량 확보는 어려워 코로나19 여파로 원유 가격이...   \n",
       "\n",
       "                                        article_text   대한종가  대한타겟   \n",
       "0  2022년에도 국제선 여객 정상화는 어렵다는 판단이며 이에 따라 항공화물 시황은 호...  29500     0  \\\n",
       "1  26일 오후 경기도 의정부체육관에서 열린 2021 의정부 도드람컵 프로배구대회 순위...  29500     0   \n",
       "2  사천공항 경남도는 진에어가 오는 28일부터 김포-사천 노선에 신규 취항한다고 4일 ...  29100     0   \n",
       "3  인천 중구 영종국제도시 대한항공 항공정비단지 부지. 인천시 제공 대한항공이 인천 영...  28900     0   \n",
       "4  인천시-대한항공, 항공정비산업 발전 업무협약 체결 대한항공, 3346억 투자 202...  28450     0   \n",
       "\n",
       "                                           oil_nouns  \n",
       "0  코로나 지속 대면 서비스업 중심 경기 부진 더욱 반면 대외 무역 사상 최대 실적 기...  \n",
       "1  충청 지역 소비자 물가 동향 충북 충남 물가 승률 기록 축산물 가격 국제 유가 계속...  \n",
       "2  서울 시내 주유소 모습 주요 에너지 기관 국제 유가 상승세 전망 코로나 바이러스 오...  \n",
       "3  저작권 서울 경제 무단 배포 금지 미국 뉴욕증시 주요 지수 국채 금리 상승 결과 경...  \n",
       "4  남미 입처 다변 안정 물량 확보 코로나 여파 원유 가격 지난해 연말 이후 상승세 국...  "
      ]
     },
     "execution_count": 38,
     "metadata": {},
     "output_type": "execute_result"
    }
   ],
   "source": [
    "data.head()"
   ]
  },
  {
   "cell_type": "code",
   "execution_count": 39,
   "metadata": {},
   "outputs": [
    {
     "name": "stderr",
     "output_type": "stream",
     "text": [
      "100%|██████████| 484/484 [01:07<00:00,  7.15it/s]\n"
     ]
    }
   ],
   "source": [
    "n_ = []\n",
    "okt = Okt()\n",
    "# data = pd.read_excel('./DH(뉴스+타겟).xlsx')\n",
    "data = dh_df\n",
    "data['article_text'] = data['article_text'].astype(str)\n",
    "data['article_text'] = data['article_text'].str.replace(r'[\\(\\[].*?[\\)\\]]', '', regex=True)\n",
    "for i in tqdm(range(len(data))):\n",
    "    # 바뀌어진 기사 제목에서 okt로 명사만 뽑기\n",
    "    n_.append(' '.join(okt.nouns(data.loc[i, 'article_text'])))\n",
    "\n",
    "data['dh_nouns'] = n_\n",
    "data = data[data['dh_nouns'] != '']\n",
    "\n",
    "# 한 글자 명사 삭제\n",
    "data['dh_nouns'] = data['dh_nouns'].apply(lambda x: [word for word in x.split() if len(word) > 1])\n",
    "data['dh_nouns'] = data['dh_nouns'].apply(lambda x: ' '.join(x))\n",
    "\n",
    "data['dh_nouns'] = data['dh_nouns'].str.replace('[', '').str.replace(']', '')\n",
    "\n",
    "# data['일자'] = pd.to_datetime(data['일자'].astype(str))\n",
    "\n",
    "# data['주식일자'] = data['일자'] + timedelta(days=1)"
   ]
  },
  {
   "cell_type": "code",
   "execution_count": 41,
   "metadata": {},
   "outputs": [],
   "source": [
    "# data.to_excel('./대한항공(명사화).xlsx')"
   ]
  },
  {
   "cell_type": "code",
   "execution_count": 44,
   "metadata": {},
   "outputs": [],
   "source": [
    "dh_nouns_df = data[['predict_date', 'oil_nouns', 'dh_nouns', '대한타겟']]"
   ]
  },
  {
   "cell_type": "code",
   "execution_count": 47,
   "metadata": {},
   "outputs": [],
   "source": [
    "dh_nouns_df.to_excel('./대한항공(명사화).xlsx')"
   ]
  },
  {
   "cell_type": "code",
   "execution_count": 52,
   "metadata": {},
   "outputs": [
    {
     "name": "stdout",
     "output_type": "stream",
     "text": [
      "      단어    빈도\n",
      "0     가격  4450\n",
      "1     유가  4423\n",
      "2     국제  3302\n",
      "3     물가  2900\n",
      "4     상승  2618\n",
      "...   ..   ...\n",
      "9051  온전     1\n",
      "9052  불똥     1\n",
      "9053  오락     1\n",
      "9054  씨젠     1\n",
      "9055  트위     1\n",
      "\n",
      "[9056 rows x 2 columns]\n"
     ]
    }
   ],
   "source": [
    "import pandas as pd\n",
    "from collections import Counter\n",
    "\n",
    "def count_word_frequency_dataframe(df, text_column):\n",
    "    # 데이터프레임의 특정 열에서 텍스트 추출\n",
    "    text = ' '.join(df[text_column].tolist())\n",
    "\n",
    "    # 텍스트를 단어로 분할\n",
    "    words = text.split()\n",
    "\n",
    "    # 단어의 빈도를 계산\n",
    "    word_frequency = Counter(words)\n",
    "\n",
    "    # 문자 수가 한 개인 단어 제외\n",
    "    word_frequency = {word: freq for word, freq in word_frequency.items() if len(word) > 1}\n",
    "\n",
    "    # 결과를 데이터프레임으로 변환\n",
    "    result_df = pd.DataFrame.from_dict(word_frequency, orient='index', columns=['빈도'])\n",
    "    result_df.index.name = '단어'\n",
    "    result_df.reset_index(inplace=True)\n",
    "\n",
    "    # 빈도순으로 내림차순 정렬\n",
    "    result_df = result_df.sort_values(by='빈도', ascending=False)\n",
    "\n",
    "    # 인덱스 재설정\n",
    "    result_df.reset_index(drop=True, inplace=True)\n",
    "\n",
    "    return result_df\n",
    "\n",
    "# # 예시 데이터프레임\n",
    "# data = {\n",
    "#     '문장': ['안녕하세요. 만나서 반갑습니다.', '안녕하세요. 좋은 하루 되세요.']\n",
    "# }\n",
    "# df = pd.DataFrame(data)\n",
    "\n",
    "# 특정 열에서 단어 빈도 계산 및 결과 출력\n",
    "result = count_word_frequency_dataframe(dh_nouns_df, 'oil_nouns')\n",
    "\n",
    "# 빈도순으로 내림차순 정렬된 결과 데이터프레임 출력\n",
    "print(result)"
   ]
  },
  {
   "cell_type": "code",
   "execution_count": 60,
   "metadata": {},
   "outputs": [
    {
     "data": {
      "text/html": [
       "<div>\n",
       "<style scoped>\n",
       "    .dataframe tbody tr th:only-of-type {\n",
       "        vertical-align: middle;\n",
       "    }\n",
       "\n",
       "    .dataframe tbody tr th {\n",
       "        vertical-align: top;\n",
       "    }\n",
       "\n",
       "    .dataframe thead th {\n",
       "        text-align: right;\n",
       "    }\n",
       "</style>\n",
       "<table border=\"1\" class=\"dataframe\">\n",
       "  <thead>\n",
       "    <tr style=\"text-align: right;\">\n",
       "      <th></th>\n",
       "      <th>단어</th>\n",
       "      <th>빈도</th>\n",
       "    </tr>\n",
       "  </thead>\n",
       "  <tbody>\n",
       "    <tr>\n",
       "      <th>0</th>\n",
       "      <td>가격</td>\n",
       "      <td>4450</td>\n",
       "    </tr>\n",
       "    <tr>\n",
       "      <th>1</th>\n",
       "      <td>유가</td>\n",
       "      <td>4423</td>\n",
       "    </tr>\n",
       "    <tr>\n",
       "      <th>2</th>\n",
       "      <td>국제</td>\n",
       "      <td>3302</td>\n",
       "    </tr>\n",
       "    <tr>\n",
       "      <th>3</th>\n",
       "      <td>물가</td>\n",
       "      <td>2900</td>\n",
       "    </tr>\n",
       "    <tr>\n",
       "      <th>4</th>\n",
       "      <td>상승</td>\n",
       "      <td>2618</td>\n",
       "    </tr>\n",
       "    <tr>\n",
       "      <th>...</th>\n",
       "      <td>...</td>\n",
       "      <td>...</td>\n",
       "    </tr>\n",
       "    <tr>\n",
       "      <th>2062</th>\n",
       "      <td>합계</td>\n",
       "      <td>11</td>\n",
       "    </tr>\n",
       "    <tr>\n",
       "      <th>2063</th>\n",
       "      <td>반드시</td>\n",
       "      <td>11</td>\n",
       "    </tr>\n",
       "    <tr>\n",
       "      <th>2064</th>\n",
       "      <td>매달</td>\n",
       "      <td>11</td>\n",
       "    </tr>\n",
       "    <tr>\n",
       "      <th>2065</th>\n",
       "      <td>운전</td>\n",
       "      <td>11</td>\n",
       "    </tr>\n",
       "    <tr>\n",
       "      <th>2066</th>\n",
       "      <td>필수</td>\n",
       "      <td>11</td>\n",
       "    </tr>\n",
       "  </tbody>\n",
       "</table>\n",
       "<p>2067 rows × 2 columns</p>\n",
       "</div>"
      ],
      "text/plain": [
       "       단어    빈도\n",
       "0      가격  4450\n",
       "1      유가  4423\n",
       "2      국제  3302\n",
       "3      물가  2900\n",
       "4      상승  2618\n",
       "...   ...   ...\n",
       "2062   합계    11\n",
       "2063  반드시    11\n",
       "2064   매달    11\n",
       "2065   운전    11\n",
       "2066   필수    11\n",
       "\n",
       "[2067 rows x 2 columns]"
      ]
     },
     "execution_count": 60,
     "metadata": {},
     "output_type": "execute_result"
    }
   ],
   "source": [
    "result.loc[result['빈도'] > 10]"
   ]
  },
  {
   "cell_type": "code",
   "execution_count": 73,
   "metadata": {},
   "outputs": [],
   "source": [
    "dh_df.to_excel('./DH(뉴스+타겟)222.xlsx')"
   ]
  },
  {
   "cell_type": "code",
   "execution_count": null,
   "metadata": {},
   "outputs": [],
   "source": []
  }
 ],
 "metadata": {
  "kernelspec": {
   "display_name": "Python 3",
   "language": "python",
   "name": "python3"
  },
  "language_info": {
   "codemirror_mode": {
    "name": "ipython",
    "version": 3
   },
   "file_extension": ".py",
   "mimetype": "text/x-python",
   "name": "python",
   "nbconvert_exporter": "python",
   "pygments_lexer": "ipython3",
   "version": "3.10.9"
  },
  "orig_nbformat": 4
 },
 "nbformat": 4,
 "nbformat_minor": 2
}
