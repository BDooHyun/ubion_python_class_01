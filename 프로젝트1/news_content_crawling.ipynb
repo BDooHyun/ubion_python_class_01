{
 "cells": [
  {
   "cell_type": "code",
   "execution_count": 2,
   "metadata": {},
   "outputs": [],
   "source": [
    "import pandas as pd\n",
    "import requests\n",
    "\n",
    "from bs4 import BeautifulSoup as bs\n",
    "\n",
    "import warnings\n",
    "warnings.filterwarnings('ignore')"
   ]
  },
  {
   "cell_type": "code",
   "execution_count": 3,
   "metadata": {},
   "outputs": [],
   "source": [
    "df = pd.read_excel(\"./테스트데이터/lg_test.xlsx\")"
   ]
  },
  {
   "cell_type": "code",
   "execution_count": 4,
   "metadata": {},
   "outputs": [],
   "source": [
    "def crawling_asia(soup):\n",
    "    news = soup.find('div',attrs={\"class\":\"article fb-quotable\"})\n",
    "    news = news.find_all('p')\n",
    "    b_news = \"\"\n",
    "    for n in news:\n",
    "        b_news+=n.text\n",
    "    news = b_news.replace(\"\\xa0\",\"\")\n",
    "    news = news.replace(\"\\n\",\"\")\n",
    "\n",
    "    return news"
   ]
  },
  {
   "cell_type": "code",
   "execution_count": 5,
   "metadata": {},
   "outputs": [],
   "source": [
    "def crawling_k_eco(soup):\n",
    "    news = soup.find('div',attrs={\"class\":\"article-body\"})\n",
    "    news = news.text.replace(\"\\n\",\"\")\n",
    "    news = news.replace(\"    \",\"\")\n",
    "    return news"
   ]
  },
  {
   "cell_type": "code",
   "execution_count": 6,
   "metadata": {},
   "outputs": [],
   "source": [
    "def crawling_maeil_eco(soup):\n",
    "    news = soup.find('div',attrs={\"class\":\"news_cnt_detail_wrap\"})\n",
    "    news = news.text.replace(\"\\n\",\"\")\n",
    "    news = news.replace(\"    \",\"\")\n",
    "    \n",
    "    return news"
   ]
  },
  {
   "cell_type": "code",
   "execution_count": 7,
   "metadata": {},
   "outputs": [],
   "source": [
    "def crawling_herald(soup):\n",
    "    news = soup.find('div',attrs={\"class\":\"article_view\"})\n",
    "    news = news.find_all('p')\n",
    "    b_news = \"\"\n",
    "    for n in news:\n",
    "        b_news+=n.text\n",
    "    news = b_news.replace(\"\\xa0\",\"\")\n",
    "    news = news.replace(\"\\n\",\"\")\n",
    "\n",
    "    return news"
   ]
  },
  {
   "cell_type": "code",
   "execution_count": 8,
   "metadata": {},
   "outputs": [],
   "source": [
    "def crawling_financial(soup):\n",
    "    news = soup.find('div',attrs={\"class\":\"cont_art\"})\n",
    "    news = news.text.replace(\"\\n\",\"\")\n",
    "    news = news.replace(\"\\t\",\"\")\n",
    "    \n",
    "    return news"
   ]
  },
  {
   "cell_type": "code",
   "execution_count": 9,
   "metadata": {},
   "outputs": [],
   "source": [
    "def crawling_money_today(soup):\n",
    "    news = soup.find('div',attrs={\"id\":\"textBody\"})\n",
    "    news = news.text.replace(\"\\n\",\"\").strip()\n",
    "    news = news.replace(\"/\",\"\")\n",
    "    \n",
    "    return news"
   ]
  },
  {
   "cell_type": "code",
   "execution_count": 10,
   "metadata": {},
   "outputs": [],
   "source": [
    "def crawling_segye(soup):\n",
    "    news = soup.find('div',attrs={\"id\":\"article_txt\"})\n",
    "    news = news.find_all('p')\n",
    "    b_news = \"\"\n",
    "    for n in news:\n",
    "        b_news+=n.text\n",
    "    news = b_news.replace(\"\\xa0\",\"\")\n",
    "    \n",
    "    return news"
   ]
  },
  {
   "cell_type": "code",
   "execution_count": 11,
   "metadata": {},
   "outputs": [],
   "source": [
    "def crawling_ytn(soup):\n",
    "    news = soup.find('div',attrs={\"class\":\"article\"})\n",
    "    news = news.text.replace(\"\\n\",\"\")\n",
    "    \n",
    "    return news"
   ]
  },
  {
   "cell_type": "code",
   "execution_count": 12,
   "metadata": {},
   "outputs": [],
   "source": [
    "def crawling_seoul_eco(soup):\n",
    "    news = soup.find('div',attrs={\"class\":\"article_view\"})\n",
    "    news = news.text\n",
    "    news = news.replace(\"\\n\",\"\").strip()\n",
    "    \n",
    "    return news"
   ]
  },
  {
   "cell_type": "code",
   "execution_count": 13,
   "metadata": {},
   "outputs": [],
   "source": [
    "def crawling_donga(soup):\n",
    "    news = soup.find('div',attrs={\"id\":\"article_txt\"})\n",
    "    news = news.text.replace(\"\\n\",\" \")\n",
    "\n",
    "    return news"
   ]
  },
  {
   "cell_type": "code",
   "execution_count": 14,
   "metadata": {},
   "outputs": [],
   "source": [
    "def crawling_chosun(soup):\n",
    "    news = soup.find('section',attrs={\"class\":\"article-body\"})\n",
    "    news = news.text\n",
    "\n",
    "    return news"
   ]
  },
  {
   "cell_type": "code",
   "execution_count": 15,
   "metadata": {},
   "outputs": [],
   "source": [
    "def crawling_joonang(soup):\n",
    "    news = soup.find('div',attrs={\"class\":\"article_body fs3\"})\n",
    "    news = news.find_all('p')\n",
    "    b_news = \"\"\n",
    "    for n in news:\n",
    "        b_news+=n.text\n",
    "    news = b_news.replace(\"  \",\"\")\n",
    "\n",
    "    return news"
   ]
  },
  {
   "cell_type": "code",
   "execution_count": 16,
   "metadata": {},
   "outputs": [],
   "source": [
    "def crawling_seoul(soup):\n",
    "    news = soup.find('div',attrs={\"class\":\"S20_v_article\"})\n",
    "    news = news.text.replace(\"\\n\",\"\")\n",
    "\n",
    "    return news"
   ]
  },
  {
   "cell_type": "code",
   "execution_count": 17,
   "metadata": {},
   "outputs": [],
   "source": [
    "def crawling_aju(soup):\n",
    "    news = soup.find('div',attrs={\"class\":\"article_con\"})\n",
    "    news = news.text.replace(\"\\n\",\"\")\n",
    "    news = news.replace(\"\\xa0\",\"\")\n",
    "\n",
    "    return news"
   ]
  },
  {
   "cell_type": "code",
   "execution_count": 18,
   "metadata": {},
   "outputs": [],
   "source": [
    "def crawling_digital_times(soup):\n",
    "    news = soup.find('div',attrs={\"class\":\"article_view\"})\n",
    "    news = news.text.replace(\"\\n\",\"\")\n",
    "    \n",
    "    return news"
   ]
  },
  {
   "cell_type": "code",
   "execution_count": 19,
   "metadata": {},
   "outputs": [],
   "source": [
    "def crawling_kukmin(soup):\n",
    "    news = soup.find('div',attrs={\"class\":\"tx\"})\n",
    "    news = news.text.replace(\"\\n\",\"\")\n",
    "    news = news.replace(\"\\t\",\"\")\n",
    "\n",
    "    return news"
   ]
  },
  {
   "cell_type": "code",
   "execution_count": 20,
   "metadata": {},
   "outputs": [],
   "source": [
    "def crawling_kyunghyang(soup):\n",
    "    news = soup.find_all('p',attrs={\"class\":\"content_text text-l\"})\n",
    "    b_news = \"\"\n",
    "    for n in news:\n",
    "        b_news+=n.text\n",
    "    news = b_news\n",
    "    \n",
    "    return news"
   ]
  },
  {
   "cell_type": "code",
   "execution_count": 21,
   "metadata": {},
   "outputs": [],
   "source": [
    "def crawling_kbs(soup):\n",
    "    news = soup.find_all('div',attrs={\"class\":\"detail-body font-size\"})\n",
    "    b_news = \"\"\n",
    "    for n in news:\n",
    "        b_news+=n.text\n",
    "    news = b_news.replace(\"\\n\",\"\")\n",
    "    news = news.replace(\"\\t\",\"\")\n",
    "    \n",
    "    return news"
   ]
  },
  {
   "cell_type": "code",
   "execution_count": 22,
   "metadata": {},
   "outputs": [],
   "source": [
    "def crawling_hankyoreh(soup):\n",
    "    news = soup.find('div',attrs={\"class\":\"text\"})\n",
    "    b_news = \"\"\n",
    "    for n in news:\n",
    "        b_news+=n.text\n",
    "    news = b_news.replace(\"\\n\",\"\")\n",
    "    news = news.replace(\"\\t\",\"\")\n",
    "    \n",
    "    return news"
   ]
  },
  {
   "cell_type": "code",
   "execution_count": 23,
   "metadata": {},
   "outputs": [],
   "source": [
    "def crawling_korea(soup):\n",
    "    news = soup.find('div',attrs={\"class\":\"end-body\"})\n",
    "    news = news.find('div',attrs={\"class\":\"col-main\"})\n",
    "    news = news.find_all('p', attrs={\"class\":\"editor-p\"})\n",
    "    b_news = \"\"\n",
    "    for n in news:\n",
    "        b_news+=n.text\n",
    "    news = b_news.replace(\"\\xa0\",\"\")\n",
    "    news = news.replace(\"\\n\",\"\")\n",
    "\n",
    "    return news"
   ]
  },
  {
   "cell_type": "code",
   "execution_count": 24,
   "metadata": {},
   "outputs": [],
   "source": [
    "def crawling_busan(soup):\n",
    "    news = soup.find('div',attrs={\"class\":\"article_content\"})\n",
    "    news = news.find_all('p')\n",
    "    b_news = \"\"\n",
    "    for n in news:\n",
    "        b_news+=n.text\n",
    "    news = b_news.replace(\"\\n\",\"\")\n",
    "    \n",
    "    return news"
   ]
  },
  {
   "cell_type": "code",
   "execution_count": 25,
   "metadata": {},
   "outputs": [],
   "source": [
    "def crawling_munhwa(soup):\n",
    "    news = soup.find('div',attrs={\"class\":\"article News_content\"})\n",
    "    news = news.text.replace(\"\\n\",\"\")\n",
    "    \n",
    "    return news"
   ]
  },
  {
   "cell_type": "code",
   "execution_count": 26,
   "metadata": {},
   "outputs": [],
   "source": [
    "def crawling_joongboo_daily(soup):\n",
    "    news = soup.find('article',attrs={\"class\":\"article-veiw-body view-page font-size19\"})\n",
    "    news = news.find('p')\n",
    "    news = news.text.replace(\"\\n\",\"\")\n",
    "    \n",
    "    return news"
   ]
  },
  {
   "cell_type": "code",
   "execution_count": 27,
   "metadata": {},
   "outputs": [],
   "source": [
    "def crawling_etnews(soup):\n",
    "    news = soup.find('div',attrs={\"class\":\"article_txt\"})\n",
    "    news = news.find('p')\n",
    "    news = news.text.replace(\"\\n\",\"\")\n",
    "    \n",
    "    return news"
   ]
  },
  {
   "cell_type": "code",
   "execution_count": 28,
   "metadata": {},
   "outputs": [],
   "source": [
    "def crawling_kyeongin(soup):\n",
    "    news = soup.find('div',attrs={\"class\":\"view_txt clearfix\"})\n",
    "    news = news.find_all('p')\n",
    "    b_news = \"\"\n",
    "    for n in news:\n",
    "        b_news+=n.text\n",
    "    news = b_news.replace(\"\\n\",\"\")\n",
    "    \n",
    "    return news"
   ]
  },
  {
   "cell_type": "code",
   "execution_count": 29,
   "metadata": {},
   "outputs": [],
   "source": [
    "def crawling_sbs(soup):\n",
    "    news = soup.find('div',attrs={\"class\":\"text_area\"})\n",
    "    news = news.text.replace(\"\\n\",\"\")\n",
    "    \n",
    "    return news"
   ]
  },
  {
   "cell_type": "code",
   "execution_count": 30,
   "metadata": {},
   "outputs": [],
   "source": [
    "def crawling_kyeonggi(soup):\n",
    "    news = soup.find('div',attrs={\"class\":\"article_cont_wrap\"})\n",
    "    news = news.find_all('p')\n",
    "    b_news = \"\"\n",
    "    for n in news:\n",
    "        b_news+=n.text\n",
    "    news = b_news.replace(\"\\n\",\"\")\n",
    "    news = news.replace(\"\\u2008\",\"\")\n",
    "    news = news.replace(\"\\xa0\",\"\")\n",
    "    \n",
    "    return news"
   ]
  },
  {
   "cell_type": "code",
   "execution_count": 31,
   "metadata": {},
   "outputs": [],
   "source": [
    "def crawling_mbc(soup):\n",
    "    news = soup.find('div',attrs={\"class\":\"news_txt\"})\n",
    "    news = news.text.replace(\"\\n\",\"\").strip()\n",
    "    \n",
    "    return news"
   ]
  },
  {
   "cell_type": "code",
   "execution_count": 32,
   "metadata": {},
   "outputs": [],
   "source": [
    "def crawling_naeil(soup):\n",
    "    news = soup.find('div',attrs={\"class\":\"article\"})\n",
    "    news = news.text.replace(\"\\n\",\"\")\n",
    "    \n",
    "    return  news"
   ]
  },
  {
   "cell_type": "code",
   "execution_count": 33,
   "metadata": {},
   "outputs": [],
   "source": [
    "def crawling_obs(soup):\n",
    "    news = soup.find('article',attrs={\"id\":\"article-view-content-div\"})\n",
    "    news = news.find('p')\n",
    "    b_news = \"\"\n",
    "    for n in news:\n",
    "        b_news+=n.text\n",
    "    news = b_news.replace(\"\\n\",\"\")\n",
    "    \n",
    "    return news"
   ]
  },
  {
   "cell_type": "code",
   "execution_count": 34,
   "metadata": {},
   "outputs": [],
   "source": [
    "def crawling_maeil(soup):\n",
    "    news = soup.find('div',attrs={\"id\":\"articlebody\"})\n",
    "    news = news.find_all('p')\n",
    "    b_news = \"\"\n",
    "    for n in news:\n",
    "        b_news+=n.text\n",
    "    news = b_news.replace(\"\\n\",\"\").strip()\n",
    "    \n",
    "    return news"
   ]
  },
  {
   "cell_type": "code",
   "execution_count": 35,
   "metadata": {},
   "outputs": [],
   "source": [
    "def crawling_ihalla(soup):\n",
    "    news = soup.find('div',attrs={\"class\":\"article_txt\"})\n",
    "    news = news.text.replace(\"'\",'\"')\n",
    "    \n",
    "    return news"
   ]
  },
  {
   "cell_type": "code",
   "execution_count": 36,
   "metadata": {},
   "outputs": [],
   "source": [
    "def crawling_gangwon(soup):\n",
    "    news = soup.find('div',attrs={\"id\":\"articlebody\"})\n",
    "    news = news.find_all('p')\n",
    "    b_news = \"\"\n",
    "    for n in news:\n",
    "        b_news+=n.text\n",
    "    news = b_news\n",
    "    \n",
    "    return news"
   ]
  },
  {
   "cell_type": "code",
   "execution_count": 37,
   "metadata": {},
   "outputs": [],
   "source": [
    "def crawling_daejon(soup):\n",
    "    news = soup.find('article',attrs={\"id\":\"article-view-content-div\"})\n",
    "    news = news.find_all('p')\n",
    "    b_news = \"\"\n",
    "    for n in news:\n",
    "        b_news+=n.text\n",
    "    news = b_news.replace(\"\\n\",\"\")\n",
    "    news = news.replace(\"\\xa0\",\"\")\n",
    "    \n",
    "    return news"
   ]
  },
  {
   "cell_type": "code",
   "execution_count": 38,
   "metadata": {},
   "outputs": [],
   "source": [
    "def crawling_joongdo(soup):\n",
    "    news = soup.find('div',attrs={\"class\":\"left_text_box font-size03\"})\n",
    "    news = news.text.replace(\"\\n\",\"\")\n",
    "    news = news.replace(\"\\xa0\",\"\")\n",
    "    \n",
    "    return news"
   ]
  },
  {
   "cell_type": "code",
   "execution_count": 39,
   "metadata": {},
   "outputs": [],
   "source": [
    "def crawling_yeongnam(soup):\n",
    "    news = soup.find('div',attrs={\"class\":\"article-news-body font-size03\"})\n",
    "    news = news.find_all('p')\n",
    "    b_news = \"\"\n",
    "    for n in news:\n",
    "        b_news+=n.text\n",
    "    news = b_news.replace(\"\\n\",\"\")\n",
    "    news = news.replace(\"\\xa0\",\"\")\n",
    "    \n",
    "    return news"
   ]
  },
  {
   "cell_type": "code",
   "execution_count": 40,
   "metadata": {},
   "outputs": [],
   "source": [
    "def crawling_kyeongnam_domin(soup):\n",
    "    news = soup.find('div',attrs={\"id\":\"article-view-content-div\"})\n",
    "    news = news.find_all('p')\n",
    "    b_news = \"\"\n",
    "    for n in news:\n",
    "        b_news+=n.text\n",
    "    news = b_news.replace(\"\\n\",\"\")\n",
    "    news = b_news.replace(\"/\",\"\")\n",
    "    news = news.replace(\"\\xa0\",\"\")\n",
    "    \n",
    "    return news"
   ]
  },
  {
   "cell_type": "code",
   "execution_count": 41,
   "metadata": {},
   "outputs": [],
   "source": [
    "def crawling_kookje(soup):\n",
    "    news = soup.find('div',attrs={\"class\":\"news_article\"})\n",
    "    news = news.text.replace(\"\\n\",\"\")\n",
    "    news = news.replace(\"\\t\",\"\")\n",
    "    \n",
    "    return news"
   ]
  },
  {
   "cell_type": "code",
   "execution_count": 42,
   "metadata": {},
   "outputs": [],
   "source": [
    "def crawling_jeonnam(soup):\n",
    "    news = soup.find('div',attrs={\"id\":\"content\"})\n",
    "    news = news.text.replace(\"\\n\",\"\")\n",
    "    \n",
    "    return news"
   ]
  },
  {
   "cell_type": "code",
   "execution_count": 43,
   "metadata": {},
   "outputs": [],
   "source": [
    "def crawling_kyeongsang(soup):\n",
    "    news = soup.find('article',attrs={\"id\":\"article-view-content-div\"})\n",
    "    news = news.find_all('p')\n",
    "    b_news = \"\"\n",
    "    for n in news:\n",
    "        b_news+=n.text\n",
    "    news = b_news.replace(\"\\n\",\"\")\n",
    "    news = news.replace(\"/\",\"\")\n",
    "    news = news.replace(\"\\xa0\",\"\")\n",
    "    \n",
    "    return news"
   ]
  },
  {
   "cell_type": "code",
   "execution_count": 44,
   "metadata": {},
   "outputs": [],
   "source": [
    "def crawling_gangwon_domin(soup):\n",
    "    news = soup.find('article',attrs={\"id\":\"article-view-content-div\"})\n",
    "    news = news.find_all('p')\n",
    "    b_news = \"\"\n",
    "    for n in news:\n",
    "        b_news+=n.text\n",
    "    news = b_news.replace(\"\\n\",\"\")\n",
    "\n",
    "    return news"
   ]
  },
  {
   "cell_type": "code",
   "execution_count": 45,
   "metadata": {},
   "outputs": [],
   "source": [
    "def crawling_joongboo(soup):\n",
    "    news = soup.find('article',attrs={\"id\":\"article-view-content-div\"})\n",
    "    news = news.find_all('p')\n",
    "    b_news = \"\"\n",
    "    for n in news:\n",
    "        b_news+=n.text\n",
    "    news = b_news.replace(\"\\n\",\"\")\n",
    "\n",
    "    return news"
   ]
  },
  {
   "cell_type": "code",
   "execution_count": 46,
   "metadata": {},
   "outputs": [],
   "source": [
    "def crawling_ulsan(soup):\n",
    "    news = soup.find('article',attrs={\"id\":\"article-view-content-div\"})\n",
    "    news = news.find_all('p')\n",
    "    b_news = \"\"\n",
    "    for n in news:\n",
    "        b_news+=n.text\n",
    "    news = b_news.replace(\"\\n\",\"\")\n",
    "    news = news.replace(\"\\xa0\",\"\")\n",
    "    \n",
    "    return news"
   ]
  },
  {
   "cell_type": "code",
   "execution_count": 47,
   "metadata": {},
   "outputs": [],
   "source": [
    "def crawling_mdilbo(soup):\n",
    "    news = soup.find('div',attrs={\"class\":\"article_view\"})\n",
    "    news = news.find_all('p')\n",
    "    b_news = \"\"\n",
    "    for n in news:\n",
    "        b_news+=n.text\n",
    "    news = b_news.replace(\"\\n\",\"\")\n",
    "    news = news.replace(\"\\'\",\"\")\n",
    "    \n",
    "    return news"
   ]
  },
  {
   "cell_type": "code",
   "execution_count": 48,
   "metadata": {},
   "outputs": [],
   "source": [
    "def crawling_gwangju_daily(soup):\n",
    "    news = soup.find('div',attrs={\"id\":\"content\"})\n",
    "    news = news.text.replace(\"\\n\",\"\")\n",
    "    \n",
    "    return news"
   ]
  },
  {
   "cell_type": "code",
   "execution_count": 49,
   "metadata": {},
   "outputs": [],
   "source": [
    "def crawling_chungbuk(soup):\n",
    "    news = soup.find('div',attrs={\"class\":\"article\"})\n",
    "    news = news.text.replace(\"\\n\",\"\")\n",
    "    \n",
    "    return news"
   ]
  },
  {
   "cell_type": "code",
   "execution_count": 50,
   "metadata": {},
   "outputs": [],
   "source": [
    "def crawling_chungcheong(soup):\n",
    "    news = soup.find('article',attrs={'id':\"article-view-content-div\"})\n",
    "    news = news.text.replace(\"\\n\",\"\")\n",
    "    news = news.replace(\"\\xa0\",\"\")\n",
    "    \n",
    "    return news"
   ]
  },
  {
   "cell_type": "code",
   "execution_count": 51,
   "metadata": {},
   "outputs": [],
   "source": [
    "def crawling_gwangju(soup):\n",
    "    news = soup.find('div',attrs={'id':\"joinskmbox\"})\n",
    "    news = news.text.replace(\"\\n\",\"\")\n",
    "    news = news.replace(\"\\xa0\",\"\")\n",
    "    \n",
    "    return news"
   ]
  },
  {
   "cell_type": "code",
   "execution_count": 52,
   "metadata": {},
   "outputs": [],
   "source": [
    "def crawling_daegu(soup):\n",
    "    news = soup.find('div',attrs={'class':\"content\"})\n",
    "    news = news.text.replace(\"\\n\",\"\")\n",
    "    news = news.replace(\"\\xa0\",\"\")\n",
    "    \n",
    "    return news"
   ]
  },
  {
   "cell_type": "code",
   "execution_count": 53,
   "metadata": {},
   "outputs": [],
   "source": [
    "def crawling_jeonbuk(soup):\n",
    "    news = soup.find('div',attrs={\"class\":\"article_txt_container\"})\n",
    "    news = news.find_all('p')\n",
    "    b_news = \"\"\n",
    "    for n in news:\n",
    "        b_news+=n.text\n",
    "    news = b_news.replace(\"\\n\",\"\")\n",
    "    news = news.replace(\"\\xa0\",\"\")\n",
    "\n",
    "    return news"
   ]
  },
  {
   "cell_type": "code",
   "execution_count": 54,
   "metadata": {},
   "outputs": [],
   "source": [
    "def crawling_jeonbuk_domin(soup):\n",
    "    news = soup.find('div',attrs={'id':\"article-view-content-div\"})\n",
    "    news = news.text.replace(\"\\n\",\"\")\n",
    "    news = news.replace(\"\\xa0\",\"\")\n",
    "    \n",
    "    return news"
   ]
  },
  {
   "cell_type": "code",
   "execution_count": 55,
   "metadata": {},
   "outputs": [],
   "source": [
    "def crawling_chungcheong_today(soup):\n",
    "    news = soup.find('article',attrs={'id':\"article-view-content-div\"})\n",
    "    news = news.text.replace(\"\\n\",\"\")\n",
    "    news = news.replace(\"\\xa0\",\"\")\n",
    "    \n",
    "    return news"
   ]
  },
  {
   "cell_type": "code",
   "execution_count": 56,
   "metadata": {},
   "outputs": [],
   "source": [
    "def crawling_jemin(soup):\n",
    "    news = soup.find('article',attrs={'id':\"article-view-content-div\"})\n",
    "    news = news.text.replace(\"\\n\",\"\")\n",
    "    news = news.replace(\"\\xa0\",\"\")\n",
    "    \n",
    "    return news"
   ]
  },
  {
   "cell_type": "code",
   "execution_count": 57,
   "metadata": {},
   "outputs": [],
   "source": [
    "def crawling_kyeongnam(soup):\n",
    "    news = soup.find('li',attrs={'id':\"content_li\"})\n",
    "    news = news.text.replace(\"\\n\",\"\")\n",
    "    news = news.replace(\"\\xa0\",\"\")\n",
    "    \n",
    "    return news"
   ]
  },
  {
   "cell_type": "code",
   "execution_count": 58,
   "metadata": {},
   "outputs": [],
   "source": [
    "def news_crawling(press, soup):\n",
    "    if press == \"아시아경제\":\n",
    "        news_content = crawling_asia(soup),\n",
    "    elif press == \"한국경제\":\n",
    "        news_content = crawling_k_eco(soup),\n",
    "    elif press == \"매일경제\":\n",
    "        news_content = crawling_maeil_eco(soup),\n",
    "    elif press == \"헤럴드경제\":\n",
    "        news_content = crawling_herald(soup),\n",
    "    elif press == \"파이낸셜뉴스\":\n",
    "        news_content = crawling_financial(soup),\n",
    "    elif press == \"머니투데이\":\n",
    "        news_content = crawling_money_today(soup),\n",
    "    elif press == \"세계일보\":\n",
    "        news_content = crawling_segye(soup),\n",
    "    elif press == \"YTN\":\n",
    "        news_content = crawling_ytn(soup),\n",
    "    elif press == \"서울경제\":\n",
    "        news_content = crawling_seoul_eco(soup),\n",
    "    elif press == \"동아일보\":\n",
    "        news_content = crawling_donga(soup),\n",
    "    elif press == \"조선일보\":\n",
    "        news_content = crawling_chosun(soup),\n",
    "    elif press == \"중앙일보\":\n",
    "        news_content = crawling_joonang(soup),\n",
    "    elif press == \"서울신문\":\n",
    "        news_content = crawling_seoul(soup),\n",
    "    elif press == \"아주경제\":\n",
    "        news_content = crawling_aju(soup),\n",
    "    elif press == \"디지털타임스\":\n",
    "        news_content = crawling_digital_times(soup),\n",
    "    elif press == \"국민일보\":\n",
    "        news_content = crawling_kukmin(soup),\n",
    "    elif press == \"경향신문\":\n",
    "        news_content = crawling_kyunghyang(soup),\n",
    "    elif press == \"KBS\":\n",
    "        news_content = crawling_kbs(soup),\n",
    "    elif press == \"한겨레\":\n",
    "        news_content = crawling_hankyoreh(soup),\n",
    "    elif press == \"한국일보\":\n",
    "        news_content = crawling_korea(soup),\n",
    "    elif press == \"부산일보\":\n",
    "        news_content = crawling_busan(soup),\n",
    "    elif press == \"문화일보\":\n",
    "        news_content = crawling_munhwa(soup),\n",
    "    elif press == \"중부일보\":\n",
    "        news_content = crawling_joongboo_daily(soup),\n",
    "    elif press == \"전자신문\":\n",
    "        news_content = crawling_etnews(soup),\n",
    "    elif press == \"경인일보\":\n",
    "        news_content = crawling_kyeongin(soup),\n",
    "    elif press == \"SBS\":\n",
    "        news_content = crawling_sbs(soup),\n",
    "    elif press == \"경기일보\":\n",
    "        news_content = crawling_kyeonggi(soup),\n",
    "    elif press == \"MBC\":\n",
    "        news_content = crawling_mbc(soup),\n",
    "    elif press == \"내일신문\":\n",
    "        news_content = crawling_naeil(soup),\n",
    "    elif press == \"OBS\":\n",
    "        news_content = crawling_obs(soup),\n",
    "    elif press == \"매일신문\":\n",
    "        news_content = crawling_maeil(soup),\n",
    "    elif press == \"한라일보\":\n",
    "        news_content = crawling_ihalla(soup),\n",
    "    elif press == \"강원일보\":\n",
    "        news_content = crawling_gangwon(soup),\n",
    "    elif press == \"대전일보\":\n",
    "        news_content = crawling_daejon(soup),\n",
    "    elif press == \"중도일보\":\n",
    "        news_content = crawling_joongdo(soup),\n",
    "    elif press == \"영남일보\":\n",
    "        news_content = crawling_yeongnam(soup),\n",
    "    elif press == \"경남도민일보\":\n",
    "        news_content = crawling_kyeongnam_domin(soup),\n",
    "    elif press == \"국제신문\":\n",
    "        news_content = crawling_kookje(soup),\n",
    "    elif press == \"전남일보\":\n",
    "        news_content = crawling_jeonnam(soup),\n",
    "    elif press == \"경상일보\":\n",
    "        news_content = crawling_kyeongsang(soup),\n",
    "    elif press == \"강원도민일보\":\n",
    "        news_content = crawling_gangwon_domin(soup),\n",
    "    elif press == \"중부매일\":\n",
    "        news_content = crawling_joongboo(soup),\n",
    "    elif press == \"울산매일\":\n",
    "        news_content = crawling_ulsan(soup),\n",
    "    elif press == \"무등일보\":\n",
    "        news_content = crawling_mdilbo(soup),\n",
    "    elif press == \"광주매일신문\":\n",
    "        news_content = crawling_gwangju_daily(soup),\n",
    "    elif press == \"충북일보\":\n",
    "        news_content = crawling_chungbuk(soup),\n",
    "    elif press == \"충청일보\":\n",
    "        news_content = crawling_chungcheong(soup),\n",
    "    elif press == \"광주일보\":\n",
    "        news_content = crawling_gwangju(soup),\n",
    "    elif press == \"대구일보\":\n",
    "        news_content = crawling_daegu(soup),\n",
    "    elif press == \"전북일보\":\n",
    "        news_content = crawling_jeonbuk(soup),\n",
    "    elif press == \"전북도민일보\":\n",
    "        news_content = crawling_jeonbuk_domin(soup),\n",
    "    elif press == \"충청투데이\":\n",
    "        news_content = crawling_chungcheong_today(soup),\n",
    "    elif press == \"제민일보\":\n",
    "        news_content = crawling_jemin(soup),\n",
    "    elif press == \"경남신문\":\n",
    "        news_content = crawling_kyeongnam(soup)\n",
    "    else:\n",
    "        print(\"해당하는 언론사가 없습니다.\")\n",
    "\n",
    "    return news_content\n"
   ]
  },
  {
   "cell_type": "code",
   "execution_count": 59,
   "metadata": {},
   "outputs": [],
   "source": [
    "df[\"본문\"]=\"\""
   ]
  },
  {
   "cell_type": "code",
   "execution_count": 60,
   "metadata": {},
   "outputs": [],
   "source": [
    "def add_news_content(df, start_id, end_id):\n",
    "    for i in range(start_id, end_id):\n",
    "        press = df.iloc[i][\"언론사\"]\n",
    "        url = df.iloc[i][\"URL\"]\n",
    "\n",
    "        response = requests.get(url)\n",
    "\n",
    "        if response.status_code == 200:\n",
    "            soup = bs(response.text, 'html.parser')\n",
    "            content = news_crawling(press,soup)\n",
    "            print(f\"{i}번째 기사:{content[0].strip()}\")\n",
    "            df.loc[df.index==i,\"본문\"]=content[0].strip()\n",
    "        else:\n",
    "            continue        \n",
    "\n",
    "    return df"
   ]
  },
  {
   "cell_type": "code",
   "execution_count": 61,
   "metadata": {},
   "outputs": [
    {
     "name": "stdout",
     "output_type": "stream",
     "text": [
      "2번째 기사:코스피지수가 기관의 순매수에 힘입어 강세로 마감했다.30일 코스피지수는 전일 대비 14.26포인트(0.56%) 상승한 2564.28에 거래를 마쳤다. 거래량은 4억9887만주, 거래대금은 8조365억원으로 집계됐다.[이미지출처=연합뉴스]투자주체별로는 기관이 2031억원 순매수한 반면 외국인과 1622억원, 678억원을 순매도했다. 프로그램 매매에서는 차익거래에서 95억원, 비차익거래에서 93억원의 순매도가 발생했다.전날 뉴욕증시가 혼조세를 보이면서 코스피지수는 장 초반 보합권에서 출발했다. 이후 개인의 순매수세에 힘입어 강보합권에서 움직이던 코스피지수는 기관이 순매수로 전환하면서 상승 반전에 성공했다.업종별로는 대부분의 업종이 상승했다. 전기가스업이 2.4% 상승했고 운수장비 1.98%, 기계 1.58%, 유통업 1.32%, 증권 1.3%, 운수창고 1.23%, 화학 1.02%, 보험 0.89%, 금융업 0.82%, 음식료품 0.74% 등이 올랐다. 반면 의료정밀이 0.05% 약세를 기록했다.시가총액 상위종목에서는 삼성전자가 전거래일보다 200원(0.28%) 내리며 7만2200원에 마감했다. SK하이닉스는 0.86% 하락했고 삼성바이오로직스도 0.53% 내렸다. LG에너지솔루션은 0.55%, LG화학도 1% 넘게 올랐다. 현대차와 기아차도 호실적 전망에 각각 0.98%, 2.91% 강세로 장을 마감했다.코스닥지수도 강세로 거래를 마쳤다. 이날 코스닥지수는 전일 대비 6.45포인트(0.75%) 상승한 868.24에 장을 마감했다. 투자주체별로는 외국인과 개인이 각각 6억원, 337억원 순매수한 반면 기관은 45억원의 매도 우위를 기록했다.시가총액 상위권 종목 중에서는 에코프로비엠이 3.32% 올랐고 에코프로 5.6%, 엘앤에프 2.1%, JYP Ent. 4.72%, HLB 3.17% 셀트리온제약 0.13%, 케어젠 3.8% 등이 상승했다. 반면 셀트리온헬스케어는 0.15% 내렸고 펄어비스 -0.38%, 카카오게임즈 -2.09% 등이 하락했다.한편 이날 서울외환시장에서 원/달러 환율은 전일 대비 0.1원 오른 1317.7원에 장을 마감했다.<ⓒ경제를 보는 눈, 세계를 보는 창 아시아경제(www.asiae.co.kr) 무단전재 배포금지>\n"
     ]
    },
    {
     "name": "stdout",
     "output_type": "stream",
     "text": [
      "원달러 환율 전 거래일 대비 4.3원 오른 1321.9원에 출발했다.원 ▼2,300 -1.76%)가 3%대 강세를 포스코DX (16,150원 ▲900 +5.90%)가 1%대 강세에 머물고 있다. 에스엠 (105,600원 ▼1,200 -1.12%), 에코프로 (861,000원 ▲107,000 +14.19%), 케어젠 (242,500원 ▼17,000 -6.55%), 펄어비스 (52,300원 ▼300 -0.57%)는 강보합세다. 더블유씨피 (73,100원 ▲100 +0.14%), 에코프로비엠 (262,000원 ▲13,000 +5.22%), 엘앤에프 (250,500원 ▲7,500 +3.09%), 셀트리온헬스케어 (64,200원 ▼1,300 -1.98%), HLB (32,650원 ▲150 +0.46%), 카카오게임즈 (33,200원 ▲350 +1.07%), 셀트리온제약 (74,500원 ▼1,800 -2.36%)은 약보합권이다. ,700원 ▲2,500 +2.17%)는 1%대 약세다. \n",
      "6번째 기사:LG화학LG화학은 동반성장 5대 주요 전략을 선정해 구체적인 방안을 추진하고 있다. 사진은 협력업체 동신모텍을 방문한 신학철 부회장(가운데). [사진 LG화학]LG화학은 동반성장 5대 주요 전략으로 ▶공정한 거래문화 조성 ▶금융지원·결제조건 개선 ▶ESG 경영지원 활동 ▶협력회사 역량 강화 활동 ▶정보공유 및 소통활동을 선정하고 구체적인 방안을 추진하고 있다. 이를 위해 공정거래위원회에서 제시하는 업종별 표준하도급계약서 및 4대 실천사항을 도입했다. 자체 ‘공정거래 자율준수 프로그램’도 도입해 공정하고 투명한 경영시스템 정착에 앞장서고 있다. 또 협력회사의 원활한 자금 운용을 위해 2023년 기준 총 2061억원 규모의 금융 지원을 진행하고 있다. 아울러 중소 협력회사의 ESG 경영 역량 강화를 위해 매년 20억원 규모의 상생협력기금을 출연해 투자비를 무상 지원한다. LG화학은 협력사가 글로벌 수준의 업체로 성장할 수 있도록 기술 지원 및 보호 등 다양한 프로그램을 운영한다. LG화학 기술연구원과 테크센터에서는 연간 약 1만건의 각종 분석·시험 과정을 무상 지원한다. 이뿐 아니라 협력회사와의 소통 활성화를 위해 공식 홈페이지 내에 온라인 창구를 운영하고 있으며, 전국 구매상담회 참가 등 상생활동의 스펙트럼을 넓혔다.김승수 중앙일보M&P 기자kim.seungsoo@joongang.co.kr\n",
      "7번째 기사:LG화학LG화학은 바이오를 미래 사업 포트폴리오의 한 축으로 육성한다. 연구원이 의약품 물성을 분석하고 있다. [사진 LG화학] LG화학이 세포치료제 시장에서 미래를 위한 도전에 나선다. 2017년부터 세포치료제를 유망 분야로 점찍고 R&D를 이어오던 LG화학은 글로벌 시장을 선도할 기술 선점에 속도를 내기 위해 지난 1월에 4개 팀 40여명에 달하는 ‘세포치료제 TFT’ 조직을 가동했다. LG화학이 미래 성장동력으로 바이오 육성에 속도를 내고 있다. 최근 급상승하고 있는 바이오 부문의 성과를 바탕으로 대규모 연구개발(R&D) 투자를 이어나가는 선순환 구조를 구축해 바이오를 미래 사업 포트폴리오의 한 축으로 육성할 계획이다. LG화학이 바이오 투자를 늘리는 이유는 세포치료제와 같은 미래의 혁신 신약을 개발해 인류의 삶에 기여하기 위해서다. R&D와 생산이 까다로운 세포치료제는 상업화가 더뎌 현재 전통 강자와 도전자의 격차가 크지 않다. 지난 1월 미국 아베오 파마슈티컬스(AVEO Pharmaceuitcals)를 인수합병한 것도 미래 혁신 신약 개발의 실행력을 높이기 위해서다. 아베오는 글로벌 임상개발, 허가, 영업, 마케팅 등 항암시장에 특화된 역량을 보유하고 있다. LG화학은 아베오 인수를 통해 글로벌 톱30 제약사로 도전해 나갈 수 있는 동력을 확보했다는 평가다. LG화학의 바이오 사업이 주목받는 이유는 리스크가 크고 오랜 시간의 투자와 노력이 요구되는 신약개발에 뛰어들었다는 점이다. 지난해 LG화학 생명과학사업본부는 신약 개발을 위한 R&D에 2800억원을 투자했다. LG화학은 최근 바이오 R&D에 5년간 2조원 이상을 투자해 2030년까지 미국 식품의약국(FDA) 승인 신약을 5개 확보한다는 목표를 밝혔다. LG화학 생명과학사업본부는 ‘기초 연구개발, 글로벌 임상, 생산공정, 상업화’ 등 신약 개발을 위한 모든 분야의 역량을 보유하고 있다. 1980년대 초반부터 바이오 연구개발에 도전했다. 2003년 FDA 승인을 받았고, 글로벌 시장에서 허가를 취득한 경험을 갖고 있다. LG화학은 현재 세포치료제, 면역관문억제제 등 항암신약을 전임상 단계에서 자체 개발 중이다. 생명과학사업본부가 유망 항암 물질 발굴, 전임상 및 초기 임상, 상업화 공정개발 등을 담당하고, 미국시장 임상개발 및 판매 노하우를 갖춘 아베오가 항암 파이프라인 후기 임상개발 및 상업화를 담당하는 구조로 운영할 계획이다. LG화학 생명과학본부의 매출은 매년 성장하고 있다. 지난해 전년 동기 대비 20% 성장한 9100억원의 매출을 기록했다. 성장호르몬·당뇨·백신·항체·난임·에스테틱 등 지속적인 성장이 예상되는 제품군에서 고르게 실적이 증가하고 있다.김승수 중앙일보M&P 기자 kim.seungsoo@joongang.co.kr\n",
      "                                    < 저작권자 ⓒ 서울경제, 무단 전재 및 재배포 금지 >인트(0.55%) 내린 2,550.02장을 마쳤다.지수는 전일대비 0.17포인트(0.01%) 내린 2,564.02로 출발한 뒤 소폭 상승하다 하락 전환했다.투자자별로는 기관이 1791억원어치를 순매도하면서 지수를 끌어 내렸다. 개인과 외국인은 각각 1306억원, 553억원어치를 순매수했다.업종별 지수는 전기가스(0.77%), 의약품(0.31%), 전기전자(0.22%) 등이 오르고 비금속(-2.88%), 통신업(-2.80%), 건설업(-2.60%)등이 내렸다.관련기사[데이터로 보는 증시]에스에프에이·에코프로, 기관·외국인 코스닥 순매수 1위(6월 29일-최종치)기관은 SK하이닉스(000660) 재무분석차트영역상세보기(514억원)를 가장 많이 순매수한 가운데 LG전자(066570) 재무분석차트영역상세보기(240억원), 현대오토에버(307950) 재무분석차트영역상세보기(136억원), 대한항공(003490) 재무분석차트영역상세보기(124억원), 한미반도체(042700) 재무분석차트영역상세보기(89억원), 대덕전자(77억원), 씨에스윈드(75억원), LG이노텍(75억원), HD현대건설기계(63억원), HD현대일렉트릭(49억원)등을 매수했다. 순매도 상위종목은 삼성전자(005930) 재무분석차트영역상세보기(593억원)과 LG화학(167억원), 이수페타시스(007660) 재무분석차트영역상세보기(161억원), LG에너지솔루션(373220) 재무분석차트영역상세보기(143억원), 하이브(128억원), GS건설(126억원), 효성첨단소재(114억원), KB금융(109억원), 신한지주(102억원), SK이노베이션(91억원)등을 팔았다.외국인은 삼성전자(1573억원)를 비롯해 SK바이오사이언스(302440) 재무분석차트영역상세보기(219억원), 이수페타시스(211억원), 한미반도체(159억원), 현대차(005380) 재무분석차트영역상세보기(157억원), 기아(000270) 재무분석차트영역상세보기(121억원), LG에너지솔루션(106억원), LG전자(105억원), 한국전력(95억원), SK하이닉스(84억원)등을 순매수한 반면 하나금융지주(212억원)와 GS건설(191억원), 우리금융지주(176억원), SK텔레콤(174억원), LG화학(172억원), S-Oil(169억원), HD현대인프라코어(134억원), SK(118억원), 한화에어로스페이스(113억원), NAVER(107억원)등을 매도했다.   viewer \n",
      "LG그룹은 우수한 인재를 바탕으로 미래 먹거리를 마련하겠다는 계획이다. LG는 미래 먹거리로 A(인공지능), B(바이오), C(클린테크)를 지목하고 5년간 54조원의 국내 투자를 진행하겠다고 밝혔다.사 매출은 약 37%(약 50조원) 가량 증가했고, 영업이익은 약  77%(4조원)  늘었다. LG그룹 관계자는 \"일을 추진하기 전엔 꼼꼼히 검토하지만, 결정 후엔 과감하게 밀어붙이는 구 회장의 스타일이 영향을 줬다\"고 말했다.구광모 LG그룹 회장이 충청북도 청주시에 위치한 LG화학 양극재 공장을 둘러보고있다.사진=LG구 회장은 과거 관행을 깨고 유능한 인재영입에도 발 벗고 나서고 있다. LG그룹은 처음으로 외부 인사인 신학철 LG화학 부회장을 CEO로 영입했다. 신 부회장은 3M 본사에서 수석부회장을 지낸 인물이다. 2018년부터 올해 5월까지 LG에 합류한 임원급 인재가 100여명이다. 이 중 여성 CEO도 2명이나 있다. 구 회장은 취임 후 첫 사장단 협의회에서 \"인재 확보에 역량을 집중하고자 한다\"고 말했었다.\n",
      "10번째 기사:아비바코리아가 서울에서 개최한 '아비바 데이 코리아 2023'를 성황리에 마무리했다.'미래를 위한 연결: 디지털 트윈을 위한 플랫폼 구축'을 주제로 진행했다. 디지털 혁신을 가속하는 다양한 최신 기술 정보를 제공했다. 차세대 공정 시뮬레이터, 아비바 커넥트, 스마트그린팩토리 등 솔루션을 공유했다.GS칼텍스, LG화학, 현대오일뱅크 등 주요 고객사가 기조 연설했다. 올해 초 아비바를 인수한 슈나이더 일렉트릭도 참여했다. 소프트웨어 정의 범용자동화 솔루션 '에코스트럭처 오토메이션 엑스퍼트'를 소개했다. 아비바 시스템 플랫폼과 통합 전략을 공유했다.행사에는 고객과 전문가 400여명이 참석했다.오재진 아비바코리아 대표는 “공급업체, 파트너, 근로자가 가치사슬 모든 측면을 연결해 전체 에코시스템에서 지속 가능한 성장을 이어 나가도록 적극 지원할 것”이라고 밝혔다.류태웅 기자 bigheroryu@etnews.com\n",
      "포스코 광양 해수담수화 설비 필터 공급첫 국산화 제품으로 6.7만톤 처리LG화학 인수 'PVDF'막과 기술 시너지  시노펙스가 포스코 광양 해수담수화 설비에 적용한 전처리 멤브레인 필터. 시노펙스 제공. [파이낸셜뉴스] 시노펙스가 국내 최초로 해수담수화용 전처리 멤브레인 필터를 상용화했다. 아울러 국내 최대 규모 포스코 광양 해수담수화 설비에 관련 필터를 공급했다.29일 시노펙스에 따르면 전처리 멤브레인 필터를 적용한 포스코 광양 해수담수화 설비는 하루에 3만톤 정도 정수한 물을 공업용으로 공급한다.특히 포스코 광양 해수담수화 설비는 전처리용 UF 멤브레인 필터와 후처리용 RO 필터를 직렬 방식으로 연결해 에너지 효율을 높이는 장점이 있으나, 일반 시설에 비해 2.5배 고압에서 가동하기 때문에 그동안 내구성이 높은 외산 필터를 사용했다.시노펙스는 LG화학으로부터 인수한 'PVDF'막을 시노펙스 멤브레인 기술과 결합, 내구성 등을 한층 강화한 제품을 만들어 최근 포스코가 진행한 품질 평가를 통과했다. 이번 전처리 멤브레인 필터는 총 658개 모듈로 하루 6만7000톤까지 해수를 처리할 수 있다.시노펙스 전처리 멤브레인 필터는 머리카락 굵기 약 1000분의 1인 0.1㎛(마이크로미터) 기공 크기로 바닷물에 포함된 각종 유해물질과 초미세플라스틱, 박테리아 등을 제거할 수 있다. 아울러 직렬 시스템에 맞춰 고압에서도 견딜 수 있도록 내구성을 강화했다.시노펙스는 이번 포스코 광양 해수담수화 설비에 전처리 멤브레인 필터를 공급한 계기로 해수담수화 관련 기업들과 협력을 통해 국내외 시장을 공략할 계획이다.박병주 시노펙스 막여과사업부 본부장은 \"이번 프로젝트 성공으로 국내외 해수담수화 전처리 분야에 진출할 수 있는 교두보를 마련했다\"며 \"대기업과 중소기업이 상생 협력을 통해 수입 제품 국산화를 일군 사례\"라고 말했다.한편, 전 세계 해수담수화 시장은 지난 2021년 192억9000만달러에서 오는 2027년 320억2000만달러까지 성장할 전망이다.butter@fnnews.com 강경래 기자\n",
      "12번째 기사:코스피지수가 장 중 기관과 외국인의 매수세가 몰리며 상승세를 나타내고 있다.[이미지출처=연합뉴스]29일 오전 10시16분 현재 코스피지수는 전일 대비 11.29포인트(0.44%) 상승한 2575.47에 거래되고 있다.투자주체별로는 기관과 외국인이 각각 476억원, 524억원 순매수한 반면 개인은 989억원을 순매도하고 있다.선물시장에서는 기관과 개인이 각각 3743억원, 3018억원 순매도하고 있는 반면 외국인은 6609억원을 순매수하고 있다. 프로그램 매매는 차익거래에서 27억원, 비차익거래에서 603억원 순매수가 발생하고 있다.업종별로는 등락이 엇갈리고 있다. 전기가스업이 1.97% 상승세를 보이고 있고 전기전자 0.93%, 의약품 0.86%, 철강및금속 0.71%, 제조업 0.7%, 화학 0.4%, 서비스업 0.21% 등이 상승세다. 반면 의료정밀업종은 1.81% 하락세고 비금속광물 -1.49%, 통신업 -1.24%, 음식료품 -0.84% 등이 약세다.시가총액 상위권 종목들은 대부분 강세다. 삼성전자가 0.55% 강세고 LG에너지솔루션 2.19%, SK하이닉스 1.31%, 삼성바이오로직스 1.62%, LG화학 1.96%, 삼성SDI 3.04%, POSCO홀딩스 1.16% 등이 오름세다. 반면 현대차는 0.24% 약세고 기아도 0.23% 하락하고 있다.코스닥시장도 강세다. 코스닥지수는 전일 대비 1.76포인트(0.2%) 상승한 868.78에 거래되고 있다. 투자주체별로는 기관이 172억원, 개인이 459억원을 순매수하고 있는 반면 외국인은 532억원을 순매도하고 있다.시가총액 상위권 종목들은 등락이 엇갈리고 있다. 에코프로비엠이 1.03% 강세고 에코프로 4.57%, 셀트리온헬스케어 0.77%, 엘앤에프 1.88%, JYP Ent. 2.94%, 케어젠 1.02% 등이 오름세다. 반면 HLB는 1.26% 하락하고 있고 펄어비스 -1.66%, 셀트리온제약 -0.26% 등이 약세다.한편 같은 시각 원/달러 환율은 전일 대비 1.1원 하락한 1306.2원에 거래되고 있다.<ⓒ경제를 보는 눈, 세계를 보는 창 아시아경제(www.asiae.co.kr) 무단전재 배포금지>\n",
      "서울 외환시장에서 원·달러 환율은 전 거래일(1307.3원)보다 3.2원 오른 1310.5원에 출발했다.500원 ▼2,300 -1.76%)는 2%대 강세를 보인다. 더블유씨피 (73,100원 ▲100 +0.14%)와 에코프로 (861,000원 ▲107,000 +14.19%), 에스엠 (105,600원 ▼1,200 -1.12%), 엘앤에프 (250,500원 ▲7,500 +3.09%)는 1%대 강세다. 에코프로비엠 (262,000원 ▲13,000 +5.22%)과 케어젠 (242,500원 ▼17,000 -6.55%)은 강보합세다. 카카오게임즈 (33,200원 ▲350 +1.07%), 셀트리온제약 (74,500원 ▼1,800 -2.36%), 펄어비스 (52,300원 ▼300 -0.57%), 셀트리온헬스케어 (64,200원 ▼1,300 -1.98%)는 약보합세다. HLB (32,650원 ▲150 +0.46%)는 1%대 약세다. 2,500원 0.00%)는 약보합세다. 셀트리온 (151,600원 ▼1,300 -0.85%)은 1%대 약세를 보인다. \n",
      "한 화학사 고위 관계자는 \"사업을 거의 환골탈태하는 과정이기 때문에 막대한 자본이 필요할 수밖에 없다\"고 말했다. 실제 SK이노베이션은 최근 1조원 규모의 유상증자를 결정하고, LG화학은 사업 구조조정 및 LG에너지솔루션 지분 매각 등을 검토하고 있다. 또 다른 관계자는 \"지금 투자에서 밀리면 시장에서 생존 조차도 어려운 상황\"이라며 \"자금력과 기술을 가진 기업이 살아남는 구간이기에 이를 장기적으로 뒷받침 해야 한다\"고 밝혔다.자인기자을 중심으로 사업을 재편해 2030년까지 매출 50조원 고지에 오르겠다는 비전을 발표했다.\n",
      "서울 여의도 LG 트윈타워 [사진=LG전자]#5주년#구광모#ABC좋아요1화나요0추천해요1기자 정보김수지sujiq@ajunews.com​포스코인터, 7년째 인도네시아서 '의료봉사' 전개​LG전자, 디지털 취약계층 접근성 높인 '키오스크' 출시기자의 다른 기사 보기기사제보 하기©'5개국어 글로벌 경제신문' 아주경제. 무단전재·재배포 금지\n",
      "16번째 기사:구광모“그동안 LG가 쌓아온 고객가치 창조, 인간존중, 정도경영이라는 자산을 계승·발전시키고 변화가 필요한 부분은 개선하며 장기적 관점에서 성장 기반을 구축하는 데 최선을 다하겠습니다.”(2018년 회장 취임사) 구광모 LG그룹 회장이 29일로 취임 5주년을 맞는다. 구 회장은 2018년 고(故) 구본무 선대회장이 별세하면서 40세에 그룹 경영의 책임을 맡았다. 재계는 구 회장이 고객가치 중심의 경영 기조와 적극적인 사업 구조 개편을 통해 자신이 제시한 경영 방침을 실행하고 있다고 평가한다.김경진 기자무엇보다 고 구자경·구본무 회장이 강조해온 ‘고객가치’를 재해석하며 고객 중심 기업으로 변화를 이끌었다는 평가다. 지난 5년 동안 신년사 전문에 ‘고객’이라는 단어가 155회 등장했다. 지난달 열린 사장단협의회에서는 고 구자경 명예회장의 “고객을 위한 경영 혁신은 종착역이 없는 여정이다. 여기까지가 끝이라고 하게 되면 그것이 곧 발전의 한계가 된다”는 말을 인용해 고객가치 경영을 지속해 달라고 당부했다. 인재 등용과 사업구조 조정에서 과감히 변화를 시도했다는 평가도 받는다. 구 회장은 LG그룹에서 처음으로 외부 인사인 신학철 LG화학 부회장을 최고경영자(CEO)로 영입했다. 신 부회장은 3M 본사에서 수석부회장을 지냈다. 이 밖에도 2018년부터 올해 5월까지 인공지능(AI) 석학 이홍락 미국 미시간대 교수 등 임원급 인재 100여 명을 영입했다.김경진 기자사업구조 재편 역시 긍정적 성과로 인정받는다. 구 회장은 2019년 LG디스플레이의 조명용 유기발광다이오드(OLED) 사업 등을 축소한 데 이어 LG화학 편광판 사업(2020년), LG전자의 휴대전화 사업(2021년)을 정리했다. 대신 OLED와 배터리, 전장 등을 그룹의 주력 사업으로 키웠다. LG에너지솔루션은 지난해 매출 25조원, 영업이익 1조원의 최대 실적을 기록했다.김경진 기자그동안 시장에서 가치는 3배로 불었다. 2018년 6월 말 88조1000억원(우선주·LX그룹 제외)이던 11개 상장 계열사 시가총액은 매년 늘어 지난해 6월 말 192조7000억원에 달했고, 11월에는 250조원(11월 11일 259조원)을 넘어섰다. 매출과 영업이익은 같은 기간 138조2000억원, 4조6000억원에서 190조3000억원, 8조2000억원으로 늘었다. 복합위기 속 신성장 산업의 수익성 확보 등은 과제로 꼽힌다. 홍기용 인천대 경영학과 교수는 “기존 주력 계열사인 LG전자와 배터리 사업 등을 하는 LG화학 등 계열사 간 상승효과로 글로벌 기술 경쟁력을 키우는 경영 전략이 필요하다”고 말했다.최은경 기자 choi.eunkyung@joongang.co.kr\n",
      "제1회 LG 오픈이노베이션 서밋5년간 60곳 4000억 투자 성과 공유  26일(현지시간)부터 이틀간 미국 실리콘밸리에서 개최된 '제1회 LG 오픈 이노베이션 서밋'에서 박태준 LG테크놀로지벤처스 매니저, 임란 초드리 휴메인 대표, 니라브 킹스랜드 앤트로픽 제휴총괄, 마이클 스튜어드 M12 파트너(왼쪽부터)가 패널토론을 진행하고 있다. LG 제공 LG의 최고기술경영자(CTO)들이 실리콘밸리로 총출동해 스타트업 혁신 생태계 확대를 통한 미래 성장 동력 확보에 나섰다. 지난 5년간 인공지능(AI)·배터리·모빌리티·바이오의 투자 성과를 공유하고 향후 벤처 투자 전략도 공개했다. LG는 지난 26일(현지시간)부터 이틀간 미국 실리콘밸리에서 글로벌 스타트업, 벤처캐피탈과 함께하는 '제1회 LG 오픈 이노베이션 서밋'을 개최했다고 28일 밝혔다.이번 행사는 2018년 실리콘밸리에 설립된 LG의 기업형 벤처캐피탈(CVC)인 LG테크놀로지벤처스가 개최했다. LG가 주요 사업과 시너지를 내기 위해 미래 성장 동력이 될 수 있는 혁신 기술을 보유한 글로벌 스타트업을 발굴하기 위해 설립된 LG테크놀로지벤처스는 LG전자 등 주요 계열사 7곳이 출자한 펀드를 운용하고 있다. 지난 5년간 미국, 캐나다, 이스라엘 등 60여곳에 4000억원을 투자했다.LG의 사업방향과 벤처 투자 전략을 소개하고, 미래 성장 동력을 발굴하기 위해 계열사 CTO들이 대거 출동했다.박일평 LG사이언스파크 사장(대표)를 비롯해 △김병훈 LG전자 부사장(CTO) △신영준 LG에너지솔루션 부사장(CTO) △윤수영 LG디스플레이 부사장(CTO) △문혁수·강민석 LG이노텍 부사장(CSO, CTO) △민경화 LG화학 전무(IP 총괄) △전은경 LG CNS 상무(융합기술연구소장) △김성묵 LG유플러스 담당(전략투자담당) 등이 참석했다.특히 LG화학, LG에너지솔루션, LG이노텍은 별도 세션을 마련해 각사의 사업현황과 기술, 미래 전략 등을 소개하고, 배터리·클린테크·바이오·정보기술(IT)부품 분야 글로벌 스타트업과 벤처캐피탈에 적극적으로 투자하고 협력할 의지를 밝혔다. LG테크놀로지벤처스로부터 투자를 받고 LG 계열사와 협력하고 있는 스타트업들의 협업 노하우를 전수하는 세션도 마련됐다. 새로운 폼팩터 디스플레이 개발에 도전하는 '브렐리온(Brelyon)'을 비롯해 '클래로티'와 '사우스 8 테크놀로지스' 등의 사례가 소개됐다.박일평 대표는 LG가 글로벌 전문가들과 머리를 맞대고 미래 유망 산업분야, 기술 등 트렌드에 대해서 논의하는 협의체 '이노베이션 카운실'과 유망 스타트업을 발굴·육성하는 플랫폼 '슈퍼스타트' 등 다양한 오픈 이노베이션 활동에 대해 설명했다.김동수 LG테크놀로지벤처스 대표는 \"글로벌 유망 스타트업과 교류를 확대하면서 LG만의 개방형 혁신을 실현할 수 있도록 노력하겠다\"고 말했다.hoya0222@fnnews.com 김동호 기자\n",
      "                                    < 저작권자 ⓒ 서울경제, 무단 전재 및 재배포 금지 >트(0.67%) 내린 2,564.19로 마감됐다.투자자별로는 기관과 개인은 각각 587억 원, 3019억원 어치 순매수했고 외국인은 홀로 3922억원 어치를 순매도 했다.업종별 지수는 비금속(1.26%), 보험업(1.04%), 운수창고(0.90%) 유통업(0.19%)이 올랐고 화학(-2.89%), 철강금속(-2.29%), 건설업(-1.29%), 음식료(-1.18%) 등이 떨어졌다.기관은 SK하이닉스(000660) 재무분석차트영역상세보기(419억원)를 가장 많이 순매수한 가운데 대한항공(003490) 재무분석차트영역상세보기(196억원), 현대모비스(012330) 재무분석차트영역상세보기(171억원), 현대차(005380) 재무분석차트영역상세보기(157억원), 현대위아(011210) 재무분석차트영역상세보기(125억원), 현대오토에버(307950) 재무분석차트영역상세보기(111억원), HD현대인프라코어(99억원), HD현대건설기계(78억원), 현대글로비스(66억원), 신한지주(63억원)등을 매수했다. 순매도 상위 종목은 LG화학(051910) 재무분석차트영역상세보기(579억원)와 LG에너지솔루션(229억원), SK이노베이션(176억원), 포스코퓨처엠(003670) 재무분석차트영역상세보기(169억원), 롯데케미칼(154억원), 삼성SDI(107억원), 셀트리온(96억원), PI첨단소재(90억원), 효성첨단소재(67억원), LG생활건강(53억원)등을 팔았다.관련기사[데이터로 보는 증시]리노공업·하나기술, 기관·외국인 코스닥 순매수 1위(6월 28일-최종치)외국인은 삼성전자(005930) 재무분석차트영역상세보기(613억원)와 기아(000270) 재무분석차트영역상세보기(252억원), KB금융(105560) 재무분석차트영역상세보기(178억원), 삼성전자우(005935) 재무분석차트영역상세보기(120억원), 포스코퓨처엠(92억원), 현대차(91억원), 삼성생명(66억원), 현대오토에버(64억원), 포스코인터내셔널(58억원), HD현대인프라코어(52억원)등을 순매수한 반면 LG화학(1242억원)를 비롯해 삼성SDI(569억원), POSCO홀딩스(375억원), LG에너지솔루션(367억원), NAVER(276억원), 이수페타시스(214억원), S-Oil(207억원), SK이노베이션(198억원), SK하이닉스(173억원), 카카오(127억원)등을 순매도했다.   viewer \n",
      "19번째 기사:구광모 LG 대표가 지난 4월 17일 LG화학 청주공장을 방문해 양극재 생산 핵심 공정 가운데 하나인 소성 공정 라인을 살펴보고 있다. 사진 LG=뉴스1 “그동안 LG가 쌓아온 고객가치 창조, 인간존중, 정도경영이라는 자산을 계승·발전시키고 변화가 필요한 부분은 개선하며 장기적 관점에서 성장 기반을 구축하는 데 최선을 다하겠습니다.”(2018년 회장 취임사) 구광모 LG그룹 회장이 29일로 취임 5주년을 맞는다. 구 회장은 2018년 고(故) 구본무 선대회장이 별세하면서 비교적 젊은 40세에 그룹 경영의 책임을 맡았다. 재계는 구 회장이 고객가치 중심의 경영 기조와 적극적인 사업 구조 개편을 통해 자신이 제시한 경영 방침을 실행하고 있다고 평가한다. 무엇보다 고 구자경·구본무 회장이 강조해온 ‘고객가치’를 재해석하며 고객 중심 기업으로 변화를 이끌었다는 평가다. 지난 5년 동안 신년사 전문에 ‘고객’이라는 단어가 155회 등장할 만큼 구 회장은 고객가치를 강조하며 직원들이 업무를 고객 관점에서 재정의하도록 했다. 지난달 열린 사장단협의회에서는 고 구자경 명예회장의 “고객을 위한 경영 혁신은 종착역이 없는 여정이다. 여기까지가 끝이라고 하게 되면 그것이 곧 발전의 한계가 된다”는 말을 인용해 고객가치 경영을 지속해 달라고 당부했다.김경진 기자 인재 등용과 사업구조 조정에서 과감히 변화를 시도했다는 평가도 받는다. 구 회장은 LG그룹에서 처음으로 외부 인사인 신학철 LG화학 부회장을 최고경영자(CEO)로 영입했다. 신 부회장은 3M 본사에서 수석부회장을 지낸 인물로 조직문화 혁신에 적극적으로 나서고 있다. 이 밖에도 2018년부터 올해 5월까지 인공지능(AI) 석학 이홍락 미국 미시간대 교수 등 임원급 인재 100여 명을 영입했다. 사업구조 재편 역시 긍정적 성과로 인정받는다. 구 회장은 2019년 LG디스플레이의 조명용 유기발광다이오드(OLED) 사업, LG유플러스 전자결제 사업을 축소한 데 이어 LG화학 편광판 사업(2020년), LG전자의 휴대전화 사업(2021년)을 정리했다. 대신 OLED와 배터리, 전장 등을 그룹의 주력 사업으로 키웠다. 배터리 사업을 담당하는 LG에너지솔루션은 지난해 매출 25조원, 영업이익 1조원의 최대 실적을 기록했다. 그동안 시장에서 가치는 3배로 불었다. 2018년 6월 말 88조1000억원(우선주·LX그룹 제외)이던 11개 상장 계열사 시가총액이 지난해 250조원(11월 11일 259조원)을 넘어선 데는 사업구조 재편이 큰 몫을 차지했다는 평가다. 매출과 영업이익은 같은 기간 138조2000억원, 4조6000억원에서 190조3000억원, 8조2000억원으로 늘었다.김경진 기자 한편으론 이른바 ‘ABC(인공지능·바이오·클린테크)’ 분야를 중심으로 미래 준비에 속도를 내고 있다. LG그룹은 이들 분야 등 미래 사업에 앞으로 5년 동안 54조원을 투자할 계획이다. 구 회장은 LG AI연구원과 충북 오송 LG화학 생명과학본부, 서울 마곡 LG화학 R&D연구소 등을 잇달아 방문하며 직접 미래 사업을 챙겼다. 복합위기 속 신성장 산업의 수익성 확보 등은 과제로 꼽힌다. 홍기용 인천대 경영학과 교수는 “기존 주력 계열사인 LG전자와 배터리 사업 등을 하는 LG화학 등 계열사 간 상승 효과로 글로벌 기술 경쟁력을 키우는 경영 전략이 필요하다”고 말했다.최은경 기자 choi.eunkyung@joongang.co.kr\n",
      "20번째 기사:LG화학 청주공장(주재임원 최종완)은 28일 흥덕구 복대동 가경천 일원에서 맑고 깨끗한 청주시를 만들기 위한 '1사 1하천 사랑운동' 하천 정화 활동을 펼쳤다.이날 정화활동에는 주재임원 최종완 상무와 임직원 50여명이 참석해 쓰레기를 수거하며 하천 환경을 정비했다./김민정기자\n",
      "22번째 기사:미국 실리콘밸리에서 현지시간 26~27일 이틀간 열어스타트업 혁신 생태계 확대…미래 성장 동력 확보                \t\t\t\t26일(현지시간)부터 이틀간 미국서 개최한 ‘LG 오픈 이노베이션 서밋’에서 LG테크놀로지벤처스, 스타트업, 벤처캐피탈 관계자들이 패널 토론을 진행하고 있다.LG 제공\t\t\t\tLG는 26일(현지시간)부터 이틀간 미국 실리콘밸리에서 글로벌 스타트업, 벤처캐피탈과 함께하는 벤처 네트워킹 행사를 열고, 스타트업 혁신 생태계 확대를 통한 미래 성장 동력 확보에 나섰다고 28일 밝혔다.이번 행사는 LG의 기업형 벤처캐피탈(CVC)인 LG테크놀로지벤처스가 처음으로 개최한 것으로 LG전자, LG화학, LG에너지솔루션, LG디스플레이, LG이노텍, LG유플러스, LG CNS 등 7개 계열사와 LG사이언스파크, 그리고 이들 회사들이 투자했거나 투자 검토 중인 스타트업, 글로벌 벤처캐피탈 등 총 140여 개사의 CEO 등 주요 관계자 240여 명이 참석했다.LG테크놀로지벤처스는 LG가 주요 사업과의 시너지를 낼 수 있거나 미래 성장 동력이 될 수 있는 혁신 기술을 보유한 글로벌 스타트업을 발굴하기 위해 2018년 5월 미국 실리콘밸리에 설립했다. LG전자, LG화학, LG에너지솔루션, LG디스플레이, LG이노텍, LG유플러스, LG CNS 등 LG 주요 계열사 7곳이 출자한 펀드를 운용하고 있다. 지난 5년간 미국, 캐나다, 이스라엘, 싱가포르, 중국, 한국 등 글로벌 스타트업과 벤처캐피탈 60여 곳에 약 4000억 원을 투자했다.LG테크놀로지벤처스는 지난 5년 간의 투자 성과와 LG의 벤처 투자 전략을 알리고 스타트업에게 투자 유치와 교류 협력의 기회를 제공하기 위해 이번 행사를 개최했다. LG는 각 계열사의 사업방향과 벤처 투자 전략을 알리고 실리콘밸리 벤처 생태계와 직접 네트워킹 하면서 미래 성장동력 발굴을 위해 LG사이언스파크 박일평 사장(대표), LG전자 김병훈 부사장(CTO), LG에너지솔루션 신영준 부사장(CTO), LG디스플레이 윤수영 부사장(CTO), LG이노텍 문혁수·강민석 부사장(CSO, CTO), LG화학 민경화 전무(IP(지식재산권)총괄), LG CNS 전은경 상무(융합기술연구소장), LG유플러스 김성묵 담당(전략투자담당) 등이 참석했다.LG가 전자, 화학, 통신·서비스 등 분야에서 다양한 사업을 영위하고 있는 만큼 미래 산업분야와 신기술을 개척하고 있는 스타트업을 발굴하고, 이들과 협력 파트너가 될 수 있다는 것을 각사 경영진들이 직접 나서서 알렸다는 데 의미가 크다.LG화학, LG에너지솔루션, LG이노텍은 별도 세션을 마련해 각각 회사의 사업현황과 기술, 미래 전략 등을 소개하고, 배터리, 클린테크, 바이오, IT부품 분야 글로벌 스타트업과 벤처캐피탈에 적극적으로 투자하고 협력할 의지를 밝혔다. LG 오픈 이노베이션의 거점 역할을 하고 있는 LG사이언스파크의 박일평 대표는 LG가 글로벌 전문가들과 머리를 맞대고 미래 유망 산업분야, 기술 등 트렌드에 대해서 논의하는 협의체 ‘이노베이션 카운실’과 유망 스타트업을 발굴·육성하는 플랫폼 ‘슈퍼스타트’ 등 다양한 오픈 이노베이션 활동을 설명하는 자리를 가졌다.LG는 LG테크놀로지벤처스로부터 투자를 받고 LG 계열사와 협력하고 있는 스타트업들의 협업 노하우를 전수하는 세션을 마련했다. 새로운 폼팩터 디스플레이 개발에 도전하는 ‘브렐리온’을 비롯해, 사이버 보안 솔루션을 개발하는 ‘클래로티’, 고성능 배터리용 액화가스 전해질을 연구하는 ‘사우스 8 테크놀로지스’ 등이 소개됐다.LG는 지난 2021년 산업용 장비 보안솔루션 분야의 강자인 클래로티에 투자한 이후 클래로티의 제품과 솔루션을 적용한 구독형 서비스를 런칭했으며, 지난해에는 이 회사와 파트너십을 체결하고 여러 회사의 생산현장에 서비스를 적용해 오고 있다.사우스 8 테크놀로지스와는 배터리 안정성 향상을 위한 액화가스 전해질 기반 배터리 개발에 협력하고 있으며, 브렐리온은 LG디스플레이 OLED 패널을 사용해 확장형 무안경 3D모니터 제품을 개발하고 있다.이 밖에도 LG는 스타트업들의 제품·서비스를 시연하고 소개할 수 있는 전시 공간을 마련해 참석자들이 투자 유치와 협력 방안에 대해서 논의할 수 있도록 했다.LG는 26일(현지시간)부터 이틀간 미국 실리콘밸리에서 글로벌 스타트업, 벤처캐피탈과 함께하는 벤처 네트워킹 행사를 열고, 스타트업 혁신 생태계 확대를 통한 미래 성장 동력 확보에 나섰다고 28일 밝혔다.이번 행사는 LG의 기업형 벤처캐피탈(CVC)인 LG테크놀로지벤처스가 처음으로 개최한 것으로 LG전자, LG화학, LG에너지솔루션, LG디스플레이, LG이노텍, LG유플러스, LG CNS 등 7개 계열사와 LG사이언스파크, 그리고 이들 회사들이 투자했거나 투자 검토 중인 스타트업, 글로벌 벤처캐피탈 등 총 140여 개사의 CEO 등 주요 관계자 240여 명이 참석했다.LG테크놀로지벤처스는 LG가 주요 사업과의 시너지를 낼 수 있거나 미래 성장 동력이 될 수 있는 혁신 기술을 보유한 글로벌 스타트업을 발굴하기 위해 2018년 5월 미국 실리콘밸리에 설립했다. LG전자, LG화학, LG에너지솔루션, LG디스플레이, LG이노텍, LG유플러스, LG CNS 등 LG 주요 계열사 7곳이 출자한 펀드를 운용하고 있다. 지난 5년간 미국, 캐나다, 이스라엘, 싱가포르, 중국, 한국 등 글로벌 스타트업과 벤처캐피탈 60여 곳에 약 4000억 원을 투자했다.LG테크놀로지벤처스는 지난 5년 간의 투자 성과와 LG의 벤처 투자 전략을 알리고 스타트업에게 투자 유치와 교류 협력의 기회를 제공하기 위해 이번 행사를 개최했다. LG테크놀로지벤처스는 지난 5년 간의 투자 성과와 LG의 벤처 투자 전략을 알리고 스타트업에게 투자 유치와 교류 협력의 기회를 제공하기 위해 이번 행사를 개최했다.LG는 각 계열사의 사업방향과 벤처 투자 전략을 알리고 실리콘밸리 벤처 생태계와 직접 네트워킹 하면서 미래 성장동력 발굴을 위해 LG사이언스파크 박일평 사장(대표), LG전자 김병훈 부사장(CTO), LG에너지솔루션 신영준 부사장(CTO), LG디스플레이 윤수영 부사장(CTO), LG이노텍 문혁수·강민석 부사장(CSO, CTO), LG화학 민경화 전무(IP(지식재산권)총괄), LG CNS 전은경 상무(융합기술연구소장), LG유플러스 김성묵 담당(전략투자담당) 등이 참석했다.LG가 전자, 화학, 통신·서비스 등 분야에서 다양한 사업을 영위하고 있는 만큼 미래 산업분야와 신기술을 개척하고 있는 스타트업을 발굴하고, 이들과 협력 파트너가 될 수 있다는 것을 각사 경영진들이 직접 나서서 알렸다는 데 의미가 크다.LG화학, LG에너지솔루션, LG이노텍은 별도 세션을 마련해 각각 회사의 사업현황과 기술, 미래 전략 등을 소개하고, 배터리, 클린테크, 바이오, IT부품 분야 글로벌 스타트업과 벤처캐피탈에 적극적으로 투자하고 협력할 의지를 밝혔다. LG 오픈 이노베이션의 거점 역할을 하고 있는 LG사이언스파크의 박일평 대표는 LG가 글로벌 전문가들과 머리를 맞대고 미래 유망 산업분야, 기술 등 트렌드에 대해서 논의하는 협의체 ‘이노베이션 카운실’과 유망 스타트업을 발굴·육성하는 플랫폼 ‘슈퍼스타트’ 등 다양한 오픈 이노베이션 활동을 설명하는 자리를 가졌다.LG는 LG테크놀로지벤처스로부터 투자를 받고 LG 계열사와 협력하고 있는 스타트업들의 협업 노하우를 전수하는 세션을 마련했다. 새로운 폼팩터 디스플레이 개발에 도전하는 ‘브렐리온’을 비롯해, 사이버 보안 솔루션을 개발하는 ‘클래로티’, 고성능 배터리용 액화가스 전해질을 연구하는 ‘사우스 8 테크놀로지스’ 등이 소개됐다.LG는 지난 2021년 산업용 장비 보안솔루션 분야의 강자인 클래로티에 투자한 이후 클래로티의 제품과 솔루션을 적용한 구독형 서비스를 런칭했으며, 지난해에는 이 회사와 파트너십을 체결하고 여러 회사의 생산현장에 서비스를 적용해 오고 있다.LG는 지난 2021년 산업용 장비 보안솔루션 분야의 강자인 클래로티에 투자한 이후 클래로티의 제품과 솔루션을 적용한 구독형 서비스를 런칭했으며, 지난해에는 이 회사와 파트너십을 체결하고 여러 회사의 생산현장에 서비스를 적용해 오고 있다.사우스 8 테크놀로지스와는 배터리 안정성 향상을 위한 액화가스 전해질 기반 배터리 개발에 협력하고 있으며, 브렐리온은 LG디스플레이 OLED 패널을 사용해 확장형 무안경 3D모니터 제품을 개발하고 있다.이 밖에도 LG는 스타트업들의 제품·서비스를 시연하고 소개할 수 있는 전시 공간을 마련해 참석자들이 투자 유치와 협력 방안에 대해서 논의할 수 있도록 했다.배동진 기자 djbae@busan.com\n",
      "23번째 기사:28일 코스피와 코스닥이 동반 하락 마감했다. 앞서 장 초반에는 강보합세로 출발했지만 장 중 외인 매도세 영향으로 지수가 하락했다.이날 코스피는 전장 대비 17.20포인트(0.67%) 떨어진 2564.19에 거래를 마쳤다. 외국인 투자자가 이날 하루에만 3985억원치를 순매도했다. 개인과 기관은 각각 3016억원, 562억원치를 사들였지만 지수 하락을 막기에는 역부족이었다.유가증권시장 시가총액 상위 그룹에서 삼성전자(0.14%), SK하이닉스(1.15%), 기아(0.23%)는 상승 마감했다. 반면 LG에너지솔루션(-2.50%), 삼성바이오로직스(-0.80%), LG화학(-5.83%), 삼성SDI(-3.10%), POSCO홀딩스(-3.47%) 등은 하락했다. 특히 이차전지 관련 종목들의 하락 폭이 컸다.김석환 미래에셋증권 연구원은 \"오늘 밤 제롬 파월 미 연방준비제도 의장의 연설 대기와 마이크론 실적 발표를 앞두고 관망심리가 확대됐다\"며 \"현·선물 외국인 매물 출회 확대와 원·달러 환율 상승이 부담으로 작용한 것으로 보인다\"고 말했다. 특히 LG화학, SK이노베이션, 롯데케미칼 등 석유화학주가 약세를 보인 배경에 대해서는 \"글로벌 제조업 경기 침체로 석유화학 제품 수요 부진과 공급과잉에 따른 수익성 저하 우려가 확대됐다\"며 \"LG화학의 나프타분해설비 가동 중단 등 본격 구조조정 소식도 부정적으로 작용했다\"고 분석했다.코스닥은 7.17포인트(0.82%) 하락한 866.97에 마감됐다. 마찬가지로 외국인 투자자가 1537억원 순매도했다. 개인과 기관은 각각 1384억원, 354억원 순매수했다.코스닥 시총 상위 그룹에서는 HLB(0.79%)를 제외한 대부분 종목이 하락하거나 전일과 동일한 주가로 장을 마쳤다. 에코프로비엠(-4.52%), 에코프로(-5.15%), 엘앤에프(-5.35%) 등은 5%대 안팎의 하락 폭을 보였다.한편 이날 서울 외환시장에서 원·달러 환율은 전장 대비 7.0원 오른 1307.3원에 마감됐다.<ⓒ경제를 보는 눈, 세계를 보는 창 아시아경제(www.asiae.co.kr) 무단전재 배포금지>\n",
      "24번째 기사:[세종=뉴시스]강종민 기자 = 세종시 어진동 정부세종청사 산업통상자원부. 2019.09.03. ppkjm@newsis.com *재판매 및 DB 금지 /사진=뉴시스 [파이낸셜뉴스]산업통상자원부가 롯데케미칼, LG화학 등 석유화학 업계와 만나 수출·투자 관련 애로사항이 있는지 살폈다. 이날 회의에서 나온 내용은 규제 개선 등 정책에 반영할 계획이다.산업부는 28일 장영진 산업부 1차관 주재로 석유화학 수출·투자 점검회의를 개최했다고 밝혔다.이번 회의에는 롯데케미칼, SK지오센트릭, S-OIL, LG화학, 한화솔루션, 한화토탈에너지스 등 주요 석유화학기업 6곳의 임원, 산업연구원, 한국석유화학협회 등이 참석했다.이들은 석유화학기업들의 어려운 수출·투자 환경을 점검하고, 수출 증대와 투자 촉진을 위한 애로 해소 방안에 대해 논의했다. 석유화학업계는 △나프타 조정관세 영세율 △배출권거래제 할당 제도 개선 △탄소국경조정제도(CBAM) 대응체계 마련 등을 요청했다.더욱이 투자 촉진을 위해 △친환경 투자 촉진을 위한 세액 공제 확대 △탄소중립 연구개발(R&D) 지원 확대 △법·제도 등 규제 개선도 필요하다고 밝혔다.장 차관은 \"현재 어려움을 겪고 있는 석유화학기업들의 애로 해소를 위해 업계의 건의 사항과 수요를 적극 반영해 규제개선, 기술개발 등 수출·투자 활성화에 필요한 다양한 의견들을 검토하여 정책에 적극 반영해 나가겠다\"고 말다.leeyb@fnnews.com 이유범 기자\n",
      "                                    < 저작권자 ⓒ 서울경제, 무단 전재 및 재배포 금지 >99030) 재무분석차트영역상세보기로 나타났다. LG화학(051910) 재무분석차트영역상세보기, 고영(098460) 재무분석차트영역상세보기, 메디톡스(086900) 재무분석차트영역상세보기, 대주전자재료(078600) 재무분석차트영역상세보기 등도 순위에 올랐다.이날 미래에셋엠클럽에 따르면 미래에셋증권 주식 거래 고객 중 최근 1개월 간 투자수익률 상위 1%에 해당하는 ‘주식 초고수’들이 오전 11시까지 가장 많이 사들인 종목은 하나기술로 집계됐다.하나기술은 2차전지 장비 기업이다. 잇단 수주 공시에 매수세가 몰리는 것으로 분석된다. 전날에는 1724억 원 규모의 2차전지 조립, 화성라인 턴키 공급 수주 소식을 알렸다. 판매공급 지역은 아시아로, 최근 3년간 계약 이행 여부 내역이 없는 신규 고객사와의 계약이다. 심원용 신한투자증권 연구원은 “단일 수주 계약 공시로는 최대 규모”라며 “발주금액을 고려하면 고객사는 이미 양산성이 검증된 배터리 플레이어일 가능성이 높다”고 밝혔다.심 연구원은 하나기술이 이번 수주를 통해 실적 가시성을 확보하고, 단일 고객사 우려를 해소하는 한편, 장비 경쟁력을 입증했다고 평가했다. 그는 “해당 수주로 수주잔고는 3800억 원 수준까지 증가한 것으로 추정한다”며 “현재 1,2공장 합산 생산능력은 연 매출액 7000억 원 수준으로 대응 역량도 충분하다”고 밝혔다. 이어 “반고체 배터리 양산을 계획 중인 노르웨이 프레이얼(Freyr) 파트너십 체결 이후 주가는 프레이얼 투자에 연동돼왔다”며 “고객사 투자 스케줄 지연으로 불확실성이 존재했으나 신규 고객 확보로 안정적인 성장 발판을 마련했다”고 평가했다.심 연구원은 “장비사 선정 시 각각 중국·일본 아시아 셀 메이커는 자국우선주의를, 북미는 인플레이션방지법(IRA) 환경을 주로 고려할 것으로 예상됐다”며 “1월 중국 항케(Hangke)의 블루오벌SK(BlueOvalSK) 수주와 이번 수주는 장비사 기술력과 경쟁력의 중요성을 입증했다”고 설명했다. 이어 “모든 폼팩터와 46파이·전고체 등 선단 공정 장비 연구 및 공급을 이어가는 당사의 수주 지속성을 전망한다”고 덧붙였다. 신한투자증권은 이날 하나기술의 목표 주가를 기존 8만 6000원에서 10만 원으로 상향했다. 순매수 2위는 LG화학이다. 최근 외국인과 기관의 매도세가 주가는 약세를 보이고 있다. 이날 11시15분 기준 전 거래일 대비 3.13% 하락한 68만 1000원이다. LG화학의 최근 주가 흐름은 부진하지만 영업 전망은 개선되고 있다는 평가다. 에프앤가이드에 따르면 LG화학의 올해 연간 영업이익 컨센서스는 3조 9361억 원이고 내년은 6조 9035억 원으로 전망된다. 가장 최근 목표주가를 제시한 곳은 IBK투자증권으로 지난 12일 투자의견 매수, 목표주가 93만 원을 제시했다.성장주로 재평가받을 수 있다는 기대감도 꾸준히 나온다. LG화학은 현재 석유화학 산업이 주력이지만, 2차전지 양극재, 분리막 등 첨단소재 사업의 투자를 확대하고 있다. 지난해 미국 테네시주에 4조 원 규모의 양극재 공장 설립을 발표했고, 최근 언론 보도에 따르면 분리막 사업의 북미 진출도 검토 중에 있는 것으로 알려져 있다. 삼성증권 추정치에 따르면 LG화학의 석유화학 매출 비중은 2020년 46%에서 2023년 30%까지 하락, 배터리 셀·소재 비중은 2020년 41%에서 2023년 62%까지 확대될 전망이다. 특히 신성장 동력인 첨단소재 부문의 높은 성장세가 돋보인다. 양극재 사업은 2021년 1조 4000억원에서 2022년 4조 원으로 3배 가까이 성장, 올해 역시 약 6조원 수준으로 50% 이상의 성장이 지속될 것으로 봤다.이날 순매도 1위는 이수페타시스(007660) 재무분석차트영역상세보기다. 메지온(140410) 재무분석차트영역상세보기, 제이엘케이(322510) 재무분석차트영역상세보기, 큐렉소(060280) 재무분석차트영역상세보기 등도 순매도 상위권에 이름을 올렸다. 전 거래일 순매수 1위는 이수페타시스, 큐렉소, 하나기술, 와이지엔터테인먼트(122870) 재무분석차트영역상세보기, 피에스케이(319660) 재무분석차트영역상세보기홀딩스 등이 뒤를 이었다. 전 거래일 순매도 1위는 현대로템(064350) 재무분석차트영역상세보기였으며 SK하이닉스(000660) 재무분석차트영역상세보기, POSCO홀딩스(005490) 재무분석차트영역상세보기, 금양(001570) 재무분석차트영역상세보기, 넥스트칩(396270) 재무분석차트영역상세보기 순으로 매도가 많았다.미래에셋증권은 자사 고객 중에서 지난 1개월간 수익률 상위 1% 투자자들의 매매 종목을 집계해 실시간·전일·최근 5일 기준으로 모바일트레이딩시스템(MTS)상에서 공개하고 있다. 이 통계 데이터는 미래에셋증권의 의견과 무관한 단순 정보 안내이며, 각각의 투자자 개인에게 맞는 투자 또는 수익 달성을 보장하지 않는다. 또 테마주 관련종목은 이상 급등락 가능성이 있으므로 유의해야 한다.   viewer \n",
      "                                    < 저작권자 ⓒ 서울경제, 무단 전재 및 재배포 금지 > 참석한 패널들이 미래 기술 발전 방향 등에 대해 토론하고 있다. 사진제공=LGLG그룹의 최고기술책임자(CTO)들이 미국 실리콘밸리에 모여 미래 ‘유니콘기업’이 될 스타트업들을 직접 찾아 나섰다. 미래 성장 동력을 미리 확보하기 위해서는 스타트업 생태계에 대한 과감하고 선제적인 투자가 필요하다는 게 LG의 판단이다.LG의 기업형벤처캐피털(CVC)인 LG테크놀로지벤처스가 26~27일(현지 시간) 이틀 동안 미국 실리콘밸리에서 ‘제1회 LG 오픈이노베이션 서밋’을 개최했다.LG테크놀로지벤처스는 글로벌 스타트업을 발굴하기 위해 2018년 미국에서 설립됐으며 LG전자, LG화학, LG에너지솔루션, LG디스플레이, LG이노텍, LG유플러스, LG CNS 등 계열사 7곳으로부터 출자 받은 약 6000억 원 규모의 펀드를 운용하고 있다.머리에 쓰는 고글 없이도 가상현실(VR)을 체험할 수 있는 디스플레이를 개발하고 있는 미국 ‘브렐리온’이 LG테크놀로지벤처스의 대표적인 투자 기업이다. LG는 지난해 9월 록히드마틴·코닝 등과 손잡고 이 회사에 1500만 달러를 투자했다.   viewer  LG가 투자한 미국 스타트업인 '브렐리온'이 개발한 가상현실 전용 디스플레이의 모습.사이버보안 솔루션을 개발하는 ‘클래로티’와 고성능 배터리용 액화가스 전해질을 연구하는 ‘사우스8테크놀로지스’ 등도 LG가 투자한 기업이다. 사우스8테크놀로지스가 연구하는 액화가스 전해질은 배터리 성능을 높이면서도 날씨가 매우 춥거나 더운 지역에서도 배터리 안정성을 키우는 물질이다. 상용화할 경우 배터리 업계 판도를 바꿀 수 있는 물질로 분류된다. 이렇게 지난 5년 동안 LG가 글로벌 스타트업에 투자한 금액만 약 4000억 원에 이른다.이번 행사를 계기로 그동안 물밑에서 투자 기업을 찾던 LG가 향후 본격적으로 투자 규모를 늘려갈 것으로 보인다.    viewer 행사에는 박일평 LG사이언스파크 대표이사 사장과 김병훈 LG전자 CTO(부사장), 신영준 LG에너지솔루션 CTO(부사장), 윤수영 LG디스플레이 CTO 등이 LG그룹의 기술 담당 최고임원들이 총출동했다. 이들 경영진은 또한 실리콘밸리에 있는 대형 VC인 ‘플레이그라운드 벤처스’ ‘로버트 보쉬 벤처캐피탈’ ‘시에라 벤처스’ 등도 방문해 상호 협력 방안을 논의한 것으로 전해졌다.LG그룹의 한 관계자는 “LG가 운영하는 전자·화학·통신 등 분야에서 각 계열사 경영진이 직접 나서 신기술을 개척하고 유망 기업을 발굴하면서 현지 업계에서도 LG에 대한 관심이 더욱 커질 것으로 보고 있다”고 말했다.행사에 참석한 현지 스타트업과 글로벌 VC만 해도 약 140여 곳에 이를 정도다. LG화학·LG에너지솔루션·LG이노텍은 아예 별도 세션까지 마련해 사업 현황과 미래 전략 등을 현지 기업들에 소개하기도 했다.박일평 LG사이언스파크 대표는 LG가 글로벌 전문가들과 미래 유망 산업 분야, 기술 등에 대해 논의하는 협의체인 ‘이노베이션 카운실’과 유망 스타트업을 발굴·육성하는 플랫폼 ‘슈퍼스타트’ 등에 대해 소개했다.김동수 LG테크놀로지벤처스 대표는 “앞으로도 LG 계열사들의 성장 동력 확보를 위한 전초기지 역할을 하면서 글로벌 유망 기업들과 교류를 확대해 개방형 혁신을 실현해 나가겠다”고 말했다.\n",
      " LG 관계자들은 행사 1일차에 실리콘밸리에 소재하고 있는 '플레이그라운드 벤처스', '로버트 보쉬 벤처캐피탈', '시에라 벤처스' 등 유명 벤처캐피탈을 방문해 이들의 인사이트를 공유받고 협력기회를 논의했다.력하고 있으며, '브렐리온'은 LG디스플레이 OLED(유기발광다이오드) 패널을 사용해 확장형 무안경 3D(차원)모니터 제품을 개발하고 있다.8 Technologies)' 등이 소개됐다.\n",
      "제1회 LG 오픈 이노베이션 서밋계열사 CTO·CSO 등 대거 출동LG테크놀로지벤처스 성과 알리고스타트업에 투자유치·협력 기회 제공  26일(현지시간)부터 이틀간 미국 실리콘밸리에서 개최된 '제1회 LG 오픈 이노베이션 서밋'에서 박태준 LG테크놀로지벤처스 매니저, 임란 초드리 휴메인 대표, 니라브 킹스랜드 앤트로픽 제휴총괄, 마이클 스튜어드 M12 파트너(왼쪽부터)가 패널토론을 진행하고 있다. LG 제공 [파이낸셜뉴스] LG의 최고기술경영자(CTO)들이 실리콘밸리로 총출동해 스타트업 혁신 생태계 확대를 통한 미래 성장 동력 확보에 나섰다. 지난 5년간 인공지능(AI)·배터리·모빌리티·바이오의 투자 성과를 공유하고 향후 벤처 투자 전략도 공개했다.G는 지난 26일(현지시간)부터 이틀간 미국 실리콘밸리에서 글로벌 스타트업, 벤처캐피탈과 함께하는 '제1회 LG 오픈 이노베이션 서밋'을 개최했다고 28일 밝혔다.이번 행사는 2018년 실리콘밸리에 설립된 LG의 기업형 벤처캐피탈(CVC)인 LG테크놀로지벤처스가 개최했다. LG가 주요 사업과 시너지를 내기 위해 미래 성장 동력이 될 수 있는 혁신 기술을 보유한 글로벌 스타트업을 발굴하기 위해 설립된 LG테크놀로지벤처스는 LG전자 등 주요 계열사 7곳이 출자한 펀드를 운용하고 있다. 지난 5년간 미국, 캐나다, 이스라엘 등 60여곳에 4000억원을 투자했다.LG의 사업방향과 벤처 투자 전략을 소개하고, 미래 성장 동력을 발굴하기 위해 계열사 CTO들이 대거 출동했다.박일평 LG사이언스파크 사장(대표)를 비롯해 △김병훈 LG전자 부사장(CTO) △신영준 LG에너지솔루션 부사장(CTO) △윤수영 LG디스플레이 부사장(CTO) △문혁수·강민석 LG이노텍 부사장(CSO, CTO) △민경화 LG화학 전무(IP 총괄) △전은경 LG CNS 상무(융합기술연구소장) △김성묵 LG유플러스 담당(전략투자담당) 등이 참석했다.특히 LG화학, LG에너지솔루션, LG이노텍은 별도 세션을 마련해 각사의 사업현황과 기술, 미래 전략 등을 소개하고, 배터리·클린테크·바이오·정보기술(IT)부품 분야 글로벌 스타트업과 벤처캐피탈에 적극적으로 투자하고 협력할 의지를 밝혔다. LG테크놀로지벤처스로부터 투자를 받고 LG 계열사와 협력하고 있는 스타트업들의 협업 노하우를 전수하는 세션도 마련됐다. 새로운 폼팩터 디스플레이 개발에 도전하는 '브렐리온(Brelyon)'을 비롯해 '클래로티'와 '사우스 8 테크놀로지스' 등의 사례가 소개됐다.박일평 대표는 LG가 글로벌 전문가들과 머리를 맞대고 미래 유망 산업분야, 기술 등 트렌드에 대해서 논의하는 협의체 '이노베이션 카운실'과 유망 스타트업을 발굴·육성하는 플랫폼 '슈퍼스타트' 등 다양한 오픈 이노베이션 활동에 대해 설명했다.김동수 LG테크놀로지벤처스 대표는 \"LG테크놀로지벤처스는 지난 5년간 LG 각 계열사들의 신성장 동력 확보를 위한 전초 기지 역할을 해왔다\"며 \"글로벌 유망 스타트업과 교류를 확대하면서 LG만의 개방형 혁신을 실현할 수 있도록 노력하겠다\"고 말했다.hoya0222@fnnews.com 김동호 기자\n",
      "ÀÓÁ¤È¯ ±âÀÚ yom724@munhwa.com¼Ç, LGÀÌ³ëÅØÀº º°µµ ¼¼¼ÇÀ» ¸¶·ÃÇØ °¢°¢ È¸»çÀÇ »ç¾÷ÇöÈ²°ú ±â¼ú, ¹Ì·¡ Àü·« µîÀ» ¼Ò°³ÇÏ°í ¹èÅÍ¸®, Å¬¸°Å×Å©, ¹ÙÀÌ¿À, IT ºÎÇ° ºÐ¾ß ±Û·Î¹ú ½ºÅ¸Æ®¾÷°ú º¥Ã³Ä³ÇÇÅÐ¿¡ ´ëÇÑ ÅõÀÚ ¹× Çù·Â ¹æÇâÀ» °øÀ¯Çß´Ù. LG ¿ÀÇÂ ÀÌ³ëº£ÀÌ¼ÇÀÇ °ÅÁ¡ ¿ªÇÒÀ» ÇÏ´Â ¹ÚÀÏÆò LG»çÀÌ¾ð½ºÆÄÅ© ´ëÇ¥´Â LG°¡ ±Û·Î¹ú Àü¹®°¡µé°ú ¸Ó¸®¸¦ ¸Â´ë°í ¹Ì·¡ À¯¸Á »ê¾÷ ºÐ¾ß, ±â¼ú µî Æ®·»µå¸¦ ³íÀÇÇÏ´Â ÇùÀÇÃ¼ ¡®ÀÌ³ëº£ÀÌ¼Ç Ä«¿î½Ç¡¯°ú À¯¸Á ½ºÅ¸Æ®¾÷À» ¹ß±¼¡¤À°¼ºÇÏ´Â ÇÃ·§Æû ¡®½´ÆÛ½ºÅ¸Æ®¡¯ µîÀÇ ¿ÀÇÂ ÀÌ³ëº£ÀÌ¼Ç È°µ¿À» ¼³¸íÇß´Ù. LGÅ×Å©³î·ÎÁöº¥Ã³½º·ÎºÎÅÍ ÅõÀÚ¸¦ ¹Þ°í LG °è¿­»ç¿Í Çù·ÂÇÏ°í ÀÖ´Â ½ºÅ¸Æ®¾÷µéÀÇ Çù¾÷ ³ëÇÏ¿ì¸¦ Àü¼öÇÏ´Â ¼¼¼Çµµ ¸¶·ÃÇß´Ù. »õ·Î¿î ÆûÆÑÅÍ µð½ºÇÃ·¹ÀÌ °³¹ß¿¡ µµÀüÇÏ´Â ¡®ºê·¼¸®¿Â¡¯À» ºñ·ÔÇØ »çÀÌ¹ö º¸¾È ¼Ö·ç¼ÇÀ» °³¹ßÇÏ´Â ¡®Å¬·¡·ÎÆ¼¡¯, °í¼º´É ¹èÅÍ¸®¿ë ¾×È­°¡½º ÀüÇØÁúÀ» ¿¬±¸ÇÏ´Â ¡®»ç¿ì½º 8 Å×Å©³î·ÎÁö½º¡¯ µîÀÌ ¼Ò°³µÆ´Ù. ±èµ¿¼ö(»çÁø) LGÅ×Å©³î·ÎÁöº¥Ã³½º ´ëÇ¥´Â ¡°Áö³­ 5³â°£ LG °¢ °è¿­»çÀÇ ½Å¼ºÀå µ¿·Â È®º¸¸¦ À§ÇÑ ÀüÃÊ ±âÁö ¿ªÇÒÀ» ÇØ¿Â LGÅ×Å©³î·ÎÁöº¥Ã³½º´Â ±Û·Î¹ú À¯¸Á ½ºÅ¸Æ®¾÷°ú ±³·ù¸¦ È®´ëÇÏ¸é¼­ LG¸¸ÀÇ °³¹æÇü Çõ½ÅÀ» ½ÇÇöÇÒ ¼ö ÀÖµµ·Ï ³ë·ÂÇÏ°Ú´Ù¡±°í ¸»Çß´Ù.  \n",
      "30번째 기사:LG가 지난 26일(현지시간)부터 이틀간 미국 실리콘밸리에서 글로벌 스타트업, 벤처캐피탈과 함께하는 벤처 네트워킹 행사를 열고, 스타트업 혁신 생태계 확대를 통한 미래 성장 동력 확보에 나섰다고 28일 밝혔다.이번 행사는 LG의 기업형 벤처캐피탈(CVC)인 LG테크놀로지벤처스가 처음으로 개최했다. 지난 5년 간의 투자 성과와 LG의 벤처 투자 전략을 알리고 스타트업에 투자 유치와 교류 협력의 기회를 제공하기 위해서다. LG전자, LG화학, LG에너지솔루션, LG디스플레이, LG이노텍, LG유플러스, LG CNS 등 7개 계열사와 LG사이언스파크, 그리고 이들 회사들이 투자했거나 투자 검토 중인 스타트업, 글로벌 벤처캐피탈 등 총 140여 개사의 CEO 등 주요 관계자 240여 명이 참석했다.특히, LG 계열사들의 CTO(최고기술책임자), CSO(최고전략책임자) 등 핵심 경영진이 대거 출동했다. 박일평 LG사이언스파크 사장(대표), 김병훈 LG전자 부사장(CTO), 신영준 LG에너지솔루션 부사장(CTO), 윤수영 LG디스플레이 부사장(CTO), 문혁수·강민석 LG이노텍 부사장(CSO·CTO), 민경화 LG화학 전무(IP 총괄), 전은경 LG CNS 상무(융합기술연구소장), 김성묵 LG유플러스 담당(전략투자담당) 등이 참석했다.LG화학, LG에너지솔루션, LG이노텍은 별도 세션을 마련해 각 회사의 사업현황과 기술, 미래 전략 등을 소개했다. 배터리, 클린테크, 바이오, IT부품 분야 글로벌 스타트업과 벤처캐피탈에 적극적으로 투자하고 협력할 의지도 밝혔다. LG 오픈 이노베이션의 거점 역할을 하고 있는 LG사이언스파크의 박일평 대표는 LG가 글로벌 전문가들과 머리를 맞대고 미래 유망 산업분야, 기술 등 트렌드에 대해서 논의하는 협의체 ‘이노베이션 카운실’과 유망 스타트업을 발굴·육성하는 플랫폼 ‘슈퍼스타트’ 등 다양한 오픈 이노베이션 활동을 설명하는 자리를 가졌다.LG테크놀로지벤처스로부터 투자를 받고 LG 계열사와 협력하고 있는 스타트업들의 협업 노하우를 전수하는 세션도 마련했다. 새로운 폼팩터 디스플레이 개발에 도전하는 ‘브렐리온’을 비롯해, 사이버 보안 솔루션을 개발하는 ‘클래로티’, 고성능 배터리용 액화가스 전해질을 연구하는 ‘사우스 8 테크놀로지스’ 등이 소개됐다.이 밖에도 LG는 스타트업들의 제품·서비스를 시연하고 소개할 수 있는 전시 공간을 마련해 참석자들이 투자 유치와 협력 방안에 대해서 논의할 수 있도록 했다.LG테크놀로지벤처스는 LG가 주요 사업과의 시너지를 낼 수 있거나 미래 성장 동력이 될 수 있는 혁신 기술을 보유한 글로벌 스타트업을 발굴하기 위해 지난 2018년 5월 미국 실리콘밸리에 설립했다.김동수 LG테크놀로지벤처스 대표는 “지난 5년간 LG 각 계열사들의 신성장 동력 확보를 위한 전초 기지 역할을 해온 LG테크놀로지벤처스는 글로벌 유망 스타트업과 교류를 확대하면서 LG만의 개방형 혁신을 실현할 수 있도록 노력하겠다”고 말했다.김민지 기자\n",
      "31번째 기사:LG°¡ 26ÀÏ(ÇöÁö½Ã°£)ºÎÅÍ ÀÌÆ²°£ ¹Ì±¹ ½Ç¸®ÄÜ¹ë¸®¿¡¼­ °³ÃÖÇÑ 'LG ¿ÀÇÂ ÀÌ³ëº£ÀÌ¼Ç ¼­¹Ô'¿¡¼­ LGÅ×Å©³î·ÎÁöº¥Ã³½º, ½ºÅ¸Æ®¾÷ ¹× º¥Ã³Ä³ÇÇÅ» °ü°èÀÚµéÀÌ ÆÐ³Î Åä·ÐÀ» ÁøÇàÇÏ°í ÀÖ´Ù. LG Á¦°øLG´Â Áö³­ 26ÀÏ(ÇöÁö½Ã°£)ºÎÅÍ ÀÌÆ²°£ ¹Ì±¹ ½Ç¸®ÄÜ¹ë¸®¿¡¼­ ±Û·Î¹ú ½ºÅ¸Æ®¾÷, º¥Ã³Ä³ÇÇÅÐ°ú ÇÔ²²ÇÏ´Â º¥Ã³ ³×Æ®¿öÅ· Çà»ç 'LG ¿ÀÇÂ ÀÌ³ëº£ÀÌ¼Ç ¼­¹Ô'À» ¿­°í, ½ºÅ¸Æ®¾÷ Çõ½Å »ýÅÂ°è È®´ë¸¦ ÅëÇÑ ¹Ì·¡ ¼ºÀå µ¿·Â È®º¸¿¡ ³ª¼¹´Ù°í 28ÀÏ ¹àÇû´Ù.ÀÌ¹ø Çà»ç´Â LGÀÇ ±â¾÷Çü º¥Ã³Ä³ÇÇÅÐ(CVC)ÀÎ LGÅ×Å©³î·ÎÁöº¥Ã³½º°¡ Ã³À½À¸·Î °³ÃÖÇÑ °ÍÀ¸·Î LGÀüÀÚ, LGÈ­ÇÐ, LG¿¡³ÊÁö¼Ö·ç¼Ç, LGµð½ºÇÃ·¹ÀÌ, LGÀÌ³ëÅØ, LGÀ¯ÇÃ·¯½º, LG CNS µî 7°³ °è¿­»ç¿Í LG»çÀÌ¾ð½ºÆÄÅ©, ±×¸®°í ÀÌµé È¸»ç°¡ ÅõÀÚÇß°Å³ª ÅõÀÚ °ËÅä ÁßÀÎ ½ºÅ¸Æ®¾÷, ±Û·Î¹ú º¥Ã³Ä³ÇÇÅÐ µî 140¿©°³»çÀÇ CEO µî ÁÖ¿ä °ü°èÀÚ 240¿©¸íÀÌ Âü¼®Çß´Ù.LGÅ×Å©³î·ÎÁöº¥Ã³½º´Â LG°¡ ÁÖ¿ä »ç¾÷°úÀÇ ½Ã³ÊÁö¸¦ ³¾ ¼ö ÀÖ°Å³ª ¹Ì·¡ ¼ºÀå µ¿·ÂÀÌ µÉ ¼ö ÀÖ´Â Çõ½Å ±â¼úÀ» º¸À¯ÇÑ ±Û·Î¹ú ½ºÅ¸Æ®¾÷À» ¹ß±¼ÇÏ±â À§ÇØ 2018³â 5¿ù ¹Ì±¹ ½Ç¸®ÄÜ¹ë¸®¿¡ ¼³¸³ÇßÀ¸¸ç LG ÁÖ¿ä °è¿­»ç 7°÷ÀÌ ÃâÀÚÇÑ ÆÝµå¸¦ ¿î¿ëÇÏ°í ÀÖ´Ù. Áö³­ 5³â°£ ¹Ì±¹, Ä³³ª´Ù, ÀÌ½º¶ó¿¤, ½Ì°¡Æ÷¸£, Áß±¹, ÇÑ±¹ µî ±Û·Î¹ú ½ºÅ¸Æ®¾÷°ú º¥Ã³Ä³ÇÇÅÐ 60¿©°÷¿¡ ¾à 4000¾ï¿øÀ» ÅõÀÚÇß´Ù.ÀÌ¹ø Çà»ç´Â Áö³­ 5³â°£ÀÇ ÅõÀÚ ¼º°ú¿Í LGÀÇ º¥Ã³ ÅõÀÚ Àü·«À» ¾Ë¸®°í, ½ºÅ¸Æ®¾÷¿¡°Ô ÅõÀÚ À¯Ä¡¿Í ±³·ù Çù·ÂÀÇ ±âÈ¸¸¦ Á¦°øÇÏ±â À§ÇØ °³ÃÖµÆ´Ù. LG´Â °¢ °è¿­»çÀÇ »ç¾÷¹æÇâ°ú º¥Ã³ ÅõÀÚ Àü·«À» ¾Ë¸®°í ½Ç¸®ÄÜ¹ë¸® º¥Ã³ »ýÅÂ°è¿Í Á÷Á¢ ³×Æ®¿öÅ· ÇÏ¸é¼­ ¹Ì·¡ ¼ºÀåµ¿·Â ¹ß±¼À» À§ÇØ ¹ÚÀÏÆò LG»çÀÌ¾ð½ºÆÄÅ© »çÀå(´ëÇ¥)À» ºñ·ÔÇØ LGÀüÀÚ, LG¿¡³ÊÁö¼Ö·ç¼Ç, LGµð½ºÇÃ·¹ÀÌ, LGÀÌ³ëÅØ 4°³»çÀÇ CTO(ÃÖ°í±â¼úÃ¥ÀÓÀÚ)¿Í ÁÖ¿ä ÀÓ¿øµéÀÌ Çà»ç¿¡ Âü¿©Çß´Ù.LG°¡ ÀüÀÚ, È­ÇÐ, Åë½Å¡¤¼­ºñ½º µî ºÐ¾ß¿¡¼­ ´Ù¾çÇÑ »ç¾÷À» ¿µÀ§ÇÏ°í ÀÖ´Â ¸¸Å­, ¹Ì·¡ »ê¾÷ºÐ¾ß¿Í ½Å±â¼úÀ» °³Ã´ÇÏ°í ÀÖ´Â ½ºÅ¸Æ®¾÷À» ¹ß±¼ÇÏ°í, ÀÌµé°ú Çù·Â ÆÄÆ®³Ê°¡ µÉ ¼ö ÀÖ´Ù´Â °ÍÀ» °¢ »ç °æ¿µÁøµéÀÌ Á÷Á¢ ³ª¼­¼­ ¾Ë·È´Ù´Â µ¥ ÀÇ¹Ì°¡ Å©´Ù´Â ¼³¸íÀÌ´Ù.Æ¯È÷ LGÈ­ÇÐ, LG¿¡³ÊÁö¼Ö·ç¼Ç, LGÀÌ³ëÅØÀº º°µµ ¼¼¼ÇÀ» ¸¶·ÃÇØ °¢°¢ È¸»çÀÇ »ç¾÷ÇöÈ²°ú ±â¼ú, ¹Ì·¡ Àü·« µîÀ» ¼Ò°³ÇÏ°í, ¹èÅÍ¸®¡¤Å¬¸°Å×Å©¡¤¹ÙÀÌ¿À¡¤ITºÎÇ° ºÐ¾ß ±Û·Î¹ú ½ºÅ¸Æ®¾÷°ú º¥Ã³Ä³ÇÇÅ»¿¡ Àû±ØÀûÀ¸·Î ÅõÀÚÇÏ°í Çù·ÂÇÒ ÀÇÁö¸¦ ¹àÇû´Ù. ¹ÚÀÏÆò »çÀåÀº ÀÌ³ëº£ÀÌ¼Ç Ä«¿î½Ç°ú ½´ÆÛ½ºÅ¸Æ® µî LG°¡ ÁøÇàÇÏ´Â ´Ù¾çÇÑ ¿ÀÇÂ ÀÌ³ëº£ÀÌ¼Ç È°µ¿À» ¼³¸íÇß´Ù.¾Æ¿ï·¯ LG´Â LGÅ×Å©³î·ÎÁöº¥Ã³½º·ÎºÎÅÍ ÅõÀÚ¸¦ ¹Þ°í LG °è¿­»ç¿Í Çù·ÂÇÏ°í ÀÖ´Â ½ºÅ¸Æ®¾÷µéÀÇ Çù¾÷ ³ëÇÏ¿ì¸¦ Àü¼öÇÏ´Â ¼¼¼ÇÀ» ¸¶·ÃÇß´Ù. »õ·Î¿î ÆûÆÑÅÍ µð½ºÇÃ·¹ÀÌ °³¹ß¿¡ µµÀüÇÏ´Â 'ºê·¼¸®¿Â'À» ºñ·ÔÇØ, »çÀÌ¹ö º¸¾È ¼Ö·ç¼ÇÀ» °³¹ßÇÏ´Â 'Å¬·¡·ÎÆ¼', °í¼º´É ¹èÅÍ¸®¿ë ¾×È­°¡½º ÀüÇØÁúÀ» ¿¬±¸ÇÏ´Â '»ç¿ì½º 8 Å×Å©³î·ÎÁö½º' µîÀÌ ¼Ò°³µÆ´Ù. ¶Ç ½ºÅ¸Æ®¾÷µéÀÇ Á¦Ç°¡¤¼­ºñ½º¸¦ ½Ã¿¬ÇÏ°í ¼Ò°³ÇÒ ¼ö ÀÖ´Â Àü½Ã °ø°£À» ¸¶·ÃÇØ Âü¼®ÀÚµéÀÌ ÅõÀÚ À¯Ä¡¿Í Çù·Â ¹æ¾È¿¡ ´ëÇØ¼­ ³íÀÇÇÒ ¼ö ÀÖµµ·Ï Çß´Ù.ÇÑÆí ÀÌ¹ø Çà»ç¿¡ Âü¼®ÇÑ LG °ü°èÀÚµéÀº ½Ç¸®ÄÜ¹ë¸®¿¡ ¼ÒÀçÇÑ ÇÃ·¹ÀÌ±×¶ó¿îµå º¥Ã³½º, ·Î¹öÆ® º¸½¬ º¥Ã³Ä³ÇÇÅ», ½Ã¿¡¶ó º¥Ã³½º µî À¯¸í º¥Ã³Ä³ÇÇÅ»À» ¹æ¹®ÇØ ÀÌµéÀÇ ÀÎ»çÀÌÆ®¸¦ °øÀ¯¹Þ°í Çù·Â±âÈ¸¸¦ ³íÀÇÇß´Ù.±èµ¿¼ö LGÅ×Å©³î·ÎÁöº¥Ã³½º ´ëÇ¥´Â \"Áö³­ 5³â°£ LG °¢ °è¿­»çµéÀÇ ½Å¼ºÀå µ¿·Â È®º¸¸¦ À§ÇÑ ÀüÃÊ ±âÁö ¿ªÇÒÀ» ÇØ¿Ô´Ù\"¸ç \"±Û·Î¹ú À¯¸Á ½ºÅ¸Æ®¾÷°ú ±³·ù¸¦ È®´ëÇÏ¸é¼­ LG¸¸ÀÇ °³¹æÇü Çõ½ÅÀ» ½ÇÇöÇÒ ¼ö ÀÖµµ·Ï ³ë·ÂÇÏ°Ú´Ù\"°í ¸»Çß´Ù.ÀüÇýÀÎ±âÀÚ hye@dt.co.kr[ ÀúÀÛ±ÇÀÚ ¨ÏµðÁöÅÐÅ¸ÀÓ½º, ¹«´Ü ÀüÀç ¹× Àç¹èÆ÷ ±ÝÁö ]\n",
      "서울 여의도 LG 트윈타워 [사진=연합뉴스]#벤처캐피탈#CVC#LG좋아요1화나요0추천해요1기자 정보김수지sujiq@ajunews.com​포스코인터, 7년째 인도네시아서 '의료봉사' 전개​LG전자, 디지털 취약계층 접근성 높인 '키오스크' 출시기자의 다른 기사 보기기사제보 하기©'5개국어 글로벌 경제신문' 아주경제. 무단전재·재배포 금지\n",
      "33번째 기사:LG 주요 계열사 최고기술책임자(CTO)가 미국에 집결해 글로벌 스타트업, 벤처캐피탈과 함께 협업 생태계 조성에 나섰다. LG만의 개방형 혁신으로 미래 성장 동력을 확보한다는 구상이다.LG는 26~27일(현지시간) 미국 실리콘밸리에서 벤처 네트워킹 행사 ‘제1회 LG 오픈 이노베이션 서밋’을 열었다.\n",
      "34번째 기사:지난 5년 투자 성과 공유·LG벤터 투자 전략 공개사진 확대LG가 미국 현지시간 23년 6월 26일부터 이틀간 개최한 ‘LG 오픈 이노베이션 서밋’에서 LG테크놀로지벤처스, 스타트업 및 벤처캐피탈 관계자들이 패널 토론을 진행하고 있다.(좌측부터 박태준 LG테크놀로지벤처스 매니저, 임란 초드리(Imran Chaudhri) 휴메인(Humane) 대표, 니라브 킹스랜드(Neerav Kingsland) 앤트로픽(Anthropic) 제휴총괄,  마이클 스튜어드(Michael Steward) M12 파트너). [사진제공 = LG]  LG가 26일(현지시간)부터 이틀간 실리콘밸리에서 글로벌 스타트업, 벤처캐피탈과 함께하는 벤처 네트워킹 행사를 열고, 스타트업 혁신 생태계 확대를 통한 미래 성장 동력 확보에 나섰다.이번 행사는 LG의 기업형 벤처캐피탈(CVC)인 LG테크놀로지벤처스가 처음으로 개최한 것으로 LG전자, LG화학, LG에너지솔루션, LG디스플레이, LG이노텍, LG유플러스, LG CNS 등 7개 계열사와 LG사이언스파크, 그리고 이들 회사들이 투자했거나 투자 검토 중인 스타트업, 글로벌 벤처캐피탈 등 총 140여 개사의 CEO 등 주요 관계자 240여 명이 참석했다.LG테크놀로지벤처스는 LG가 주요 사업과의 시너지를 낼 수 있거나 미래 성장 동력이 될 수 있는 혁신 기술을 보유한 글로벌 스타트업을 발굴하기 위해 2018년 5월 미국 실리콘밸리에 설립했다. LG전자, LG화학, LG에너지솔루션, LG디스플레이, LG이노텍, LG유플러스, LG CNS 등 LG 주요 계열사 7곳이 출자한 펀드를 운용하고 있다. 지난 5년간 미국, 캐나다, 이스라엘, 싱가포르, 중국, 한국 등 글로벌 스타트업과 벤처캐피탈 60여 곳에 약 4000억 원을 투자했다.LG테크놀로지벤처스는 지난 5년 간의 투자 성과와 LG의 벤처 투자 전략을 알리고 스타트업에게 투자 유치와 교류 협력의 기회를 제공하기 위해 이번 행사를 개최했다.LG는 각 계열사의 사업방향과 벤처 투자 전략을 알리고 실리콘밸리 벤처 생태계와 직접 네트워킹 하면서 미래 성장동력 발굴을 위해 박일평 LG사이언스파크 사장(대표), 김병훈 LG전자 부사장(CTO), 신영준 LG에너지솔루션 부사장(CTO), 윤수영 LG디스플레이 부사장(CTO), 문혁수·강민석 LG이노텍 부사장(CSO, CTO), 민경화 LG화학 전무(IP(지식재산권)총괄), 전은경 LG CNS 상무(융합기술연구소장), 김성묵 LG유플러스 담당(전략투자담당) 등이 참석했다.LG가 전자, 화학, 통신/서비스 등 분야에서 다양한 사업을 영위하고 있는 만큼, 미래 산업분야와 신기술을 개척하고 있는 스타트업을 발굴하고, 이들과 협력 파트너가 될 수 있다는 것을 각 사 경영진들이 직접 나서서 알렸다는 데 의미가 크다.LG화학, LG에너지솔루션, LG이노텍은 별도 세션을 마련해 각각 회사의 사업현황과 기술, 미래 전략 등을 소개하고, 배터리, 클린테크, 바이오, IT부품 분야 글로벌 스타트업과 벤처캐피탈에 적극적으로 투자하고 협력할 의지를 밝혔다. LG 오픈 이노베이션의 거점 역할을 하고 있는 LG사이언스파크의 박일평 대표는 LG가 글로벌 전문가들과 머리를 맞대고 미래 유망 산업분야, 기술 등 트렌드에 대해서 논의하는 협의체 ‘이노베이션 카운실’과 유망 스타트업을 발굴·육성하는 플랫폼 ‘슈퍼스타트’ 등 다양한 오픈 이노베이션 활동을 설명하는 자리를 가졌다.LG는 LG테크놀로지벤처스로부터 투자를 받고 LG 계열사와 협력하고 있는 스타트업들의 협업 노하우를 전수하는 세션을 마련했다. 새로운 폼팩터 디스플레이 개발에 도전하는 ‘브렐리온(Brelyon)’을 비롯해, 사이버 보안 솔루션을 개발하는 ‘클래로티(Claroty)’, 고성능 배터리용 액화가스 전해질을 연구하는 ‘사우스 8 테크놀로지스(South 8 Technologies)’ 등이 소개됐다.LG는 지난 2021년 산업용 장비 보안솔루션 분야의 강자인 ‘클래로티’에 투자한 이후 ‘클래로티’의 제품과 솔루션을 적용한 구독형 서비스를 런칭했으며, 지난해에는 이 회사와 파트너십을 체결하고 여러 회사의 생산현장에 서비스를 적용해 오고 있다.‘사우스 8 테크놀로지스’와는 배터리 안정성 향상을 위한 액화가스 전해질 기반 배터리 개발에 협력하고 있으며, ‘브렐리온’은 LG디스플레이 OLED 패널을 사용해 확장형 무안경 3D모니터 제품을 개발하고 있다.이 밖에도, LG는 스타트업들의 제품/서비스를 시연하고 소개할 수 있는 전시 공간을 마련해 참석자들이 투자 유치와 협력 방안에 대해서 논의할 수 있도록 했다.이번 ‘LG 오픈 이노베이션 서밋’에 참석한 LG 관계자들은 행사 1일차에 실리콘밸리에 소재하고 있는 ‘플레이그라운드 벤처스(Playground Ventures)’, ‘로버트 보쉬 벤처캐피탈(Robert Bosch Venture Capital)’, ‘시에라 벤처스(Sierra Ventures)’ 등 유명 벤처캐피탈을 방문해 이들의 인사이트를 공유받고 협력기회를 논의했다.LG테크놀로지벤처스 김동수 대표는 “지난 5년간 LG 각 계열사들의 신성장 동력 확보를 위한 전초 기지 역할을 해온 LG테크놀로지벤처스는 글로벌 유망 스타트업과 교류를 확대하면서 LG만의 개방형 혁신을 실현할 수 있도록 노력하겠다”고 강조했다.\n"
     ]
    },
    {
     "ename": "AttributeError",
     "evalue": "'NoneType' object has no attribute 'text'",
     "output_type": "error",
     "traceback": [
      "\u001b[1;31m---------------------------------------------------------------------------\u001b[0m",
      "\u001b[1;31mAttributeError\u001b[0m                            Traceback (most recent call last)",
      "Cell \u001b[1;32mIn[61], line 1\u001b[0m\n\u001b[1;32m----> 1\u001b[0m add_news_content(df,\u001b[39m0\u001b[39;49m,\u001b[39mlen\u001b[39;49m(df))\n",
      "Cell \u001b[1;32mIn[60], line 10\u001b[0m, in \u001b[0;36madd_news_content\u001b[1;34m(df, start_id, end_id)\u001b[0m\n\u001b[0;32m      8\u001b[0m \u001b[39mif\u001b[39;00m response\u001b[39m.\u001b[39mstatus_code \u001b[39m==\u001b[39m \u001b[39m200\u001b[39m:\n\u001b[0;32m      9\u001b[0m     soup \u001b[39m=\u001b[39m bs(response\u001b[39m.\u001b[39mtext, \u001b[39m'\u001b[39m\u001b[39mhtml.parser\u001b[39m\u001b[39m'\u001b[39m)\n\u001b[1;32m---> 10\u001b[0m     content \u001b[39m=\u001b[39m news_crawling(press,soup)\n\u001b[0;32m     11\u001b[0m     \u001b[39mprint\u001b[39m(\u001b[39mf\u001b[39m\u001b[39m\"\u001b[39m\u001b[39m{\u001b[39;00mi\u001b[39m}\u001b[39;00m\u001b[39m번째 기사:\u001b[39m\u001b[39m{\u001b[39;00mcontent[\u001b[39m0\u001b[39m]\u001b[39m.\u001b[39mstrip()\u001b[39m}\u001b[39;00m\u001b[39m\"\u001b[39m)\n\u001b[0;32m     12\u001b[0m     df\u001b[39m.\u001b[39mloc[df\u001b[39m.\u001b[39mindex\u001b[39m==\u001b[39mi,\u001b[39m\"\u001b[39m\u001b[39m본문\u001b[39m\u001b[39m\"\u001b[39m]\u001b[39m=\u001b[39mcontent[\u001b[39m0\u001b[39m]\u001b[39m.\u001b[39mstrip()\n",
      "Cell \u001b[1;32mIn[58], line 23\u001b[0m, in \u001b[0;36mnews_crawling\u001b[1;34m(press, soup)\u001b[0m\n\u001b[0;32m     21\u001b[0m     news_content \u001b[39m=\u001b[39m crawling_donga(soup),\n\u001b[0;32m     22\u001b[0m \u001b[39melif\u001b[39;00m press \u001b[39m==\u001b[39m \u001b[39m\"\u001b[39m\u001b[39m조선일보\u001b[39m\u001b[39m\"\u001b[39m:\n\u001b[1;32m---> 23\u001b[0m     news_content \u001b[39m=\u001b[39m crawling_chosun(soup),\n\u001b[0;32m     24\u001b[0m \u001b[39melif\u001b[39;00m press \u001b[39m==\u001b[39m \u001b[39m\"\u001b[39m\u001b[39m중앙일보\u001b[39m\u001b[39m\"\u001b[39m:\n\u001b[0;32m     25\u001b[0m     news_content \u001b[39m=\u001b[39m crawling_joonang(soup),\n",
      "Cell \u001b[1;32mIn[14], line 3\u001b[0m, in \u001b[0;36mcrawling_chosun\u001b[1;34m(soup)\u001b[0m\n\u001b[0;32m      1\u001b[0m \u001b[39mdef\u001b[39;00m \u001b[39mcrawling_chosun\u001b[39m(soup):\n\u001b[0;32m      2\u001b[0m     news \u001b[39m=\u001b[39m soup\u001b[39m.\u001b[39mfind(\u001b[39m'\u001b[39m\u001b[39msection\u001b[39m\u001b[39m'\u001b[39m,attrs\u001b[39m=\u001b[39m{\u001b[39m\"\u001b[39m\u001b[39mclass\u001b[39m\u001b[39m\"\u001b[39m:\u001b[39m\"\u001b[39m\u001b[39marticle-body\u001b[39m\u001b[39m\"\u001b[39m})\n\u001b[1;32m----> 3\u001b[0m     news \u001b[39m=\u001b[39m news\u001b[39m.\u001b[39;49mtext\n\u001b[0;32m      5\u001b[0m     \u001b[39mreturn\u001b[39;00m news\n",
      "\u001b[1;31mAttributeError\u001b[0m: 'NoneType' object has no attribute 'text'"
     ]
    }
   ],
   "source": [
    "add_news_content(df,0,len(df))"
   ]
  },
  {
   "cell_type": "code",
   "execution_count": null,
   "metadata": {},
   "outputs": [],
   "source": [
    "df.to_excel(\"./테스트데이터/news_contents_crawling_DH.excel\")"
   ]
  },
  {
   "cell_type": "code",
   "execution_count": null,
   "metadata": {},
   "outputs": [],
   "source": []
  }
 ],
 "metadata": {
  "kernelspec": {
   "display_name": "Python 3",
   "language": "python",
   "name": "python3"
  },
  "language_info": {
   "codemirror_mode": {
    "name": "ipython",
    "version": 3
   },
   "file_extension": ".py",
   "mimetype": "text/x-python",
   "name": "python",
   "nbconvert_exporter": "python",
   "pygments_lexer": "ipython3",
   "version": "3.10.9"
  },
  "orig_nbformat": 4
 },
 "nbformat": 4,
 "nbformat_minor": 2
}
