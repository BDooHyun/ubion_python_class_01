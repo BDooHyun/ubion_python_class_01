{
 "cells": [
  {
   "cell_type": "code",
   "execution_count": 242,
   "metadata": {},
   "outputs": [],
   "source": [
    "import pandas as pd\n",
    "import requests\n",
    "\n",
    "from bs4 import BeautifulSoup as bs\n",
    "\n",
    "import warnings\n",
    "warnings.filterwarnings('ignore')"
   ]
  },
  {
   "cell_type": "code",
   "execution_count": 243,
   "metadata": {},
   "outputs": [],
   "source": [
    "df = pd.read_csv(\"./정제데이터(두현).csv\")"
   ]
  },
  {
   "cell_type": "code",
   "execution_count": 244,
   "metadata": {},
   "outputs": [],
   "source": [
    "def crawling_asia(soup):\n",
    "    news = soup.find('div',attrs={\"class\":\"article fb-quotable\"})\n",
    "    news = news.find_all('p')\n",
    "    b_news = \"\"\n",
    "    for n in news:\n",
    "        b_news+=n.text\n",
    "    news = b_news.replace(\"\\xa0\",\"\")\n",
    "    news = news.replace(\"\\n\",\"\")\n",
    "\n",
    "    return news"
   ]
  },
  {
   "cell_type": "code",
   "execution_count": 245,
   "metadata": {},
   "outputs": [],
   "source": [
    "def crawling_k_eco(soup):\n",
    "    news = soup.find('div',attrs={\"class\":\"article-body\"})\n",
    "    news = news.text.replace(\"\\n\",\"\")\n",
    "    news = news.replace(\"    \",\"\")\n",
    "    return news"
   ]
  },
  {
   "cell_type": "code",
   "execution_count": 246,
   "metadata": {},
   "outputs": [],
   "source": [
    "def crawling_maeil_eco(soup):\n",
    "    news = soup.find('div',attrs={\"class\":\"news_cnt_detail_wrap\"})\n",
    "    news = news.text.replace(\"\\n\",\"\")\n",
    "    news = news.replace(\"    \",\"\")\n",
    "    \n",
    "    return news"
   ]
  },
  {
   "cell_type": "code",
   "execution_count": 247,
   "metadata": {},
   "outputs": [],
   "source": [
    "def crawling_herald(soup):\n",
    "    news = soup.find('div',attrs={\"class\":\"article_view\"})\n",
    "    news = news.find_all('p')\n",
    "    b_news = \"\"\n",
    "    for n in news:\n",
    "        b_news+=n.text\n",
    "    news = b_news.replace(\"\\xa0\",\"\")\n",
    "    news = news.replace(\"\\n\",\"\")\n",
    "\n",
    "    return news"
   ]
  },
  {
   "cell_type": "code",
   "execution_count": 248,
   "metadata": {},
   "outputs": [],
   "source": [
    "def crawling_financial(soup):\n",
    "    news = soup.find('div',attrs={\"class\":\"cont_art\"})\n",
    "    news = news.text.replace(\"\\n\",\"\")\n",
    "    news = news.replace(\"\\t\",\"\")\n",
    "    \n",
    "    return news"
   ]
  },
  {
   "cell_type": "code",
   "execution_count": 249,
   "metadata": {},
   "outputs": [],
   "source": [
    "def crawling_money_today(soup):\n",
    "    news = soup.find('div',attrs={\"id\":\"textBody\"})\n",
    "    news = news.text.replace(\"\\n\",\"\").strip()\n",
    "    news = news.replace(\"/\",\"\")\n",
    "    \n",
    "    return news"
   ]
  },
  {
   "cell_type": "code",
   "execution_count": 250,
   "metadata": {},
   "outputs": [],
   "source": [
    "def crawling_segye(soup):\n",
    "    news = soup.find('div',attrs={\"id\":\"article_txt\"})\n",
    "    news = news.find_all('p')\n",
    "    b_news = \"\"\n",
    "    for n in news:\n",
    "        b_news+=n.text\n",
    "    news = b_news.replace(\"\\xa0\",\"\")\n",
    "    \n",
    "    return news"
   ]
  },
  {
   "cell_type": "code",
   "execution_count": 251,
   "metadata": {},
   "outputs": [],
   "source": [
    "def crawling_ytn(soup):\n",
    "    news = soup.find('div',attrs={\"class\":\"article\"})\n",
    "    news = news.text.replace(\"\\n\",\"\")\n",
    "    \n",
    "    return news"
   ]
  },
  {
   "cell_type": "code",
   "execution_count": 252,
   "metadata": {},
   "outputs": [],
   "source": [
    "def crawling_seoul_eco(soup):\n",
    "    news = soup.find('div',attrs={\"class\":\"article_view\"})\n",
    "    news = news.text\n",
    "    news = news.replace(\"\\n\",\"\").strip()\n",
    "    \n",
    "    return news"
   ]
  },
  {
   "cell_type": "code",
   "execution_count": 253,
   "metadata": {},
   "outputs": [],
   "source": [
    "def crawling_donga(soup):\n",
    "    news = soup.find('div',attrs={\"id\":\"article_txt\"})\n",
    "    news = news.text.replace(\"\\n\",\" \")\n",
    "\n",
    "    return news"
   ]
  },
  {
   "cell_type": "code",
   "execution_count": 254,
   "metadata": {},
   "outputs": [],
   "source": [
    "def crawling_chosun(soup):\n",
    "    news = soup.find('section',attrs={\"class\":\"article-body\"})\n",
    "    news = news.text\n",
    "\n",
    "    return news"
   ]
  },
  {
   "cell_type": "code",
   "execution_count": 255,
   "metadata": {},
   "outputs": [],
   "source": [
    "def crawling_joonang(soup):\n",
    "    news = soup.find('div',attrs={\"class\":\"article_body fs3\"})\n",
    "    news = news.find_all('p')\n",
    "    b_news = \"\"\n",
    "    for n in news:\n",
    "        b_news+=n.text\n",
    "    news = b_news.replace(\"  \",\"\")\n",
    "\n",
    "    return news"
   ]
  },
  {
   "cell_type": "code",
   "execution_count": 256,
   "metadata": {},
   "outputs": [],
   "source": [
    "def crawling_seoul(soup):\n",
    "    news = soup.find('div',attrs={\"class\":\"S20_v_article\"})\n",
    "    news = news.text.replace(\"\\n\",\"\")\n",
    "\n",
    "    return news"
   ]
  },
  {
   "cell_type": "code",
   "execution_count": 257,
   "metadata": {},
   "outputs": [],
   "source": [
    "def crawling_aju(soup):\n",
    "    news = soup.find('div',attrs={\"class\":\"article_con\"})\n",
    "    news = news.text.replace(\"\\n\",\"\")\n",
    "    news = news.replace(\"\\xa0\",\"\")\n",
    "\n",
    "    return news"
   ]
  },
  {
   "cell_type": "code",
   "execution_count": 258,
   "metadata": {},
   "outputs": [],
   "source": [
    "def crawling_digital_times(soup):\n",
    "    news = soup.find('div',attrs={\"class\":\"article_view\"})\n",
    "    news = news.text.replace(\"\\n\",\"\")\n",
    "    \n",
    "    return news"
   ]
  },
  {
   "cell_type": "code",
   "execution_count": 259,
   "metadata": {},
   "outputs": [],
   "source": [
    "def crawling_kukmin(soup):\n",
    "    news = soup.find('div',attrs={\"class\":\"tx\"})\n",
    "    news = news.text.replace(\"\\n\",\"\")\n",
    "    news = news.replace(\"\\t\",\"\")\n",
    "\n",
    "    return news"
   ]
  },
  {
   "cell_type": "code",
   "execution_count": 260,
   "metadata": {},
   "outputs": [],
   "source": [
    "def crawling_kyunghyang(soup):\n",
    "    news = soup.find_all('p',attrs={\"class\":\"content_text text-l\"})\n",
    "    b_news = \"\"\n",
    "    for n in news:\n",
    "        b_news+=n.text\n",
    "    news = b_news\n",
    "    \n",
    "    return news"
   ]
  },
  {
   "cell_type": "code",
   "execution_count": 261,
   "metadata": {},
   "outputs": [],
   "source": [
    "def crawling_kbs(soup):\n",
    "    news = soup.find_all('div',attrs={\"class\":\"detail-body font-size\"})\n",
    "    b_news = \"\"\n",
    "    for n in news:\n",
    "        b_news+=n.text\n",
    "    news = b_news.replace(\"\\n\",\"\")\n",
    "    news = news.replace(\"\\t\",\"\")\n",
    "    \n",
    "    return news"
   ]
  },
  {
   "cell_type": "code",
   "execution_count": 262,
   "metadata": {},
   "outputs": [],
   "source": [
    "def crawling_hankyoreh(soup):\n",
    "    news = soup.find('div',attrs={\"class\":\"text\"})\n",
    "    b_news = \"\"\n",
    "    for n in news:\n",
    "        b_news+=n.text\n",
    "    news = b_news.replace(\"\\n\",\"\")\n",
    "    news = news.replace(\"\\t\",\"\")\n",
    "    \n",
    "    return news"
   ]
  },
  {
   "cell_type": "code",
   "execution_count": 263,
   "metadata": {},
   "outputs": [],
   "source": [
    "def crawling_korea(soup):\n",
    "    news = soup.find('div',attrs={\"class\":\"end-body\"})\n",
    "    news = news.find('div',attrs={\"class\":\"col-main\"})\n",
    "    news = news.find_all('p', attrs={\"class\":\"editor-p\"})\n",
    "    b_news = \"\"\n",
    "    for n in news:\n",
    "        b_news+=n.text\n",
    "    news = b_news.replace(\"\\xa0\",\"\")\n",
    "    news = news.replace(\"\\n\",\"\")\n",
    "\n",
    "    return news"
   ]
  },
  {
   "cell_type": "code",
   "execution_count": 264,
   "metadata": {},
   "outputs": [],
   "source": [
    "def crawling_busan(soup):\n",
    "    news = soup.find('div',attrs={\"class\":\"article_content\"})\n",
    "    news = news.find_all('p')\n",
    "    b_news = \"\"\n",
    "    for n in news:\n",
    "        b_news+=n.text\n",
    "    news = b_news.replace(\"\\n\",\"\")\n",
    "    \n",
    "    return news"
   ]
  },
  {
   "cell_type": "code",
   "execution_count": 265,
   "metadata": {},
   "outputs": [],
   "source": [
    "def crawling_munhwa(soup):\n",
    "    news = soup.find('div',attrs={\"class\":\"article News_content\"})\n",
    "    news = news.text.replace(\"\\n\",\"\")\n",
    "    \n",
    "    return news"
   ]
  },
  {
   "cell_type": "code",
   "execution_count": 266,
   "metadata": {},
   "outputs": [],
   "source": [
    "def crawling_joongboo_daily(soup):\n",
    "    news = soup.find('article',attrs={\"class\":\"article-veiw-body view-page font-size19\"})\n",
    "    news = news.find('p')\n",
    "    news = news.text.replace(\"\\n\",\"\")\n",
    "    \n",
    "    return news"
   ]
  },
  {
   "cell_type": "code",
   "execution_count": 267,
   "metadata": {},
   "outputs": [],
   "source": [
    "def crawling_etnews(soup):\n",
    "    news = soup.find('div',attrs={\"class\":\"article_txt\"})\n",
    "    news = news.find('p')\n",
    "    news = news.text.replace(\"\\n\",\"\")\n",
    "    \n",
    "    return news"
   ]
  },
  {
   "cell_type": "code",
   "execution_count": 268,
   "metadata": {},
   "outputs": [],
   "source": [
    "def crawling_kyeongin(soup):\n",
    "    news = soup.find('div',attrs={\"class\":\"view_txt clearfix\"})\n",
    "    news = news.find_all('p')\n",
    "    b_news = \"\"\n",
    "    for n in news:\n",
    "        b_news+=n.text\n",
    "    news = b_news.replace(\"\\n\",\"\")\n",
    "    \n",
    "    return news"
   ]
  },
  {
   "cell_type": "code",
   "execution_count": 269,
   "metadata": {},
   "outputs": [],
   "source": [
    "def crawling_sbs(soup):\n",
    "    news = soup.find('div',attrs={\"class\":\"text_area\"})\n",
    "    news = news.text.replace(\"\\n\",\"\")\n",
    "    \n",
    "    return news"
   ]
  },
  {
   "cell_type": "code",
   "execution_count": 270,
   "metadata": {},
   "outputs": [],
   "source": [
    "def crawling_kyeonggi(soup):\n",
    "    news = soup.find('div',attrs={\"class\":\"article_cont_wrap\"})\n",
    "    news = news.find_all('p')\n",
    "    b_news = \"\"\n",
    "    for n in news:\n",
    "        b_news+=n.text\n",
    "    news = b_news.replace(\"\\n\",\"\")\n",
    "    news = news.replace(\"\\u2008\",\"\")\n",
    "    news = news.replace(\"\\xa0\",\"\")\n",
    "    \n",
    "    return news"
   ]
  },
  {
   "cell_type": "code",
   "execution_count": 271,
   "metadata": {},
   "outputs": [],
   "source": [
    "def crawling_mbc(soup):\n",
    "    news = soup.find('div',attrs={\"class\":\"news_txt\"})\n",
    "    news = news.text.replace(\"\\n\",\"\").strip()\n",
    "    \n",
    "    return news"
   ]
  },
  {
   "cell_type": "code",
   "execution_count": 272,
   "metadata": {},
   "outputs": [],
   "source": [
    "def crawling_naeil(soup):\n",
    "    news = soup.find('div',attrs={\"class\":\"article\"})\n",
    "    news = news.text.replace(\"\\n\",\"\")\n",
    "    \n",
    "    return  news"
   ]
  },
  {
   "cell_type": "code",
   "execution_count": 273,
   "metadata": {},
   "outputs": [],
   "source": [
    "def crawling_obs(soup):\n",
    "    news = soup.find('article',attrs={\"id\":\"article-view-content-div\"})\n",
    "    news = news.find('p')\n",
    "    b_news = \"\"\n",
    "    for n in news:\n",
    "        b_news+=n.text\n",
    "    news = b_news.replace(\"\\n\",\"\")\n",
    "    \n",
    "    return news"
   ]
  },
  {
   "cell_type": "code",
   "execution_count": 274,
   "metadata": {},
   "outputs": [],
   "source": [
    "def crawling_maeil(soup):\n",
    "    news = soup.find('div',attrs={\"id\":\"articlebody\"})\n",
    "    news = news.find_all('p')\n",
    "    b_news = \"\"\n",
    "    for n in news:\n",
    "        b_news+=n.text\n",
    "    news = b_news.replace(\"\\n\",\"\").strip()\n",
    "    \n",
    "    return news"
   ]
  },
  {
   "cell_type": "code",
   "execution_count": 275,
   "metadata": {},
   "outputs": [],
   "source": [
    "def crawling_ihalla(soup):\n",
    "    news = soup.find('div',attrs={\"class\":\"article_txt\"})\n",
    "    news = news.text.replace(\"'\",'\"')\n",
    "    \n",
    "    return news"
   ]
  },
  {
   "cell_type": "code",
   "execution_count": 276,
   "metadata": {},
   "outputs": [],
   "source": [
    "def crawling_gangwon(soup):\n",
    "    news = soup.find('div',attrs={\"id\":\"articlebody\"})\n",
    "    news = news.find_all('p')\n",
    "    b_news = \"\"\n",
    "    for n in news:\n",
    "        b_news+=n.text\n",
    "    news = b_news\n",
    "    \n",
    "    return news"
   ]
  },
  {
   "cell_type": "code",
   "execution_count": 277,
   "metadata": {},
   "outputs": [],
   "source": [
    "def crawling_daejon(soup):\n",
    "    news = soup.find('article',attrs={\"id\":\"article-view-content-div\"})\n",
    "    news = news.find_all('p')\n",
    "    b_news = \"\"\n",
    "    for n in news:\n",
    "        b_news+=n.text\n",
    "    news = b_news.replace(\"\\n\",\"\")\n",
    "    news = news.replace(\"\\xa0\",\"\")\n",
    "    \n",
    "    return news"
   ]
  },
  {
   "cell_type": "code",
   "execution_count": 278,
   "metadata": {},
   "outputs": [],
   "source": [
    "def crawling_joongdo(soup):\n",
    "    news = soup.find('div',attrs={\"class\":\"left_text_box font-size03\"})\n",
    "    news = news.text.replace(\"\\n\",\"\")\n",
    "    news = news.replace(\"\\xa0\",\"\")\n",
    "    \n",
    "    return news"
   ]
  },
  {
   "cell_type": "code",
   "execution_count": 279,
   "metadata": {},
   "outputs": [],
   "source": [
    "def crawling_yeongnam(soup):\n",
    "    news = soup.find('div',attrs={\"class\":\"article-news-body font-size03\"})\n",
    "    news = news.find_all('p')\n",
    "    b_news = \"\"\n",
    "    for n in news:\n",
    "        b_news+=n.text\n",
    "    news = b_news.replace(\"\\n\",\"\")\n",
    "    news = news.replace(\"\\xa0\",\"\")\n",
    "    \n",
    "    return news"
   ]
  },
  {
   "cell_type": "code",
   "execution_count": 280,
   "metadata": {},
   "outputs": [],
   "source": [
    "def crawling_kyeongnam_domin(soup):\n",
    "    news = soup.find('div',attrs={\"id\":\"article-view-content-div\"})\n",
    "    news = news.find_all('p')\n",
    "    b_news = \"\"\n",
    "    for n in news:\n",
    "        b_news+=n.text\n",
    "    news = b_news.replace(\"\\n\",\"\")\n",
    "    news = b_news.replace(\"/\",\"\")\n",
    "    news = news.replace(\"\\xa0\",\"\")\n",
    "    \n",
    "    return news"
   ]
  },
  {
   "cell_type": "code",
   "execution_count": 281,
   "metadata": {},
   "outputs": [],
   "source": [
    "def crawling_kookje(soup):\n",
    "    news = soup.find('div',attrs={\"class\":\"news_article\"})\n",
    "    news = news.text.replace(\"\\n\",\"\")\n",
    "    news = news.replace(\"\\t\",\"\")\n",
    "    \n",
    "    return news"
   ]
  },
  {
   "cell_type": "code",
   "execution_count": 282,
   "metadata": {},
   "outputs": [],
   "source": [
    "def crawling_jeonnam(soup):\n",
    "    news = soup.find('div',attrs={\"id\":\"content\"})\n",
    "    news = news.text.replace(\"\\n\",\"\")\n",
    "    \n",
    "    return news"
   ]
  },
  {
   "cell_type": "code",
   "execution_count": 283,
   "metadata": {},
   "outputs": [],
   "source": [
    "def crawling_kyeongsang(soup):\n",
    "    news = soup.find('article',attrs={\"id\":\"article-view-content-div\"})\n",
    "    news = news.find_all('p')\n",
    "    b_news = \"\"\n",
    "    for n in news:\n",
    "        b_news+=n.text\n",
    "    news = b_news.replace(\"\\n\",\"\")\n",
    "    news = news.replace(\"/\",\"\")\n",
    "    news = news.replace(\"\\xa0\",\"\")\n",
    "    \n",
    "    return news"
   ]
  },
  {
   "cell_type": "code",
   "execution_count": 284,
   "metadata": {},
   "outputs": [],
   "source": [
    "def crawling_gangwon_domin(soup):\n",
    "    news = soup.find('article',attrs={\"id\":\"article-view-content-div\"})\n",
    "    news = news.find_all('p')\n",
    "    b_news = \"\"\n",
    "    for n in news:\n",
    "        b_news+=n.text\n",
    "    news = b_news.replace(\"\\n\",\"\")\n",
    "\n",
    "    return news"
   ]
  },
  {
   "cell_type": "code",
   "execution_count": 285,
   "metadata": {},
   "outputs": [],
   "source": [
    "def crawling_joongboo(soup):\n",
    "    news = soup.find('article',attrs={\"id\":\"article-view-content-div\"})\n",
    "    news = news.find_all('p')\n",
    "    b_news = \"\"\n",
    "    for n in news:\n",
    "        b_news+=n.text\n",
    "    news = b_news.replace(\"\\n\",\"\")\n",
    "\n",
    "    return news"
   ]
  },
  {
   "cell_type": "code",
   "execution_count": 286,
   "metadata": {},
   "outputs": [],
   "source": [
    "def crawling_ulsan(soup):\n",
    "    news = soup.find('article',attrs={\"id\":\"article-view-content-div\"})\n",
    "    news = news.find_all('p')\n",
    "    b_news = \"\"\n",
    "    for n in news:\n",
    "        b_news+=n.text\n",
    "    news = b_news.replace(\"\\n\",\"\")\n",
    "    news = news.replace(\"\\xa0\",\"\")\n",
    "    \n",
    "    return news"
   ]
  },
  {
   "cell_type": "code",
   "execution_count": 287,
   "metadata": {},
   "outputs": [],
   "source": [
    "def crawling_mdilbo(soup):\n",
    "    news = soup.find('div',attrs={\"class\":\"article_view\"})\n",
    "    news = news.find_all('p')\n",
    "    b_news = \"\"\n",
    "    for n in news:\n",
    "        b_news+=n.text\n",
    "    news = b_news.replace(\"\\n\",\"\")\n",
    "    news = news.replace(\"\\'\",\"\")\n",
    "    \n",
    "    return news"
   ]
  },
  {
   "cell_type": "code",
   "execution_count": 288,
   "metadata": {},
   "outputs": [],
   "source": [
    "def crawling_gwangju_daily(soup):\n",
    "    news = soup.find('div',attrs={\"id\":\"content\"})\n",
    "    news = news.text.replace(\"\\n\",\"\")\n",
    "    \n",
    "    return news"
   ]
  },
  {
   "cell_type": "code",
   "execution_count": 289,
   "metadata": {},
   "outputs": [],
   "source": [
    "def crawling_chungbuk(soup):\n",
    "    news = soup.find('div',attrs={\"class\":\"article\"})\n",
    "    news = news.text.replace(\"\\n\",\"\")\n",
    "    \n",
    "    return news"
   ]
  },
  {
   "cell_type": "code",
   "execution_count": 290,
   "metadata": {},
   "outputs": [],
   "source": [
    "def crawling_chungcheong(soup):\n",
    "    news = soup.find('article',attrs={'id':\"article-view-content-div\"})\n",
    "    news = news.text.replace(\"\\n\",\"\")\n",
    "    news = news.replace(\"\\xa0\",\"\")\n",
    "    \n",
    "    return news"
   ]
  },
  {
   "cell_type": "code",
   "execution_count": 291,
   "metadata": {},
   "outputs": [],
   "source": [
    "def crawling_gwangju(soup):\n",
    "    news = soup.find('div',attrs={'id':\"joinskmbox\"})\n",
    "    news = news.text.replace(\"\\n\",\"\")\n",
    "    news = news.replace(\"\\xa0\",\"\")\n",
    "    \n",
    "    return news"
   ]
  },
  {
   "cell_type": "code",
   "execution_count": 292,
   "metadata": {},
   "outputs": [],
   "source": [
    "def crawling_daegu(soup):\n",
    "    news = soup.find('div',attrs={'class':\"content\"})\n",
    "    news = news.text.replace(\"\\n\",\"\")\n",
    "    news = news.replace(\"\\xa0\",\"\")\n",
    "    \n",
    "    return news"
   ]
  },
  {
   "cell_type": "code",
   "execution_count": 293,
   "metadata": {},
   "outputs": [],
   "source": [
    "def crawling_jeonbuk(soup):\n",
    "    news = soup.find('div',attrs={\"class\":\"article_txt_container\"})\n",
    "    news = news.find_all('p')\n",
    "    b_news = \"\"\n",
    "    for n in news:\n",
    "        b_news+=n.text\n",
    "    news = b_news.replace(\"\\n\",\"\")\n",
    "    news = news.replace(\"\\xa0\",\"\")\n",
    "\n",
    "    return news"
   ]
  },
  {
   "cell_type": "code",
   "execution_count": 294,
   "metadata": {},
   "outputs": [],
   "source": [
    "def crawling_jeonbuk_domin(soup):\n",
    "    news = soup.find('div',attrs={'id':\"article-view-content-div\"})\n",
    "    news = news.text.replace(\"\\n\",\"\")\n",
    "    news = news.replace(\"\\xa0\",\"\")\n",
    "    \n",
    "    return news"
   ]
  },
  {
   "cell_type": "code",
   "execution_count": 295,
   "metadata": {},
   "outputs": [],
   "source": [
    "def crawling_chungcheong_today(soup):\n",
    "    news = soup.find('article',attrs={'id':\"article-view-content-div\"})\n",
    "    news = news.text.replace(\"\\n\",\"\")\n",
    "    news = news.replace(\"\\xa0\",\"\")\n",
    "    \n",
    "    return news"
   ]
  },
  {
   "cell_type": "code",
   "execution_count": 296,
   "metadata": {},
   "outputs": [],
   "source": [
    "def crawling_jemin(soup):\n",
    "    news = soup.find('article',attrs={'id':\"article-view-content-div\"})\n",
    "    news = news.text.replace(\"\\n\",\"\")\n",
    "    news = news.replace(\"\\xa0\",\"\")\n",
    "    \n",
    "    return news"
   ]
  },
  {
   "cell_type": "code",
   "execution_count": 297,
   "metadata": {},
   "outputs": [],
   "source": [
    "def crawling_kyeongnam(soup):\n",
    "    news = soup.find('li',attrs={'id':\"content_li\"})\n",
    "    news = news.text.replace(\"\\n\",\"\")\n",
    "    news = news.replace(\"\\xa0\",\"\")\n",
    "    \n",
    "    return news"
   ]
  },
  {
   "cell_type": "code",
   "execution_count": 298,
   "metadata": {},
   "outputs": [],
   "source": [
    "def news_crawling(press, soup):\n",
    "    if press == \"아시아경제\":\n",
    "        news_content = crawling_asia(soup),\n",
    "    elif press == \"한국경제\":\n",
    "        news_content = crawling_k_eco(soup),\n",
    "    elif press == \"매일경제\":\n",
    "        news_content = crawling_maeil_eco(soup),\n",
    "    elif press == \"헤럴드경제\":\n",
    "        news_content = crawling_herald(soup),\n",
    "    elif press == \"파이낸셜뉴스\":\n",
    "        news_content = crawling_financial(soup),\n",
    "    elif press == \"머니투데이\":\n",
    "        news_content = crawling_money_today(soup),\n",
    "    elif press == \"세계일보\":\n",
    "        news_content = crawling_segye(soup),\n",
    "    elif press == \"YTN\":\n",
    "        news_content = crawling_ytn(soup),\n",
    "    elif press == \"서울경제\":\n",
    "        news_content = crawling_seoul_eco(soup),\n",
    "    elif press == \"동아일보\":\n",
    "        news_content = crawling_donga(soup),\n",
    "    elif press == \"조선일보\":\n",
    "        news_content = crawling_chosun(soup),\n",
    "    elif press == \"중앙일보\":\n",
    "        news_content = crawling_joonang(soup),\n",
    "    elif press == \"서울신문\":\n",
    "        news_content = crawling_seoul(soup),\n",
    "    elif press == \"아주경제\":\n",
    "        news_content = crawling_aju(soup),\n",
    "    elif press == \"디지털타임스\":\n",
    "        news_content = crawling_digital_times(soup),\n",
    "    elif press == \"국민일보\":\n",
    "        news_content = crawling_kukmin(soup),\n",
    "    elif press == \"경향신문\":\n",
    "        news_content = crawling_kyunghyang(soup),\n",
    "    elif press == \"KBS\":\n",
    "        news_content = crawling_kbs(soup),\n",
    "    elif press == \"한겨레\":\n",
    "        news_content = crawling_hankyoreh(soup),\n",
    "    elif press == \"한국일보\":\n",
    "        news_content = crawling_korea(soup),\n",
    "    elif press == \"부산일보\":\n",
    "        news_content = crawling_busan(soup),\n",
    "    elif press == \"문화일보\":\n",
    "        news_content = crawling_munhwa(soup),\n",
    "    elif press == \"중부일보\":\n",
    "        news_content = crawling_joongboo_daily(soup),\n",
    "    elif press == \"전자신문\":\n",
    "        news_content = crawling_etnews(soup),\n",
    "    elif press == \"경인일보\":\n",
    "        news_content = crawling_kyeongin(soup),\n",
    "    elif press == \"SBS\":\n",
    "        news_content = crawling_sbs(soup),\n",
    "    elif press == \"경기일보\":\n",
    "        news_content = crawling_kyeonggi(soup),\n",
    "    elif press == \"MBC\":\n",
    "        news_content = crawling_mbc(soup),\n",
    "    elif press == \"내일신문\":\n",
    "        news_content = crawling_naeil(soup),\n",
    "    elif press == \"OBS\":\n",
    "        news_content = crawling_obs(soup),\n",
    "    elif press == \"매일신문\":\n",
    "        news_content = crawling_maeil(soup),\n",
    "    elif press == \"한라일보\":\n",
    "        news_content = crawling_ihalla(soup),\n",
    "    elif press == \"강원일보\":\n",
    "        news_content = crawling_gangwon(soup),\n",
    "    elif press == \"대전일보\":\n",
    "        news_content = crawling_daejon(soup),\n",
    "    elif press == \"중도일보\":\n",
    "        news_content = crawling_joongdo(soup),\n",
    "    elif press == \"영남일보\":\n",
    "        news_content = crawling_yeongnam(soup),\n",
    "    elif press == \"경남도민일보\":\n",
    "        news_content = crawling_kyeongnam_domin(soup),\n",
    "    elif press == \"국제신문\":\n",
    "        news_content = crawling_kookje(soup),\n",
    "    elif press == \"전남일보\":\n",
    "        news_content = crawling_jeonnam(soup),\n",
    "    elif press == \"경상일보\":\n",
    "        news_content = crawling_kyeongsang(soup),\n",
    "    elif press == \"강원도민일보\":\n",
    "        news_content = crawling_gangwon_domin(soup),\n",
    "    elif press == \"중부매일\":\n",
    "        news_content = crawling_joongboo(soup),\n",
    "    elif press == \"울산매일\":\n",
    "        news_content = crawling_ulsan(soup),\n",
    "    elif press == \"무등일보\":\n",
    "        news_content = crawling_mdilbo(soup),\n",
    "    elif press == \"광주매일신문\":\n",
    "        news_content = crawling_gwangju_daily(soup),\n",
    "    elif press == \"충북일보\":\n",
    "        news_content = crawling_chungbuk(soup),\n",
    "    elif press == \"충청일보\":\n",
    "        news_content = crawling_chungcheong(soup),\n",
    "    elif press == \"광주일보\":\n",
    "        news_content = crawling_gwangju(soup),\n",
    "    elif press == \"대구일보\":\n",
    "        news_content = crawling_daegu(soup),\n",
    "    elif press == \"전북일보\":\n",
    "        news_content = crawling_jeonbuk(soup),\n",
    "    elif press == \"전북도민일보\":\n",
    "        news_content = crawling_jeonbuk_domin(soup),\n",
    "    elif press == \"충청투데이\":\n",
    "        news_content = crawling_chungcheong_today(soup),\n",
    "    elif press == \"제민일보\":\n",
    "        news_content = crawling_jemin(soup),\n",
    "    elif press == \"경남신문\":\n",
    "        news_content = crawling_kyeongnam(soup)\n",
    "    else:\n",
    "        print(\"해당하는 언론사가 없습니다.\")\n",
    "\n",
    "    return news_content\n"
   ]
  },
  {
   "cell_type": "code",
   "execution_count": 299,
   "metadata": {},
   "outputs": [],
   "source": [
    "df[\"본문\"]=\"\""
   ]
  },
  {
   "cell_type": "code",
   "execution_count": 300,
   "metadata": {},
   "outputs": [],
   "source": [
    "def add_news_content(df, start_id, end_id):\n",
    "    for i in range(start_id, end_id):\n",
    "        press = df.iloc[i][\"언론사\"]\n",
    "        url = df.iloc[i][\"URL\"]\n",
    "\n",
    "        response = requests.get(url)\n",
    "\n",
    "        if response.status_code == 200:\n",
    "            soup = bs(response.text, 'html.parser')\n",
    "            content = news_crawling(press,soup)\n",
    "            print(f\"{i}번째 기사:{content[0].strip()}\")\n",
    "            df.loc[df.index==i,\"본문\"]=content[0].strip()\n",
    "        else:\n",
    "            continue        \n",
    "\n",
    "    return df"
   ]
  },
  {
   "cell_type": "code",
   "execution_count": 301,
   "metadata": {},
   "outputs": [
    {
     "name": "stdout",
     "output_type": "stream",
     "text": [
      "0번째 기사:[이미지출처=연합뉴스][아시아경제 유현석 기자] 아시아나항공이 박삼구 전 금호아시아그룹 회장과 기내식 공급 계약을 체결한 스위스 게이트그룹 경영진을 고소했다.1일 투자은행(IB)과 항공업계에 따르면 아시아나항공은 지난 3월 서울중앙지검에 게이트 그룹과 전 경영진을 배임 혐의로 고소했다.박 전 회장은 게이트 그룹에 30년동안 최소 순이익을 보장해주는 등 아시아나항공에 일방적으로 불리한 약정으로 기내식 공급 계약을 체결한 것으로 조사됐다. 그는 기내식 사업권 매각 대가로 게이트 그룹이 부실 계열사의 신주인수권부사채를 인수하도록 한 혐의를 받는고 있다.아시아나항공은 게이트 그룹이 박 전 회방의 배임 혐의와 관련해 공모한 것으로 판단했다. 또 아시아나는 기내식 공급 계약 무효 민사 소송도 법원에 제기한 것으로 알려졌다.박 전 회장은 아시아나항공의 30년치 기내식 독점 사업권을 스위스 게이트 그룹 계열사에 1333억원에 저가 매각한 혐의(특정경제범죄가중처벌법상 배임) 등으로 기소돼 재판을 받고 있다.아시아나항공 관계자는 \"지난 3월 게이트고메그룹 경영진 등을 고소한 것은 사실\"이라며 \"다만 현재 고소 진행 중인 사안이라 공식적인 입장을 밝히기 어렵다\"고 설명했다.업계는 계약이 무효가 되지 않으면 대한항공이 아시아나항공 통합을 완료한 뒤에도 기내식 사업 순이익을 게이트 그룹에 보장해줘야 할 것으로 예상하고 있다<ⓒ경제를 보는 눈, 세계를 보는 창 아시아경제(www.asiae.co.kr) 무단전재 배포금지>\n",
      "1번째 기사:â² ìììëí­ê³µ A350ìììëí­ê³µì´ ë°ì¼êµ¬ ì  ê¸í¸ìììëê·¸ë£¹ íì¥ê³¼ ê¸°ë´ì ê³µê¸ ê³ì½ì ì²´ê²°í ì¤ìì¤ ê²ì´í¸ ê·¸ë£¹ ê²½ìì§ì ê³ ì ì¡°ì¹íë¤.1ì¼ ìê³ì ë°ë¥´ë©´ ìììëí­ê³µì ì§ë 3ì ìì¸ì¤ìì§ê²ì ì¤ìì¤ ê²ì´í¸ ê·¸ë£¹ ì  ê²½ìì§ì ë°°ì íìë¡ ê³ ìíë¤.ìì ë° ì  íì¥ì ìììëí­ê³µì 30ëì¹ ê¸°ë´ì ëì  ì¬ìê¶ì ì¤ìì¤ ê²ì´í¸ ê·¸ë£¹ ê³ì´ì¬ì 1333ìµìì ì ê° ë§¤ê°í íì(í¹ì ê²½ì ë²ì£ê°ì¤ì²ë²ë²ì ë°°ì) ë±ì¼ë¡ ê¸°ìëë¤. ê²ì°° ì¡°ì¬ ê²°ê³¼ ë° ì  íì¥ì ê²ì´í¸ ê·¸ë£¹ì 30ëëì ìµì ìì´ìµì ë³´ì¥í´ì£¼ë ë± ìììëí­ê³µì ì¼ë°©ì ì¼ë¡ ë¶ë¦¬í ì½ì ì¼ë¡ ê¸°ë´ì ê³µê¸ ê³ì½ì ì²´ê²°í ê²ì¼ë¡ ì¡°ì¬ëë¤. ëìê° ê¸°ë´ì ì¬ìê¶ì ë§¤ê°íë ëê°ë¡ ê²ì´í¸ ê·¸ë£¹ì´ ë¶ì¤ ê³ì´ì¬ì ì ì£¼ì¸ìê¶ë¶ì¬ì±(BW)ë¥¼ ì¸ìíëë¡ í íìë ìë¤.ìììëí­ê³µì ê²ì´í¸ ê·¸ë£¹ì´ ë° ì  íì¥ì ë°°ì íìì ê´ë ¨í´ ê³µëª¨í ê²ì¼ë¡ íë¨íê³  ê³ ì ì¡°ì¹ë¥¼ ì·¨íë¤. ìììëí­ê³µì ê¸°ë´ì ê³µê¸ ê³ì½ ë¬´í¨ ë¯¼ì¬ ìì¡ë ë²ìì ì ê¸°í ê²ì¼ë¡ ìë ¤ì¡ë¤. ê³ì½ì´ ë¬´í¨ê° ëì§ ìì¼ë©´ ëíí­ê³µì´ ìììëí­ê³µì íµí©í ì´íìë ê¸°ë´ì ì¬ì ìì´ìµì ê²ì´í¸ ê·¸ë£¹ì ë³´ì¥í´ì¤ì¼ í  ê°ë¥ì±ì´ í¬ê¸° ëë¬¸ì´ë¤.ëìí ê¸°ì\n",
      "2번째 기사:아시아나항공이 박삼구 전 금호아시아나그룹 회장과 기내식 공급 계약을 체결한 스위스 게이트 그룹 경영진을 고소했다.1일 업계에 따르면 아시아나항공은 지난 3월 서울중앙지검에 스위스 게이트 그룹전 경영진을 배임 혐의로 고소했다.박 전 회장은 2016년 아시아나항공의 30년치 기내식 독점 사업권을 게이트 그룹 계열사에 1333억원에 저가 매각한 혐의(특정경제범죄가중처벌법상 배임) 등으로 기소돼 재판을 받고 있다.검찰은 박 전 회장이게이트 그룹에 30년간최소 순이익을 보장해주는 등 아시아나항공에 일방적으로 불리한 약정으로 기내식 공급 계약을 체결한 것으로 보고 수사 중인 것으로 알려졌다.아시아나항공은 기내식 사업권 매각 대가로 게이트 그룹이 부실 계열사의 신주인수권부사채(BW) 16000억원을 인수했다고 주장하며 기내식 공급 계약 무효 소송도 제기한 것으로 전해졌다.계약이 무효가 되지 않으면 대한항공이 아시아나항공 통합이후에도게이트 그룹의 기내식 사업 순이익 보장을 위해 계약이 만료되는 2047년까지 상당 부분 손실을 부담해야 할 것이란 관측도 나온다.[ⓒ 세계일보 & Segye.com, 무단전재 및 재배포 금지]\n",
      "3번째 기사:[헤럴드경제] 아시아나항공이 박삼구 전 금호아시아나그룹 회장과 기내식 공급 계약을 체결한 스위스 게이트 그룹 경영진을 고소했다.1일 업계에 따르면 아시아나항공은 지난 3월 서울중앙지검에 스위스 게이트 그룹 전 경영진을 배임 혐의로 고소했다.박 전 회장은 아시아나항공의 30년치 기내식 독점 사업권을 스위스 게이트 그룹 계열사에 1333억원에 저가 매각한 혐의(특정경제범죄가중처벌법상 배임) 등으로 기소돼 재판을 받고 있다.박 전 회장은 게이트 그룹에 30년 동안 최소 순이익을 보장해주는 등 아시아나항공에 불리한 약정으로 기내식 공급 계약을 체결한 것으로 조사됐다. 그는 기내식 사업권 매각 대가로 게이트 그룹이 부실 계열사의 신주인수권부사채를 인수하도록 한 혐의를 받는다.아시아나항공은 게이트 그룹이 박 전 회장의 배임 혐의와 관련해 공모한 것으로 판단했다. 아시아나항공은 기내식 공급 계약 무효 민사 소송도 법원에 제기한 것으로 알려졌다.업계에서는 계약이 무효가 되지 않으면 대한항공이 아시아나항공 통합을 완료한 뒤에도 기내식 사업 순이익을 게이트 그룹에 보장해줘야 할 것으로 보고 있다.\n",
      "5번째 기사:올해 공군 베테랑 조종사 60명이 민간항공사로 이직한 것으로 확인됐다. 신종 코로나바이러스 감염증(코로나19) 여파로 항공수요가 줄면서 급감했던 이직자가 다시 늘어나는 추세다. 2일 국회 국방위원회 소속인 국민의힘 강대식 의원이 공군본부로부터 제출받은 자료에 따르면 올해 4월까지 대한항공 채용에 공군 조종사 80여명이 지원해 그 중 60명이 합격했다. 이 중 전투기 조종사는 47명, 수송기 조종사는 13명이었다. 기종별로는 우리 주력 기종인 F-16 전투기(24명)가 가장 많았고, F-5 전투기(16명)가 뒤를 이었다. 이들은 대한항공 교육 기간을 고려해 연내 순차 전역할 예정이다. 공군 조종사들의 민항사 이직은 매년 100~130명에 달했다. 2017년 107명, 2018년 133명, 2019년 125명, 2020년 113명으로 증감을 반복하다 지난해 7명(대한항공 6명, 아시아나항공 1명)으로 크게 줄었다. 코로나19 장기화로 항공 운항이 줄면서 민항사 채용 규모도 큰 폭으로 축소됐기 때문이다. 공군의 숙련급 조종사는 임관 8~17년차 조종 장교로 일선 부대에서 독자적 작전 수행이 가능하다. 여행업계가 활기를 띠기 시작한 2000년대 중반부터 숙련급 조종사들의 이탈이 가속화됐다. 2020년 공군 설문조사에 따르면 조종사들은 이직 사유로 가족과의 별거, 자녀 교육, 경제적 사정, 과도한 임무 스트레스 등을 꼽았다. 현재 공군사관학교 출신은 15년, 비공사는 10년(2015년 7월 이후 임관은 13년) 의무복무기간만 채우면 언제든 전역이 가능하다. 공군은 10년차 베테랑 조종사 1명을 양성하기 위한 교육 및 훈련비용으로 기종별 55~210억 원가량이 투입되고 있는 것으로 추산했다. 공군은 “향후 유출이 더 늘어날 경우 조종인력 부족으로 인한 업무부담이 가중될 수 있다”고 우려하며 현재 국방부에서 항공수당 인상 등을 검토 중이라고 밝혔다. 한편 매년 100여 명의 조종사가 전역하면서 인사적체가 일부 해소되는 긍정적인 측면이 있다는 시선도 있다.김경희 기자 amator@joongang.co.kr\n",
      "/ 성홍규기자K하이닉스 청주캠퍼스에 납품되고 있다.LOHAS) 인증을 받은 고품질 쌀이기도 하다.도록 생산된다. 생겨 기쁘다\"며 \"앞으로도 철저한 생산·품질 관리를 통해 소비자에게 양질의 쌀을 생산·공급할 수 있도록 노력하겠다\"고 밝혔다.\n",
      " 베테랑 육성에 최대 200억… 공군 조종사 부족 우려 뉴스1올해 공군 베테랑 조종사 60명이 민간항공사로 이직한 것으로 확인됐다. 매년 100~130명에 달했던 조종사들의 민항사 이직은 신종 코로나바이러스 감염증(코로나19) 여파로 지난해 7명으로 급감했다. 그러던 게 올해 들어 지난해 대비 8.6배 급증한 것이다. 2일 국민의힘 강대식 의원이 공군본부로부터 제출받은 자료에 따르면 올해 4월까지 대한항공 채용에 공군 조종사 80명이 지원해 그 중 60명이 합격했다. 이들은 연내 순차 전역할 예정이다. 전투기, 수송기 조종사가 각각 47명과 13명이었다. 기종별로는 우리 주력 기종인 F-16 전투기(23명)가 가장 많았고, F-5 전투기(16명)가 뒤를 이었다. 2017년 107명, 2018년 133명, 2019년 125명, 2020년 113명으로 증감을 반복하던 공군 조종사 이직자수는 지난해 7명(대한항공 6명, 아시아나항공 1명)으로 크게 줄었다. 코로나19 장기화로 줄어든 항공수요 탓에 민항사 채용 규모가 큰 폭으로 줄었기 때문이다.     공군의 숙련급 조종사는 임관 8~17년차 조종 장교로 일선 부대에서 독자적 작전 수행이 가능하다. 2000년대 중반 여행업계 호황으로 항공시장이 급성장하면서 숙련급 조종사들의 이탈이 가속화됐다. 공군에 따르면 조종사들은 이직 사유로 가족과의 별거, 자녀 교육, 경제적 사정, 과도한 임무 스트레스 등을 꼽았다. 현재 공군사관학교 출신은 15년, 비공사는 10년(2015년 7월 이후 임관은 13년) 의무복무기간만 채우면 언제든 전역이 가능하다. 공군은 1인당 수십억 원을 들여 양성한 조종사들의 유출이 가속화될 수 있다는 점을 우려하고 있다. 공군은 “향후 유출이 더 늘어날 경우 조종인력 부족으로 인한 업무부담이 가중될 수 있다”고 우려했다. 공군은 10년차 조종사 1명을 양성하는데 교육 및 훈련비용으로만 기종별 55~210억 원가량이 투입되고 있는 것으로 보고 있다. 다만 일각에선 매년 100여 명의 조종사가 전역하면서 인사적체가 해소된다는 점에서 꼭 부정적으로만 볼 필요가 없다는 시선도 있다.신규진 기자 newjin@donga.com       신규진 기자 동아일보 정치부 newjin@donga.com   정치부에서 국방부를 출입하고 있습니다. 수능 5개월 앞두고 ‘시험 난이도’ 혼란교육부 “수능 출제기관 감사… 모의평가, 교육과정 벗어나” 구독     좋아요 이미지좋아요 슬퍼요 이미지슬퍼요 화나요 이미지화나요   공유 이미지공유 기사추천 이미지기사추천    공유하기   닫기      Copyright ⓒ 동아일보 & donga.com\n",
      "8번째 기사:우리나라 민항 여객기의 미주 취항이 4월 19일로 50주년을 맞았다. 대한항공은 지난 1972년 4월 19일 서울~LA 노선 첫 운항을 시작으로 이후 50년 동안 미주 주요 도시를 취항하며 국가 간 경제, 문화 교류의 핵심 역할을 수행해왔다. 4월 18일 오후(현지시간) 에릭 가세티 LA 시장은 50년 간의 공로에 대한 감사의 의미로 대한항공에 감사패를 전달했다. 대한항공은 1972년 4월 19일 오후 5시 19분, 보잉707 제트 항공기로 김포공항을 출발해 도쿄, 하와이를 거쳐 LA까지 운항하는 태평양 횡단 첫 여객기 운항을 시작했다. 이는  대한민국 역사상 최초 태평양 상공의 여객기 취항이었다. 당시 항공기의 중간 목적지인 하와이 호놀룰루 공항과 최종 목적지인 LA 공항에는 수천 명의 인파가 몰려 태극기를 흔들며 대한항공 보잉707 항공기와 승무원을 환영했다. 태극마크를 단 항공기를 본 교민들은 감격의 눈물을 흘리기도 했다. 해외교류가 극히 드물던 시절 대한항공은 이역만리 떨어진 LA 동포들에게 고국의 소식을 전해주는 전령사였으며, 고국에 대한 동경과 자부심을 느끼게 하는 매개체였다. 1972년 첫 미주 취항 이래 50년 동안 대한항공의 미주 노선은 비약적으로 성장해왔다. 대한항공의 미주 취항 도시는 당시 LA, 하와이 두 곳 뿐이었으나 현재는 13개 도시로 확대되었고, 미주 노선 연간 수송인원은 지난 1972년 4만3800여 명에서 코로나19 이전인 2019년 기준 약 300 만 명으로 69배 증가했다. 첫 미주노선에는 171석 규모의 보잉707 항공기가 투입되었으며, 서울~도쿄~하와이를 거쳐 LA까지 총 비행시간이 17시간에 달할 정도로 긴 여정이었다. 50년이 지난 현재 대한항공은 보잉787, 보잉777 등 신형 중장거리용 항공기를  미주노선에 투입하고 있다. LA 직항 노선 개설로 비행시간이 11시간으로 줄어들며 승객 편의도 크게 향상되었다. 대한항공이 미주 노선에 첫 발을 내디딘 이후 50년간 대한항공의 노선망은 한·미 양국의 인적·물적 교류를 잇는 디딤돌 역할을 하고 있다. 이를 통해 양국의 사회·문화적 교류가 활발해지는 한편 미국 내 경제적인 부가가치 창출에도 큰 영향을 끼친 바 있다. 대한항공은 2019년 기준으로 미국 13개 노선에 여객편과 화물편을 운항하며 1만1000 명의 직·간접적 고용효과, 연관 산업에서 연 1억1000만 달러 규모의 부가가치를 창출했다. 뿐만 아니라 코로나19 이전인 2019년 대한항공을 이용해 미국을 방문한 한국인 승객은 연간 기준 약 111만 명에 달해, 이 승객들이 미국 내에서 소비한 금액은 연간 4억 달러로 추정된다. 또한 로스앤젤레스와 뉴욕 JFK 공항에 위치한 대한항공의 전용 화물 터미널은 미국 동부와 서부의 항공 물류 교두보 역할을 톡톡히 수행하고 있다. 이를 종합해볼 때 지난 50년간 대한항공이 미국 내에서 약 10만 명의 직·간접적 고용을 유발했고, 연간 170억달러의 경제적 효과를 창출해냈다는 평가다. 대한항공은 미주 노선 취항을 계기로 지속적인 성장을 거듭해 오늘날 43개국 120개 도시에 취항하는 글로벌 항공사로 거듭났다. 특히, 2000년에는 미국의 대표 항공사인 델타항공과 아에로멕시코, 에어프랑스와 함께 세계 최고의 항공 동맹체인 ‘스카이팀’ 결성을 주도한 바 있으며, 2018년에는 국내 최초로 델타항공과 태평양 노선 조인트 벤처를 시행하기도 했다. 이를 통해 미주 내 290여 개 도시와 아시아 내 80여 개 도시를 유기적으로 연결하며 고객들에게 더욱 편리하고 다양한 스케줄을 제공할 수 있게 되었다. 대한항공은 코로나19라는 글로벌 항공업계의 유례없는 위기 속에서도 탁월한 성과를 인정받고 있다. 지난 해, 미국 에어 트랜스포트 월드로 부터 항공업계 오스카상으로 불리는 ‘올해의 항공사’에 선정된 바 있으며, 연이어 ‘올해의 화물항공사’로 선정되어 글로벌 위상을 더욱 공고히 해나가고 있다.‘서명수 기자’ seo.myongsoo@joongang.co.kr\n",
      "다만 이 단장은 추후 신속항원검사를 적극 활용하는 방안을 언급했다. 그는 \"국내외 상황을 종합적으로 검토해 해외 입국객 증가, 방역상황과 검사 수용 가능성 등을 고려, 현재의 PCR 검사를 항원검사로 대체하거나 또는 병행하는 안도 같이 검토하고 있다\"고 설명했다.허용해야 한다\"고 주장했다. 우기홍 대한상공회의소 관광산업위원장(대한항공 대표이사 사장)도 PCR 검사 규정을 풀어달라고 요청했다.\n",
      "ÀÌ½ÂÁÖ ±âÀÚ sj@munhwa.com¾Æ³ªÇ×°øÀÇ Àúºñ¿ëÇ×°ø»ç(LCC) Áø¿¡¾î¿Í ¿¡¾îºÎ»ê, ¿¡¾î¼­¿ï µîÀÌ ÃÖ±Ù ¸ù°ñ ³ë¼±À» ¹èºÐ¹ÞÁö ¸øÇÑ °Í¿¡ ´ëÇØ ¾Æ½¬¿òÀ» ³»ºñÃÆ´Ù. ±×´Â ¡°LCC ÀÔÀå¿¡¼­ ³ë¼±À» ¹ÞÁö ¸øÇßÀ¸´Ï ¾Æ½±Áö ¾Ê°Ú³ª¡±¶ó¸ç ¡°¾ÆÁ÷ ¾Æ½Ã¾Æ³ªÇ×°ø°úÀÇ ±â¾÷ °áÇÕ ½ÂÀÎÀ» ¹ÞÀº °Íµµ ¾Æ´Ï°í LCCµµ Á¤¸®°¡ µÇÁö ¾Ê¾Ò±â ¶§¹®¿¡ ¾ÕÀ¸·Î ¹èºÐµÉ ³ë¼±ÀÌ »ý±â¸é ÀÌ·± ÀÔÀå µîÀ» °í·ÁÇØ ±¹Åä±³ÅëºÎ¿¡¼­ ³ë¼±À» ¹èºÐÇØÁáÀ¸¸é ÁÁ°Ú´Ù¡±°í Çß´Ù. ¹Ì±¹ 2À§ Ç×°ø»çÀÎ À¯³ªÀÌÆ¼µåÇ×°øÀº ¹Ì °æÀï ´ç±¹¿¡ ´ëÇÑÇ×°ø°ú ¾Æ½Ã¾Æ³ªÇ×°ø ÇÕº´¿¡ ´ëÇÑ ¹®Á¦¸¦ Á¦±âÇÑ °ÍÀ¸·Î ÀüÇØÁ³´Ù. ´ëÇÑÇ×°øÀº ¹ÌÁÖ ³ë¼±¿¡¼­ ¹Ì±¹ µ¨Å¸Ç×°ø°ú ½ºÄ«ÀÌÆÀÀ¸·Î Ç×°ø µ¿¸ÍÀ» ¸Î°í ÀÖ´Âµ¥, À¯³ªÀÌÆ¼µåÇ×°øÀº ¾Æ½Ã¾Æ³ªÇ×°ø°ú °°Àº ½ºÅ¸¾ó¶óÀÌ¾ð½º ¼Ò¼ÓÀÌ´Ù. À¯³ªÀÌÆ¼µå Ç×°øÀº ´ëÇÑÇ×°ø°ú ¾Æ½Ã¾Æ³ªÇ×°øÀÇ ÇÕº´À¸·Î ¾Æ½Ã¾Æ³ªÇ×°øÀÌ ½ºÅ¸¾ó¶óÀÌ¾ð½º¿¡¼­ ºüÁö¸é ¹ÌÁÖ ³ë¼±Àº ¹°·Ð Áß±¹°ú µ¿³²¾Æ½Ã¾Æ °æÀ¯ ³ë¼± µî¿¡¼­µµ Å¸°ÝÀ» ¹ÞÀ» °ÍÀ» ¿ì·ÁÇÑ °ÍÀ¸·Î ÀüÇØÁ³´Ù. ¿ì »çÀåÀº ¾Õ¼­ ¡°½ºÄ«ÀÌÆÀ°ú ½ºÅ¸¾ó¶óÀÌ¾ð½º Á¤¸® µî¿¡ ´ëÇØ¼­´Â °í·ÁÇØ¾ß ÇÒ ºÎºÐÀÌ ¸¹¾Æ ÇÕº´ °úÁ¤¿¡¼­ Â÷±ÙÂ÷±Ù ¹®Á¦¸¦ ÇØ°áÇØ ³ª°¡°Ú´Ù¡±°í ¹àÈù ¹Ù ÀÖ´Ù.\n"
     ]
    },
    {
     "name": "stdout",
     "output_type": "stream",
     "text": [
      "12번째 기사:항공업계가 \"신종 코로나바이러스 감염증(코로나19)으로 인해 2년간 관광업계의 체력이 크게 떨어졌다\"며 정부에 출입국시 유전자증폭(PCR) 검사 음성확인 절차 폐지와 국제 항공노선 정상화 등을 촉구했다.우기홍 대한항공 사장은 3일 서울 소공동 롯데호텔에서 대한상공회의소가 '코로나 엔데믹 시대 관광산업 활성화 과제 논의'를 주제로 개최한 '제24차 관광산업위원회'에 관광산업위원장으로 참석해 \"엔데믹 시대를 맞아 국제기준 대비 과도한 방역규제를 완화해야 한다\"며 이렇게 강조했다. 우 사장은 \"코로나19 피해의 여파와 불확실성이 남아 있긴 하지만 최근 거리두기가 완화되면서 관광업계도 조금씩 활력을 되찾고 있다\"며 \"향후 급격히 늘어날 것으로 보이는 글로벌 관광객을 적극 유치하고, 장기적인 관광산업 성장전략을 함께 모색해 나가야 한다\"고 말했다.관광업계 관계자들은 \"지난 2년간 관광업계의 체력이 고갈됐다\"며 \"회복기에 접어드는 글로벌 관광시장을 선진국에 뺏기지 않기 위해서는 적극적인 정부대책이 필요하다\"고 입을 모았다. 참석자들은 국내 입국시 PCR 음성확인 절차가 비용 부담과 출입국 불편을 가중시키고 있다고 지적했다. 김광옥 한국항공협회 본부장은 \"많은 국가들이 출입국 절차를 정상화하고 있는 반면, 우리나라는 아직 PCR 음성확인 등 규제가 엄격해 비용 부담과 출입국 불편이 가중되고 있는 상황\"이라며 \"PCR 음성확인 절차를 폐지하고 백신미접종 소아의 무격리 입국을 허용해야 한다\"고 요청했다. 김병삼 한국관광협회중앙회 사무처장도 \"코로나19 이전에 비해 국제관광수요가 90% 가까이 증발한 상황에서 사회적 거리두기 완화만으로는 업계 정상화가 불가능하다\"며 \"변화된 코로나19 상황에 맞춰 방한 외국인에 대한 비자발급을 2019년 수준으로 정상화하고, 외교부의 '여행경보단계'를 완화해 업계 회복을 지원해야 한다\"고 말했다. 최근 조원태 대한항공 회장도 외신과의 인터뷰에서 \"정부 방역완화가 너무 느리다\"며 \"PCR 검사 의무는 난센스\"라고 지적한 바 있다.문화체육관광부 등에 따르면, 2020년 관광업체 수는 2019년 대비 1,310개 줄었고, 종사자 수는 전년 대비 30.7% 감소했다. 같은 기간 총 매출 또한 69.4% 줄었다. 관광산업 생산지수 역시 2019년 12월 111에서 2020년 2월 87.7로 곤두박질친 이후 80~90 수준에서 회복되지 못하고 있는 실정이다.항공 및 관광산업 분야에서 3년간 신규채용이 거의 이뤄지지 못하고 있는 점도 논의의 대상이 됐다. 우 사장은 \"종업원들이 다시 일자리를 찾아야 하는데, 산업이 초토화돼 있어 신규채용을 안 한 지 3년\"이라며 \"관광업을 전공하는 학교가 100여 곳에 달하는데 학과 졸업생들의 진로가 막히고 있어 (항공 및 관광산업의) 생태계 자체가 우려된다\"고 지적했다.\n",
      "                                    < 저작권자 ⓒ 서울경제, 무단 전재 및 재배포 금지 >훈 한국관광학회 회장이 3일 서울 소공동 롯데호텔에서 관광산업위원회 회의를 끝내고 기자들과 질의응답을 하고 있다. /박호현기자대한항공(003490) 재무분석차트영역상세보기의 아시아나항공(020560) 재무분석차트영역상세보기 합병에 대해 해외 경쟁 당국의 경쟁 제한 완화 대책 요구가 이어지며 합병 속도가 늦어지고 있다.우기홍 대한항공 사장은 3일 오전 서울 소공동 롯데호텔에서 열린 대한상공회의소 ‘제 24차 관광산업위원회’에서 기자들과 만나 “현재 6개 국가의 경쟁 당국에서 요구하는 경쟁 제한 완화에 대한 플랜(계획)을 계속 내고 있다”며 “경쟁 당국이 언제까지 합병을 승인해준다는 기한이 없어 자료를 요구할 때마다 요구사항에 늦지 않게 대응 중”이라고 말했다.관련기사대한항공-아시아나 독점 우려에… ‘알짜‘ 몽골 노선 LCC에 배분대한항공·기업銀·심텍 상반기 내내 ‘맑음‘‘고공행진‘ 거듭하는 남자프로배구 대한항공, 2시즌 연속 통합우승2020년 11월 한진그룹은 아시아나항공 인수 결정을 한 뒤 지난해 1월 각국 경쟁 당국에 기업결합을 신고했다. 올 2월 우리나라 공정거래위원회는 합병을 조건부 승인했다. 다만 양사가 운항 중인 일부 노선에 대해 신규 항공사 진입을 허가하고 통합 항공사의 슬롯과 운수권을 반납해 재분배 했다.현재 대한항공은 미국, 유럽연합(EU), 중국, 일본, 영국, 호주 등 6개 경쟁 당국의 기업결합 심사를 받고 있다. 우 사장은 “해외 6개국 승인이 남았는데 애초에 쉽게 되리라 생각하지 않았다”고 덧붙였다.이어 최근 러시아 관세 당국에게 출항 서류 직인이 생략됐다는 이유로 과징금 1100억원을 부과받은 데 대해 우 사장은 “1100억원 벌금은 과하다고 생각하기 때문에 행정 소송도 진행할 것”이라고 설명했다.\n",
      " 업계 “글로벌 흐름 맞추지 못해 관광산업 경쟁력 악화 우려” 대한상공회의소가 3일 서울 소공동 소재 롯데호텔에서 ‘제24차 관광산업위원회’를 개최했다. 다가오는 엔데믹 시대에 국내 관광업계가 글로벌 시장에서 뒤처지지 않도록 정부 차원의 적극적인 지원을 촉구하기 위해 마련됐다. 회의에는 우기홍 대한항공 사장(관광산업위원장)과 한채양 조선호텔앤리조트 대표이사, 안세진 호텔롯데 대표이사, 오창희 한국여행업협회 회장, 유용종 한국호텔업협회 회장 등 업계 주요 관계자들이 참석했다. 특히 이번 회의에서 해외 주요 국가는 엔데믹에 맞춰 관광 활성화를 위한 규제 완화를 적극적으로 추진 중인데 반해 국내는 글로벌 흐름에 맞추지 못하고 방역당국이 과도한 규제를 유지하고 있다는 지적이 나왔다. 항공과 호텔, 면세점, 여행 등 관광업계 주요 인사들은 국내 관광산업 생태계 복원을 위해서는 엔데믹을 맞아 방역조치 완화와 지속적인 정책지원이 당장 시급하다고 한 목소리를 냈다. 대한상의 관광산업위원장을 맡고 있는 우기홍 대한항공 사장 역시 해외 주요 국가들의 엔데믹 대응 상황을 공유하면서 국내 당국의 적극적인 지원과 규제 완화를 촉구했다. 회의가 끝난 후 우기홍 사장은 기자들과 만나 국내 관광산업과 항공업계 회복을 위한 의견을 공유했다.   우기홍 사장은 “관광산업에서 가장 기본은 내국인이 해외여행을 하고 외국인이 한국을 방문해야 한다”며 “이것이 원활해야 호텔과 관광업, 면세점, 항공 및 관광객을 기반으로 기업과 소상공인이 생존할 수 있다”고 말했다. 우 사장은 특히 종업원들이 다시 일자리를 찾아야 한다고 강조했다. 우 사장은 “코로나19 팬데믹 여파로 산업이 초토화되면서 3년 가까이 신규채용이 없는 상황이다”며 “현재 가장 심각한 문제는 관광 관련 학과를 운영하는 학교가 국내에 100여개가 넘는 상황에서 졸업한 학생들의 진로가 막히고 있고 이는 학생들과 학교는 물론 산업 생태계 자체를 무너뜨리는 결과를 초래할 것”이라고 우려했다. 어떤 규제 완화가 필요한지에 대해서는 다른 나라들이 완화하고 있는 유전자증폭(PCR) 검사 확인 제도를 꼽았다. 현재 국내는 해외에서 들어오는 모든 사람들에 대해 PCR 검사 확인서 제출을 의무화하고 있다. 또한 해외에서 양성이 나온 한국 사람도 국내 입국이 불가능한 상황이다. 이에 대해 우 사장은 “PCR 검사 확인 제도가 걸림돌이 돼 결과적으로 해외여행과 국내관광 수요가 위축되면서 활성화가 제한되고 있는 상황”이라며 “주변 국가 사례 등을 살펴보면서 방역 등에 대한 논의가 필요하다고 본다”고 설명했다. 그러면서 그동안 방역 규제가 심했던 싱가폴이나 인도네시아, 태국, 베트남 등이 PCR 검사를 없애고 있고 신속항원검사 등 다른 대안이 있는 상황에서 여행업이나 호텔, 면세점 등 관련 협회 건의를 정부 당국이 무시하고 있는 분위기라고 지적했다.인천국제공항 운영에 대한 아쉬움도 표했다. 우 사장은 “현재 공항에 손님이 많이 늘어나는 추세인데 당국이 항공기 운항 수를 1시간에 10대, 15대 등으로 제한하고 있고 일정 시간에는 항공기를 아예 띄우지 못하도록 통제하고 있다”며 “질병관리청이 방역서류를 하나하나 검토해야 하기 때문인데 이는 곧 여행과 관광 수요 제한으로 이어지고 있다”고 전했다. 이어 “세계 최고 수준으로 잘 지어놓은 인천공항을 적절하게 활용하지 못하는 점이 아쉽다”며 “결국 관광객이 한국 대신 주변 일본이나 싱가폴, 태국 등을 방문하게 되는 것”이라고 덧붙였다.우 사장은 코로나19 팬데믹을 기점으로 국내 항공업 순위가 세계 8~9위에서 50위권으로 추락한 상태라고 지적했다. 특히 현 상황이 지속될 경우 항공 뿐 아니라 호텔과 여행업계는 물론 각 업종 종사자들의 생태계가 무너질 수 있다고 경고했다.새 정부에 대해서는 기대감을 보였다. 다만 민간기업 입장에서 업계 건의사항을 대통령 인수위원회에 직접 전하는 것은 아니고 국토교통부나 문화관광부 등 공식 채널을 통해 의견을 전달한다고 설명했다. 일본여행 수요가 높아지고 있는 것에 대해서는 정치·경제적인 이슈로 인해 비자발급이 필요해진 상황이고 이로 인해 한국과 일본을 오가는 여행 수요는 완전히 사라진 수준으로 봐도 무방하다고 했다. 다만 중국 관광교류 활성화는 시간이 더 소요될 것으로 예상되지만 한·일 여행 관련 정부 차원 협의가 원만하게 이뤄지길 기대한다고 밝혔다.대한항공과 아시아나항공 기업결합심사의 경우 지난 2월 국내 공정거래위원회로부터 조건부 승인을 받았고 해외 6개국이 남은 상황이라고 전했다. 어려운 일이지만 정해진 일정에 맞춰 최선을 다해 각 국가 규제당국과 소통하고 있다고 했다. 최근 러시아 당국이 대한항공을 상대로 부과한 1100억 원 규모 과징금에 대해 우 사장은 “과도한 조치라고 보고 있다”며 “러시아 법원에 행정소송까지 고려하고 있는 상황”이라고 말했다.동아닷컴 김민범 기자 mbkim@donga.com      좋아요 이미지좋아요 슬퍼요 이미지슬퍼요 화나요 이미지화나요   공유 이미지공유 기사추천 이미지기사추천    공유하기   닫기      Copyright ⓒ 동아일보 & donga.com\n",
      "3일 서울 중구 롯데호텔에서 열린 ‘제24차 관광산업위원회’에서 우기홍 대한상공회의소 관광산업위원장이 발언하고 있다. [사진=연합뉴스]#기업결합#대한항공#우기홍#PCR#신속항원#LCC좋아요1화나요0추천해요0©'5개국어 글로벌 경제신문' 아주경제. 무단전재·재배포 금지아시아나 자회사 에어부산도 기업결합승인을 받은 것이 아니기 때문에 법적인 상황을 이해해줬으면 좋겠다”라고 전했다.사자 생태계가 모두 무너질 수 있다”라고 우려했다.관련기사내달부터 국제선 확대···고유가 항공료 폭증·인기지역 방역 빗장 걸림돌대한항공, 미주 취항 50주년 반세기를 날다…한미 교류 핵심 가교 역할 \n",
      "[메일] social@ytn.co.kr[저작권자(c) YTN 무단전재 및 재배포 금지]늘어날 거로 예상되는 해외 관광객을 유치해야 한다\"고 지적했습니다.\n",
      "17번째 기사:우기홍 대한상공회의소 관광산업위원장(대한항공 대표이사 사장)이 3일 서울 중구 롯데호텔에서 대한상의 주최로 열린 ‘제24차 관광산업위원회’에서 참석자들과 대화를 나누고 있다. 이날 회의에서는 코로나 엔데믹 시대 항공, 관광산업 활성화 과제 등을 논의했다. /문호남 기자 munonam@<ⓒ경제를 보는 눈, 세계를 보는 창 아시아경제(www.asiae.co.kr) 무단전재 배포금지>\n",
      "18번째 기사:3일 서울 중구 롯데호텔에서 열린 ‘제24차 관광산업위원회’에서 우기홍 대한상공회의소 관광산업위원장(대한항공 대표이사 사장) 등 참석자들이 기념촬영을 하고 있다. 이날 회의에서는 코로나 엔데믹 시대 항공, 관광산업 활성화 과제 등을 논의했다. /문호남 기자 munonam@<ⓒ경제를 보는 눈, 세계를 보는 창 아시아경제(www.asiae.co.kr) 무단전재 배포금지>\n",
      "19번째 기사:우기홍 대한상공회의소 관광산업위원장(대한항공 대표이사 사장)이 3일 서울 중구 롯데호텔에서 대한상의 주최로 열린 ‘제24차 관광산업위원회’에서 목을 축이고 있다. 이날 회의에서는 코로나 엔데믹 시대 항공, 관광산업 활성화 과제 등을 논의했다. /문호남 기자 munonam@<ⓒ경제를 보는 눈, 세계를 보는 창 아시아경제(www.asiae.co.kr) 무단전재 배포금지>\n",
      "20번째 기사:3일 서울 중구 롯데호텔에서 열린 ‘제24차 관광산업위원회’에서 우기홍 대한상공회의소 관광산업위원장(대한항공 대표이사 사장)과 정성권 아시아나항공 대표이사가 대화를 나누고 있다. 이날 회의에서는 코로나 엔데믹 시대 항공, 관광산업 활성화 과제 등을 논의했다. /문호남 기자 munonam@<ⓒ경제를 보는 눈, 세계를 보는 창 아시아경제(www.asiae.co.kr) 무단전재 배포금지>\n",
      ", 에어서울 등 저비용항공사(LCC)들이 불만을 제기한 데 대해선 \"(저희가) LCC 입장을 대변하긴 그렇고 노선 배분은 국토교통부가 하는 것\"이라며 \"아시아나 자회사인 에어부산도 아직 (대한항공과 아시아나의) 기업결합 승인 절차가 끝난 게 아니니 여러 법적 상황을 이해해달라\"고 말했다. 국토부는 지난달 14일 항공교통심의위원회를 개최하고 대한항공과 아시아나항공만 운항 중이던 몽골 노선에 LCC에도 배분했다. 한진칼 자회사인 진에어와 아시아나항공 자회사인 에어부산, 에어서울 등은 운수권 확보에 실패했다. 모회사인 대한항공과 아시아나항공 통합이 결정된 상황에서 자회사들에까지 운수권이 돌아간다면 독점 문제가 제기될 수 있기 때문에 국토부가 불허한 것으로 업계는 본다.우 위원장은 러시아 당국이 1100억원의 과징금을 부과한 데 대해선 러시아 법원에 행정 소송을 걸 수도 있다고 했다. 우 위원장은 \"우리는 (러시아 측의 과징금 부과가) 과하다고 보고 항의가 받아들여지지 않으면 러시아 법원에 행정소송(을 거는 것)까지도 생각하고 있다\"고 말했다. 대한항공은 지난해 2월22일 자사의 인천~모스크바~프랑크푸르트행 화물편(KE529편)이 모스크바 셰레메티예보 공항에서 관제당국의 이륙허가를 받고 출발했으나, 공항세관으로부터 출항절차의 일부가 누락(세관 직인 날인)됐다는 지적을 받았다. 러시아 당국은 그로부터 1년이 지난 지난 2월24일 80억 루블(약 1100억원)의 과징금을 대한항공에 부과했다. <ⓒ경제를 보는 눈, 세계를 보는 창 아시아경제(www.asiae.co.kr) 무단전재 배포금지>찾아나가야 할 것\"이라고 피력했다.회의 참석자들은 관광 산업의 펀더멘털(기초체력)을 회복하기 위해선 정부의 지원이 절실하다고 한 목소리를 냈다. 방역 완화를 넘어 관광 산업이 완전히 회복될 때까지 정책 지원을 이어나가야 한다는 것이다. 다른 참석자들은 출입국 절차 및 국제 항공노선 정상화(항공), 정책 지원 연장 및 면세 제도 개선(면세점), 인력 채용 지원과 세제 합리화(호텔) 등에 대한 지원도 촉구했다.한편 우 위원장은 위원회 회의 직후 기자들과 만나 대한항공과 \n",
      "22번째 기사:3일 서울 중구 롯데호텔에서 열린 ‘제24차 관광산업위원회’에서 우기홍 대한상공회의소 관광산업위원장(대한항공 대표이사 사장)과 허희영 항공대 총장이 대화를 나누고 있다. 이날 회의에서는 코로나 엔데믹 시대 항공, 관광산업 활성화 과제 등을 논의했다. /문호남 기자 munonam@<ⓒ경제를 보는 눈, 세계를 보는 창 아시아경제(www.asiae.co.kr) 무단전재 배포금지>\n",
      "항공업계 관계자는 \"사건이 발생한지 1년 뒤 시점에 단순한 서류 문제로 이정도 규모의 과징금을 부과한 사례는 없다\"며 \"우크라이나 침공 이후 제재에 동참할 것으로 보고 경고하려는 의도가 있다고 본다\"고 말했다.국제 중재까지도 검토할 방침이다.받았다는 설명이다. 대한항공 관계자는 \"국경수비대 및 공항 관제당국의 승인을 받고 항공기를 이동한 것\"이라고 덧붙였다.\n",
      "                                    < 저작권자 ⓒ 서울경제, 무단 전재 및 재배포 금지 >을 기록했다.대한항공은 올해 1분기 매출과 영업이익이 각각 2조 8052억 원과 7884억 원을 기록했다고 4일 밝혔다. 전년 동기 대비 각 60%, 533% 증가한 것이다. 특히 화물 노선의 매출이 돋보였다. 올해 1분기 대한항공의 1분기 화물 노선 매출은 2조 1486억 원을 기록했다. 대한항공 측은 “글로벌 생산 및 물류망 차질과 고유가 상황 지속 등 대외 변수에 따른 항공 화물 시장의 변동성이 확대되고 있다”며 “화물기 가동률 제고 및 유휴 여객기의 화물 노선 투입을 통해 매출 극대화에 주력하고 있다”고 설명했다. 여객 수요의 일부 회복도 긍정적이었다. 올해 1분기 여객 노선 매출은 3598억 원을 기록했다. 반면 이날 실적을 발표한 한국금융지주(071050) 재무분석차트영역상세보기는 다소 아쉬운 실적을 기록했다. 한국금융지주의 올해 1분기 연결기준 매출은 전년 동기 대비 26.28% 증가한 6조 1303억 원이었다. 다만 영업이익은 3381억 원을 기록하며 전년 동기 대비 30.3% 감소했다. 자회사 한국투자증권 역시 1분기 영업이익이 2884억 원으로 전년 동기보다 31.93% 줄었다. 동학개미의 투자 열기가 예전같지 않으며 위탁매매(BK) 부문의 부진이 영향을 미쳤다는 분석이다. 한국투자증권은 “위탁매매 부문의 부진으로 영업 실적이 전년 대비 감소했다”면서도 “투자은행(IB)과 자산관리(AM) 부문은 선방했다”고 덧붙였다.GS리테일(007070) 재무분석차트영역상세보기 역시 올해 1분기 영업이익이 전년 동기 대비 27%가량 감소한 것으로 나타났다. GS리테일의 1분기 매출은 2조 5985억 원으로 전년 동기 대비 23.7% 증가했으나 영업이익이 273억 원으로 지난해 같은 기간보다 27.2% 감소했다. GS리테일 측은 “광고 판촉비 증가와 GS페이·와인플러스 등 서비스 개발을 위한 수수료 증가로 영업이익이 줄어들었다”고 설명했다. 주요 사업부인 홈쇼핑의 경우 매출이 전년 동기 대비 1.6% 증가하는 데 그친 3021억 원을 기록했다. 생활용품과 건강식품 판매 부진 영향이 큰 것으로 분석된다.\n",
      "[자료=대한항공]#1분기#대한항공#실적#매출#영업이익#여객#화물좋아요0화나요0추천해요0©'5개국어 글로벌 경제신문' 아주경제. 무단전재·재배포 금지 감소했다. 이는 2011년 IFRS 도입 이후 최저 부채비율이다. 또한 1분기 말 기준 현금성 자산을 4조원 이상을 보유하여 금리 인상 등 금융 시장의 변동성 확대와 영업환경 불확실성 증대에 선제적으로 대응하고 있다. 항공 화물 수요와 공급은 불확실성이 이어질 전망이지만 노선 운영과 조업 안정화로 대응할 계획”이라고 덧붙였다.의 관계 자랑스러워\"…아시아나 합병 당위성 강조 \n",
      "[메일] social@ytn.co.kr[저작권자(c) YTN 무단전재 및 재배포 금지]%로 559%포인트 줄였습니다.어났습니다.\n",
      "27번째 기사:대한항공 화물 전용기. 대한항공 제공대한항공 1분기 실적이 코로나19 대유행 상황에도 불구하고 ‘훨훨’ 날았다. 영업이익은 분기 기준 최대 기록을 또다시 경신했다. 화물운송 사업 호조에 더해 일상회복 기대로 여객 수요가 꿈틀대면서다.대한항공은 별도 기준으로 1분기에 2조8052억원억원의 매출을 올려 7884억원의 영업이익을 냈다고 4일 밝혔다. 지난해 같은 기간에 견줘 매출은 60%, 영업이익은 533% 증가했다. 영업이익은 지난해 4분기 이후 2분기 연속 분기 기준 최고치를 경신했고, 당기순이익은 지난해 1분기 288억원 적자에서 5439억원 흑자로 전환됐다. 영업이익은 시장 전망치(6217억원)보다 26.8% 높아 ‘깜짝실적’이란 평가가 나온다.화물운송 사업이 호조세를 이어간데다 여객 수요도 살아나기 시작한 결과로 분석된다. 대한항공의 1분기 화물운송 매출은 2조1486억원에 달했다. 글로벌 생산 및 물류망 차질, 유럽 항공 노선 감소, 고유가 상황 지속 등으로 항공화물 시장의 변동성이 커졌지만, 화물운송 사업은 여전히 대한항공의 주요 매출원이다. 대한항공은 코로나19 대유행 초기부터 화물기 가동률 제고와 유휴 여객기의 화물 노선 투입 등으로 매출을 극대화하는 전략을 펴왔다.향후 실적 전망도 밝다. 화물운송 사업 호조세가 이어지는데다 엔데믹(코로나19 풍토병화)에 따른 일상회복으로 글로벌 여객 수요도 빠르게 살아날 것으로 예상된다. 1분기 대한항공 여객사업 매출은 3598억원으로 지난해 동기 대비 128% 증가했다. 여객기 운항이 늘면 여객기 화물칸(벨리 카고)을 통한 화물 운송량도 늘어난다.다만, 중국 주요 도시 봉쇄와 러시아-우크라이나 전쟁 등의 영향으로 지역별 항공화물 수요·공급 불안정 상황이 예상된다. 고유가에 따른 연료비 지출 증가도 불안 요인이다. 대한항공 연료비 지출액은 지난해 1분기 3281억원에서 올해는 6633억원으로 102% 증가했다.대한항공은 “1분기 말 기준 현금성 자산을 4조원 이상 보유하면서 금리 인상을 비롯한 금융시장의 변동성 확대와 영업환경 불확실성에도 선제적으로 대응하고 있다”며 “안정적인 이익 창출 능력을 기반으로 지속적인 차입금 상환기조를 유지하며 재무 건전성과 유동성을 적극 관리할 것”이라고 밝혔다.김재섭 기자 jskim@hani.co.kr\n",
      "28번째 기사:대한항공이 신종 코로나바이러스 감염증(코로나19) 여파에도 올해 1분기에 시장의 예상치를 넘어선 '깜짝실적(어닝서프라이즈)'을 수확했다.대한항공은 올해 1분기에 매출 2조8,052억 원과 영업이익 7,884억 원을 기록했다고 4일 공시했다. 이는 지난해 동기 대비 각각 60%, 533% 증가한 규모다. 특히 영업이익의 경우엔 지난해 4분기에 가져온 7,044억 원을 초과하면서 역대 최대치까지 갈아치웠다. 지난해 4분기에 이어 2개 분기 연속으로 분기 기준 최대 영업이익 기록을 경신한 셈이다. 올해 1분기 당기순손익도 5,439억 원으로, 지난해 동기에 기록했던 288억 원 손실에서 흑자 전환됐다.대한항공의 호실적은 코로나19 사태로 급감한 여객 대신 늘어난 화물 사업의 호조에서 비롯됐다. 대한항공은 올해 1분기 화물노선 매출이 지난해 동기 대비 59% 늘어난 2조1,486억 원을 기록했다. 글로벌 생산 및 물류망 차질과 구주노선 공급 감소, 고유가 상황 지속 등을 포함한 악재 속에서도 노선의 탄력적 운영 등이 더해지면서 공급 유실을 최소화한 데 따른 결과로 분석된다. 대한항공은 화물기 가동률을 높이고 유휴 여객기의 화물노선을 투입해 매출 극대화에 주력하고 있다.올해 1분기 대한항공의 여객노선 매출은 지난해 동기 대비 128% 증가한 3,598억 원으로 집계됐다. 오미크론 변이 확산으로 여객 수요 침체가 이어지고 있지만, 해외 각국의 입국 제한 완화 방침에 따라 갈수록 수요도 회복되는 모양새다. 우리 정부도 3월 21일 해외입국자 격리 면제 조치를 시행했다.대한항공 관계자는 \"글로벌 여객 수요의 회복으로 항공 화물 공급 또한 점진적으로 증가할 것으로 예상되지만 중국 주요 도시의 봉쇄와 우크라이나 전쟁 장기화 영향으로 지역별 항공 화물 수요·공급의 불안정이 지속될 전망\"이라며 \"신속하고 탄력적인 노선 운영과 조업 안정화로 항공 화물 시장의 불확실성 확대에 대응할 계획\"이라고 말했다.재무구조도 차입금 감축을 통해 개선되고 있다. 2019년 말 814%이던 부채비율은 올해 1분기 255%로 559%포인트 감소했다. 2011년 새로운 회계기준(IFRS) 도입 이후 최저 부채비율이다. 또 1분기 말 기준 현금성 자산을 4조 원 이상 보유해 금리 인상을 비롯한 금융시장의 변동성 확대와 영업환경 불확실성 증대에 선제적으로 대응할 방침이다.\n",
      "29번째 기사:전 세계 공급망 정체로 항공화물 운임이 강세를 이어가면서 대한항공이 직전 분기에 세운 사상 최대 영업실적을 한 분기 만에 경신했다.4일 대한항공은 올해 1분기 매출(별도 재무제표 기준)이 2조8052억원, 영업이익은 7884억원을 기록했다고 공시했다. 당기순이익도 지난해 1분기 288억원 손실에서 올해 5439억원으로 흑자 전환했다.대한항공 매출의 77%는 화물사업에서 나왔다. 1분기 화물노선 매출은 2조1486억원을 달성했다. 이는 지난해 4분기(2조1807억원)에 비해선 1.5% 줄었지만 역대 두 번째로 높은 기록이다. 블랙프라이데이, 추수감사절, 크리스마스 등이 몰려 있어 항공화물 수요가 높은 4분기와 달리 1분기는 항공화물 시장에서 비수기로 인식되지만 전 세계적인 물류대란 속에 대한항공이 성수기와 맞먹는 실적을 낸 것이다.여객노선 매출도 전년 동기보다 128% 증가한 3598억원을 기록했다.[문광민 기자][ⓒ 매일경제 & mk.co.kr, 무단전재 및 재배포 금지]\n",
      "31번째 기사:인천광역시 중구 영종도 인천국제공항에서 대한항공 항공기 등이 대기하고 있다. 김성룡 기자대한항공은 4일 실적 공시를 통해 올해 1분기에 매출 2조 8052억원을 올렸다고 발표했다. 1분기 영업이익은 분기 사상 최대치인 7884억원을 기록했다. 기존 분기 최대 영업이익은 2021년 4분기로 7044억원이었다. 1분기 매출 대부분은 화물 노선에서 나왔다. 대한항공의 1분기 화물 노선 매출은 2조 1486억원을 기록했다. 대한항공은 “글로벌 생산 및 물류망 차질과 고유가 상황 지속 등 대외 변수에 따른 항공화물 시장 변동성이 확대되고 있다”며 “화물기 가동률 제고 및 유휴 여객기의 화물 노선 투입을 통해 매출 극대화에 주력하고 있다”고 설명했다. 대한항공은 탄력적 노선 운영과 조업 안정화를 통해 항공 화물 시장 불확실성에 대응한다는 계획도 밝혔다. 대한항공은 “글로벌 여객 수요의 회복으로 항공 화물 공급 또한 점진적으로 증가할 것으로 보이나 중국 주요 도시 봉쇄 및 우크라이나 전쟁 장기화 영향으로 지역별 항공 화물 수요와 공급이 불안정할 것으로 보인다”며 “신속하고 탄력적인 노선 운영과 조업 안정화로 항공 화물 시장의 불확실성 확대에 대응할 계획”이라고 설명했다. 반면 여객노선은 신종 코로나바이러스 감염증(코로나19) 침체를 벗어나지 못했다. 1분기 여객노선 매출은 3598억원에 그쳤다. 하지만 매출 증가세는 가팔라 지난해 1분기와 비교해 여객노선 매출은 128% 증가했다. 대한항공은 “오미크론 확산으로 여객 수요 침체가 이어지고 있으나 해외 각국의 입국제한 완화로 점진적으로 수요 회복 중”이라며 “국내에선 해외입국자 격리 면제 조치 이후부터 여행 심리가 회복되는 추세”라고 설명했다.강기헌 기자 emckk@joongang.co.kr\n",
      "GoodNews paper ¨Ï ±¹¹ÎÀÏº¸(www.kmib.co.kr), ¹«´ÜÀüÀç ¹× ¼öÁý, Àç¹èÆ÷±ÝÁö¿©Çà°´µé·Î ºÕºñ°í ÀÖ´Ù. ¿¬ÇÕ´º½º»çÈ¸Àû °Å¸®µÎ±â°¡ ÇØÁ¦µÇ°í ½Ç¿Ü ¸¶½ºÅ© Âø¿ë ÀÇ¹«°¡ »ç¶óÁö¸é¼­ ¾ß¿Ü È°µ¿Àº ´Ã°í ÇØ¿Ü¿©Çà ¼ö¿äµµ Áõ°¡¼¼´Ù.  ÇÏÁö¸¸ ¿ÃÇØ 1ºÐ±â ½ÇÀû¿¡¼­µµ Ç×°ø¾÷°è´Â ´ëÇüÇ×°ø»ç(FSC)¿Í Àúºñ¿ëÇ×°ø»ç(LCC)·Î Ã¶ÀúÇÏ°Ô ³ª´µ¾îÁ³´Ù. 2ºÐ±âºÎÅÍ ¡®¸®¿ÀÇÁ´×¡¯(°æÁ¦È°µ¿ Àç°³) ¹Ù¶÷ÀÌ ºÒÁö¸¸, LCCµéÀº ½±»ç¸® ³¯¾Æ¿À¸£Áö ¸øÇÑ´Ù´Â ºÐ¼®ÀÌ ³ª¿Â´Ù. ¿¬¸»±îÁö ¸öÁýÀ» ÁÙÀÌ¸ç ÀûÀÚ¸¦ ¹öÅß¾ß ÇÑ´Ù´Â °ÍÀÌ´Ù.´ëÇÑÇ×°øÀº ¿ÃÇØ 1ºÐ±â¿¡ ¸ÅÃâ 2Á¶8052¾ï¿ø, ¿µ¾÷ÀÌÀÍ 7884¾ï¿øÀ» °Åµ×´Ù°í 4ÀÏ °ø½ÃÇß´Ù. ¿µ¾÷ÀÌÀÍÀº ºÐ±â ±âÁØÀ¸·Î ÃÖ´ëÄ¡¸¦ ÂïÀº Áö³­ÇØ 4ºÐ±â(7044¾ï¿ø) ±â·ÏÀ» °æ½ÅÇß´Ù. ¾Æ½Ã¾Æ³ªÇ×°øµµ ÁÁÀº ¼ºÀûÇ¥¸¦ ¹ÞÀ» °ÍÀ¸·Î º¸ÀÎ´Ù. ±ÝÀ¶ÅõÀÚ¾÷°è´Â ¾Æ½Ã¾Æ³ªÇ×°øÀÇ 1ºÐ±â ¸ÅÃâ¾×À» Àü³â µ¿±â ´ëºñ 54.75% Áõ°¡ÇÑ 1Á¶3110¾ï¿ø, ¿µ¾÷ÀÌÀÍÀ» 259.13% ´Ã¾î³­ 1410¾ï¿øÀ¸·Î Ãß»êÇÏ°í ÀÖ´Ù. ÄÚ·Î³ª19 ¿À¹ÌÅ©·Ð È®»êÀ¸·Î ¿©°´ ¼ö¿ä Ä§Ã¼´Â ÀÌ¾îÁöÁö¸¸, È­¹°¿î¼Û »ç¾÷ÀÌ ¡®È¿ÀÚ ³ë¸©¡¯À» ÅåÅåÈ÷ ÇÏ´Â °ÍÀ¸·Î Ç®ÀÌµÈ´Ù.ÀÌ¿Í ´Þ¸® LCC´Â ±íÀº Ä§Ã¼¿¡ ºüÁ® ÀÖ´Ù. ±ÝÀ¶ÅõÀÚ¾÷°è¿¡ µû¸£¸é Á¦ÁÖÇ×°øÀÇ 1ºÐ±â ¸ÅÃâÀº 1003¾ï¿ø, ¿µ¾÷¼Õ½ÇÀº 692¾ï¿øÀ¸·Î ÃßÁ¤µÈ´Ù. Æ¼¿þÀÌÇ×°øÀº 1ºÐ±â ¸ÅÃâ 570¾ï¿ø, ¿µ¾÷¼Õ½Ç 500¾ï¿øÀ» ¹Þ¾Æµé °ÍÀ¸·Î °üÃøµÈ´Ù. Áø¿¡¾îÀÇ 1ºÐ±â ½ÇÀû ÃßÁ¤Ä¡´Â ¸ÅÃâ 812¾ï¿ø, ¿µ¾÷¼Õ½Ç 401¾ï¿øÀÌ´Ù.Ç×°ø¾÷°è¿¡¼± ¸®¿ÀÇÁ´×À» º»°ÝÈ­ÇÏ´Â 2ºÐ±â¸¦ FSC¿Í LCC ¿©°´»ç¾÷ È¸º¹ÀÇ ºÐ±âÁ¡À¸·Î º»´Ù. ÀÎÃµ±¹Á¦°øÇ×°ø»ç¿¡ µû¸£¸é ¿ÃÇØ 1ºÐ±â ¿©°´½ÇÀûÀº 108¸¸6158¸í, Áö³­´Þ 27¸¸378¸íÀ¸·Î Áý°èµÆ´Ù. ´ëÇÑÇ×°øÀÇ 1ºÐ±â ¿©°´³ë¼± ¸ÅÃâµµ Àü³â µ¿±â ´ëºñ 128% Áõ°¡ÇÑ 3598¾ï¿øÀ» ±â·ÏÇÏ¸ç Á¡ÁøÀû ¼ö¿ä È¸º¹ Èå¸§À» º¸¿´´Ù.±×·¯³ª ÁøÁ¤ÇÑ ¸®¿ÀÇÁ´×À» ÀÌ·ç·Á¸é PCR °Ë»ç À½¼ºÈ®ÀÎ ÀýÂ÷ ÆóÁö µîÀÇ Àû±ØÀûÀÎ ¹æ¿ª±ÔÁ¦ ÇØÁ¦°¡ ÇÊ¿äÇÏ´Ù°í Ç×°ø¾÷°è¿¡¼± ÁÖÀåÇÑ´Ù. ¿ì±âÈ« ´ëÇÑÇ×°ø »çÀåÀº Áö³­ 3ÀÏ ´ëÇÑ»ó°øÈ¸ÀÇ¼Ò °ü±¤»ê¾÷À§¿øÈ¸ È¸ÀÇ¸¦ ¸¶Ä£ µÚ ±âÀÚµé°ú ¸¸³ª ¡°±âÁ¸¿¡ ±ÔÁ¦¸¦ ½ÉÇÏ°Ô Çß´ø ½Ì°¡Æú ÀÎµµ³×½Ã¾Æ ÅÂ±¹ º£Æ®³² µî¿¡¼­´Â PCR °Ë»ç¸¦ ¾ø¾Ý´Ù. ´Ù¸¥ ³ª¶óµéÀº ¿ÏÈ­ÇÏ´Â Ãß¼¼¡±¶ó¸é¼­ ¡°(¼ö¿ä È¸º¹ÀÇ) °É¸²µ¹ÀÎ PCR °Ë»ç¸¦ ½Å¼ÓÇ×¿ø°Ë»ç·Î ´ëÃ¼ÇÏ´Â µîÀÇ ´ë¾ÈÀÌ ÇÊ¿äÇÏ´Ù¡±°í °­Á¶Çß´Ù.¶ÇÇÑ ¿À·£ ÀûÀÚ¿¡ ½Ã´Þ¸®°í ÀÖ´Â LCCµéÀº ÈæÀÚ ÀüÈ¯ÀÌ ½±Áö ¾ÊÀ» Àü¸ÁÀÌ´Ù. LCC ¾÷°è °ü°èÀÚ´Â ¡°Á¤ºÎÀÇ ±â°£»ê¾÷ ¾ÈÁ¤±â±Ý ´ë»óÀº »ç¾÷±Ý ±Ô¸ð, ±Ù·ÎÀÚ ¼ö µîÀ» ±âÁØÀ¸·Î ¼±Á¤µÇ±â¿¡ »ç½Ç»ó Áö¿øÀ» ¹Þ±â ¾î·Æ´Ù. ¿¬³» ÄÚ·Î³ª19 ÀÌÀü ¼öÁØÀ¸·Î ¿©°´³ë¼±ÀÌ È¸º¹µÇ±âµµ ¾î·Á¿ö º¸ÀÎ´Ù. ´ëºÎºÐ LCC ¾÷Ã¼´Â ¿¬¸»±îÁö ¸öÁýÀ» ÃÖ¼ÒÈ­ÇÏ¸ç ¹öÅß¾ß ÇÒ °Í¡±ÀÌ¶ó°í ¿ì·ÁÇß´Ù.±èÁö¾Ö ±âÀÚ amor@kmib.co.kr\n",
      "33번째 기사:[헤럴드경제=증권부] 대한항공은 1분기 별도기준 영업이익이 7884억4900만원으로 전년동기대비 533.4% 증가했다고 4일 공시했다.같은 기간 매출액은 2조8051억9900만원으로 60.3% 늘어난 것으로 집계됐다.당기순이익은 5438억5300만원으로 흑자전환했다.\n"
     ]
    },
    {
     "ename": "AttributeError",
     "evalue": "'NoneType' object has no attribute 'text'",
     "output_type": "error",
     "traceback": [
      "\u001b[1;31m---------------------------------------------------------------------------\u001b[0m",
      "\u001b[1;31mAttributeError\u001b[0m                            Traceback (most recent call last)",
      "Cell \u001b[1;32mIn[301], line 1\u001b[0m\n\u001b[1;32m----> 1\u001b[0m add_news_content(df,\u001b[39m0\u001b[39;49m,\u001b[39mlen\u001b[39;49m(df))\n",
      "Cell \u001b[1;32mIn[300], line 10\u001b[0m, in \u001b[0;36madd_news_content\u001b[1;34m(df, start_id, end_id)\u001b[0m\n\u001b[0;32m      8\u001b[0m \u001b[39mif\u001b[39;00m response\u001b[39m.\u001b[39mstatus_code \u001b[39m==\u001b[39m \u001b[39m200\u001b[39m:\n\u001b[0;32m      9\u001b[0m     soup \u001b[39m=\u001b[39m bs(response\u001b[39m.\u001b[39mtext, \u001b[39m'\u001b[39m\u001b[39mhtml.parser\u001b[39m\u001b[39m'\u001b[39m)\n\u001b[1;32m---> 10\u001b[0m     content \u001b[39m=\u001b[39m news_crawling(press,soup)\n\u001b[0;32m     11\u001b[0m     \u001b[39mprint\u001b[39m(\u001b[39mf\u001b[39m\u001b[39m\"\u001b[39m\u001b[39m{\u001b[39;00mi\u001b[39m}\u001b[39;00m\u001b[39m번째 기사:\u001b[39m\u001b[39m{\u001b[39;00mcontent[\u001b[39m0\u001b[39m]\u001b[39m.\u001b[39mstrip()\u001b[39m}\u001b[39;00m\u001b[39m\"\u001b[39m)\n\u001b[0;32m     12\u001b[0m     df\u001b[39m.\u001b[39mloc[df\u001b[39m.\u001b[39mindex\u001b[39m==\u001b[39mi,\u001b[39m\"\u001b[39m\u001b[39m본문\u001b[39m\u001b[39m\"\u001b[39m]\u001b[39m=\u001b[39mcontent[\u001b[39m0\u001b[39m]\u001b[39m.\u001b[39mstrip()\n",
      "Cell \u001b[1;32mIn[298], line 23\u001b[0m, in \u001b[0;36mnews_crawling\u001b[1;34m(press, soup)\u001b[0m\n\u001b[0;32m     21\u001b[0m     news_content \u001b[39m=\u001b[39m crawling_donga(soup),\n\u001b[0;32m     22\u001b[0m \u001b[39melif\u001b[39;00m press \u001b[39m==\u001b[39m \u001b[39m\"\u001b[39m\u001b[39m조선일보\u001b[39m\u001b[39m\"\u001b[39m:\n\u001b[1;32m---> 23\u001b[0m     news_content \u001b[39m=\u001b[39m crawling_chosun(soup),\n\u001b[0;32m     24\u001b[0m \u001b[39melif\u001b[39;00m press \u001b[39m==\u001b[39m \u001b[39m\"\u001b[39m\u001b[39m중앙일보\u001b[39m\u001b[39m\"\u001b[39m:\n\u001b[0;32m     25\u001b[0m     news_content \u001b[39m=\u001b[39m crawling_joonang(soup),\n",
      "Cell \u001b[1;32mIn[254], line 3\u001b[0m, in \u001b[0;36mcrawling_chosun\u001b[1;34m(soup)\u001b[0m\n\u001b[0;32m      1\u001b[0m \u001b[39mdef\u001b[39;00m \u001b[39mcrawling_chosun\u001b[39m(soup):\n\u001b[0;32m      2\u001b[0m     news \u001b[39m=\u001b[39m soup\u001b[39m.\u001b[39mfind(\u001b[39m'\u001b[39m\u001b[39msection\u001b[39m\u001b[39m'\u001b[39m,attrs\u001b[39m=\u001b[39m{\u001b[39m\"\u001b[39m\u001b[39mclass\u001b[39m\u001b[39m\"\u001b[39m:\u001b[39m\"\u001b[39m\u001b[39marticle-body\u001b[39m\u001b[39m\"\u001b[39m})\n\u001b[1;32m----> 3\u001b[0m     news \u001b[39m=\u001b[39m news\u001b[39m.\u001b[39;49mtext\n\u001b[0;32m      5\u001b[0m     \u001b[39mreturn\u001b[39;00m news\n",
      "\u001b[1;31mAttributeError\u001b[0m: 'NoneType' object has no attribute 'text'"
     ]
    }
   ],
   "source": [
    "add_news_content(df,0,len(df))"
   ]
  },
  {
   "cell_type": "code",
   "execution_count": null,
   "metadata": {},
   "outputs": [],
   "source": [
    "df.to_csv(\"./news_contents_crawling_DH.csv\",encoding='utf-8-sig')"
   ]
  },
  {
   "cell_type": "code",
   "execution_count": null,
   "metadata": {},
   "outputs": [],
   "source": []
  }
 ],
 "metadata": {
  "kernelspec": {
   "display_name": "Python 3",
   "language": "python",
   "name": "python3"
  },
  "language_info": {
   "codemirror_mode": {
    "name": "ipython",
    "version": 3
   },
   "file_extension": ".py",
   "mimetype": "text/x-python",
   "name": "python",
   "nbconvert_exporter": "python",
   "pygments_lexer": "ipython3",
   "version": "3.10.9"
  },
  "orig_nbformat": 4
 },
 "nbformat": 4,
 "nbformat_minor": 2
}
