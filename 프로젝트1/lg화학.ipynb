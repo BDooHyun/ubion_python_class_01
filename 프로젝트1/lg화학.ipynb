{
 "cells": [
  {
   "cell_type": "code",
   "execution_count": 76,
   "metadata": {},
   "outputs": [],
   "source": [
    "import pandas as pd"
   ]
  },
  {
   "cell_type": "code",
   "execution_count": 77,
   "metadata": {},
   "outputs": [
    {
     "name": "stderr",
     "output_type": "stream",
     "text": [
      "c:\\Users\\duja1\\AppData\\Local\\Programs\\Python\\Python310\\lib\\site-packages\\openpyxl\\styles\\stylesheet.py:226: UserWarning: Workbook contains no default style, apply openpyxl's default\n",
      "  warn(\"Workbook contains no default style, apply openpyxl's default\")\n"
     ]
    }
   ],
   "source": [
    "df = pd.read_excel(\"./datasets/lg화학/가장 많이 언급된 단어(7월부터).xlsx\")"
   ]
  },
  {
   "cell_type": "code",
   "execution_count": 78,
   "metadata": {},
   "outputs": [
    {
     "data": {
      "text/plain": [
       "Index(['뉴스 식별자', '일자', '언론사', '기고자', '제목', '통합 분류1', '통합 분류2', '통합 분류3',\n",
       "       '사건/사고 분류1', '사건/사고 분류2', '사건/사고 분류3', '인물', '위치', '기관', '키워드',\n",
       "       '특성추출(가중치순 상위 50개)', '본문', 'URL', '분석제외 여부'],\n",
       "      dtype='object')"
      ]
     },
     "execution_count": 78,
     "metadata": {},
     "output_type": "execute_result"
    }
   ],
   "source": [
    "df.columns"
   ]
  },
  {
   "cell_type": "code",
   "execution_count": 79,
   "metadata": {},
   "outputs": [],
   "source": [
    "news_df = df[[\"일자\", '언론사', '제목', '특성추출(가중치순 상위 50개)', 'URL']]"
   ]
  },
  {
   "cell_type": "code",
   "execution_count": 80,
   "metadata": {},
   "outputs": [
    {
     "name": "stderr",
     "output_type": "stream",
     "text": [
      "C:\\Users\\duja1\\AppData\\Local\\Temp\\ipykernel_16524\\2915701593.py:1: SettingWithCopyWarning: \n",
      "A value is trying to be set on a copy of a slice from a DataFrame\n",
      "\n",
      "See the caveats in the documentation: https://pandas.pydata.org/pandas-docs/stable/user_guide/indexing.html#returning-a-view-versus-a-copy\n",
      "  news_df.rename(columns = {'특성추출(가중치순 상위 50개)':'특성추출'}, inplace=True)\n"
     ]
    }
   ],
   "source": [
    "news_df.rename(columns = {'특성추출(가중치순 상위 50개)':'특성추출'}, inplace=True)"
   ]
  },
  {
   "cell_type": "code",
   "execution_count": 81,
   "metadata": {},
   "outputs": [
    {
     "name": "stderr",
     "output_type": "stream",
     "text": [
      "C:\\Users\\duja1\\AppData\\Local\\Temp\\ipykernel_16524\\95928885.py:1: SettingWithCopyWarning: \n",
      "A value is trying to be set on a copy of a slice from a DataFrame\n",
      "\n",
      "See the caveats in the documentation: https://pandas.pydata.org/pandas-docs/stable/user_guide/indexing.html#returning-a-view-versus-a-copy\n",
      "  news_df.dropna(axis=0, inplace=True)\n"
     ]
    }
   ],
   "source": [
    "news_df.dropna(axis=0, inplace=True)"
   ]
  },
  {
   "cell_type": "code",
   "execution_count": 82,
   "metadata": {},
   "outputs": [
    {
     "name": "stderr",
     "output_type": "stream",
     "text": [
      "C:\\Users\\duja1\\AppData\\Local\\Temp\\ipykernel_16524\\2425702048.py:1: SettingWithCopyWarning: \n",
      "A value is trying to be set on a copy of a slice from a DataFrame\n",
      "\n",
      "See the caveats in the documentation: https://pandas.pydata.org/pandas-docs/stable/user_guide/indexing.html#returning-a-view-versus-a-copy\n",
      "  news_df.sort_values(by=\"일자\", inplace=True)\n"
     ]
    }
   ],
   "source": [
    "news_df.sort_values(by=\"일자\", inplace=True)"
   ]
  },
  {
   "cell_type": "code",
   "execution_count": 83,
   "metadata": {},
   "outputs": [],
   "source": [
    "news_df.reset_index(drop=True, inplace=True)"
   ]
  },
  {
   "cell_type": "code",
   "execution_count": 84,
   "metadata": {},
   "outputs": [
    {
     "data": {
      "text/html": [
       "<div>\n",
       "<style scoped>\n",
       "    .dataframe tbody tr th:only-of-type {\n",
       "        vertical-align: middle;\n",
       "    }\n",
       "\n",
       "    .dataframe tbody tr th {\n",
       "        vertical-align: top;\n",
       "    }\n",
       "\n",
       "    .dataframe thead th {\n",
       "        text-align: right;\n",
       "    }\n",
       "</style>\n",
       "<table border=\"1\" class=\"dataframe\">\n",
       "  <thead>\n",
       "    <tr style=\"text-align: right;\">\n",
       "      <th></th>\n",
       "      <th>일자</th>\n",
       "      <th>언론사</th>\n",
       "      <th>제목</th>\n",
       "      <th>특성추출</th>\n",
       "      <th>URL</th>\n",
       "    </tr>\n",
       "  </thead>\n",
       "  <tbody>\n",
       "    <tr>\n",
       "      <th>0</th>\n",
       "      <td>20220101</td>\n",
       "      <td>헤럴드경제</td>\n",
       "      <td>“개미 눈물 닦아줘야”, “기업은 뭘로 돈버나” 쪼개기 상장 갑론을박 [비즈360]</td>\n",
       "      <td>모회사,부여,주주들,지배력,자회사,계열사,지분율,의결권,대선후보,투자자,대주주,신설회사</td>\n",
       "      <td>http://biz.heraldcorp.com/view.php?ud=20211231...</td>\n",
       "    </tr>\n",
       "    <tr>\n",
       "      <th>1</th>\n",
       "      <td>20220102</td>\n",
       "      <td>대전일보</td>\n",
       "      <td>[충청권 새해 주요 현안] 100조 투자유치 미래 먹거리사업 추진 동력</td>\n",
       "      <td>충북,청주,소방청,투자유치,gaisf,wmc,충북도,에어로폴리스,회전익,소방헬기,에...</td>\n",
       "      <td>http://www.daejonilbo.com/news/newsitem.asp?pk...</td>\n",
       "    </tr>\n",
       "    <tr>\n",
       "      <th>2</th>\n",
       "      <td>20220102</td>\n",
       "      <td>세계일보</td>\n",
       "      <td>연초부터 IPO 대어 몰려온다</td>\n",
       "      <td>ipo,카카오그룹,컬리,자회사,lg에너지솔루션,10조,현대엔지니어링,시가총액,카카오...</td>\n",
       "      <td>http://www.segye.com/content/html/2022/01/02/2...</td>\n",
       "    </tr>\n",
       "    <tr>\n",
       "      <th>3</th>\n",
       "      <td>20220102</td>\n",
       "      <td>아시아경제</td>\n",
       "      <td>외국인, 3주 연속 '사자' 6주 연속 삼전 순매수 1위</td>\n",
       "      <td>외국인,매수세,순매도,코스피,삼성전자,연구원,sk,lg,업황,서정훈,삼성증권,위메이...</td>\n",
       "      <td>https://www.asiae.co.kr/article/20220102163702...</td>\n",
       "    </tr>\n",
       "    <tr>\n",
       "      <th>4</th>\n",
       "      <td>20220102</td>\n",
       "      <td>서울경제</td>\n",
       "      <td>'게임 ETF' 작년 68% 수익 NFT 타고 올해도 핑크빛 전망</td>\n",
       "      <td>etf,2차,nft,tiger,에스엠,에코프로비엠,극재,위메이드,수익률,kb,한국펀...</td>\n",
       "      <td>http://www.sedaily.com/NewsView/260PKJR06N</td>\n",
       "    </tr>\n",
       "    <tr>\n",
       "      <th>...</th>\n",
       "      <td>...</td>\n",
       "      <td>...</td>\n",
       "      <td>...</td>\n",
       "      <td>...</td>\n",
       "      <td>...</td>\n",
       "    </tr>\n",
       "    <tr>\n",
       "      <th>8542</th>\n",
       "      <td>20230531</td>\n",
       "      <td>파이낸셜뉴스</td>\n",
       "      <td>2차전지 담는데 몰랐다?  “ETF 명패 바꿔 답니다”</td>\n",
       "      <td>한국투자신탁운용,자동차,2차,비교지수,밸류체,ace,에프앤가이드,차액티브,관련주,수...</td>\n",
       "      <td>http://www.fnnews.com/news/202305310851548584</td>\n",
       "    </tr>\n",
       "    <tr>\n",
       "      <th>8543</th>\n",
       "      <td>20230531</td>\n",
       "      <td>아시아경제</td>\n",
       "      <td>北발사체 소식에도 외인 \"사자\" 코스피 2600선 코앞</td>\n",
       "      <td>코스닥,코스피,외국인,발사체,에코프로비엠,약보합,순매도,상승세,강보합세,종이목재,약...</td>\n",
       "      <td>https://view.asiae.co.kr/article/2023053109451...</td>\n",
       "    </tr>\n",
       "    <tr>\n",
       "      <th>8544</th>\n",
       "      <td>20230531</td>\n",
       "      <td>매일경제</td>\n",
       "      <td>“외국인 미친듯이 사들인다” 코스피, 2590선 넘어서</td>\n",
       "      <td>외국인,한국,코스피,테슬라,2590선,서상영,미래에셋증권,엔비디아,듯이,삼성,하이닉...</td>\n",
       "      <td>http://www.mk.co.kr/article/10748913</td>\n",
       "    </tr>\n",
       "    <tr>\n",
       "      <th>8545</th>\n",
       "      <td>20230531</td>\n",
       "      <td>전자신문</td>\n",
       "      <td>LG화학, 글로벌 CNT 시장 공략 가속화</td>\n",
       "      <td>cnt,자동차,lg화학,전기차,전자파,도전재,성장세,반응기,정전도장,반도체</td>\n",
       "      <td>http://www.etnews.com/20230531000079</td>\n",
       "    </tr>\n",
       "    <tr>\n",
       "      <th>8546</th>\n",
       "      <td>20230531</td>\n",
       "      <td>한국경제</td>\n",
       "      <td>[오승민의 HR이노베이션] 렌터카를 세차하는 사람은 없다 주인의식 가진 직원을 늘리...</td>\n",
       "      <td>구성원,직원들,오승민,주인의식,인재육성,구성원들,부채질,악순환,스마트폰,경영진,복리...</td>\n",
       "      <td>https://www.hankyung.com/opinion/article/20230...</td>\n",
       "    </tr>\n",
       "  </tbody>\n",
       "</table>\n",
       "<p>8547 rows × 5 columns</p>\n",
       "</div>"
      ],
      "text/plain": [
       "            일자     언론사                                                 제목   \n",
       "0     20220101   헤럴드경제     “개미 눈물 닦아줘야”, “기업은 뭘로 돈버나” 쪼개기 상장 갑론을박 [비즈360]  \\\n",
       "1     20220102    대전일보            [충청권 새해 주요 현안] 100조 투자유치 미래 먹거리사업 추진 동력   \n",
       "2     20220102    세계일보                                   연초부터 IPO 대어 몰려온다   \n",
       "3     20220102   아시아경제                    외국인, 3주 연속 '사자' 6주 연속 삼전 순매수 1위   \n",
       "4     20220102    서울경제               '게임 ETF' 작년 68% 수익 NFT 타고 올해도 핑크빛 전망   \n",
       "...        ...     ...                                                ...   \n",
       "8542  20230531  파이낸셜뉴스                     2차전지 담는데 몰랐다?  “ETF 명패 바꿔 답니다”   \n",
       "8543  20230531   아시아경제                     北발사체 소식에도 외인 \"사자\" 코스피 2600선 코앞   \n",
       "8544  20230531    매일경제                     “외국인 미친듯이 사들인다” 코스피, 2590선 넘어서   \n",
       "8545  20230531    전자신문                            LG화학, 글로벌 CNT 시장 공략 가속화   \n",
       "8546  20230531    한국경제  [오승민의 HR이노베이션] 렌터카를 세차하는 사람은 없다 주인의식 가진 직원을 늘리...   \n",
       "\n",
       "                                                   특성추출   \n",
       "0      모회사,부여,주주들,지배력,자회사,계열사,지분율,의결권,대선후보,투자자,대주주,신설회사  \\\n",
       "1     충북,청주,소방청,투자유치,gaisf,wmc,충북도,에어로폴리스,회전익,소방헬기,에...   \n",
       "2     ipo,카카오그룹,컬리,자회사,lg에너지솔루션,10조,현대엔지니어링,시가총액,카카오...   \n",
       "3     외국인,매수세,순매도,코스피,삼성전자,연구원,sk,lg,업황,서정훈,삼성증권,위메이...   \n",
       "4     etf,2차,nft,tiger,에스엠,에코프로비엠,극재,위메이드,수익률,kb,한국펀...   \n",
       "...                                                 ...   \n",
       "8542  한국투자신탁운용,자동차,2차,비교지수,밸류체,ace,에프앤가이드,차액티브,관련주,수...   \n",
       "8543  코스닥,코스피,외국인,발사체,에코프로비엠,약보합,순매도,상승세,강보합세,종이목재,약...   \n",
       "8544  외국인,한국,코스피,테슬라,2590선,서상영,미래에셋증권,엔비디아,듯이,삼성,하이닉...   \n",
       "8545          cnt,자동차,lg화학,전기차,전자파,도전재,성장세,반응기,정전도장,반도체   \n",
       "8546  구성원,직원들,오승민,주인의식,인재육성,구성원들,부채질,악순환,스마트폰,경영진,복리...   \n",
       "\n",
       "                                                    URL  \n",
       "0     http://biz.heraldcorp.com/view.php?ud=20211231...  \n",
       "1     http://www.daejonilbo.com/news/newsitem.asp?pk...  \n",
       "2     http://www.segye.com/content/html/2022/01/02/2...  \n",
       "3     https://www.asiae.co.kr/article/20220102163702...  \n",
       "4            http://www.sedaily.com/NewsView/260PKJR06N  \n",
       "...                                                 ...  \n",
       "8542      http://www.fnnews.com/news/202305310851548584  \n",
       "8543  https://view.asiae.co.kr/article/2023053109451...  \n",
       "8544               http://www.mk.co.kr/article/10748913  \n",
       "8545               http://www.etnews.com/20230531000079  \n",
       "8546  https://www.hankyung.com/opinion/article/20230...  \n",
       "\n",
       "[8547 rows x 5 columns]"
      ]
     },
     "execution_count": 84,
     "metadata": {},
     "output_type": "execute_result"
    }
   ],
   "source": [
    "news_df"
   ]
  },
  {
   "cell_type": "code",
   "execution_count": 85,
   "metadata": {},
   "outputs": [],
   "source": [
    "news_df = news_df.loc[news_df[\"특성추출\"].str.contains(\"lg\" or \"LG\" or \"엘지\" or \"엘쥐\")]     # 발표 : 'LG화학' 포함으로 뽑았음."
   ]
  },
  {
   "cell_type": "code",
   "execution_count": 86,
   "metadata": {},
   "outputs": [],
   "source": [
    "news_df.reset_index(drop=True, inplace=True)"
   ]
  },
  {
   "cell_type": "code",
   "execution_count": 91,
   "metadata": {},
   "outputs": [
    {
     "data": {
      "text/html": [
       "<div>\n",
       "<style scoped>\n",
       "    .dataframe tbody tr th:only-of-type {\n",
       "        vertical-align: middle;\n",
       "    }\n",
       "\n",
       "    .dataframe tbody tr th {\n",
       "        vertical-align: top;\n",
       "    }\n",
       "\n",
       "    .dataframe thead th {\n",
       "        text-align: right;\n",
       "    }\n",
       "</style>\n",
       "<table border=\"1\" class=\"dataframe\">\n",
       "  <thead>\n",
       "    <tr style=\"text-align: right;\">\n",
       "      <th></th>\n",
       "      <th>일자</th>\n",
       "      <th>언론사</th>\n",
       "      <th>제목</th>\n",
       "      <th>특성추출</th>\n",
       "      <th>URL</th>\n",
       "    </tr>\n",
       "  </thead>\n",
       "  <tbody>\n",
       "    <tr>\n",
       "      <th>0</th>\n",
       "      <td>20220102</td>\n",
       "      <td>세계일보</td>\n",
       "      <td>연초부터 IPO 대어 몰려온다</td>\n",
       "      <td>ipo,카카오그룹,컬리,자회사,lg에너지솔루션,10조,현대엔지니어링,시가총액,카카오...</td>\n",
       "      <td>http://www.segye.com/content/html/2022/01/02/2...</td>\n",
       "    </tr>\n",
       "    <tr>\n",
       "      <th>1</th>\n",
       "      <td>20220102</td>\n",
       "      <td>아시아경제</td>\n",
       "      <td>외국인, 3주 연속 '사자' 6주 연속 삼전 순매수 1위</td>\n",
       "      <td>외국인,매수세,순매도,코스피,삼성전자,연구원,sk,lg,업황,서정훈,삼성증권,위메이...</td>\n",
       "      <td>https://www.asiae.co.kr/article/20220102163702...</td>\n",
       "    </tr>\n",
       "    <tr>\n",
       "      <th>2</th>\n",
       "      <td>20220103</td>\n",
       "      <td>동아일보</td>\n",
       "      <td>재계 총수들의 새해 화두는 ‘고객’ ‘친환경’</td>\n",
       "      <td>친환경,신년사,코로나19,부회장,lg,황현식,최태원,김준,감염증,신학철,삼성전자,임...</td>\n",
       "      <td>https://www.donga.com/news/article/all/2022010...</td>\n",
       "    </tr>\n",
       "    <tr>\n",
       "      <th>3</th>\n",
       "      <td>20220103</td>\n",
       "      <td>한국경제</td>\n",
       "      <td>포효하라! 한국기업 지배하라! 글로벌 정글</td>\n",
       "      <td>전기차,차세대,esg,친환경,프랑스,한화,sk,양극재,레벨3,경쟁력,음극재,양산,lg</td>\n",
       "      <td>https://www.hankyung.com/economy/article/20220...</td>\n",
       "    </tr>\n",
       "    <tr>\n",
       "      <th>4</th>\n",
       "      <td>20220103</td>\n",
       "      <td>한국경제</td>\n",
       "      <td>신학철 LG화학 부회장 \"2022년은 고객의 해 본질 잃지 말아야\"</td>\n",
       "      <td>부회장,신학철,신년사,임직원,전지재료,경영환경,지속가능,임직원들,나침,구성원,lg,...</td>\n",
       "      <td>https://www.hankyung.com/economy/article/20220...</td>\n",
       "    </tr>\n",
       "    <tr>\n",
       "      <th>...</th>\n",
       "      <td>...</td>\n",
       "      <td>...</td>\n",
       "      <td>...</td>\n",
       "      <td>...</td>\n",
       "      <td>...</td>\n",
       "    </tr>\n",
       "    <tr>\n",
       "      <th>5485</th>\n",
       "      <td>20230531</td>\n",
       "      <td>파이낸셜뉴스</td>\n",
       "      <td>\"탄소나노튜브 뜬대\"...LG화학, CNT 생산 2배로 늘린다</td>\n",
       "      <td>cnt,lg화학,자동차,도전재,노국래,정전도장,반응기,반도체,lg,생산능력,뜬대,1...</td>\n",
       "      <td>http://www.fnnews.com/news/202305310842386044</td>\n",
       "    </tr>\n",
       "    <tr>\n",
       "      <th>5486</th>\n",
       "      <td>20230531</td>\n",
       "      <td>머니투데이</td>\n",
       "      <td>北 우주발사체 사태에도 외국인 코스피 매수중 2600선 근접</td>\n",
       "      <td>외국인,코스닥,발사체,코스피,우주발사체,에코프로비엠,약보합,상승세,강보합세,순매도,...</td>\n",
       "      <td>http://news.moneytoday.co.kr/view/mtview.php?n...</td>\n",
       "    </tr>\n",
       "    <tr>\n",
       "      <th>5487</th>\n",
       "      <td>20230531</td>\n",
       "      <td>아시아경제</td>\n",
       "      <td>北발사체 소식에도 외인 \"사자\" 코스피 2600선 코앞</td>\n",
       "      <td>코스닥,코스피,외국인,발사체,에코프로비엠,약보합,순매도,상승세,강보합세,종이목재,약...</td>\n",
       "      <td>https://view.asiae.co.kr/article/2023053109451...</td>\n",
       "    </tr>\n",
       "    <tr>\n",
       "      <th>5488</th>\n",
       "      <td>20230531</td>\n",
       "      <td>매일경제</td>\n",
       "      <td>“외국인 미친듯이 사들인다” 코스피, 2590선 넘어서</td>\n",
       "      <td>외국인,한국,코스피,테슬라,2590선,서상영,미래에셋증권,엔비디아,듯이,삼성,하이닉...</td>\n",
       "      <td>http://www.mk.co.kr/article/10748913</td>\n",
       "    </tr>\n",
       "    <tr>\n",
       "      <th>5489</th>\n",
       "      <td>20230531</td>\n",
       "      <td>전자신문</td>\n",
       "      <td>LG화학, 글로벌 CNT 시장 공략 가속화</td>\n",
       "      <td>cnt,자동차,lg화학,전기차,전자파,도전재,성장세,반응기,정전도장,반도체</td>\n",
       "      <td>http://www.etnews.com/20230531000079</td>\n",
       "    </tr>\n",
       "  </tbody>\n",
       "</table>\n",
       "<p>5490 rows × 5 columns</p>\n",
       "</div>"
      ],
      "text/plain": [
       "            일자     언론사                                     제목   \n",
       "0     20220102    세계일보                       연초부터 IPO 대어 몰려온다  \\\n",
       "1     20220102   아시아경제        외국인, 3주 연속 '사자' 6주 연속 삼전 순매수 1위   \n",
       "2     20220103    동아일보              재계 총수들의 새해 화두는 ‘고객’ ‘친환경’   \n",
       "3     20220103    한국경제                포효하라! 한국기업 지배하라! 글로벌 정글   \n",
       "4     20220103    한국경제  신학철 LG화학 부회장 \"2022년은 고객의 해 본질 잃지 말아야\"   \n",
       "...        ...     ...                                    ...   \n",
       "5485  20230531  파이낸셜뉴스     \"탄소나노튜브 뜬대\"...LG화학, CNT 생산 2배로 늘린다   \n",
       "5486  20230531   머니투데이      北 우주발사체 사태에도 외국인 코스피 매수중 2600선 근접   \n",
       "5487  20230531   아시아경제         北발사체 소식에도 외인 \"사자\" 코스피 2600선 코앞   \n",
       "5488  20230531    매일경제         “외국인 미친듯이 사들인다” 코스피, 2590선 넘어서   \n",
       "5489  20230531    전자신문                LG화학, 글로벌 CNT 시장 공략 가속화   \n",
       "\n",
       "                                                   특성추출   \n",
       "0     ipo,카카오그룹,컬리,자회사,lg에너지솔루션,10조,현대엔지니어링,시가총액,카카오...  \\\n",
       "1     외국인,매수세,순매도,코스피,삼성전자,연구원,sk,lg,업황,서정훈,삼성증권,위메이...   \n",
       "2     친환경,신년사,코로나19,부회장,lg,황현식,최태원,김준,감염증,신학철,삼성전자,임...   \n",
       "3       전기차,차세대,esg,친환경,프랑스,한화,sk,양극재,레벨3,경쟁력,음극재,양산,lg   \n",
       "4     부회장,신학철,신년사,임직원,전지재료,경영환경,지속가능,임직원들,나침,구성원,lg,...   \n",
       "...                                                 ...   \n",
       "5485  cnt,lg화학,자동차,도전재,노국래,정전도장,반응기,반도체,lg,생산능력,뜬대,1...   \n",
       "5486  외국인,코스닥,발사체,코스피,우주발사체,에코프로비엠,약보합,상승세,강보합세,순매도,...   \n",
       "5487  코스닥,코스피,외국인,발사체,에코프로비엠,약보합,순매도,상승세,강보합세,종이목재,약...   \n",
       "5488  외국인,한국,코스피,테슬라,2590선,서상영,미래에셋증권,엔비디아,듯이,삼성,하이닉...   \n",
       "5489          cnt,자동차,lg화학,전기차,전자파,도전재,성장세,반응기,정전도장,반도체   \n",
       "\n",
       "                                                    URL  \n",
       "0     http://www.segye.com/content/html/2022/01/02/2...  \n",
       "1     https://www.asiae.co.kr/article/20220102163702...  \n",
       "2     https://www.donga.com/news/article/all/2022010...  \n",
       "3     https://www.hankyung.com/economy/article/20220...  \n",
       "4     https://www.hankyung.com/economy/article/20220...  \n",
       "...                                                 ...  \n",
       "5485      http://www.fnnews.com/news/202305310842386044  \n",
       "5486  http://news.moneytoday.co.kr/view/mtview.php?n...  \n",
       "5487  https://view.asiae.co.kr/article/2023053109451...  \n",
       "5488               http://www.mk.co.kr/article/10748913  \n",
       "5489               http://www.etnews.com/20230531000079  \n",
       "\n",
       "[5490 rows x 5 columns]"
      ]
     },
     "execution_count": 91,
     "metadata": {},
     "output_type": "execute_result"
    }
   ],
   "source": [
    "news_df"
   ]
  },
  {
   "cell_type": "code",
   "execution_count": 88,
   "metadata": {},
   "outputs": [],
   "source": [
    "### 중간에 기사 없는 날짜 확인 code ###\n",
    "\n",
    "# news_df['일자'] = pd.to_datetime(news_df['일자'])\n",
    "\n",
    "# # 최소 일자와 최대 일자 확인\n",
    "# min_date = news_df['일자'].min()\n",
    "# max_date = news_df['일자'].max()\n",
    "\n",
    "# # 모든 날짜가 포함된 범위 생성\n",
    "# date_range = pd.date_range(start=min_date, end=max_date, freq='D')\n",
    "\n",
    "# # 누락된 일자 찾기\n",
    "# missing_dates = date_range[~date_range.isin(news_df['일자'])]\n",
    "# print(missing_dates)"
   ]
  },
  {
   "cell_type": "code",
   "execution_count": 92,
   "metadata": {},
   "outputs": [
    {
     "name": "stderr",
     "output_type": "stream",
     "text": [
      "C:\\Users\\duja1\\AppData\\Local\\Temp\\ipykernel_16524\\2609611254.py:20: SettingWithCopyWarning: \n",
      "A value is trying to be set on a copy of a slice from a DataFrame.\n",
      "Try using .loc[row_indexer,col_indexer] = value instead\n",
      "\n",
      "See the caveats in the documentation: https://pandas.pydata.org/pandas-docs/stable/user_guide/indexing.html#returning-a-view-versus-a-copy\n",
      "  news_df['article_text'] = article_texts\n"
     ]
    }
   ],
   "source": [
    "from newspaper import Article\n",
    "\n",
    "# URL 추출\n",
    "url_list = news_df['URL'].tolist()\n",
    "\n",
    "# 크롤링한 뉴스 본문을 저장할 리스트 초기화\n",
    "article_texts = []\n",
    "\n",
    "# URL 반복하여 뉴스 본문 크롤링\n",
    "for url in url_list:\n",
    "    try:\n",
    "        article = Article(url, language='ko')\n",
    "        article.download()\n",
    "        article.parse()\n",
    "        article_texts.append(article.text)\n",
    "    except:\n",
    "        article_texts.append('Error occurred while crawling the article.')\n",
    "\n",
    "# 크롤링 결과를 데이터프레임에 추가\n",
    "news_df['article_text'] = article_texts\n",
    "\n",
    "# 결과 데이터프레임 저장\n",
    "news_df.to_csv('test_file.csv', index=False)  # 적절한 파일 경로로 변경하세요"
   ]
  },
  {
   "cell_type": "code",
   "execution_count": 94,
   "metadata": {},
   "outputs": [],
   "source": [
    "# news_article_df = pd.read_csv('./test_file.csv')"
   ]
  },
  {
   "cell_type": "code",
   "execution_count": 97,
   "metadata": {},
   "outputs": [],
   "source": [
    "# news_article_df.to_csv(\"./test_file.csv\",encoding='utf-8-sig')"
   ]
  },
  {
   "cell_type": "code",
   "execution_count": 111,
   "metadata": {},
   "outputs": [],
   "source": [
    "news_article_df = pd.read_csv('./test_file.csv', index_col=0)"
   ]
  },
  {
   "cell_type": "code",
   "execution_count": 112,
   "metadata": {},
   "outputs": [],
   "source": [
    "news_article_df.reset_index(drop=True, inplace=True)"
   ]
  },
  {
   "cell_type": "code",
   "execution_count": 113,
   "metadata": {},
   "outputs": [
    {
     "data": {
      "text/plain": [
       "0"
      ]
     },
     "execution_count": 113,
     "metadata": {},
     "output_type": "execute_result"
    }
   ],
   "source": [
    "len(news_article_df.loc[news_article_df[\"article_text\"].isna()])"
   ]
  },
  {
   "cell_type": "code",
   "execution_count": 114,
   "metadata": {},
   "outputs": [],
   "source": [
    "news_article_df.to_csv(\"./lg화학(본문수동크롤링완료).csv\",encoding='utf-8-sig')"
   ]
  },
  {
   "cell_type": "code",
   "execution_count": 116,
   "metadata": {},
   "outputs": [
    {
     "data": {
      "text/plain": [
       "일자              0\n",
       "언론사             0\n",
       "제목              0\n",
       "특성추출            0\n",
       "URL             0\n",
       "article_text    0\n",
       "dtype: int64"
      ]
     },
     "execution_count": 116,
     "metadata": {},
     "output_type": "execute_result"
    }
   ],
   "source": [
    "news_article_df.isna().sum()"
   ]
  },
  {
   "cell_type": "code",
   "execution_count": null,
   "metadata": {},
   "outputs": [],
   "source": []
  }
 ],
 "metadata": {
  "kernelspec": {
   "display_name": "Python 3",
   "language": "python",
   "name": "python3"
  },
  "language_info": {
   "codemirror_mode": {
    "name": "ipython",
    "version": 3
   },
   "file_extension": ".py",
   "mimetype": "text/x-python",
   "name": "python",
   "nbconvert_exporter": "python",
   "pygments_lexer": "ipython3",
   "version": "3.10.9"
  },
  "orig_nbformat": 4
 },
 "nbformat": 4,
 "nbformat_minor": 2
}
