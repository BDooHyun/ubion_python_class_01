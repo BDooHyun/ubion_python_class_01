{
 "cells": [
  {
   "cell_type": "code",
   "execution_count": null,
   "metadata": {},
   "outputs": [],
   "source": [
    "import pandas as pd"
   ]
  },
  {
   "cell_type": "code",
   "execution_count": null,
   "metadata": {},
   "outputs": [],
   "source": [
    "df = pd.read_csv('./datasets/대한항공뉴스데이터(수정후).csv')\n",
    "df.head()"
   ]
  },
  {
   "cell_type": "code",
   "execution_count": null,
   "metadata": {},
   "outputs": [],
   "source": [
    "df['일자'] = pd.to_datetime(df['일자'], format='%Y%m%d')"
   ]
  },
  {
   "cell_type": "code",
   "execution_count": null,
   "metadata": {},
   "outputs": [],
   "source": [
    "def filter_data(df):\n",
    "    feature1 = input('특성1을 입력하세요:')\n",
    "    feature2 = input('특성2를 입력하세요:')\n",
    "    date_str = input('날짜를 입력하세요(예: 2022-01-01):')\n",
    "    date = pd.to_datetime(date_str)\n",
    "\n",
    "\n",
    "    filtered_df = df[df['특성추출(가중치순 상위 50개)'].str.contains(feature1) & df['특성추출(가중치순 상위 50개)'].str.contains(feature2) & (df['일자'] == date)]\n",
    "    return filtered_df"
   ]
  },
  {
   "cell_type": "code",
   "execution_count": null,
   "metadata": {},
   "outputs": [],
   "source": [
    "final_df = pd.DataFrame()\n",
    "while True:\n",
    "    filtered_data = filter_data(df)\n",
    "    if filtered_data is not None and not filtered_data.empty:\n",
    "        print(filtered_data)\n",
    "        print()\n",
    "\n",
    "        # 필터링된 데이터를 최종 데이터프레임에 이어붙임\n",
    "        final_df = pd.concat([final_df, filtered_data], ignore_index=True)\n",
    "    else:\n",
    "        print(\"해당 조건에 맞는 데이터가 없습니다.\")\n",
    "\n",
    "    # 계속해서 필터링할지 여부 확인\n",
    "    answer = input(\"더 필터링하시겠습니까? (Y/N): \")\n",
    "    if answer.lower() != 'y':\n",
    "        break\n",
    "\n",
    "# 최종 데이터프레임 출력\n",
    "print(\"최종 데이터프레임:\")\n",
    "print(final_df)"
   ]
  },
  {
   "cell_type": "code",
   "execution_count": null,
   "metadata": {},
   "outputs": [],
   "source": [
    "final_df.tail()"
   ]
  },
  {
   "cell_type": "code",
   "execution_count": null,
   "metadata": {},
   "outputs": [],
   "source": [
    "# final_df.to_csv('./datasets/키워드추출(220128~220131).csv', index=False, encoding='utf-8-sig')"
   ]
  },
  {
   "cell_type": "code",
   "execution_count": null,
   "metadata": {},
   "outputs": [],
   "source": []
  }
 ],
 "metadata": {
  "kernelspec": {
   "display_name": "base",
   "language": "python",
   "name": "python3"
  },
  "language_info": {
   "codemirror_mode": {
    "name": "ipython",
    "version": 3
   },
   "file_extension": ".py",
   "mimetype": "text/x-python",
   "name": "python",
   "nbconvert_exporter": "python",
   "pygments_lexer": "ipython3",
   "version": "3.10.9"
  },
  "orig_nbformat": 4
 },
 "nbformat": 4,
 "nbformat_minor": 2
}
