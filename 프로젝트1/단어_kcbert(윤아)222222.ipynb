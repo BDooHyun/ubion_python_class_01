{
  "cells": [
    {
      "cell_type": "code",
      "execution_count": 118,
      "metadata": {
        "colab": {
          "base_uri": "https://localhost:8080/"
        },
        "id": "4bTKrB_914ak",
        "outputId": "2648d09f-154a-40c1-ee5d-b2f834501506"
      },
      "outputs": [
        {
          "name": "stdout",
          "output_type": "stream",
          "text": [
            "Requirement already satisfied: torch in /usr/local/lib/python3.10/dist-packages (2.0.1+cu118)\n",
            "Requirement already satisfied: filelock in /usr/local/lib/python3.10/dist-packages (from torch) (3.12.2)\n",
            "Requirement already satisfied: typing-extensions in /usr/local/lib/python3.10/dist-packages (from torch) (4.6.3)\n",
            "Requirement already satisfied: sympy in /usr/local/lib/python3.10/dist-packages (from torch) (1.11.1)\n",
            "Requirement already satisfied: networkx in /usr/local/lib/python3.10/dist-packages (from torch) (3.1)\n",
            "Requirement already satisfied: jinja2 in /usr/local/lib/python3.10/dist-packages (from torch) (3.1.2)\n",
            "Requirement already satisfied: triton==2.0.0 in /usr/local/lib/python3.10/dist-packages (from torch) (2.0.0)\n",
            "Requirement already satisfied: cmake in /usr/local/lib/python3.10/dist-packages (from triton==2.0.0->torch) (3.25.2)\n",
            "Requirement already satisfied: lit in /usr/local/lib/python3.10/dist-packages (from triton==2.0.0->torch) (16.0.6)\n",
            "Requirement already satisfied: MarkupSafe>=2.0 in /usr/local/lib/python3.10/dist-packages (from jinja2->torch) (2.1.3)\n",
            "Requirement already satisfied: mpmath>=0.19 in /usr/local/lib/python3.10/dist-packages (from sympy->torch) (1.3.0)\n"
          ]
        }
      ],
      "source": [
        "pip install torch"
      ]
    },
    {
      "cell_type": "code",
      "execution_count": 119,
      "metadata": {
        "id": "M6a8jF3dzYoY"
      },
      "outputs": [],
      "source": [
        "import pandas as pd\n",
        "from transformers import AutoTokenizer, AutoModel\n",
        "import torch"
      ]
    },
    {
      "cell_type": "code",
      "execution_count": 120,
      "metadata": {
        "colab": {
          "base_uri": "https://localhost:8080/",
          "height": 510
        },
        "id": "CFY15YHtoxGr",
        "outputId": "3b544f4d-c983-40f8-f42c-16c0dd7edf62"
      },
      "outputs": [
        {
          "data": {
            "text/html": [
              "\n",
              "  <div id=\"df-fe67530a-2f86-45a1-8bfa-777520761fac\">\n",
              "    <div class=\"colab-df-container\">\n",
              "      <div>\n",
              "<style scoped>\n",
              "    .dataframe tbody tr th:only-of-type {\n",
              "        vertical-align: middle;\n",
              "    }\n",
              "\n",
              "    .dataframe tbody tr th {\n",
              "        vertical-align: top;\n",
              "    }\n",
              "\n",
              "    .dataframe thead th {\n",
              "        text-align: right;\n",
              "    }\n",
              "</style>\n",
              "<table border=\"1\" class=\"dataframe\">\n",
              "  <thead>\n",
              "    <tr style=\"text-align: right;\">\n",
              "      <th></th>\n",
              "      <th>Unnamed: 0</th>\n",
              "      <th>predict_date</th>\n",
              "      <th>article_text</th>\n",
              "      <th>oil_news</th>\n",
              "      <th>엘지종가</th>\n",
              "      <th>엘지타겟</th>\n",
              "    </tr>\n",
              "  </thead>\n",
              "  <tbody>\n",
              "    <tr>\n",
              "      <th>0</th>\n",
              "      <td>0</td>\n",
              "      <td>2022-01-02</td>\n",
              "      <td>[아시아경제 송화정 기자]외국인이 국내 증시에서 3주 연속 매수세를 나타냈다.\\n\\...</td>\n",
              "      <td>[충청투데이 심형식 기자] 코로나19(이하 코로나)가 2년가까이 지속되면서 대면서비...</td>\n",
              "      <td>NaN</td>\n",
              "      <td>NaN</td>\n",
              "    </tr>\n",
              "    <tr>\n",
              "      <th>1</th>\n",
              "      <td>1</td>\n",
              "      <td>2022-01-03</td>\n",
              "      <td>사진 확대 자본시장의 상징이자 상승장을 기원하는 황소상. 이 황소상은 지난 1996...</td>\n",
              "      <td>▲ 2021년 12월 충청지역 소비자물가동향\\n\\n충북과 충남의 물가 상승률이 4%...</td>\n",
              "      <td>618000.0</td>\n",
              "      <td>0.0</td>\n",
              "    </tr>\n",
              "    <tr>\n",
              "      <th>2</th>\n",
              "      <td>2</td>\n",
              "      <td>2022-01-04</td>\n",
              "      <td>viewer 4일 코스피 지수는 전장보다 3.20포인트(0.11%) 오른 2,991...</td>\n",
              "      <td>\\n\\n서울 시내 주유소 모습.\\n\\n\\n\\n\\n\\n[ 저작권자 ⓒ디지털타임스, 무...</td>\n",
              "      <td>644000.0</td>\n",
              "      <td>1.0</td>\n",
              "    </tr>\n",
              "    <tr>\n",
              "      <th>3</th>\n",
              "      <td>3</td>\n",
              "      <td>2022-01-05</td>\n",
              "      <td>반면 같은 기간 동학개미 순매수 1위였던 삼성전자(보통주)의 수익률은 -3.2%에 ...</td>\n",
              "      <td>&lt; 저작권자 ⓒ 서울경제, 무단 전재 및 재배포 금지 &gt;\\n\\n미국 뉴욕증시의 주요...</td>\n",
              "      <td>664000.0</td>\n",
              "      <td>1.0</td>\n",
              "    </tr>\n",
              "    <tr>\n",
              "      <th>4</th>\n",
              "      <td>4</td>\n",
              "      <td>2022-01-06</td>\n",
              "      <td>[사진=게티이미지뱅크]\\n\\nLG화학은 미국 면역항암제 개발 파트너사 '큐바이오파마...</td>\n",
              "      <td>美·남미 등 수입처 다변화\\n\\n안정적 물량 확보는 어려워\\n\\n\\n\\n코로나19 ...</td>\n",
              "      <td>690000.0</td>\n",
              "      <td>1.0</td>\n",
              "    </tr>\n",
              "  </tbody>\n",
              "</table>\n",
              "</div>\n",
              "      <button class=\"colab-df-convert\" onclick=\"convertToInteractive('df-fe67530a-2f86-45a1-8bfa-777520761fac')\"\n",
              "              title=\"Convert this dataframe to an interactive table.\"\n",
              "              style=\"display:none;\">\n",
              "        \n",
              "  <svg xmlns=\"http://www.w3.org/2000/svg\" height=\"24px\"viewBox=\"0 0 24 24\"\n",
              "       width=\"24px\">\n",
              "    <path d=\"M0 0h24v24H0V0z\" fill=\"none\"/>\n",
              "    <path d=\"M18.56 5.44l.94 2.06.94-2.06 2.06-.94-2.06-.94-.94-2.06-.94 2.06-2.06.94zm-11 1L8.5 8.5l.94-2.06 2.06-.94-2.06-.94L8.5 2.5l-.94 2.06-2.06.94zm10 10l.94 2.06.94-2.06 2.06-.94-2.06-.94-.94-2.06-.94 2.06-2.06.94z\"/><path d=\"M17.41 7.96l-1.37-1.37c-.4-.4-.92-.59-1.43-.59-.52 0-1.04.2-1.43.59L10.3 9.45l-7.72 7.72c-.78.78-.78 2.05 0 2.83L4 21.41c.39.39.9.59 1.41.59.51 0 1.02-.2 1.41-.59l7.78-7.78 2.81-2.81c.8-.78.8-2.07 0-2.86zM5.41 20L4 18.59l7.72-7.72 1.47 1.35L5.41 20z\"/>\n",
              "  </svg>\n",
              "      </button>\n",
              "      \n",
              "  <style>\n",
              "    .colab-df-container {\n",
              "      display:flex;\n",
              "      flex-wrap:wrap;\n",
              "      gap: 12px;\n",
              "    }\n",
              "\n",
              "    .colab-df-convert {\n",
              "      background-color: #E8F0FE;\n",
              "      border: none;\n",
              "      border-radius: 50%;\n",
              "      cursor: pointer;\n",
              "      display: none;\n",
              "      fill: #1967D2;\n",
              "      height: 32px;\n",
              "      padding: 0 0 0 0;\n",
              "      width: 32px;\n",
              "    }\n",
              "\n",
              "    .colab-df-convert:hover {\n",
              "      background-color: #E2EBFA;\n",
              "      box-shadow: 0px 1px 2px rgba(60, 64, 67, 0.3), 0px 1px 3px 1px rgba(60, 64, 67, 0.15);\n",
              "      fill: #174EA6;\n",
              "    }\n",
              "\n",
              "    [theme=dark] .colab-df-convert {\n",
              "      background-color: #3B4455;\n",
              "      fill: #D2E3FC;\n",
              "    }\n",
              "\n",
              "    [theme=dark] .colab-df-convert:hover {\n",
              "      background-color: #434B5C;\n",
              "      box-shadow: 0px 1px 3px 1px rgba(0, 0, 0, 0.15);\n",
              "      filter: drop-shadow(0px 1px 2px rgba(0, 0, 0, 0.3));\n",
              "      fill: #FFFFFF;\n",
              "    }\n",
              "  </style>\n",
              "\n",
              "      <script>\n",
              "        const buttonEl =\n",
              "          document.querySelector('#df-fe67530a-2f86-45a1-8bfa-777520761fac button.colab-df-convert');\n",
              "        buttonEl.style.display =\n",
              "          google.colab.kernel.accessAllowed ? 'block' : 'none';\n",
              "\n",
              "        async function convertToInteractive(key) {\n",
              "          const element = document.querySelector('#df-fe67530a-2f86-45a1-8bfa-777520761fac');\n",
              "          const dataTable =\n",
              "            await google.colab.kernel.invokeFunction('convertToInteractive',\n",
              "                                                     [key], {});\n",
              "          if (!dataTable) return;\n",
              "\n",
              "          const docLinkHtml = 'Like what you see? Visit the ' +\n",
              "            '<a target=\"_blank\" href=https://colab.research.google.com/notebooks/data_table.ipynb>data table notebook</a>'\n",
              "            + ' to learn more about interactive tables.';\n",
              "          element.innerHTML = '';\n",
              "          dataTable['output_type'] = 'display_data';\n",
              "          await google.colab.output.renderOutput(dataTable, element);\n",
              "          const docLink = document.createElement('div');\n",
              "          docLink.innerHTML = docLinkHtml;\n",
              "          element.appendChild(docLink);\n",
              "        }\n",
              "      </script>\n",
              "    </div>\n",
              "  </div>\n",
              "  "
            ],
            "text/plain": [
              "   Unnamed: 0 predict_date                                       article_text  \\\n",
              "0           0   2022-01-02  [아시아경제 송화정 기자]외국인이 국내 증시에서 3주 연속 매수세를 나타냈다.\\n\\...   \n",
              "1           1   2022-01-03  사진 확대 자본시장의 상징이자 상승장을 기원하는 황소상. 이 황소상은 지난 1996...   \n",
              "2           2   2022-01-04  viewer 4일 코스피 지수는 전장보다 3.20포인트(0.11%) 오른 2,991...   \n",
              "3           3   2022-01-05  반면 같은 기간 동학개미 순매수 1위였던 삼성전자(보통주)의 수익률은 -3.2%에 ...   \n",
              "4           4   2022-01-06  [사진=게티이미지뱅크]\\n\\nLG화학은 미국 면역항암제 개발 파트너사 '큐바이오파마...   \n",
              "\n",
              "                                            oil_news      엘지종가  엘지타겟  \n",
              "0  [충청투데이 심형식 기자] 코로나19(이하 코로나)가 2년가까이 지속되면서 대면서비...       NaN   NaN  \n",
              "1  ▲ 2021년 12월 충청지역 소비자물가동향\\n\\n충북과 충남의 물가 상승률이 4%...  618000.0   0.0  \n",
              "2  \\n\\n서울 시내 주유소 모습.\\n\\n\\n\\n\\n\\n[ 저작권자 ⓒ디지털타임스, 무...  644000.0   1.0  \n",
              "3  < 저작권자 ⓒ 서울경제, 무단 전재 및 재배포 금지 >\\n\\n미국 뉴욕증시의 주요...  664000.0   1.0  \n",
              "4  美·남미 등 수입처 다변화\\n\\n안정적 물량 확보는 어려워\\n\\n\\n\\n코로나19 ...  690000.0   1.0  "
            ]
          },
          "execution_count": 120,
          "metadata": {},
          "output_type": "execute_result"
        }
      ],
      "source": [
        "news_df = pd.read_excel('/content/lg_final.xlsx')\n",
        "news_df.head()"
      ]
    },
    {
      "cell_type": "code",
      "execution_count": 121,
      "metadata": {
        "colab": {
          "base_uri": "https://localhost:8080/"
        },
        "id": "I1Ce4KJSz3EM",
        "outputId": "934016d7-3888-442c-8488-0a3841111a1e"
      },
      "outputs": [
        {
          "name": "stderr",
          "output_type": "stream",
          "text": [
            "Some weights of the model checkpoint at beomi/kcbert-base were not used when initializing BertModel: ['cls.predictions.transform.LayerNorm.bias', 'cls.seq_relationship.weight', 'cls.predictions.bias', 'cls.seq_relationship.bias', 'cls.predictions.transform.dense.weight', 'cls.predictions.transform.LayerNorm.weight', 'cls.predictions.transform.dense.bias']\n",
            "- This IS expected if you are initializing BertModel from the checkpoint of a model trained on another task or with another architecture (e.g. initializing a BertForSequenceClassification model from a BertForPreTraining model).\n",
            "- This IS NOT expected if you are initializing BertModel from the checkpoint of a model that you expect to be exactly identical (initializing a BertForSequenceClassification model from a BertForSequenceClassification model).\n"
          ]
        }
      ],
      "source": [
        "model_name = \"beomi/kcbert-base\"\n",
        "tokenizer = AutoTokenizer.from_pretrained(model_name)\n",
        "model = AutoModel.from_pretrained(model_name)"
      ]
    },
    {
      "cell_type": "code",
      "execution_count": 122,
      "metadata": {
        "id": "gMnBQVFtz5f7"
      },
      "outputs": [],
      "source": [
        "texts = news_df['article_text'].tolist()\n",
        "oil_news = news_df['oil_news'].tolist()"
      ]
    },
    {
      "cell_type": "code",
      "execution_count": 123,
      "metadata": {
        "id": "zclYaEDi0FFU"
      },
      "outputs": [],
      "source": [
        "encoded_inputs = tokenizer(texts, truncation=True, padding=True, return_tensors='pt')"
      ]
    },
    {
      "cell_type": "code",
      "execution_count": 124,
      "metadata": {
        "id": "gZKH498i1q-z"
      },
      "outputs": [],
      "source": [
        "with torch.no_grad():\n",
        "    outputs = model(**encoded_inputs)"
      ]
    },
    {
      "cell_type": "code",
      "execution_count": 125,
      "metadata": {
        "id": "rgi8cUXE4sdu"
      },
      "outputs": [],
      "source": [
        "embeddings = outputs.last_hidden_state[:, 0, :].numpy()"
      ]
    },
    {
      "cell_type": "code",
      "execution_count": 126,
      "metadata": {
        "id": "FnYHbOIH4u59"
      },
      "outputs": [],
      "source": [
        "news_df['kcbert_embedding'] = embeddings.tolist()"
      ]
    },
    {
      "cell_type": "code",
      "execution_count": 127,
      "metadata": {
        "id": "8EXgKKgJ4zNP"
      },
      "outputs": [],
      "source": [
        "encoded_inputs_oil = tokenizer(oil_news, truncation=True, padding=True, return_tensors='pt')\n",
        "with torch.no_grad():\n",
        "    outputs_oil = model(**encoded_inputs_oil)\n",
        "embeddings_oil = outputs_oil.last_hidden_state[:, 0, :].numpy()\n",
        "news_df['kcbert_embedding_oil'] = embeddings_oil.tolist()"
      ]
    },
    {
      "cell_type": "code",
      "execution_count": 128,
      "metadata": {
        "id": "tMIqFhYD7vwB"
      },
      "outputs": [],
      "source": [
        "news_df = news_df.drop(['Unnamed: 0'],axis=1)"
      ]
    },
    {
      "cell_type": "code",
      "execution_count": 129,
      "metadata": {
        "id": "IFwGpi2WWdwW"
      },
      "outputs": [],
      "source": [
        "news_df = news_df.dropna(axis=0)"
      ]
    },
    {
      "cell_type": "code",
      "execution_count": 130,
      "metadata": {
        "id": "C5wAS9cEXgDr"
      },
      "outputs": [],
      "source": [
        "from sklearn.model_selection import train_test_split\n",
        "from sklearn.svm import SVC\n",
        "from sklearn.preprocessing import StandardScaler\n",
        "from sklearn.model_selection import GridSearchCV\n",
        "from sklearn.metrics import accuracy_score, precision_score, recall_score, f1_score"
      ]
    },
    {
      "cell_type": "code",
      "execution_count": null,
      "metadata": {
        "colab": {
          "base_uri": "https://localhost:8080/",
          "height": 488
        },
        "id": "HezuGG267xXD",
        "outputId": "41b45071-527d-4ad3-f829-1cf0009f334b"
      },
      "outputs": [],
      "source": [
        "\n",
        "\n",
        "# 훈련 데이터와 레이블 준비\n",
        "X = news_df[['kcbert_embedding', 'kcbert_embedding_oil']]  # 특성 데이터 (임베딩 벡터)\n",
        "y = news_df['엘지타겟']  # 레이블 (주식 상승/하락)\n",
        "scaler = StandardScaler()\n",
        "X_scaled = scaler.fit_transform(X)\n",
        "\n",
        "# 훈련 세트와 테스트 세트로 데이터 분할\n",
        "X_train, X_test, y_train, y_test = train_test_split(X_scaled, y, test_size=0.2, random_state=42)\n",
        "\n",
        "svm_model = SVC(kernel='linear')  # 선형 SVM 모델\n",
        "svm_model.fit(X_train, y_train)\n",
        "\n",
        "# 테스트 세트 예측\n",
        "y_pred = svm_model.predict(X_test)\n",
        "\n",
        "# 분류 모델 성능 평가\n",
        "accuracy = accuracy_score(y_test, y_pred)\n",
        "precision = precision_score(y_test, y_pred)\n",
        "recall = recall_score(y_test, y_pred)\n",
        "f1 = f1_score(y_test, y_pred)\n",
        "\n",
        "# 성능 지표 출력\n",
        "print(\"Accuracy:\", accuracy)\n",
        "print(\"Precision:\", precision)\n",
        "print(\"Recall:\", recall)\n",
        "print(\"F1 Score:\", f1)"
      ]
    },
    {
      "cell_type": "code",
      "execution_count": null,
      "metadata": {
        "id": "jfxoA21QW4YT"
      },
      "outputs": [],
      "source": [
        "news_df['kcbert_embedding_oil']"
      ]
    }
  ],
  "metadata": {
    "colab": {
      "provenance": []
    },
    "kernelspec": {
      "display_name": "Python 3",
      "name": "python3"
    },
    "language_info": {
      "name": "python"
    }
  },
  "nbformat": 4,
  "nbformat_minor": 0
}
