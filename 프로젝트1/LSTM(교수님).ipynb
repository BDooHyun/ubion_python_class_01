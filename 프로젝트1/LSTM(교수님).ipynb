{
 "cells": [
  {
   "cell_type": "code",
   "execution_count": 38,
   "metadata": {
    "ExecuteTime": {
     "end_time": "2023-06-30T07:46:57.582366Z",
     "start_time": "2023-06-30T07:46:57.573915Z"
    }
   },
   "outputs": [],
   "source": [
    "import pandas as pd"
   ]
  },
  {
   "cell_type": "code",
   "execution_count": 39,
   "metadata": {
    "ExecuteTime": {
     "end_time": "2023-06-30T07:47:04.371920Z",
     "start_time": "2023-06-30T07:47:04.085432Z"
    }
   },
   "outputs": [],
   "source": [
    "df = pd.read_excel('./DH(임베딩컬럼만).xlsx', index_col=0)"
   ]
  },
  {
   "cell_type": "code",
   "execution_count": 134,
   "metadata": {
    "ExecuteTime": {
     "end_time": "2023-06-30T07:47:11.398977Z",
     "start_time": "2023-06-30T07:47:11.372180Z"
    }
   },
   "outputs": [
    {
     "data": {
      "text/html": [
       "<div>\n",
       "<style scoped>\n",
       "    .dataframe tbody tr th:only-of-type {\n",
       "        vertical-align: middle;\n",
       "    }\n",
       "\n",
       "    .dataframe tbody tr th {\n",
       "        vertical-align: top;\n",
       "    }\n",
       "\n",
       "    .dataframe thead th {\n",
       "        text-align: right;\n",
       "    }\n",
       "</style>\n",
       "<table border=\"1\" class=\"dataframe\">\n",
       "  <thead>\n",
       "    <tr style=\"text-align: right;\">\n",
       "      <th></th>\n",
       "      <th>predict_date</th>\n",
       "      <th>dh_embedding</th>\n",
       "      <th>oil_embedding</th>\n",
       "      <th>target</th>\n",
       "      <th>dh_embedding_1</th>\n",
       "      <th>dh_embedding_2</th>\n",
       "    </tr>\n",
       "  </thead>\n",
       "  <tbody>\n",
       "    <tr>\n",
       "      <th>0</th>\n",
       "      <td>2022-01-02</td>\n",
       "      <td>[-0.14264455437660217, 0.05831192433834076, 0....</td>\n",
       "      <td>[-0.3298284411430359, -0.40550950169563293, 0....</td>\n",
       "      <td>0</td>\n",
       "      <td>[-0.14264455437660217, 0.05831192433834076, 0....</td>\n",
       "      <td>[-0.3298284411430359, -0.40550950169563293, 0....</td>\n",
       "    </tr>\n",
       "    <tr>\n",
       "      <th>1</th>\n",
       "      <td>2022-01-03</td>\n",
       "      <td>[-0.15551824867725372, -0.03494337573647499, 0...</td>\n",
       "      <td>[-0.14796359837055206, -0.4272714853286743, 0....</td>\n",
       "      <td>0</td>\n",
       "      <td>[-0.15551824867725372, -0.03494337573647499, 0...</td>\n",
       "      <td>[-0.14796359837055206, -0.4272714853286743, 0....</td>\n",
       "    </tr>\n",
       "    <tr>\n",
       "      <th>2</th>\n",
       "      <td>2022-01-04</td>\n",
       "      <td>[-0.6354258060455322, -0.365503191947937, 0.98...</td>\n",
       "      <td>[-0.16407831013202667, 0.3745501935482025, 0.2...</td>\n",
       "      <td>0</td>\n",
       "      <td>[-0.6354258060455322, -0.365503191947937, 0.98...</td>\n",
       "      <td>[-0.16407831013202667, 0.3745501935482025, 0.2...</td>\n",
       "    </tr>\n",
       "    <tr>\n",
       "      <th>3</th>\n",
       "      <td>2022-01-05</td>\n",
       "      <td>[1.2611210346221924, -1.2480064630508423, 0.56...</td>\n",
       "      <td>[0.57369065284729, 0.3639283776283264, 0.44556...</td>\n",
       "      <td>0</td>\n",
       "      <td>[1.2611210346221924, -1.2480064630508423, 0.56...</td>\n",
       "      <td>[0.57369065284729, 0.3639283776283264, 0.44556...</td>\n",
       "    </tr>\n",
       "    <tr>\n",
       "      <th>4</th>\n",
       "      <td>2022-01-06</td>\n",
       "      <td>[-1.170987844467163, -0.04770953953266144, 0.0...</td>\n",
       "      <td>[-0.3165379762649536, 0.6350396871566772, 0.40...</td>\n",
       "      <td>0</td>\n",
       "      <td>[-1.170987844467163, -0.04770953953266144, 0.0...</td>\n",
       "      <td>[-0.3165379762649536, 0.6350396871566772, 0.40...</td>\n",
       "    </tr>\n",
       "  </tbody>\n",
       "</table>\n",
       "</div>"
      ],
      "text/plain": [
       "  predict_date                                       dh_embedding   \n",
       "0   2022-01-02  [-0.14264455437660217, 0.05831192433834076, 0....  \\\n",
       "1   2022-01-03  [-0.15551824867725372, -0.03494337573647499, 0...   \n",
       "2   2022-01-04  [-0.6354258060455322, -0.365503191947937, 0.98...   \n",
       "3   2022-01-05  [1.2611210346221924, -1.2480064630508423, 0.56...   \n",
       "4   2022-01-06  [-1.170987844467163, -0.04770953953266144, 0.0...   \n",
       "\n",
       "                                       oil_embedding  target   \n",
       "0  [-0.3298284411430359, -0.40550950169563293, 0....       0  \\\n",
       "1  [-0.14796359837055206, -0.4272714853286743, 0....       0   \n",
       "2  [-0.16407831013202667, 0.3745501935482025, 0.2...       0   \n",
       "3  [0.57369065284729, 0.3639283776283264, 0.44556...       0   \n",
       "4  [-0.3165379762649536, 0.6350396871566772, 0.40...       0   \n",
       "\n",
       "                                      dh_embedding_1   \n",
       "0  [-0.14264455437660217, 0.05831192433834076, 0....  \\\n",
       "1  [-0.15551824867725372, -0.03494337573647499, 0...   \n",
       "2  [-0.6354258060455322, -0.365503191947937, 0.98...   \n",
       "3  [1.2611210346221924, -1.2480064630508423, 0.56...   \n",
       "4  [-1.170987844467163, -0.04770953953266144, 0.0...   \n",
       "\n",
       "                                      dh_embedding_2  \n",
       "0  [-0.3298284411430359, -0.40550950169563293, 0....  \n",
       "1  [-0.14796359837055206, -0.4272714853286743, 0....  \n",
       "2  [-0.16407831013202667, 0.3745501935482025, 0.2...  \n",
       "3  [0.57369065284729, 0.3639283776283264, 0.44556...  \n",
       "4  [-0.3165379762649536, 0.6350396871566772, 0.40...  "
      ]
     },
     "execution_count": 134,
     "metadata": {},
     "output_type": "execute_result"
    }
   ],
   "source": [
    "df.head()"
   ]
  },
  {
   "cell_type": "code",
   "execution_count": 41,
   "metadata": {
    "ExecuteTime": {
     "end_time": "2023-06-30T07:47:24.744993Z",
     "start_time": "2023-06-30T07:47:24.711278Z"
    }
   },
   "outputs": [
    {
     "name": "stdout",
     "output_type": "stream",
     "text": [
      "<class 'pandas.core.frame.DataFrame'>\n",
      "Index: 484 entries, 0 to 483\n",
      "Data columns (total 4 columns):\n",
      " #   Column         Non-Null Count  Dtype \n",
      "---  ------         --------------  ----- \n",
      " 0   predict_date   484 non-null    object\n",
      " 1   dh_embedding   484 non-null    object\n",
      " 2   oil_embedding  484 non-null    object\n",
      " 3   target         484 non-null    int64 \n",
      "dtypes: int64(1), object(3)\n",
      "memory usage: 18.9+ KB\n"
     ]
    }
   ],
   "source": [
    "df.info()"
   ]
  },
  {
   "cell_type": "code",
   "execution_count": 60,
   "metadata": {
    "ExecuteTime": {
     "end_time": "2023-06-30T07:47:38.983092Z",
     "start_time": "2023-06-30T07:47:38.966631Z"
    }
   },
   "outputs": [],
   "source": [
    "import numpy as np\n",
    "import tensorflow as tf\n",
    "import matplotlib.pyplot as plt\n",
    "from tensorflow.keras.datasets import reuters\n",
    "from tensorflow.keras.models import Sequential\n",
    "from tensorflow.keras.layers import Dense, LSTM, Embedding, Dropout, Activation, Conv1D, MaxPooling1D, GlobalMaxPooling1D , Input\n",
    "from tensorflow.keras.preprocessing import sequence\n",
    "from tensorflow.keras.utils import to_categorical\n",
    "from tensorflow.keras.datasets import imdb\n",
    "from tensorflow.keras.optimizers import SGD\n",
    "from sklearn.model_selection import train_test_split\n",
    "from sklearn.metrics import confusion_matrix, precision_score, recall_score, accuracy_score, f1_score, roc_auc_score"
   ]
  },
  {
   "cell_type": "code",
   "execution_count": 43,
   "metadata": {
    "ExecuteTime": {
     "end_time": "2023-06-30T07:48:52.103373Z",
     "start_time": "2023-06-30T07:48:49.541242Z"
    }
   },
   "outputs": [],
   "source": [
    "dh_embedding = []\n",
    "oil_embedding = []\n",
    "for i in df['dh_embedding']:\n",
    "    dh_embedding.append(eval(i))\n",
    "    # print(eval(i))\n",
    "for i in df['oil_embedding']:\n",
    "    oil_embedding.append(eval(i))\n",
    "df['dh_embedding_1']= dh_embedding\n",
    "df['dh_embedding_2']= oil_embedding"
   ]
  },
  {
   "cell_type": "code",
   "execution_count": 116,
   "metadata": {},
   "outputs": [
    {
     "data": {
      "text/plain": [
       "0      [-0.14264455437660217, 0.05831192433834076, 0....\n",
       "1      [-0.15551824867725372, -0.03494337573647499, 0...\n",
       "2      [-0.6354258060455322, -0.365503191947937, 0.98...\n",
       "3      [1.2611210346221924, -1.2480064630508423, 0.56...\n",
       "4      [-1.170987844467163, -0.04770953953266144, 0.0...\n",
       "                             ...                        \n",
       "479    [-0.8856520056724548, 0.06582590192556381, 0.2...\n",
       "480    [-0.7657447457313538, 1.1281311511993408, -2.1...\n",
       "481    [-0.12134005129337311, -0.26261863112449646, 1...\n",
       "482    [0.152285635471344, -0.14103375375270844, 0.35...\n",
       "483    [-0.13556396961212158, 0.7741327285766602, 0.7...\n",
       "Name: dh_embedding_1, Length: 484, dtype: object"
      ]
     },
     "execution_count": 116,
     "metadata": {},
     "output_type": "execute_result"
    }
   ],
   "source": [
    "df['dh_embedding_1']"
   ]
  },
  {
   "cell_type": "code",
   "execution_count": 44,
   "metadata": {
    "ExecuteTime": {
     "end_time": "2023-06-30T07:48:58.612166Z",
     "start_time": "2023-06-30T07:48:58.587149Z"
    }
   },
   "outputs": [
    {
     "name": "stdout",
     "output_type": "stream",
     "text": [
      "<class 'pandas.core.frame.DataFrame'>\n",
      "Index: 484 entries, 0 to 483\n",
      "Data columns (total 6 columns):\n",
      " #   Column          Non-Null Count  Dtype \n",
      "---  ------          --------------  ----- \n",
      " 0   predict_date    484 non-null    object\n",
      " 1   dh_embedding    484 non-null    object\n",
      " 2   oil_embedding   484 non-null    object\n",
      " 3   target          484 non-null    int64 \n",
      " 4   dh_embedding_1  484 non-null    object\n",
      " 5   dh_embedding_2  484 non-null    object\n",
      "dtypes: int64(1), object(5)\n",
      "memory usage: 26.5+ KB\n"
     ]
    }
   ],
   "source": [
    "df.info()"
   ]
  },
  {
   "cell_type": "code",
   "execution_count": 45,
   "metadata": {
    "ExecuteTime": {
     "end_time": "2023-06-30T07:49:54.569197Z",
     "start_time": "2023-06-30T07:49:53.902221Z"
    }
   },
   "outputs": [],
   "source": [
    "df_result = pd.DataFrame()\n",
    "for i in range(len(df)):\n",
    "#     print(pd.DataFrame(list(X_train['dh_embedding_1'])[i]).T)\n",
    "    \n",
    "    df_result= pd.concat([df_result, pd.DataFrame(list(df['dh_embedding_1'])[i]).T], ignore_index = True)\n",
    "    "
   ]
  },
  {
   "cell_type": "code",
   "execution_count": 46,
   "metadata": {
    "ExecuteTime": {
     "end_time": "2023-06-30T07:50:01.752784Z",
     "start_time": "2023-06-30T07:50:01.710971Z"
    }
   },
   "outputs": [
    {
     "data": {
      "text/html": [
       "<div>\n",
       "<style scoped>\n",
       "    .dataframe tbody tr th:only-of-type {\n",
       "        vertical-align: middle;\n",
       "    }\n",
       "\n",
       "    .dataframe tbody tr th {\n",
       "        vertical-align: top;\n",
       "    }\n",
       "\n",
       "    .dataframe thead th {\n",
       "        text-align: right;\n",
       "    }\n",
       "</style>\n",
       "<table border=\"1\" class=\"dataframe\">\n",
       "  <thead>\n",
       "    <tr style=\"text-align: right;\">\n",
       "      <th></th>\n",
       "      <th>0</th>\n",
       "      <th>1</th>\n",
       "      <th>2</th>\n",
       "      <th>3</th>\n",
       "      <th>4</th>\n",
       "      <th>5</th>\n",
       "      <th>6</th>\n",
       "      <th>7</th>\n",
       "      <th>8</th>\n",
       "      <th>9</th>\n",
       "      <th>...</th>\n",
       "      <th>758</th>\n",
       "      <th>759</th>\n",
       "      <th>760</th>\n",
       "      <th>761</th>\n",
       "      <th>762</th>\n",
       "      <th>763</th>\n",
       "      <th>764</th>\n",
       "      <th>765</th>\n",
       "      <th>766</th>\n",
       "      <th>767</th>\n",
       "    </tr>\n",
       "  </thead>\n",
       "  <tbody>\n",
       "    <tr>\n",
       "      <th>0</th>\n",
       "      <td>-0.142645</td>\n",
       "      <td>0.058312</td>\n",
       "      <td>0.502249</td>\n",
       "      <td>-0.395464</td>\n",
       "      <td>0.771435</td>\n",
       "      <td>0.228411</td>\n",
       "      <td>0.204277</td>\n",
       "      <td>1.168756</td>\n",
       "      <td>-0.467592</td>\n",
       "      <td>0.532602</td>\n",
       "      <td>...</td>\n",
       "      <td>2.260043</td>\n",
       "      <td>0.291681</td>\n",
       "      <td>0.939041</td>\n",
       "      <td>1.198350</td>\n",
       "      <td>-1.234513</td>\n",
       "      <td>-0.150275</td>\n",
       "      <td>-0.594508</td>\n",
       "      <td>-0.730109</td>\n",
       "      <td>1.301838</td>\n",
       "      <td>0.986439</td>\n",
       "    </tr>\n",
       "    <tr>\n",
       "      <th>1</th>\n",
       "      <td>-0.155518</td>\n",
       "      <td>-0.034943</td>\n",
       "      <td>0.687456</td>\n",
       "      <td>-0.375169</td>\n",
       "      <td>0.865305</td>\n",
       "      <td>1.222545</td>\n",
       "      <td>0.709885</td>\n",
       "      <td>1.500067</td>\n",
       "      <td>-0.622607</td>\n",
       "      <td>-0.418989</td>\n",
       "      <td>...</td>\n",
       "      <td>1.089634</td>\n",
       "      <td>0.547094</td>\n",
       "      <td>1.118910</td>\n",
       "      <td>0.274835</td>\n",
       "      <td>-1.004895</td>\n",
       "      <td>0.415038</td>\n",
       "      <td>-0.704613</td>\n",
       "      <td>-0.159059</td>\n",
       "      <td>0.678813</td>\n",
       "      <td>0.640120</td>\n",
       "    </tr>\n",
       "    <tr>\n",
       "      <th>2</th>\n",
       "      <td>-0.635426</td>\n",
       "      <td>-0.365503</td>\n",
       "      <td>0.980052</td>\n",
       "      <td>-1.194645</td>\n",
       "      <td>0.973225</td>\n",
       "      <td>-0.346883</td>\n",
       "      <td>1.668483</td>\n",
       "      <td>0.297069</td>\n",
       "      <td>-0.350540</td>\n",
       "      <td>0.624635</td>\n",
       "      <td>...</td>\n",
       "      <td>1.335577</td>\n",
       "      <td>-0.402616</td>\n",
       "      <td>0.515464</td>\n",
       "      <td>-0.167068</td>\n",
       "      <td>-0.806888</td>\n",
       "      <td>-0.482472</td>\n",
       "      <td>-0.440040</td>\n",
       "      <td>-0.389443</td>\n",
       "      <td>-0.728657</td>\n",
       "      <td>0.464612</td>\n",
       "    </tr>\n",
       "    <tr>\n",
       "      <th>3</th>\n",
       "      <td>1.261121</td>\n",
       "      <td>-1.248006</td>\n",
       "      <td>0.568895</td>\n",
       "      <td>-0.861560</td>\n",
       "      <td>0.287205</td>\n",
       "      <td>0.114459</td>\n",
       "      <td>0.611415</td>\n",
       "      <td>-1.042778</td>\n",
       "      <td>-0.210525</td>\n",
       "      <td>-0.118655</td>\n",
       "      <td>...</td>\n",
       "      <td>0.566496</td>\n",
       "      <td>1.365747</td>\n",
       "      <td>0.323337</td>\n",
       "      <td>-0.906803</td>\n",
       "      <td>-2.814091</td>\n",
       "      <td>-1.201030</td>\n",
       "      <td>-0.486176</td>\n",
       "      <td>0.991447</td>\n",
       "      <td>0.299686</td>\n",
       "      <td>0.616848</td>\n",
       "    </tr>\n",
       "    <tr>\n",
       "      <th>4</th>\n",
       "      <td>-1.170988</td>\n",
       "      <td>-0.047710</td>\n",
       "      <td>0.071303</td>\n",
       "      <td>-1.752271</td>\n",
       "      <td>1.311886</td>\n",
       "      <td>-0.679386</td>\n",
       "      <td>1.477055</td>\n",
       "      <td>0.875036</td>\n",
       "      <td>-0.596980</td>\n",
       "      <td>-0.380094</td>\n",
       "      <td>...</td>\n",
       "      <td>0.582101</td>\n",
       "      <td>-0.099644</td>\n",
       "      <td>1.437210</td>\n",
       "      <td>-0.360357</td>\n",
       "      <td>-0.239067</td>\n",
       "      <td>-0.242944</td>\n",
       "      <td>-0.570409</td>\n",
       "      <td>-0.318060</td>\n",
       "      <td>0.072375</td>\n",
       "      <td>0.683568</td>\n",
       "    </tr>\n",
       "    <tr>\n",
       "      <th>...</th>\n",
       "      <td>...</td>\n",
       "      <td>...</td>\n",
       "      <td>...</td>\n",
       "      <td>...</td>\n",
       "      <td>...</td>\n",
       "      <td>...</td>\n",
       "      <td>...</td>\n",
       "      <td>...</td>\n",
       "      <td>...</td>\n",
       "      <td>...</td>\n",
       "      <td>...</td>\n",
       "      <td>...</td>\n",
       "      <td>...</td>\n",
       "      <td>...</td>\n",
       "      <td>...</td>\n",
       "      <td>...</td>\n",
       "      <td>...</td>\n",
       "      <td>...</td>\n",
       "      <td>...</td>\n",
       "      <td>...</td>\n",
       "      <td>...</td>\n",
       "    </tr>\n",
       "    <tr>\n",
       "      <th>479</th>\n",
       "      <td>-0.885652</td>\n",
       "      <td>0.065826</td>\n",
       "      <td>0.236787</td>\n",
       "      <td>-0.912471</td>\n",
       "      <td>0.724703</td>\n",
       "      <td>-1.100561</td>\n",
       "      <td>0.984007</td>\n",
       "      <td>2.174856</td>\n",
       "      <td>-0.921371</td>\n",
       "      <td>0.367693</td>\n",
       "      <td>...</td>\n",
       "      <td>1.437214</td>\n",
       "      <td>0.367731</td>\n",
       "      <td>0.453068</td>\n",
       "      <td>-0.202274</td>\n",
       "      <td>-0.392434</td>\n",
       "      <td>0.023001</td>\n",
       "      <td>0.453143</td>\n",
       "      <td>0.947777</td>\n",
       "      <td>0.550589</td>\n",
       "      <td>-0.501481</td>\n",
       "    </tr>\n",
       "    <tr>\n",
       "      <th>480</th>\n",
       "      <td>-0.765745</td>\n",
       "      <td>1.128131</td>\n",
       "      <td>-2.101217</td>\n",
       "      <td>-0.525943</td>\n",
       "      <td>0.398868</td>\n",
       "      <td>0.032515</td>\n",
       "      <td>0.605137</td>\n",
       "      <td>0.121631</td>\n",
       "      <td>-1.375852</td>\n",
       "      <td>1.717429</td>\n",
       "      <td>...</td>\n",
       "      <td>1.574709</td>\n",
       "      <td>0.098423</td>\n",
       "      <td>-0.062640</td>\n",
       "      <td>-0.582449</td>\n",
       "      <td>-1.007566</td>\n",
       "      <td>-1.189145</td>\n",
       "      <td>-0.121193</td>\n",
       "      <td>0.146802</td>\n",
       "      <td>1.193322</td>\n",
       "      <td>0.016205</td>\n",
       "    </tr>\n",
       "    <tr>\n",
       "      <th>481</th>\n",
       "      <td>-0.121340</td>\n",
       "      <td>-0.262619</td>\n",
       "      <td>1.023851</td>\n",
       "      <td>-0.836520</td>\n",
       "      <td>-0.082518</td>\n",
       "      <td>-1.132213</td>\n",
       "      <td>1.289689</td>\n",
       "      <td>0.779423</td>\n",
       "      <td>0.154237</td>\n",
       "      <td>1.179057</td>\n",
       "      <td>...</td>\n",
       "      <td>1.617075</td>\n",
       "      <td>0.001534</td>\n",
       "      <td>-0.166116</td>\n",
       "      <td>-1.584017</td>\n",
       "      <td>-1.998227</td>\n",
       "      <td>-0.240193</td>\n",
       "      <td>-0.267531</td>\n",
       "      <td>0.210852</td>\n",
       "      <td>-0.476874</td>\n",
       "      <td>1.060944</td>\n",
       "    </tr>\n",
       "    <tr>\n",
       "      <th>482</th>\n",
       "      <td>0.152286</td>\n",
       "      <td>-0.141034</td>\n",
       "      <td>0.351553</td>\n",
       "      <td>-1.355199</td>\n",
       "      <td>-0.291024</td>\n",
       "      <td>-0.129728</td>\n",
       "      <td>0.986744</td>\n",
       "      <td>1.414943</td>\n",
       "      <td>-0.714244</td>\n",
       "      <td>-0.449911</td>\n",
       "      <td>...</td>\n",
       "      <td>0.960871</td>\n",
       "      <td>-0.495753</td>\n",
       "      <td>1.586923</td>\n",
       "      <td>0.144836</td>\n",
       "      <td>-0.807374</td>\n",
       "      <td>-1.080836</td>\n",
       "      <td>-0.386331</td>\n",
       "      <td>-0.454861</td>\n",
       "      <td>0.129780</td>\n",
       "      <td>1.640183</td>\n",
       "    </tr>\n",
       "    <tr>\n",
       "      <th>483</th>\n",
       "      <td>-0.135564</td>\n",
       "      <td>0.774133</td>\n",
       "      <td>0.704452</td>\n",
       "      <td>-0.082693</td>\n",
       "      <td>0.851635</td>\n",
       "      <td>0.730993</td>\n",
       "      <td>0.401931</td>\n",
       "      <td>1.102579</td>\n",
       "      <td>-0.670639</td>\n",
       "      <td>0.096674</td>\n",
       "      <td>...</td>\n",
       "      <td>1.327255</td>\n",
       "      <td>0.694830</td>\n",
       "      <td>0.398332</td>\n",
       "      <td>0.307883</td>\n",
       "      <td>-0.881942</td>\n",
       "      <td>0.137444</td>\n",
       "      <td>-1.244406</td>\n",
       "      <td>0.139793</td>\n",
       "      <td>1.132673</td>\n",
       "      <td>0.792517</td>\n",
       "    </tr>\n",
       "  </tbody>\n",
       "</table>\n",
       "<p>484 rows × 768 columns</p>\n",
       "</div>"
      ],
      "text/plain": [
       "          0         1         2         3         4         5         6     \n",
       "0   -0.142645  0.058312  0.502249 -0.395464  0.771435  0.228411  0.204277  \\\n",
       "1   -0.155518 -0.034943  0.687456 -0.375169  0.865305  1.222545  0.709885   \n",
       "2   -0.635426 -0.365503  0.980052 -1.194645  0.973225 -0.346883  1.668483   \n",
       "3    1.261121 -1.248006  0.568895 -0.861560  0.287205  0.114459  0.611415   \n",
       "4   -1.170988 -0.047710  0.071303 -1.752271  1.311886 -0.679386  1.477055   \n",
       "..        ...       ...       ...       ...       ...       ...       ...   \n",
       "479 -0.885652  0.065826  0.236787 -0.912471  0.724703 -1.100561  0.984007   \n",
       "480 -0.765745  1.128131 -2.101217 -0.525943  0.398868  0.032515  0.605137   \n",
       "481 -0.121340 -0.262619  1.023851 -0.836520 -0.082518 -1.132213  1.289689   \n",
       "482  0.152286 -0.141034  0.351553 -1.355199 -0.291024 -0.129728  0.986744   \n",
       "483 -0.135564  0.774133  0.704452 -0.082693  0.851635  0.730993  0.401931   \n",
       "\n",
       "          7         8         9    ...       758       759       760   \n",
       "0    1.168756 -0.467592  0.532602  ...  2.260043  0.291681  0.939041  \\\n",
       "1    1.500067 -0.622607 -0.418989  ...  1.089634  0.547094  1.118910   \n",
       "2    0.297069 -0.350540  0.624635  ...  1.335577 -0.402616  0.515464   \n",
       "3   -1.042778 -0.210525 -0.118655  ...  0.566496  1.365747  0.323337   \n",
       "4    0.875036 -0.596980 -0.380094  ...  0.582101 -0.099644  1.437210   \n",
       "..        ...       ...       ...  ...       ...       ...       ...   \n",
       "479  2.174856 -0.921371  0.367693  ...  1.437214  0.367731  0.453068   \n",
       "480  0.121631 -1.375852  1.717429  ...  1.574709  0.098423 -0.062640   \n",
       "481  0.779423  0.154237  1.179057  ...  1.617075  0.001534 -0.166116   \n",
       "482  1.414943 -0.714244 -0.449911  ...  0.960871 -0.495753  1.586923   \n",
       "483  1.102579 -0.670639  0.096674  ...  1.327255  0.694830  0.398332   \n",
       "\n",
       "          761       762       763       764       765       766       767  \n",
       "0    1.198350 -1.234513 -0.150275 -0.594508 -0.730109  1.301838  0.986439  \n",
       "1    0.274835 -1.004895  0.415038 -0.704613 -0.159059  0.678813  0.640120  \n",
       "2   -0.167068 -0.806888 -0.482472 -0.440040 -0.389443 -0.728657  0.464612  \n",
       "3   -0.906803 -2.814091 -1.201030 -0.486176  0.991447  0.299686  0.616848  \n",
       "4   -0.360357 -0.239067 -0.242944 -0.570409 -0.318060  0.072375  0.683568  \n",
       "..        ...       ...       ...       ...       ...       ...       ...  \n",
       "479 -0.202274 -0.392434  0.023001  0.453143  0.947777  0.550589 -0.501481  \n",
       "480 -0.582449 -1.007566 -1.189145 -0.121193  0.146802  1.193322  0.016205  \n",
       "481 -1.584017 -1.998227 -0.240193 -0.267531  0.210852 -0.476874  1.060944  \n",
       "482  0.144836 -0.807374 -1.080836 -0.386331 -0.454861  0.129780  1.640183  \n",
       "483  0.307883 -0.881942  0.137444 -1.244406  0.139793  1.132673  0.792517  \n",
       "\n",
       "[484 rows x 768 columns]"
      ]
     },
     "execution_count": 46,
     "metadata": {},
     "output_type": "execute_result"
    }
   ],
   "source": [
    "df_result"
   ]
  },
  {
   "cell_type": "code",
   "execution_count": 47,
   "metadata": {
    "ExecuteTime": {
     "end_time": "2023-06-30T07:46:11.406898Z",
     "start_time": "2023-06-30T07:46:11.384595Z"
    }
   },
   "outputs": [
    {
     "data": {
      "text/plain": [
       "0      0\n",
       "1      0\n",
       "2      0\n",
       "3      0\n",
       "4      0\n",
       "      ..\n",
       "479    0\n",
       "480    1\n",
       "481    1\n",
       "482    1\n",
       "483    0\n",
       "Name: target, Length: 484, dtype: int64"
      ]
     },
     "execution_count": 47,
     "metadata": {},
     "output_type": "execute_result"
    }
   ],
   "source": [
    "df['target']"
   ]
  },
  {
   "cell_type": "code",
   "execution_count": 48,
   "metadata": {
    "ExecuteTime": {
     "end_time": "2023-06-30T07:50:08.512364Z",
     "start_time": "2023-06-30T07:50:08.490343Z"
    }
   },
   "outputs": [],
   "source": [
    "X_train, X_test, y_train, y_test = train_test_split(df_result, df['target'], test_size = 0.2, random_state = 1, stratify = df['target'])"
   ]
  },
  {
   "cell_type": "code",
   "execution_count": 49,
   "metadata": {
    "ExecuteTime": {
     "end_time": "2023-06-30T08:19:58.822114Z",
     "start_time": "2023-06-30T08:19:58.809902Z"
    }
   },
   "outputs": [
    {
     "data": {
      "text/plain": [
       "(387, 768)"
      ]
     },
     "execution_count": 49,
     "metadata": {},
     "output_type": "execute_result"
    }
   ],
   "source": [
    "X_train.shape"
   ]
  },
  {
   "cell_type": "code",
   "execution_count": 50,
   "metadata": {
    "ExecuteTime": {
     "end_time": "2023-06-30T07:51:04.318691Z",
     "start_time": "2023-06-30T07:51:04.305101Z"
    }
   },
   "outputs": [],
   "source": [
    "def make_dataset(data, label, window_size=20):\n",
    "    feature_list = []\n",
    "    label_list = []\n",
    "    for i in range(len(data) - window_size):\n",
    "        feature_list.append(np.array(data.iloc[i:i+window_size]))\n",
    "        label_list.append(np.array(label.iloc[i+window_size]))\n",
    "    return np.array(feature_list), np.array(label_list)"
   ]
  },
  {
   "cell_type": "code",
   "execution_count": 51,
   "metadata": {
    "ExecuteTime": {
     "end_time": "2023-06-30T08:18:33.480845Z",
     "start_time": "2023-06-30T08:18:33.470178Z"
    }
   },
   "outputs": [],
   "source": [
    "import tensorflow as tf"
   ]
  },
  {
   "cell_type": "code",
   "execution_count": 52,
   "metadata": {
    "ExecuteTime": {
     "end_time": "2023-06-30T08:22:21.788903Z",
     "start_time": "2023-06-30T08:22:21.773420Z"
    }
   },
   "outputs": [
    {
     "name": "stdout",
     "output_type": "stream",
     "text": [
      "원본 차원 정보 : (387, 768)\n",
      "변경된 차원 정보 : (387, 768, 1)\n"
     ]
    }
   ],
   "source": [
    "x_train_ex = tf.expand_dims(X_train, axis=2)\n",
    "x_test_ex = tf.expand_dims(X_test, axis=2)\n",
    "\n",
    "print('원본 차원 정보 :',X_train.shape) #=> 원본 차원 정보 : (3998, 140)\n",
    "print('변경된 차원 정보 :',x_train_ex.shape) #=> 변경된 차원 정보 : (3998, 140, 1)\n",
    "\n",
    "# (3998, 140, 1)는 각각 아래의 의미를 가진다.\n",
    "# (데이터 개수, Sequence 길이, Input Vector 길이)"
   ]
  },
  {
   "cell_type": "code",
   "execution_count": 53,
   "metadata": {
    "ExecuteTime": {
     "end_time": "2023-06-30T08:23:23.155245Z",
     "start_time": "2023-06-30T08:23:22.326570Z"
    }
   },
   "outputs": [],
   "source": [
    "from tensorflow.keras import layers\n",
    "model = tf.keras.Sequential([\n",
    "    layers.LSTM(100, return_sequences=True, input_shape=(x_train_ex.shape[1], x_train_ex.shape[2])),\n",
    "    layers.Dropout(0.25),\n",
    "    layers.Bidirectional(layers.LSTM(100)),\n",
    "    layers.Dropout(0.25),\n",
    "    layers.Dense(1, activation='sigmoid')\n",
    "])"
   ]
  },
  {
   "cell_type": "code",
   "execution_count": 54,
   "metadata": {
    "ExecuteTime": {
     "end_time": "2023-06-30T08:24:18.831690Z",
     "start_time": "2023-06-30T08:24:18.817644Z"
    }
   },
   "outputs": [],
   "source": [
    "model.compile(loss = 'binary_crossentropy',\n",
    "              optimizer=tf.keras.optimizers.Adam(learning_rate=0.001))"
   ]
  },
  {
   "cell_type": "code",
   "execution_count": 55,
   "metadata": {
    "ExecuteTime": {
     "start_time": "2023-06-30T08:24:42.666Z"
    }
   },
   "outputs": [
    {
     "name": "stdout",
     "output_type": "stream",
     "text": [
      "Epoch 1/30\n"
     ]
    },
    {
     "name": "stdout",
     "output_type": "stream",
     "text": [
      "4/4 [==============================] - 98s 23s/step - loss: 0.6905 - val_loss: 0.6826\n",
      "Epoch 2/30\n",
      "4/4 [==============================] - 117s 27s/step - loss: 0.6801 - val_loss: 0.6814\n",
      "Epoch 3/30\n",
      "4/4 [==============================] - 107s 25s/step - loss: 0.6865 - val_loss: 0.6823\n",
      "Epoch 4/30\n",
      "4/4 [==============================] - 115s 26s/step - loss: 0.6814 - val_loss: 0.6791\n",
      "Epoch 5/30\n",
      "4/4 [==============================] - 129s 29s/step - loss: 0.6801 - val_loss: 0.6793\n",
      "Epoch 6/30\n",
      "4/4 [==============================] - 134s 31s/step - loss: 0.6800 - val_loss: 0.6803\n",
      "Epoch 7/30\n",
      "4/4 [==============================] - 134s 31s/step - loss: 0.6802 - val_loss: 0.6796\n",
      "Epoch 8/30\n",
      "4/4 [==============================] - 130s 29s/step - loss: 0.6800 - val_loss: 0.6797\n",
      "Epoch 9/30\n",
      "4/4 [==============================] - 71s 17s/step - loss: 0.6809 - val_loss: 0.6807\n",
      "Epoch 10/30\n",
      "4/4 [==============================] - 76s 18s/step - loss: 0.6803 - val_loss: 0.6808\n",
      "Epoch 11/30\n",
      "4/4 [==============================] - 93s 21s/step - loss: 0.6807 - val_loss: 0.6816\n",
      "Epoch 12/30\n",
      "4/4 [==============================] - 93s 22s/step - loss: 0.6825 - val_loss: 0.6820\n",
      "Epoch 13/30\n",
      "4/4 [==============================] - 103s 25s/step - loss: 0.6831 - val_loss: 0.6832\n",
      "Epoch 14/30\n",
      "4/4 [==============================] - 101s 23s/step - loss: 0.6834 - val_loss: 0.6826\n",
      "Epoch 15/30\n",
      "4/4 [==============================] - 102s 24s/step - loss: 0.6823 - val_loss: 0.6809\n",
      "Epoch 16/30\n",
      "4/4 [==============================] - 115s 27s/step - loss: 0.6817 - val_loss: 0.6799\n",
      "Epoch 17/30\n",
      "4/4 [==============================] - 180s 41s/step - loss: 0.6800 - val_loss: 0.6795\n",
      "Epoch 18/30\n",
      "4/4 [==============================] - 146s 36s/step - loss: 0.6800 - val_loss: 0.6796\n",
      "Epoch 19/30\n",
      "4/4 [==============================] - 197s 45s/step - loss: 0.6793 - val_loss: 0.6800\n",
      "Epoch 20/30\n",
      "4/4 [==============================] - 196s 45s/step - loss: 0.6816 - val_loss: 0.6820\n",
      "Epoch 21/30\n",
      "4/4 [==============================] - 179s 40s/step - loss: 0.6827 - val_loss: 0.6837\n",
      "Epoch 22/30\n",
      "4/4 [==============================] - 189s 42s/step - loss: 0.6840 - val_loss: 0.6836\n",
      "Epoch 23/30\n",
      "4/4 [==============================] - 195s 45s/step - loss: 0.6827 - val_loss: 0.6828\n",
      "Epoch 24/30\n",
      "4/4 [==============================] - 166s 34s/step - loss: 0.6828 - val_loss: 0.6823\n",
      "Epoch 25/30\n",
      "4/4 [==============================] - 85s 20s/step - loss: 0.6818 - val_loss: 0.6816\n",
      "Epoch 26/30\n",
      "4/4 [==============================] - 91s 22s/step - loss: 0.6823 - val_loss: 0.6802\n",
      "Epoch 27/30\n",
      "4/4 [==============================] - 104s 24s/step - loss: 0.6787 - val_loss: 0.6795\n",
      "Epoch 28/30\n",
      "4/4 [==============================] - 98s 22s/step - loss: 0.6822 - val_loss: 0.6848\n",
      "Epoch 29/30\n",
      "4/4 [==============================] - 105s 25s/step - loss: 0.6861 - val_loss: 0.6802\n",
      "Epoch 30/30\n",
      "4/4 [==============================] - 101s 23s/step - loss: 0.6814 - val_loss: 0.6789\n"
     ]
    }
   ],
   "source": [
    "training_record = model.fit(x_train_ex, y_train,\n",
    "                    epochs=30,\n",
    "                    batch_size=128,\n",
    "                    validation_data=(x_train_ex, y_train),\n",
    "                    shuffle=True)"
   ]
  },
  {
   "cell_type": "code",
   "execution_count": 56,
   "metadata": {},
   "outputs": [
    {
     "name": "stdout",
     "output_type": "stream",
     "text": [
      "4/4 [==============================] - 2s 370ms/step\n"
     ]
    }
   ],
   "source": [
    "pred_proba = model.predict(x_test_ex)"
   ]
  },
  {
   "cell_type": "code",
   "execution_count": 57,
   "metadata": {},
   "outputs": [
    {
     "data": {
      "image/png": "[encoded data removed]",
      "text/plain": [
       "<Figure size 640x480 with 1 Axes>"
      ]
     },
     "metadata": {},
     "output_type": "display_data"
    }
   ],
   "source": [
    "fig, ax = plt.subplots()\n",
    "plt.plot(training_record.history[\"loss\"], label=\"Training Loss\")\n",
    "plt.plot(training_record.history[\"val_loss\"], label=\"Validation Loss\")\n",
    "plt.legend()\n",
    "fig.suptitle(\"Loss\")\n",
    "plt.show()"
   ]
  },
  {
   "cell_type": "code",
   "execution_count": 93,
   "metadata": {},
   "outputs": [],
   "source": [
    "# 2차원인 pred_proba를 1차원으로 변경해준다 (1000,1)=>(1000)\n",
    "pred_proba_1d = pred_proba.reshape(-1)\n",
    "\n",
    "# 임계치 이상이면 True 미만이면 False를 부여한다.\n",
    "threshold = 0.449\n",
    "pred = (pred_proba_1d >= threshold)"
   ]
  },
  {
   "cell_type": "code",
   "execution_count": 94,
   "metadata": {},
   "outputs": [
    {
     "name": "stdout",
     "output_type": "stream",
     "text": [
      "Accuracy: 0.5670103092783505\n",
      "Precision = 0.444\n",
      "Recall = 0.098\n",
      "f1 score = 0.16\n"
     ]
    }
   ],
   "source": [
    "# Compute the metrics\n",
    "accuracy_test_rnn= accuracy_score(y_test, pred)\n",
    "print(f'Accuracy: {accuracy_test_rnn}')\n",
    "#=> Accuracy: 0.988\n",
    "\n",
    "precision_test_rnn=precision_score(y_test, pred)\n",
    "print(f'Precision = {round(precision_test_rnn,3)}')\n",
    "#=> Precision = 0.99\n",
    "\n",
    "recall_test_rnn=recall_score(y_test, pred)\n",
    "print(f'Recall = {round(recall_test_rnn,3)}')\n",
    "#=> Recall = 0.99\n",
    "\n",
    "f1_test_rnn=f1_score(y_test, pred)\n",
    "print(f'f1 score = {round(f1_test_rnn,3)}')"
   ]
  },
  {
   "cell_type": "code",
   "execution_count": 95,
   "metadata": {},
   "outputs": [
    {
     "data": {
      "text/plain": [
       "array([False, False,  True,  True, False, False, False, False, False,\n",
       "       False, False,  True,  True,  True, False, False, False, False,\n",
       "       False, False, False, False, False, False, False,  True, False,\n",
       "       False, False, False, False, False, False, False, False, False,\n",
       "        True, False, False, False, False, False, False, False, False,\n",
       "       False, False, False, False, False, False, False, False, False,\n",
       "       False, False, False, False, False, False, False, False, False,\n",
       "       False, False, False, False, False,  True, False, False, False,\n",
       "       False, False, False, False, False, False, False,  True, False,\n",
       "       False, False, False, False, False, False, False, False, False,\n",
       "       False, False, False, False, False, False, False])"
      ]
     },
     "execution_count": 95,
     "metadata": {},
     "output_type": "execute_result"
    }
   ],
   "source": [
    "pred"
   ]
  },
  {
   "cell_type": "code",
   "execution_count": 118,
   "metadata": {},
   "outputs": [],
   "source": [
    "# 모델을 저장하는 코드\n",
    "model.save('pretrained_model.h5')"
   ]
  },
  {
   "cell_type": "code",
   "execution_count": 119,
   "metadata": {},
   "outputs": [],
   "source": [
    "df_result = pd.DataFrame()\n",
    "for i in range(len(df)):\n",
    "#     print(pd.DataFrame(list(X_train['dh_embedding_1'])[i]).T)\n",
    "    \n",
    "    df_result= pd.concat([df_result, pd.DataFrame(list(df['dh_embedding_2'])[i]).T], ignore_index = True)"
   ]
  },
  {
   "cell_type": "code",
   "execution_count": 120,
   "metadata": {},
   "outputs": [],
   "source": [
    "X_train, X_test, y_train, y_test = train_test_split(df_result, df['target'], test_size = 0.2, random_state = 1, stratify = df['target'])"
   ]
  },
  {
   "cell_type": "code",
   "execution_count": 121,
   "metadata": {},
   "outputs": [
    {
     "name": "stdout",
     "output_type": "stream",
     "text": [
      "원본 차원 정보 : (387, 768)\n",
      "변경된 차원 정보 : (387, 768, 1)\n"
     ]
    }
   ],
   "source": [
    "x_train_ex = tf.expand_dims(X_train, axis=2)\n",
    "x_test_ex = tf.expand_dims(X_test, axis=2)\n",
    "\n",
    "print('원본 차원 정보 :',X_train.shape) #=> 원본 차원 정보 : (3998, 140)\n",
    "print('변경된 차원 정보 :',x_train_ex.shape) #=> 변경된 차원 정보 : (3998, 140, 1)\n",
    "\n",
    "# (3998, 140, 1)는 각각 아래의 의미를 가진다.\n",
    "# (데이터 개수, Sequence 길이, Input Vector 길이)"
   ]
  },
  {
   "cell_type": "code",
   "execution_count": 127,
   "metadata": {},
   "outputs": [
    {
     "ename": "TypeError",
     "evalue": "load_model() got an unexpected keyword argument 'encoded_path'",
     "output_type": "error",
     "traceback": [
      "\u001b[1;31m---------------------------------------------------------------------------\u001b[0m",
      "\u001b[1;31mTypeError\u001b[0m                                 Traceback (most recent call last)",
      "Cell \u001b[1;32mIn[127], line 4\u001b[0m\n\u001b[0;32m      1\u001b[0m \u001b[39m# 1. 기존에 학습한 모델 불러오기\u001b[39;00m\n\u001b[0;32m      2\u001b[0m \u001b[39mfrom\u001b[39;00m \u001b[39mtensorflow\u001b[39;00m\u001b[39m.\u001b[39;00m\u001b[39mkeras\u001b[39;00m\u001b[39m.\u001b[39;00m\u001b[39mmodels\u001b[39;00m \u001b[39mimport\u001b[39;00m load_model\n\u001b[1;32m----> 4\u001b[0m pretrained_model \u001b[39m=\u001b[39m load_model(\u001b[39m'\u001b[39;49m\u001b[39m./pretrained_model.h5\u001b[39;49m\u001b[39m'\u001b[39;49m,\u001b[39mcompile\u001b[39;49m\u001b[39m=\u001b[39;49m\u001b[39mFalse\u001b[39;49;00m,encoded_path\u001b[39m=\u001b[39;49m\u001b[39m'\u001b[39;49m\u001b[39meuc-kr\u001b[39;49m\u001b[39m'\u001b[39;49m)\n\u001b[0;32m      5\u001b[0m \u001b[39m# pretrained_model = load_model('./pretrained_model.h5')\u001b[39;00m\n\u001b[0;32m      6\u001b[0m \u001b[39m# pretrained_model = load_model('pretrained_model.h5', compile=False, encoding='euc-kr')\u001b[39;00m\n\u001b[0;32m      7\u001b[0m \u001b[39m# file_path = r'pretrained_model.h5'\u001b[39;00m\n\u001b[1;32m   (...)\u001b[0m\n\u001b[0;32m     21\u001b[0m \n\u001b[0;32m     22\u001b[0m \u001b[39m# 2. 모델의 일부 층 동결\u001b[39;00m\n\u001b[0;32m     23\u001b[0m \u001b[39mfor\u001b[39;00m layer \u001b[39min\u001b[39;00m pretrained_model\u001b[39m.\u001b[39mlayers:\n",
      "File \u001b[1;32mc:\\Users\\duja1\\AppData\\Local\\Programs\\Python\\Python310\\lib\\site-packages\\keras\\saving\\saving_api.py:212\u001b[0m, in \u001b[0;36mload_model\u001b[1;34m(filepath, custom_objects, compile, safe_mode, **kwargs)\u001b[0m\n\u001b[0;32m    204\u001b[0m     \u001b[39mreturn\u001b[39;00m saving_lib\u001b[39m.\u001b[39mload_model(\n\u001b[0;32m    205\u001b[0m         filepath,\n\u001b[0;32m    206\u001b[0m         custom_objects\u001b[39m=\u001b[39mcustom_objects,\n\u001b[0;32m    207\u001b[0m         \u001b[39mcompile\u001b[39m\u001b[39m=\u001b[39m\u001b[39mcompile\u001b[39m,\n\u001b[0;32m    208\u001b[0m         safe_mode\u001b[39m=\u001b[39msafe_mode,\n\u001b[0;32m    209\u001b[0m     )\n\u001b[0;32m    211\u001b[0m \u001b[39m# Legacy case.\u001b[39;00m\n\u001b[1;32m--> 212\u001b[0m \u001b[39mreturn\u001b[39;00m legacy_sm_saving_lib\u001b[39m.\u001b[39mload_model(\n\u001b[0;32m    213\u001b[0m     filepath, custom_objects\u001b[39m=\u001b[39mcustom_objects, \u001b[39mcompile\u001b[39m\u001b[39m=\u001b[39m\u001b[39mcompile\u001b[39m, \u001b[39m*\u001b[39m\u001b[39m*\u001b[39mkwargs\n\u001b[0;32m    214\u001b[0m )\n",
      "File \u001b[1;32mc:\\Users\\duja1\\AppData\\Local\\Programs\\Python\\Python310\\lib\\site-packages\\keras\\utils\\traceback_utils.py:70\u001b[0m, in \u001b[0;36mfilter_traceback.<locals>.error_handler\u001b[1;34m(*args, **kwargs)\u001b[0m\n\u001b[0;32m     67\u001b[0m     filtered_tb \u001b[39m=\u001b[39m _process_traceback_frames(e\u001b[39m.\u001b[39m__traceback__)\n\u001b[0;32m     68\u001b[0m     \u001b[39m# To get the full stack trace, call:\u001b[39;00m\n\u001b[0;32m     69\u001b[0m     \u001b[39m# `tf.debugging.disable_traceback_filtering()`\u001b[39;00m\n\u001b[1;32m---> 70\u001b[0m     \u001b[39mraise\u001b[39;00m e\u001b[39m.\u001b[39mwith_traceback(filtered_tb) \u001b[39mfrom\u001b[39;00m \u001b[39mNone\u001b[39;00m\n\u001b[0;32m     71\u001b[0m \u001b[39mfinally\u001b[39;00m:\n\u001b[0;32m     72\u001b[0m     \u001b[39mdel\u001b[39;00m filtered_tb\n",
      "File \u001b[1;32mc:\\Users\\duja1\\AppData\\Local\\Programs\\Python\\Python310\\lib\\site-packages\\keras\\utils\\traceback_utils.py:65\u001b[0m, in \u001b[0;36mfilter_traceback.<locals>.error_handler\u001b[1;34m(*args, **kwargs)\u001b[0m\n\u001b[0;32m     63\u001b[0m filtered_tb \u001b[39m=\u001b[39m \u001b[39mNone\u001b[39;00m\n\u001b[0;32m     64\u001b[0m \u001b[39mtry\u001b[39;00m:\n\u001b[1;32m---> 65\u001b[0m     \u001b[39mreturn\u001b[39;00m fn(\u001b[39m*\u001b[39margs, \u001b[39m*\u001b[39m\u001b[39m*\u001b[39mkwargs)\n\u001b[0;32m     66\u001b[0m \u001b[39mexcept\u001b[39;00m \u001b[39mException\u001b[39;00m \u001b[39mas\u001b[39;00m e:\n\u001b[0;32m     67\u001b[0m     filtered_tb \u001b[39m=\u001b[39m _process_traceback_frames(e\u001b[39m.\u001b[39m__traceback__)\n",
      "\u001b[1;31mTypeError\u001b[0m: load_model() got an unexpected keyword argument 'encoded_path'"
     ]
    }
   ],
   "source": [
    "# 1. 기존에 학습한 모델 불러오기\n",
    "from tensorflow.keras.models import load_model\n",
    "\n",
    "pretrained_model = load_model('./pretrained_model.h5',compile=False,encoded_path='euc-kr')\n",
    "# pretrained_model = load_model('./pretrained_model.h5')\n",
    "# pretrained_model = load_model('pretrained_model.h5', compile=False, encoding='euc-kr')\n",
    "# file_path = r'pretrained_model.h5'\n",
    "# pretrained_model = load_model(file_path)\n",
    "# file_path = r'./pretrained_model.h5'\n",
    "# decoded_path = file_path.encode('cp949').decode('cp949')\n",
    "# pretrained_model = load_model(decoded_path)\n",
    "\n",
    "# import os\n",
    "\n",
    "# file_path = 'pretrained_model.h5'\n",
    "# if os.path.exists(file_path):\n",
    "#     pretrained_model = load_model(file_path)\n",
    "# else:\n",
    "#     print(\"파일을 찾을 수 없습니다. 경로를 다시 확인해주세요.\")\n",
    "\n",
    "\n",
    "# 2. 모델의 일부 층 동결\n",
    "for layer in pretrained_model.layers:\n",
    "    layer.trainable = False\n",
    "\n",
    "# 3. 새로운 출력층 추가\n",
    "output_layer = layers.Dense(1, activation='sigmoid')(pretrained_model.layers[-2].output)\n",
    "\n",
    "# 4. 전체 모델 구성\n",
    "transfer_model = tf.keras.Model(inputs=pretrained_model.input, outputs=output_layer)\n",
    "\n",
    "# 5. 모델 컴파일\n",
    "transfer_model.compile(loss='binary_crossentropy', optimizer=tf.keras.optimizers.Adam(learning_rate=0.001))\n",
    "\n",
    "# 6. 전이 학습 진행\n",
    "transfer_model.fit(x_train_ex, y_train,\n",
    "                   epochs=30,\n",
    "                   batch_size=128,\n",
    "                   validation_data=(x_train_ex, y_train),\n",
    "                   shuffle=True)"
   ]
  },
  {
   "cell_type": "code",
   "execution_count": null,
   "metadata": {},
   "outputs": [],
   "source": []
  }
 ],
 "metadata": {
  "hide_input": false,
  "kernelspec": {
   "display_name": "Python 3 (ipykernel)",
   "language": "python",
   "name": "python3"
  },
  "language_info": {
   "codemirror_mode": {
    "name": "ipython",
    "version": 3
   },
   "file_extension": ".py",
   "mimetype": "text/x-python",
   "name": "python",
   "nbconvert_exporter": "python",
   "pygments_lexer": "ipython3",
   "version": "3.10.9"
  },
  "toc": {
   "base_numbering": 1,
   "nav_menu": {},
   "number_sections": true,
   "sideBar": true,
   "skip_h1_title": false,
   "title_cell": "Table of Contents",
   "title_sidebar": "Contents",
   "toc_cell": false,
   "toc_position": {},
   "toc_section_display": true,
   "toc_window_display": false
  },
  "varInspector": {
   "cols": {
    "lenName": 16,
    "lenType": 16,
    "lenVar": 40
   },
   "kernels_config": {
    "python": {
     "delete_cmd_postfix": "",
     "delete_cmd_prefix": "del ",
     "library": "var_list.py",
     "varRefreshCmd": "print(var_dic_list())"
    },
    "r": {
     "delete_cmd_postfix": ") ",
     "delete_cmd_prefix": "rm(",
     "library": "var_list.r",
     "varRefreshCmd": "cat(var_dic_list()) "
    }
   },
   "types_to_exclude": [
    "module",
    "function",
    "builtin_function_or_method",
    "instance",
    "_Feature"
   ],
   "window_display": false
  }
 },
 "nbformat": 4,
 "nbformat_minor": 2
}
