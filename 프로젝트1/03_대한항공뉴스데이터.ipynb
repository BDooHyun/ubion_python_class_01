{
 "cells": [
  {
   "cell_type": "code",
   "execution_count": 29,
   "metadata": {},
   "outputs": [],
   "source": [
    "import pandas as pd"
   ]
  },
  {
   "cell_type": "code",
   "execution_count": 30,
   "metadata": {},
   "outputs": [
    {
     "name": "stderr",
     "output_type": "stream",
     "text": [
      "c:\\Users\\duja1\\AppData\\Local\\Programs\\Python\\Python310\\lib\\site-packages\\openpyxl\\styles\\stylesheet.py:226: UserWarning: Workbook contains no default style, apply openpyxl's default\n",
      "  warn(\"Workbook contains no default style, apply openpyxl's default\")\n"
     ]
    },
    {
     "data": {
      "text/plain": [
       "Index(['뉴스 식별자', '일자', '언론사', '기고자', '제목', '통합 분류1', '통합 분류2', '통합 분류3',\n",
       "       '사건/사고 분류1', '사건/사고 분류2', '사건/사고 분류3', '인물', '위치', '기관', '키워드',\n",
       "       '특성추출(가중치순 상위 50개)', '본문', 'URL', '분석제외 여부'],\n",
       "      dtype='object')"
      ]
     },
     "execution_count": 30,
     "metadata": {},
     "output_type": "execute_result"
    }
   ],
   "source": [
    "df = pd.read_excel(\"./datasets/대한항공빅카인즈기사.xlsx\")\n",
    "df.columns"
   ]
  },
  {
   "cell_type": "code",
   "execution_count": 31,
   "metadata": {},
   "outputs": [],
   "source": [
    "col = ['일자','제목','특성추출(가중치순 상위 50개)','URL']\n",
    "df = df[col].sort_values(by=\"일자\").reset_index(drop=True)"
   ]
  },
  {
   "cell_type": "code",
   "execution_count": 41,
   "metadata": {},
   "outputs": [
    {
     "data": {
      "text/html": [
       "<div>\n",
       "<style scoped>\n",
       "    .dataframe tbody tr th:only-of-type {\n",
       "        vertical-align: middle;\n",
       "    }\n",
       "\n",
       "    .dataframe tbody tr th {\n",
       "        vertical-align: top;\n",
       "    }\n",
       "\n",
       "    .dataframe thead th {\n",
       "        text-align: right;\n",
       "    }\n",
       "</style>\n",
       "<table border=\"1\" class=\"dataframe\">\n",
       "  <thead>\n",
       "    <tr style=\"text-align: right;\">\n",
       "      <th></th>\n",
       "      <th>일자</th>\n",
       "      <th>제목</th>\n",
       "      <th>특성추출(가중치순 상위 50개)</th>\n",
       "      <th>URL</th>\n",
       "    </tr>\n",
       "  </thead>\n",
       "  <tbody>\n",
       "    <tr>\n",
       "      <th>0</th>\n",
       "      <td>20220101</td>\n",
       "      <td>KB손보 한성정ㆍ홍상혁 “케이타, 동생이지만 미안하고 고마워”</td>\n",
       "      <td>홍상혁,한성정,케이타,만큼,상혁이,2위,2세트,성공률,리시브,kb,수성,8패,11승...</td>\n",
       "      <td>https://hankookilbo.com/News/Read/A20220101000...</td>\n",
       "    </tr>\n",
       "    <tr>\n",
       "      <th>1</th>\n",
       "      <td>20220101</td>\n",
       "      <td>김 총리, 새해 첫 현장 행보 인천공항 화물터미널 방문</td>\n",
       "      <td>인천공항,대한항공,정책역량,수출액,우리나라,수출기업,1조,공급망,시장발굴,반도체,민...</td>\n",
       "      <td>http://www.joongdo.co.kr/web/view.php?key=2022...</td>\n",
       "    </tr>\n",
       "    <tr>\n",
       "      <th>2</th>\n",
       "      <td>20220101</td>\n",
       "      <td>​'오미크론' 변이 확산에 추가 조정받은 항공주, 주가 실적 반등 언제쯤</td>\n",
       "      <td>항공사,코로나19,대한항공,영업이익,연구원,lcc,제주항공,진에어,금융투자업계,티웨이항공</td>\n",
       "      <td>https://www.ajunews.com/view/20220101111632779</td>\n",
       "    </tr>\n",
       "    <tr>\n",
       "      <th>3</th>\n",
       "      <td>20220101</td>\n",
       "      <td>김 총리, 인천공항서 새해 첫 현장행보 \"무역 활력을 민생경제로\"</td>\n",
       "      <td>인천공항,화물터미널,대한항공,정책역량,공급망,김부겸,국무총리,물류애,민생경제,반도체...</td>\n",
       "      <td>https://www.asiae.co.kr/article/20220101164457...</td>\n",
       "    </tr>\n",
       "    <tr>\n",
       "      <th>4</th>\n",
       "      <td>20220101</td>\n",
       "      <td>조정 받는 항공株, 펀더멘털 개선은 시기상조</td>\n",
       "      <td>yield,대한항공,lcc,삼성증권,대형항공사,항공사,연구원,가능성,코로나19,항공...</td>\n",
       "      <td>https://www.asiae.co.kr/article/20220101160657...</td>\n",
       "    </tr>\n",
       "    <tr>\n",
       "      <th>5</th>\n",
       "      <td>20220101</td>\n",
       "      <td>'알짜 노선 반납하라\" 대한항공, 아시아나 인수 위기?[뒷북경제]</td>\n",
       "      <td>공정위,항공사,대한항공,운수권,인천,아시아나,조건부,경쟁당국,점유율,아시아나항공,항...</td>\n",
       "      <td>http://www.sedaily.com/NewsView/260P3C0GYS</td>\n",
       "    </tr>\n",
       "    <tr>\n",
       "      <th>6</th>\n",
       "      <td>20220101</td>\n",
       "      <td>김 총리 “무역 역군들의 노고 감사 새해에도 힘써달라”</td>\n",
       "      <td>대한항공,인천공항,한국,6445억,사회관계,8위,민생경제,자원부,산업통상자원부,반도...</td>\n",
       "      <td>https://www.donga.com/news/article/all/2022010...</td>\n",
       "    </tr>\n",
       "    <tr>\n",
       "      <th>7</th>\n",
       "      <td>20220101</td>\n",
       "      <td>김 총리, 인천공항 화물터미널 방문...수출 현장 점검</td>\n",
       "      <td>인천공항,대한항공,국무총리,민생경제,첫날,김부겸,성장세,반도체,ytn,화물선,sns...</td>\n",
       "      <td>https://www.ytn.co.kr/_ln/0101_202201011256049699</td>\n",
       "    </tr>\n",
       "    <tr>\n",
       "      <th>8</th>\n",
       "      <td>20220101</td>\n",
       "      <td>새해 첫날 수출 현장 찾은 김부겸 “무역 활력, 민생경제로 연결 최선”</td>\n",
       "      <td>김부겸,윤성욱,여한구,수출액,우리나라,코로나,대한항공,공급망,인천공항,오영식,첫날,...</td>\n",
       "      <td>http://biz.heraldcorp.com/view.php?ud=20220101...</td>\n",
       "    </tr>\n",
       "    <tr>\n",
       "      <th>9</th>\n",
       "      <td>20220101</td>\n",
       "      <td>남자배구 KB손보, OK금융그룹 3대0 완파</td>\n",
       "      <td>홈경기,외국인,2위,도로공사,8패,3대,남자부,대한항공,의정부체육관,기업은행,ok,...</td>\n",
       "      <td>https://www.chosun.com/sports/volleyball/2022/...</td>\n",
       "    </tr>\n",
       "  </tbody>\n",
       "</table>\n",
       "</div>"
      ],
      "text/plain": [
       "         일자                                        제목   \n",
       "0  20220101        KB손보 한성정ㆍ홍상혁 “케이타, 동생이지만 미안하고 고마워”  \\\n",
       "1  20220101            김 총리, 새해 첫 현장 행보 인천공항 화물터미널 방문   \n",
       "2  20220101  ​'오미크론' 변이 확산에 추가 조정받은 항공주, 주가 실적 반등 언제쯤   \n",
       "3  20220101      김 총리, 인천공항서 새해 첫 현장행보 \"무역 활력을 민생경제로\"   \n",
       "4  20220101                  조정 받는 항공株, 펀더멘털 개선은 시기상조   \n",
       "5  20220101      '알짜 노선 반납하라\" 대한항공, 아시아나 인수 위기?[뒷북경제]   \n",
       "6  20220101            김 총리 “무역 역군들의 노고 감사 새해에도 힘써달라”   \n",
       "7  20220101            김 총리, 인천공항 화물터미널 방문...수출 현장 점검   \n",
       "8  20220101   새해 첫날 수출 현장 찾은 김부겸 “무역 활력, 민생경제로 연결 최선”   \n",
       "9  20220101                  남자배구 KB손보, OK금융그룹 3대0 완파   \n",
       "\n",
       "                                   특성추출(가중치순 상위 50개)   \n",
       "0  홍상혁,한성정,케이타,만큼,상혁이,2위,2세트,성공률,리시브,kb,수성,8패,11승...  \\\n",
       "1  인천공항,대한항공,정책역량,수출액,우리나라,수출기업,1조,공급망,시장발굴,반도체,민...   \n",
       "2  항공사,코로나19,대한항공,영업이익,연구원,lcc,제주항공,진에어,금융투자업계,티웨이항공   \n",
       "3  인천공항,화물터미널,대한항공,정책역량,공급망,김부겸,국무총리,물류애,민생경제,반도체...   \n",
       "4  yield,대한항공,lcc,삼성증권,대형항공사,항공사,연구원,가능성,코로나19,항공...   \n",
       "5  공정위,항공사,대한항공,운수권,인천,아시아나,조건부,경쟁당국,점유율,아시아나항공,항...   \n",
       "6  대한항공,인천공항,한국,6445억,사회관계,8위,민생경제,자원부,산업통상자원부,반도...   \n",
       "7  인천공항,대한항공,국무총리,민생경제,첫날,김부겸,성장세,반도체,ytn,화물선,sns...   \n",
       "8  김부겸,윤성욱,여한구,수출액,우리나라,코로나,대한항공,공급망,인천공항,오영식,첫날,...   \n",
       "9  홈경기,외국인,2위,도로공사,8패,3대,남자부,대한항공,의정부체육관,기업은행,ok,...   \n",
       "\n",
       "                                                 URL  \n",
       "0  https://hankookilbo.com/News/Read/A20220101000...  \n",
       "1  http://www.joongdo.co.kr/web/view.php?key=2022...  \n",
       "2     https://www.ajunews.com/view/20220101111632779  \n",
       "3  https://www.asiae.co.kr/article/20220101164457...  \n",
       "4  https://www.asiae.co.kr/article/20220101160657...  \n",
       "5         http://www.sedaily.com/NewsView/260P3C0GYS  \n",
       "6  https://www.donga.com/news/article/all/2022010...  \n",
       "7  https://www.ytn.co.kr/_ln/0101_202201011256049699  \n",
       "8  http://biz.heraldcorp.com/view.php?ud=20220101...  \n",
       "9  https://www.chosun.com/sports/volleyball/2022/...  "
      ]
     },
     "execution_count": 41,
     "metadata": {},
     "output_type": "execute_result"
    }
   ],
   "source": [
    "df.head(10)"
   ]
  },
  {
   "cell_type": "code",
   "execution_count": 33,
   "metadata": {},
   "outputs": [],
   "source": [
    "# df.to_csv('./datasets/대한항공뉴스데이터(수정후).csv', index=False, encoding='utf-8-sig')"
   ]
  },
  {
   "cell_type": "code",
   "execution_count": 34,
   "metadata": {},
   "outputs": [],
   "source": [
    "# df.to_excel('./datasets/대한항공뉴스데이터(수정후).xlsx', index=False)"
   ]
  },
  {
   "cell_type": "code",
   "execution_count": 54,
   "metadata": {},
   "outputs": [],
   "source": [
    "# df_1 = pd.read_excel(\"./datasets/대한항공뉴스데이터(수정후).xlsx\")\n",
    "# df_1.to_csv('./datasets/대한항공뉴스데이터(수정후).csv', index=False, encoding='utf-8-sig')"
   ]
  },
  {
   "cell_type": "code",
   "execution_count": null,
   "metadata": {},
   "outputs": [],
   "source": []
  }
 ],
 "metadata": {
  "kernelspec": {
   "display_name": "Python 3",
   "language": "python",
   "name": "python3"
  },
  "language_info": {
   "codemirror_mode": {
    "name": "ipython",
    "version": 3
   },
   "file_extension": ".py",
   "mimetype": "text/x-python",
   "name": "python",
   "nbconvert_exporter": "python",
   "pygments_lexer": "ipython3",
   "version": "3.10.9"
  },
  "orig_nbformat": 4
 },
 "nbformat": 4,
 "nbformat_minor": 2
}
