{
 "cells": [
  {
   "cell_type": "code",
   "execution_count": 1,
   "metadata": {},
   "outputs": [],
   "source": [
    "import pandas as pd\n",
    "from newspaper import Article"
   ]
  },
  {
   "cell_type": "code",
   "execution_count": 2,
   "metadata": {},
   "outputs": [],
   "source": [
    "# 뉴스 데이터프레임 로드\n",
    "news_df = pd.read_csv('./정제데이터(두현).csv') # 적절한 파일 경로로 변경하세요\n",
    "\n",
    "# URL 추출\n",
    "url_list = news_df['URL'].tolist()\n",
    "\n",
    "# 크롤링한 뉴스 본문을 저장할 리스트 초기화\n",
    "article_texts = []\n",
    "\n",
    "# URL 반복하여 뉴스 본문 크롤링\n",
    "for url in url_list:\n",
    "    try:\n",
    "        article = Article(url, language='ko')\n",
    "        article.download()\n",
    "        article.parse()\n",
    "        article_texts.append(article.text)\n",
    "    except:\n",
    "        article_texts.append('Error occurred while crawling the article.')\n",
    "\n",
    "# 크롤링 결과를 데이터프레임에 추가\n",
    "news_df['article_text'] = article_texts\n",
    "\n",
    "# 결과 데이터프레임 저장\n",
    "news_df.to_csv('test_file.csv', index=False)  # 적절한 파일 경로로 변경하세요"
   ]
  },
  {
   "cell_type": "code",
   "execution_count": 3,
   "metadata": {},
   "outputs": [],
   "source": [
    "df = pd.read_csv('./test_file.csv')"
   ]
  },
  {
   "cell_type": "code",
   "execution_count": 5,
   "metadata": {},
   "outputs": [],
   "source": [
    "df.to_excel(\"백두현(2205~2208).xlsx\")"
   ]
  },
  {
   "cell_type": "code",
   "execution_count": 6,
   "metadata": {},
   "outputs": [
    {
     "data": {
      "text/plain": [
       "일자                    0\n",
       "언론사                   0\n",
       "제목                    0\n",
       "특성추출(가중치순 상위 50개)     0\n",
       "URL                   0\n",
       "nouns                 0\n",
       "주식일자                  0\n",
       "종가                    0\n",
       "금종가                   0\n",
       "유가종가                  0\n",
       "target                0\n",
       "article_text         36\n",
       "dtype: int64"
      ]
     },
     "execution_count": 6,
     "metadata": {},
     "output_type": "execute_result"
    }
   ],
   "source": [
    "df.isna().sum()"
   ]
  },
  {
   "cell_type": "code",
   "execution_count": null,
   "metadata": {},
   "outputs": [],
   "source": []
  }
 ],
 "metadata": {
  "kernelspec": {
   "display_name": "Python 3",
   "language": "python",
   "name": "python3"
  },
  "language_info": {
   "codemirror_mode": {
    "name": "ipython",
    "version": 3
   },
   "file_extension": ".py",
   "mimetype": "text/x-python",
   "name": "python",
   "nbconvert_exporter": "python",
   "pygments_lexer": "ipython3",
   "version": "3.10.9"
  },
  "orig_nbformat": 4
 },
 "nbformat": 4,
 "nbformat_minor": 2
}
