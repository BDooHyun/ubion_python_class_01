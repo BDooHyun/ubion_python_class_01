{
 "cells": [
  {
   "cell_type": "code",
   "execution_count": 4,
   "id": "ef299aa0",
   "metadata": {
    "ExecuteTime": {
     "end_time": "2023-05-12T08:17:50.567255Z",
     "start_time": "2023-05-12T08:17:50.546725Z"
    }
   },
   "outputs": [],
   "source": [
    "from sklearn.datasets import load_iris\n",
    "iris=load_iris()\n",
    "x=iris.data\n",
    "y=iris.target\n",
    "\n",
    "from sklearn.model_selection import train_test_split\n",
    "X_train, X_test, y_train, y_test = train_test_split(iris.data,iris.target, test_size=0.5, random_state=42)"
   ]
  },
  {
   "cell_type": "code",
   "execution_count": 5,
   "id": "64559854",
   "metadata": {
    "ExecuteTime": {
     "end_time": "2023-05-12T08:17:51.330258Z",
     "start_time": "2023-05-12T08:17:51.208052Z"
    }
   },
   "outputs": [
    {
     "name": "stdout",
     "output_type": "stream",
     "text": [
      "Fitting 5 folds for each of 6 candidates, totalling 30 fits\n",
      "GridSearchCV 최고 평균 정확도 수치0.9467\n",
      "GridSearchCV 최적 하이퍼 파라미터: {'C': 10, 'gamma': 0.05}\n"
     ]
    }
   ],
   "source": [
    "from sklearn import svm\n",
    "from sklearn.model_selection import GridSearchCV\n",
    "from sklearn.metrics import accuracy_score\n",
    "\n",
    "dt_clf= svm.SVC()\n",
    "dt_clf.fit(X_train,y_train)\n",
    "\n",
    "params={\n",
    "    'gamma' : [0.1,0.05,0.01],\n",
    "    'C' :[100,10]\n",
    "}\n",
    "\n",
    "grid_cv=GridSearchCV(dt_clf, param_grid=params, scoring='accuracy',cv=5,verbose=1)\n",
    "grid_cv.fit(X_train,y_train)\n",
    "print(f\"GridSearchCV 최고 평균 정확도 수치{grid_cv.best_score_:.4f}\")\n",
    "print(\"GridSearchCV 최적 하이퍼 파라미터:\", grid_cv.best_params_)"
   ]
  },
  {
   "cell_type": "code",
   "execution_count": null,
   "id": "9138e557",
   "metadata": {},
   "outputs": [],
   "source": []
  }
 ],
 "metadata": {
  "kernelspec": {
   "display_name": "Python 3 (ipykernel)",
   "language": "python",
   "name": "python3"
  },
  "language_info": {
   "codemirror_mode": {
    "name": "ipython",
    "version": 3
   },
   "file_extension": ".py",
   "mimetype": "text/x-python",
   "name": "python",
   "nbconvert_exporter": "python",
   "pygments_lexer": "ipython3",
   "version": "3.10.9"
  },
  "toc": {
   "base_numbering": 1,
   "nav_menu": {},
   "number_sections": true,
   "sideBar": true,
   "skip_h1_title": false,
   "title_cell": "Table of Contents",
   "title_sidebar": "Contents",
   "toc_cell": false,
   "toc_position": {},
   "toc_section_display": true,
   "toc_window_display": false
  },
  "varInspector": {
   "cols": {
    "lenName": 16,
    "lenType": 16,
    "lenVar": 40
   },
   "kernels_config": {
    "python": {
     "delete_cmd_postfix": "",
     "delete_cmd_prefix": "del ",
     "library": "var_list.py",
     "varRefreshCmd": "print(var_dic_list())"
    },
    "r": {
     "delete_cmd_postfix": ") ",
     "delete_cmd_prefix": "rm(",
     "library": "var_list.r",
     "varRefreshCmd": "cat(var_dic_list()) "
    }
   },
   "types_to_exclude": [
    "module",
    "function",
    "builtin_function_or_method",
    "instance",
    "_Feature"
   ],
   "window_display": false
  }
 },
 "nbformat": 4,
 "nbformat_minor": 5
}
