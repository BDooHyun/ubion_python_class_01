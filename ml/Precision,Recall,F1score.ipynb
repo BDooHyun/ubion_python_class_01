{
 "cells": [
  {
   "cell_type": "markdown",
   "id": "e83077f9",
   "metadata": {},
   "source": [
    "## sklearn.metrics.precision_score\n",
    "* sklearn.metrics.precision_score(_y_true_, _y_pred_, _*_, _labels=None_, _pos_label=1_, _average='binary'_, _sample_weight=None_, _zero_division='warn'_)[[source]](https://github.com/scikit-learn/scikit-learn/blob/364c77e04/sklearn/metrics/_classification.py#L1825)[¶](https://scikit-learn.org/stable/modules/generated/sklearn.metrics.precision_score.html#sklearn.metrics.precision_score \"Permalink to this definition\")\n",
    "\n",
    "## sklearn.metrics.recall_score\n",
    "*sklearn.metrics.recall_score(_y_true_,  _y_pred_,  _*_,  _labels=None_,  _pos_label=1_,  _average='binary'_,  _sample_weight=None_,  _zero_division='warn'_)[[source]](https://github.com/scikit-learn/scikit-learn/blob/364c77e04/sklearn/metrics/_classification.py#L1967)[](https://scikit-learn.org/stable/modules/generated/sklearn.metrics.recall_score.html#sklearn.metrics.recall_score \"Permalink to this definition\")\n",
    "\n",
    "Compute the recall.\n",
    "\n",
    "The recall is the ratio  `tp  /  (tp  +  fn)`  where  `tp`  is the number of true positives and  `fn`  the number of false negatives. The recall is intuitively the ability of the classifier to find all the positive samples.\n",
    "\n",
    "The best value is 1 and the worst value is 0.\n",
    "\n",
    "Read more in the  [User Guide](https://scikit-learn.org/stable/modules/model_evaluation.html#precision-recall-f-measure-metrics).\n",
    "\n",
    "Parameters:\n",
    "\n",
    "**y_true**1d array-like, or label indicator array / sparse matrix\n",
    "\n",
    "Ground truth (correct) target values.\n",
    "\n",
    "**y_pred**1d array-like, or label indicator array / sparse matrix\n",
    "\n",
    "Estimated targets as returned by a classifier.\n",
    "\n",
    "**labels**array-like, default=None\n",
    "\n",
    "The set of labels to include when  `average  !=  'binary'`, and their order if  `average  is  None`. Labels present in the data can be excluded, for example to calculate a multiclass average ignoring a majority negative class, while labels not present in the data will result in 0 components in a macro average. For multilabel targets, labels are column indices. By default, all labels in  `y_true`  and  `y_pred`  are used in sorted order.\n",
    "\n",
    "Changed in version 0.17: Parameter  `labels`  improved for multiclass problem.\n",
    "\n",
    "**pos_label**str or int, default=1\n",
    "\n",
    "The class to report if  `average='binary'`  and the data is binary. If the data are multiclass or multilabel, this will be ignored; setting  `labels=[pos_label]`  and  `average  !=  'binary'`  will report scores for that label only.\n",
    "\n",
    "**average**{‘micro’, ‘macro’, ‘samples’, ‘weighted’, ‘binary’} or None, default=’binary’\n",
    "\n",
    "This parameter is required for multiclass/multilabel targets. If  `None`, the scores for each class are returned. Otherwise, this determines the type of averaging performed on the data:\n",
    "\n",
    "`'binary'`:\n",
    "\n",
    "Only report results for the class specified by  `pos_label`. This is applicable only if targets (`y_{true,pred}`) are binary.\n",
    "\n",
    "`'micro'`:\n",
    "\n",
    "Calculate metrics globally by counting the total true positives, false negatives and false positives.\n",
    "\n",
    "`'macro'`:\n",
    "\n",
    "Calculate metrics for each label, and find their unweighted mean. This does not take label imbalance into account.\n",
    "\n",
    "`'weighted'`:\n",
    "\n",
    "Calculate metrics for each label, and find their average weighted by support (the number of true instances for each label). This alters ‘macro’ to account for label imbalance; it can result in an F-score that is not between precision and recall. Weighted recall is equal to accuracy.\n",
    "\n",
    "`'samples'`:\n",
    "\n",
    "Calculate metrics for each instance, and find their average (only meaningful for multilabel classification where this differs from  [`accuracy_score`](https://scikit-learn.org/stable/modules/generated/sklearn.metrics.accuracy_score.html#sklearn.metrics.accuracy_score \"sklearn.metrics.accuracy_score\")).\n",
    "\n",
    "**sample_weight**array-like of shape (n_samples,), default=None\n",
    "\n",
    "Sample weights.\n",
    "\n",
    "**zero_division**“warn”, 0 or 1, default=”warn”\n",
    "\n",
    "Sets the value to return when there is a zero division. If set to “warn”, this acts as 0, but warnings are also raised.\n",
    "\n",
    "Returns:\n",
    "\n",
    "**recall**float (if average is not None) or array of float of shape (n_unique_labels,)\n",
    "\n",
    "Recall of the positive class in binary classification or weighted average of the recall of each class for the multiclass task.\n",
    "\n",
    "## sklearn.metrics.f1_score\n",
    "* sklearn.metrics.f1_score(_y_true_, _y_pred_, _*_, _labels=None_, _pos_label=1_, _average='binary'_, _sample_weight=None_, _zero_division='warn'_)[[source]](https://github.com/scikit-learn/scikit-learn/blob/364c77e04/sklearn/metrics/_classification.py#L1011)\n",
    "* F1 = 2 * (precision * recall) / (precision + recall)"
   ]
  },
  {
   "cell_type": "code",
   "execution_count": 1,
   "id": "e080a04a",
   "metadata": {
    "ExecuteTime": {
     "end_time": "2023-05-11T00:54:19.994241Z",
     "start_time": "2023-05-11T00:54:16.950140Z"
    }
   },
   "outputs": [],
   "source": [
    "import pandas as pd\n",
    "import numpy as np\n",
    "from sklearn.preprocessing import LabelEncoder\n",
    "# Null 처리 함수\n",
    "def fillna(df):\n",
    "    df['Age'].fillna(df['Age'].mean(),inplace=True)\n",
    "    df['Cabin'].fillna('N',inplace=True)\n",
    "    df['Embarked'].fillna('N',inplace=True)\n",
    "    df['Fare'].fillna(0,inplace=True)\n",
    "    return df\n",
    "# 머신러닝 알고리즘에 불필요한 속성 제거\n",
    "def drop_features(df):\n",
    "    df.drop(['PassengerId','Name','Ticket'],axis=1,inplace=True)\n",
    "    return df\n",
    "# 레이블 인코딩 수행.\n",
    "def format_features(df):\n",
    "    df['Cabin'] = df['Cabin'].str[:1]\n",
    "    features = ['Cabin','Sex','Embarked']\n",
    "    for feature in features:\n",
    "        le = LabelEncoder()\n",
    "        le = le.fit(df[feature])\n",
    "        df[feature] = le.transform(df[feature])\n",
    "    return df"
   ]
  },
  {
   "cell_type": "code",
   "execution_count": 2,
   "id": "27e21990",
   "metadata": {
    "ExecuteTime": {
     "end_time": "2023-05-11T00:54:35.326424Z",
     "start_time": "2023-05-11T00:54:35.311118Z"
    }
   },
   "outputs": [],
   "source": [
    "# 앞에서 설정한 Data Preprocessing 함수 호출\n",
    "def transform_features(df):\n",
    "    df = fillna(df)\n",
    "    df = drop_features(df)\n",
    "    df = format_features(df)\n",
    "    return df"
   ]
  },
  {
   "cell_type": "code",
   "execution_count": 14,
   "id": "021fcce9",
   "metadata": {
    "ExecuteTime": {
     "end_time": "2023-05-11T01:14:41.750616Z",
     "start_time": "2023-05-11T01:14:41.735399Z"
    }
   },
   "outputs": [],
   "source": [
    "from sklearn.metrics import accuracy_score , precision_score , recall_score , confusion_matrix, f1_score\n",
    "\n",
    "def get_clf_eval(y_test,pred):\n",
    "    confusion =confusion_matrix(y_test, pred)\n",
    "    accuracy = accuracy_score(y_test,pred)\n",
    "    precision= precision_score(y_test,pred)\n",
    "    recall = recall_score(y_test,pred)\n",
    "    f1score = f1_score(y_test,pred)\n",
    "\n",
    "                       \n",
    "    print('오차행렬')\n",
    "    print(confusion)\n",
    "    print('정확도 : {0:.4f}, 정밀도 : {1:.4f}, 재현율 : {2:.4f}, f1Score : {3:.4f}'.format(accuracy,precision,recall,f1score))"
   ]
  },
  {
   "cell_type": "code",
   "execution_count": 15,
   "id": "57d380f1",
   "metadata": {
    "ExecuteTime": {
     "end_time": "2023-05-11T01:14:44.262263Z",
     "start_time": "2023-05-11T01:14:44.176100Z"
    }
   },
   "outputs": [
    {
     "name": "stdout",
     "output_type": "stream",
     "text": [
      "오차행렬\n",
      "[[104  14]\n",
      " [ 13  48]]\n",
      "정확도 : 0.8492, 정밀도 : 0.7742, 재현율 : 0.7869, f1Score : 0.7805\n"
     ]
    }
   ],
   "source": [
    "import warnings\n",
    "warnings.filterwarnings('ignore')\n",
    "# 원본 데이터를 재로딩 하고, feature데이터 셋과 Label 데이터 셋 추출.\n",
    "titanic_df = pd.read_csv('./datasets/titanic_train.csv')\n",
    "y_titanic_df = titanic_df['Survived']\n",
    "X_titanic_df= titanic_df.drop('Survived',axis=1)\n",
    "X_titanic_df = transform_features(X_titanic_df)\n",
    "from sklearn.model_selection import train_test_split\n",
    "X_train, X_test, y_train, y_test=train_test_split(X_titanic_df, y_titanic_df, \\\n",
    "                                                  test_size=0.2, random_state=11)\n",
    "\n",
    "from sklearn.linear_model import LogisticRegression\n",
    "lr_clf= LogisticRegression()\n",
    "\n",
    "# LogisticRegression 학습/예측/평가\n",
    "lr_clf.fit(X_train , y_train)\n",
    "lr_pred = lr_clf.predict(X_test)\n",
    "get_clf_eval(y_test,lr_pred)"
   ]
  },
  {
   "cell_type": "code",
   "execution_count": 16,
   "id": "9b70beae",
   "metadata": {
    "ExecuteTime": {
     "end_time": "2023-05-11T01:43:28.531378Z",
     "start_time": "2023-05-11T01:43:28.513412Z"
    }
   },
   "outputs": [],
   "source": [
    "lr_pred_proba = lr_clf.predict_proba(X_test)"
   ]
  },
  {
   "cell_type": "code",
   "execution_count": 17,
   "id": "9e0274e8",
   "metadata": {
    "ExecuteTime": {
     "end_time": "2023-05-11T01:43:35.672733Z",
     "start_time": "2023-05-11T01:43:35.647958Z"
    }
   },
   "outputs": [
    {
     "data": {
      "text/plain": [
       "array([[0.46165994, 0.53834006],\n",
       "       [0.8786297 , 0.1213703 ],\n",
       "       [0.87717154, 0.12282846],\n",
       "       [0.88271522, 0.11728478],\n",
       "       [0.85511283, 0.14488717],\n",
       "       [0.88227708, 0.11772292],\n",
       "       [0.88838391, 0.11161609],\n",
       "       [0.20883565, 0.79116435],\n",
       "       [0.78271177, 0.21728823],\n",
       "       [0.36964049, 0.63035951],\n",
       "       [0.89984786, 0.10015214],\n",
       "       [0.87486758, 0.12513242],\n",
       "       [0.87716557, 0.12283443],\n",
       "       [0.88833807, 0.11166193],\n",
       "       [0.43605842, 0.56394158],\n",
       "       [0.85890983, 0.14109017],\n",
       "       [0.90368101, 0.09631899],\n",
       "       [0.73334609, 0.26665391],\n",
       "       [0.72454475, 0.27545525],\n",
       "       [0.17200141, 0.82799859],\n",
       "       [0.75354235, 0.24645765],\n",
       "       [0.61923385, 0.38076615],\n",
       "       [0.8545423 , 0.1454577 ],\n",
       "       [0.81483938, 0.18516062],\n",
       "       [0.88796788, 0.11203212],\n",
       "       [0.76545781, 0.23454219],\n",
       "       [0.85968959, 0.14031041],\n",
       "       [0.92592184, 0.07407816],\n",
       "       [0.71950544, 0.28049456],\n",
       "       [0.6952454 , 0.3047546 ],\n",
       "       [0.05269243, 0.94730757],\n",
       "       [0.18249166, 0.81750834],\n",
       "       [0.87315181, 0.12684819],\n",
       "       [0.17402957, 0.82597043],\n",
       "       [0.60042296, 0.39957704],\n",
       "       [0.76545781, 0.23454219],\n",
       "       [0.92761851, 0.07238149],\n",
       "       [0.38864515, 0.61135485],\n",
       "       [0.94699934, 0.05300066],\n",
       "       [0.89605363, 0.10394637],\n",
       "       [0.64939722, 0.35060278],\n",
       "       [0.91671259, 0.08328741],\n",
       "       [0.17809757, 0.82190243],\n",
       "       [0.29212188, 0.70787812],\n",
       "       [0.36951501, 0.63048499],\n",
       "       [0.36949875, 0.63050125],\n",
       "       [0.08119694, 0.91880306],\n",
       "       [0.64218819, 0.35781181],\n",
       "       [0.05108536, 0.94891464],\n",
       "       [0.88793339, 0.11206661],\n",
       "       [0.40662423, 0.59337577],\n",
       "       [0.88833807, 0.11166193],\n",
       "       [0.8671469 , 0.1328531 ],\n",
       "       [0.27465897, 0.72534103],\n",
       "       [0.69055112, 0.30944888],\n",
       "       [0.80322019, 0.19677981],\n",
       "       [0.7736634 , 0.2263366 ],\n",
       "       [0.8771705 , 0.1228295 ],\n",
       "       [0.84570899, 0.15429101],\n",
       "       [0.56762594, 0.43237406],\n",
       "       [0.71979685, 0.28020315],\n",
       "       [0.89914479, 0.10085521],\n",
       "       [0.45411069, 0.54588931],\n",
       "       [0.48624798, 0.51375202],\n",
       "       [0.55556188, 0.44443812],\n",
       "       [0.90538092, 0.09461908],\n",
       "       [0.33305882, 0.66694118],\n",
       "       [0.40577628, 0.59422372],\n",
       "       [0.04814337, 0.95185663],\n",
       "       [0.8519419 , 0.1480581 ],\n",
       "       [0.87096849, 0.12903151],\n",
       "       [0.83144787, 0.16855213],\n",
       "       [0.89605139, 0.10394861],\n",
       "       [0.05201255, 0.94798745],\n",
       "       [0.80135362, 0.19864638],\n",
       "       [0.88833807, 0.11166193],\n",
       "       [0.65152483, 0.34847517],\n",
       "       [0.81634076, 0.18365924],\n",
       "       [0.16431395, 0.83568605],\n",
       "       [0.8771705 , 0.1228295 ],\n",
       "       [0.20502981, 0.79497019],\n",
       "       [0.35525172, 0.64474828],\n",
       "       [0.06903407, 0.93096593],\n",
       "       [0.86680976, 0.13319024],\n",
       "       [0.05097886, 0.94902114],\n",
       "       [0.04948751, 0.95051249],\n",
       "       [0.84659624, 0.15340376],\n",
       "       [0.87452289, 0.12547711],\n",
       "       [0.12566295, 0.87433705],\n",
       "       [0.88833807, 0.11166193],\n",
       "       [0.88833807, 0.11166193],\n",
       "       [0.76545781, 0.23454219],\n",
       "       [0.76785671, 0.23214329],\n",
       "       [0.88833807, 0.11166193],\n",
       "       [0.36949875, 0.63050125],\n",
       "       [0.92427771, 0.07572229],\n",
       "       [0.07117181, 0.92882819],\n",
       "       [0.89925727, 0.10074273],\n",
       "       [0.49400969, 0.50599031],\n",
       "       [0.03487755, 0.96512245],\n",
       "       [0.49837383, 0.50162617],\n",
       "       [0.90527411, 0.09472589],\n",
       "       [0.05196128, 0.94803872],\n",
       "       [0.90243399, 0.09756601],\n",
       "       [0.46998511, 0.53001489],\n",
       "       [0.8715648 , 0.1284352 ],\n",
       "       [0.85886285, 0.14113715],\n",
       "       [0.85194221, 0.14805779],\n",
       "       [0.55027292, 0.44972708],\n",
       "       [0.89228716, 0.10771284],\n",
       "       [0.88299527, 0.11700473],\n",
       "       [0.89107507, 0.10892493],\n",
       "       [0.59645194, 0.40354806],\n",
       "       [0.3459121 , 0.6540879 ],\n",
       "       [0.88796788, 0.11203212],\n",
       "       [0.92887534, 0.07112466],\n",
       "       [0.87566748, 0.12433252],\n",
       "       [0.80158345, 0.19841655],\n",
       "       [0.07407914, 0.92592086],\n",
       "       [0.93133628, 0.06866372],\n",
       "       [0.8883469 , 0.1116531 ],\n",
       "       [0.86924393, 0.13075607],\n",
       "       [0.93638782, 0.06361218],\n",
       "       [0.67876987, 0.32123013],\n",
       "       [0.98834994, 0.01165006],\n",
       "       [0.8883469 , 0.1116531 ],\n",
       "       [0.88374966, 0.11625034],\n",
       "       [0.6832473 , 0.3167527 ],\n",
       "       [0.32235882, 0.67764118],\n",
       "       [0.67832406, 0.32167594],\n",
       "       [0.03487755, 0.96512245],\n",
       "       [0.54597478, 0.45402522],\n",
       "       [0.26462561, 0.73537439],\n",
       "       [0.55859932, 0.44140068],\n",
       "       [0.4298421 , 0.5701579 ],\n",
       "       [0.65016564, 0.34983436],\n",
       "       [0.25175446, 0.74824554],\n",
       "       [0.81373259, 0.18626741],\n",
       "       [0.89602627, 0.10397373],\n",
       "       [0.19679688, 0.80320312],\n",
       "       [0.09106427, 0.90893573],\n",
       "       [0.85194221, 0.14805779],\n",
       "       [0.8819692 , 0.1180308 ],\n",
       "       [0.89869552, 0.10130448],\n",
       "       [0.90834935, 0.09165065],\n",
       "       [0.33247131, 0.66752869],\n",
       "       [0.92432268, 0.07567732],\n",
       "       [0.76635134, 0.23364866],\n",
       "       [0.08170643, 0.91829357],\n",
       "       [0.83172218, 0.16827782],\n",
       "       [0.57129822, 0.42870178],\n",
       "       [0.36881636, 0.63118364],\n",
       "       [0.36306101, 0.63693899],\n",
       "       [0.87722599, 0.12277401],\n",
       "       [0.22208444, 0.77791556],\n",
       "       [0.11902392, 0.88097608],\n",
       "       [0.5120235 , 0.4879765 ],\n",
       "       [0.86698375, 0.13301625],\n",
       "       [0.24845577, 0.75154423],\n",
       "       [0.30948801, 0.69051199],\n",
       "       [0.85014262, 0.14985738],\n",
       "       [0.20734647, 0.79265353],\n",
       "       [0.90870925, 0.09129075],\n",
       "       [0.3331262 , 0.6668738 ],\n",
       "       [0.61948153, 0.38051847],\n",
       "       [0.34856623, 0.65143377],\n",
       "       [0.11593065, 0.88406935],\n",
       "       [0.69098158, 0.30901842],\n",
       "       [0.90833011, 0.09166989],\n",
       "       [0.10682268, 0.89317732],\n",
       "       [0.88838391, 0.11161609],\n",
       "       [0.1455375 , 0.8544625 ],\n",
       "       [0.74940118, 0.25059882],\n",
       "       [0.75962132, 0.24037868],\n",
       "       [0.60041125, 0.39958875],\n",
       "       [0.93769459, 0.06230541],\n",
       "       [0.85885585, 0.14114415],\n",
       "       [0.45467647, 0.54532353],\n",
       "       [0.37273293, 0.62726707]])"
      ]
     },
     "execution_count": 17,
     "metadata": {},
     "output_type": "execute_result"
    }
   ],
   "source": [
    "lr_pred_proba"
   ]
  },
  {
   "cell_type": "markdown",
   "id": "e34f108d",
   "metadata": {},
   "source": [
    "## sklearn.metrics.precision_recall_curve\n",
    "* sklearn.metrics.precision_recall_curve(y_true, probas_pred, *, pos_label=None, sample_weight=None)[source]\n",
    "* Returns:\n",
    "precisionndarray of shape (n_thresholds + 1,)\n",
    "Precision values such that element i is the precision of predictions with score >= thresholds[i] and the last element is 1.\n",
    "\n",
    "recallndarray of shape (n_thresholds + 1,)\n",
    "Decreasing recall values such that element i is the recall of predictions with score >= thresholds[i] and the last element is 0.\n",
    "\n",
    "thresholdsndarray of shape (n_thresholds,)\n",
    "Increasing thresholds on the decision function used to compute precision and recall where n_thresholds = len(np.unique(probas_pred))."
   ]
  },
  {
   "cell_type": "code",
   "execution_count": 19,
   "id": "d939e8c4",
   "metadata": {
    "ExecuteTime": {
     "end_time": "2023-05-11T01:55:09.778372Z",
     "start_time": "2023-05-11T01:55:09.769597Z"
    }
   },
   "outputs": [],
   "source": [
    "from sklearn.metrics import precision_recall_curve\n",
    "\n",
    "data = precision_recall_curve(y_test, lr_pred_proba[:, 1])"
   ]
  },
  {
   "cell_type": "code",
   "execution_count": 23,
   "id": "7fd85ec7",
   "metadata": {
    "ExecuteTime": {
     "end_time": "2023-05-11T02:02:29.774948Z",
     "start_time": "2023-05-11T02:02:29.450647Z"
    }
   },
   "outputs": [
    {
     "data": {
      "text/plain": [
       "Text(0, 0.5, 'probability density')"
      ]
     },
     "execution_count": 23,
     "metadata": {},
     "output_type": "execute_result"
    },
    {
     "data": {
      "image/png": "[encoded data removed]",
      "text/plain": [
       "<Figure size 640x480 with 1 Axes>"
      ]
     },
     "metadata": {},
     "output_type": "display_data"
    }
   ],
   "source": [
    "import matplotlib.pyplot as plt\n",
    "\n",
    "plt.plot(data[0])\n",
    "plt.plot(data[1])\n",
    "plt.xlabel(\"threshold\")\n",
    "plt.ylabel(\"probability density\")"
   ]
  },
  {
   "cell_type": "code",
   "execution_count": null,
   "id": "7cbe41c0",
   "metadata": {},
   "outputs": [],
   "source": []
  }
 ],
 "metadata": {
  "kernelspec": {
   "display_name": "Python 3 (ipykernel)",
   "language": "python",
   "name": "python3"
  },
  "language_info": {
   "codemirror_mode": {
    "name": "ipython",
    "version": 3
   },
   "file_extension": ".py",
   "mimetype": "text/x-python",
   "name": "python",
   "nbconvert_exporter": "python",
   "pygments_lexer": "ipython3",
   "version": "3.10.9"
  },
  "toc": {
   "base_numbering": 1,
   "nav_menu": {},
   "number_sections": true,
   "sideBar": true,
   "skip_h1_title": false,
   "title_cell": "Table of Contents",
   "title_sidebar": "Contents",
   "toc_cell": false,
   "toc_position": {
    "height": "calc(100% - 180px)",
    "left": "10px",
    "top": "150px",
    "width": "242.432px"
   },
   "toc_section_display": true,
   "toc_window_display": false
  },
  "varInspector": {
   "cols": {
    "lenName": 16,
    "lenType": 16,
    "lenVar": 40
   },
   "kernels_config": {
    "python": {
     "delete_cmd_postfix": "",
     "delete_cmd_prefix": "del ",
     "library": "var_list.py",
     "varRefreshCmd": "print(var_dic_list())"
    },
    "r": {
     "delete_cmd_postfix": ") ",
     "delete_cmd_prefix": "rm(",
     "library": "var_list.r",
     "varRefreshCmd": "cat(var_dic_list()) "
    }
   },
   "types_to_exclude": [
    "module",
    "function",
    "builtin_function_or_method",
    "instance",
    "_Feature"
   ],
   "window_display": false
  }
 },
 "nbformat": 4,
 "nbformat_minor": 5
}
