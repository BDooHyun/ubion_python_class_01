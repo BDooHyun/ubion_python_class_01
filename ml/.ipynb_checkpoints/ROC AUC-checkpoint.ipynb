{
 "cells": [
  {
   "cell_type": "code",
   "execution_count": 12,
   "id": "8ae22fc7",
   "metadata": {
    "ExecuteTime": {
     "end_time": "2023-05-11T04:56:26.252877Z",
     "start_time": "2023-05-11T04:56:26.243993Z"
    }
   },
   "outputs": [],
   "source": [
    "import pandas as pd\n",
    "import numpy as np\n",
    "from sklearn.preprocessing import LabelEncoder\n",
    "# Null 처리 함수\n",
    "def fillna(df):\n",
    "    df['Age'].fillna(df['Age'].mean(),inplace=True)\n",
    "    df['Cabin'].fillna('N',inplace=True)\n",
    "    df['Embarked'].fillna('N',inplace=True)\n",
    "    df['Fare'].fillna(0,inplace=True)\n",
    "    return df\n",
    "# 머신러닝 알고리즘에 불필요한 속성 제거\n",
    "def drop_features(df):\n",
    "    df.drop(['PassengerId','Name','Ticket'],axis=1,inplace=True)\n",
    "    return df\n",
    "# 레이블 인코딩 수행.\n",
    "def format_features(df):\n",
    "    df['Cabin'] = df['Cabin'].str[:1]\n",
    "    features = ['Cabin','Sex','Embarked']\n",
    "    for feature in features:\n",
    "        le = LabelEncoder()\n",
    "        le = le.fit(df[feature])\n",
    "        df[feature] = le.transform(df[feature])\n",
    "    return df"
   ]
  },
  {
   "cell_type": "code",
   "execution_count": 13,
   "id": "974db5a0",
   "metadata": {
    "ExecuteTime": {
     "end_time": "2023-05-11T04:56:26.937787Z",
     "start_time": "2023-05-11T04:56:26.919994Z"
    }
   },
   "outputs": [],
   "source": [
    "# 앞에서 설정한 Data Preprocessing 함수 호출\n",
    "def transform_features(df):\n",
    "    df = fillna(df)\n",
    "    df = drop_features(df)\n",
    "    df = format_features(df)\n",
    "    return df"
   ]
  },
  {
   "cell_type": "code",
   "execution_count": 14,
   "id": "975dd735",
   "metadata": {
    "ExecuteTime": {
     "end_time": "2023-05-11T04:56:27.548743Z",
     "start_time": "2023-05-11T04:56:27.541142Z"
    }
   },
   "outputs": [],
   "source": [
    "from sklearn.metrics import accuracy_score , precision_score , recall_score , confusion_matrix, f1_score\n",
    "\n",
    "def get_clf_eval(y_test,pred):\n",
    "    confusion =confusion_matrix(y_test, pred)\n",
    "    accuracy = accuracy_score(y_test,pred)\n",
    "    precision= precision_score(y_test,pred)\n",
    "    recall = recall_score(y_test,pred)\n",
    "    f1score = f1_score(y_test,pred)\n",
    "\n",
    "                       \n",
    "    print('오차행렬')\n",
    "    print(confusion)\n",
    "    print('정확도 : {0:.4f}, 정밀도 : {1:.4f}, 재현율 : {2:.4f}, f1Score : {3:.4f}'.format(accuracy,precision,recall,f1score))"
   ]
  },
  {
   "cell_type": "code",
   "execution_count": 15,
   "id": "8b51add5",
   "metadata": {
    "ExecuteTime": {
     "end_time": "2023-05-11T04:56:28.772254Z",
     "start_time": "2023-05-11T04:56:28.691012Z"
    }
   },
   "outputs": [
    {
     "name": "stdout",
     "output_type": "stream",
     "text": [
      "오차행렬\n",
      "[[104  14]\n",
      " [ 13  48]]\n",
      "정확도 : 0.8492, 정밀도 : 0.7742, 재현율 : 0.7869, f1Score : 0.7805\n"
     ]
    }
   ],
   "source": [
    "import warnings\n",
    "warnings.filterwarnings('ignore')\n",
    "# 원본 데이터를 재로딩 하고, feature데이터 셋과 Label 데이터 셋 추출.\n",
    "titanic_df = pd.read_csv('./datasets/titanic_train.csv')\n",
    "y_titanic_df = titanic_df['Survived']\n",
    "X_titanic_df= titanic_df.drop('Survived',axis=1)\n",
    "X_titanic_df = transform_features(X_titanic_df)\n",
    "from sklearn.model_selection import train_test_split\n",
    "X_train, X_test, y_train, y_test=train_test_split(X_titanic_df, y_titanic_df, \\\n",
    "                                                  test_size=0.2, random_state=11)\n",
    "\n",
    "from sklearn.linear_model import LogisticRegression\n",
    "lr_clf= LogisticRegression()\n",
    "\n",
    "# LogisticRegression 학습/예측/평가\n",
    "lr_clf.fit(X_train , y_train)\n",
    "lr_pred = lr_clf.predict(X_test)\n",
    "get_clf_eval(y_test,lr_pred)"
   ]
  },
  {
   "cell_type": "code",
   "execution_count": 18,
   "id": "94804364",
   "metadata": {
    "ExecuteTime": {
     "end_time": "2023-05-11T04:57:55.813255Z",
     "start_time": "2023-05-11T04:57:55.800020Z"
    }
   },
   "outputs": [],
   "source": [
    "lr_pred_proba = lr_clf.predict_proba(X_test)"
   ]
  },
  {
   "cell_type": "code",
   "execution_count": 19,
   "id": "c7f6c0c3",
   "metadata": {
    "ExecuteTime": {
     "end_time": "2023-05-11T04:58:00.796039Z",
     "start_time": "2023-05-11T04:58:00.769089Z"
    }
   },
   "outputs": [
    {
     "data": {
      "text/plain": [
       "array([[0.46165994, 0.53834006],\n",
       "       [0.8786297 , 0.1213703 ],\n",
       "       [0.87717154, 0.12282846],\n",
       "       [0.88271522, 0.11728478],\n",
       "       [0.85511283, 0.14488717],\n",
       "       [0.88227708, 0.11772292],\n",
       "       [0.88838391, 0.11161609],\n",
       "       [0.20883565, 0.79116435],\n",
       "       [0.78271177, 0.21728823],\n",
       "       [0.36964049, 0.63035951],\n",
       "       [0.89984786, 0.10015214],\n",
       "       [0.87486758, 0.12513242],\n",
       "       [0.87716557, 0.12283443],\n",
       "       [0.88833807, 0.11166193],\n",
       "       [0.43605842, 0.56394158],\n",
       "       [0.85890983, 0.14109017],\n",
       "       [0.90368101, 0.09631899],\n",
       "       [0.73334609, 0.26665391],\n",
       "       [0.72454475, 0.27545525],\n",
       "       [0.17200141, 0.82799859],\n",
       "       [0.75354235, 0.24645765],\n",
       "       [0.61923385, 0.38076615],\n",
       "       [0.8545423 , 0.1454577 ],\n",
       "       [0.81483938, 0.18516062],\n",
       "       [0.88796788, 0.11203212],\n",
       "       [0.76545781, 0.23454219],\n",
       "       [0.85968959, 0.14031041],\n",
       "       [0.92592184, 0.07407816],\n",
       "       [0.71950544, 0.28049456],\n",
       "       [0.6952454 , 0.3047546 ],\n",
       "       [0.05269243, 0.94730757],\n",
       "       [0.18249166, 0.81750834],\n",
       "       [0.87315181, 0.12684819],\n",
       "       [0.17402957, 0.82597043],\n",
       "       [0.60042296, 0.39957704],\n",
       "       [0.76545781, 0.23454219],\n",
       "       [0.92761851, 0.07238149],\n",
       "       [0.38864515, 0.61135485],\n",
       "       [0.94699934, 0.05300066],\n",
       "       [0.89605363, 0.10394637],\n",
       "       [0.64939722, 0.35060278],\n",
       "       [0.91671259, 0.08328741],\n",
       "       [0.17809757, 0.82190243],\n",
       "       [0.29212188, 0.70787812],\n",
       "       [0.36951501, 0.63048499],\n",
       "       [0.36949875, 0.63050125],\n",
       "       [0.08119694, 0.91880306],\n",
       "       [0.64218819, 0.35781181],\n",
       "       [0.05108536, 0.94891464],\n",
       "       [0.88793339, 0.11206661],\n",
       "       [0.40662423, 0.59337577],\n",
       "       [0.88833807, 0.11166193],\n",
       "       [0.8671469 , 0.1328531 ],\n",
       "       [0.27465897, 0.72534103],\n",
       "       [0.69055112, 0.30944888],\n",
       "       [0.80322019, 0.19677981],\n",
       "       [0.7736634 , 0.2263366 ],\n",
       "       [0.8771705 , 0.1228295 ],\n",
       "       [0.84570899, 0.15429101],\n",
       "       [0.56762594, 0.43237406],\n",
       "       [0.71979685, 0.28020315],\n",
       "       [0.89914479, 0.10085521],\n",
       "       [0.45411069, 0.54588931],\n",
       "       [0.48624798, 0.51375202],\n",
       "       [0.55556188, 0.44443812],\n",
       "       [0.90538092, 0.09461908],\n",
       "       [0.33305882, 0.66694118],\n",
       "       [0.40577628, 0.59422372],\n",
       "       [0.04814337, 0.95185663],\n",
       "       [0.8519419 , 0.1480581 ],\n",
       "       [0.87096849, 0.12903151],\n",
       "       [0.83144787, 0.16855213],\n",
       "       [0.89605139, 0.10394861],\n",
       "       [0.05201255, 0.94798745],\n",
       "       [0.80135362, 0.19864638],\n",
       "       [0.88833807, 0.11166193],\n",
       "       [0.65152483, 0.34847517],\n",
       "       [0.81634076, 0.18365924],\n",
       "       [0.16431395, 0.83568605],\n",
       "       [0.8771705 , 0.1228295 ],\n",
       "       [0.20502981, 0.79497019],\n",
       "       [0.35525172, 0.64474828],\n",
       "       [0.06903407, 0.93096593],\n",
       "       [0.86680976, 0.13319024],\n",
       "       [0.05097886, 0.94902114],\n",
       "       [0.04948751, 0.95051249],\n",
       "       [0.84659624, 0.15340376],\n",
       "       [0.87452289, 0.12547711],\n",
       "       [0.12566295, 0.87433705],\n",
       "       [0.88833807, 0.11166193],\n",
       "       [0.88833807, 0.11166193],\n",
       "       [0.76545781, 0.23454219],\n",
       "       [0.76785671, 0.23214329],\n",
       "       [0.88833807, 0.11166193],\n",
       "       [0.36949875, 0.63050125],\n",
       "       [0.92427771, 0.07572229],\n",
       "       [0.07117181, 0.92882819],\n",
       "       [0.89925727, 0.10074273],\n",
       "       [0.49400969, 0.50599031],\n",
       "       [0.03487755, 0.96512245],\n",
       "       [0.49837383, 0.50162617],\n",
       "       [0.90527411, 0.09472589],\n",
       "       [0.05196128, 0.94803872],\n",
       "       [0.90243399, 0.09756601],\n",
       "       [0.46998511, 0.53001489],\n",
       "       [0.8715648 , 0.1284352 ],\n",
       "       [0.85886285, 0.14113715],\n",
       "       [0.85194221, 0.14805779],\n",
       "       [0.55027292, 0.44972708],\n",
       "       [0.89228716, 0.10771284],\n",
       "       [0.88299527, 0.11700473],\n",
       "       [0.89107507, 0.10892493],\n",
       "       [0.59645194, 0.40354806],\n",
       "       [0.3459121 , 0.6540879 ],\n",
       "       [0.88796788, 0.11203212],\n",
       "       [0.92887534, 0.07112466],\n",
       "       [0.87566748, 0.12433252],\n",
       "       [0.80158345, 0.19841655],\n",
       "       [0.07407914, 0.92592086],\n",
       "       [0.93133628, 0.06866372],\n",
       "       [0.8883469 , 0.1116531 ],\n",
       "       [0.86924393, 0.13075607],\n",
       "       [0.93638782, 0.06361218],\n",
       "       [0.67876987, 0.32123013],\n",
       "       [0.98834994, 0.01165006],\n",
       "       [0.8883469 , 0.1116531 ],\n",
       "       [0.88374966, 0.11625034],\n",
       "       [0.6832473 , 0.3167527 ],\n",
       "       [0.32235882, 0.67764118],\n",
       "       [0.67832406, 0.32167594],\n",
       "       [0.03487755, 0.96512245],\n",
       "       [0.54597478, 0.45402522],\n",
       "       [0.26462561, 0.73537439],\n",
       "       [0.55859932, 0.44140068],\n",
       "       [0.4298421 , 0.5701579 ],\n",
       "       [0.65016564, 0.34983436],\n",
       "       [0.25175446, 0.74824554],\n",
       "       [0.81373259, 0.18626741],\n",
       "       [0.89602627, 0.10397373],\n",
       "       [0.19679688, 0.80320312],\n",
       "       [0.09106427, 0.90893573],\n",
       "       [0.85194221, 0.14805779],\n",
       "       [0.8819692 , 0.1180308 ],\n",
       "       [0.89869552, 0.10130448],\n",
       "       [0.90834935, 0.09165065],\n",
       "       [0.33247131, 0.66752869],\n",
       "       [0.92432268, 0.07567732],\n",
       "       [0.76635134, 0.23364866],\n",
       "       [0.08170643, 0.91829357],\n",
       "       [0.83172218, 0.16827782],\n",
       "       [0.57129822, 0.42870178],\n",
       "       [0.36881636, 0.63118364],\n",
       "       [0.36306101, 0.63693899],\n",
       "       [0.87722599, 0.12277401],\n",
       "       [0.22208444, 0.77791556],\n",
       "       [0.11902392, 0.88097608],\n",
       "       [0.5120235 , 0.4879765 ],\n",
       "       [0.86698375, 0.13301625],\n",
       "       [0.24845577, 0.75154423],\n",
       "       [0.30948801, 0.69051199],\n",
       "       [0.85014262, 0.14985738],\n",
       "       [0.20734647, 0.79265353],\n",
       "       [0.90870925, 0.09129075],\n",
       "       [0.3331262 , 0.6668738 ],\n",
       "       [0.61948153, 0.38051847],\n",
       "       [0.34856623, 0.65143377],\n",
       "       [0.11593065, 0.88406935],\n",
       "       [0.69098158, 0.30901842],\n",
       "       [0.90833011, 0.09166989],\n",
       "       [0.10682268, 0.89317732],\n",
       "       [0.88838391, 0.11161609],\n",
       "       [0.1455375 , 0.8544625 ],\n",
       "       [0.74940118, 0.25059882],\n",
       "       [0.75962132, 0.24037868],\n",
       "       [0.60041125, 0.39958875],\n",
       "       [0.93769459, 0.06230541],\n",
       "       [0.85885585, 0.14114415],\n",
       "       [0.45467647, 0.54532353],\n",
       "       [0.37273293, 0.62726707]])"
      ]
     },
     "execution_count": 19,
     "metadata": {},
     "output_type": "execute_result"
    }
   ],
   "source": [
    "lr_pred_proba"
   ]
  },
  {
   "cell_type": "code",
   "execution_count": 20,
   "id": "a1114b99",
   "metadata": {
    "ExecuteTime": {
     "end_time": "2023-05-11T04:58:01.329168Z",
     "start_time": "2023-05-11T04:58:01.309635Z"
    }
   },
   "outputs": [],
   "source": [
    "from sklearn.metrics import precision_recall_curve\n",
    "\n",
    "data = precision_recall_curve(y_test, lr_pred_proba[:, 1])"
   ]
  },
  {
   "cell_type": "code",
   "execution_count": 21,
   "id": "9f3fec50",
   "metadata": {
    "ExecuteTime": {
     "end_time": "2023-05-11T04:58:03.305508Z",
     "start_time": "2023-05-11T04:58:02.980809Z"
    }
   },
   "outputs": [
    {
     "data": {
      "text/plain": [
       "Text(0, 0.5, 'probability density')"
      ]
     },
     "execution_count": 21,
     "metadata": {},
     "output_type": "execute_result"
    },
    {
     "data": {
      "image/png": "[encoded data removed]",
      "text/plain": [
       "<Figure size 640x480 with 1 Axes>"
      ]
     },
     "metadata": {},
     "output_type": "display_data"
    }
   ],
   "source": [
    "import matplotlib.pyplot as plt\n",
    "\n",
    "plt.plot(data[0])\n",
    "plt.plot(data[1])\n",
    "plt.xlabel(\"threshold\")\n",
    "plt.ylabel(\"probability density\")"
   ]
  },
  {
   "cell_type": "markdown",
   "id": "f6927833",
   "metadata": {},
   "source": [
    "## sklearn.metrics.roc_curve\n",
    "* sklearn.metrics.roc_curve(y_true, y_score, *, pos_label=None, sample_weight=None, drop_intermediate=True)[source]"
   ]
  },
  {
   "cell_type": "markdown",
   "id": "f1924377",
   "metadata": {},
   "source": [
    "## sklearn.metrics.roc_auc_score\n",
    "* sklearn.metrics.roc_auc_score(y_true, y_score, *, average='macro', sample_weight=None, max_fpr=None, multi_class='raise', labels=None)"
   ]
  },
  {
   "cell_type": "code",
   "execution_count": 26,
   "id": "a004aa21",
   "metadata": {
    "ExecuteTime": {
     "end_time": "2023-05-11T05:13:26.851029Z",
     "start_time": "2023-05-11T05:13:26.835043Z"
    }
   },
   "outputs": [
    {
     "name": "stdout",
     "output_type": "stream",
     "text": [
      "샘플 추출을 위한 임계값 배열의 index: [ 1  6 11 16 21 26 31 36 41 46 51]\n",
      "샘플 index로 추출한 임계값: [0.97 0.65 0.63 0.56 0.45 0.4  0.35 0.15 0.13 0.11 0.11]\n",
      "샘플 임계값 별 FPR: [0.    0.017 0.034 0.076 0.127 0.169 0.203 0.466 0.585 0.686 0.797]\n",
      "샘플 임계값 별 TPR: [0.033 0.639 0.705 0.754 0.803 0.836 0.885 0.902 0.934 0.967 0.984]\n"
     ]
    }
   ],
   "source": [
    "from sklearn.metrics import roc_curve\n",
    "\n",
    "# 레이블 값이 1일때의 예측 확률을 추출\n",
    "pred_proba_class1 = lr_clf.predict_proba(X_test)[:,1]\n",
    "fprs, tprs, thresholds = roc_curve(y_test, pred_proba_class1) \n",
    "# 반환된 임곗값 배열에서 샘플로 데이터를 추출하되, 임곗값을 5 Step으로 추출.\n",
    "# thresholds[0]은 max(예측확률)+1로 임의 설정됨. 이를 제외하기 위해 np.arange는 1부터 시작\n",
    "thr_index = np.arange(1, thresholds.shape[0],5)\n",
    "print('샘플 추출을 위한 임계값 배열의 index:', thr_index)\n",
    "print('샘플 index로 추출한 임계값:', np.round(thresholds[thr_index], 2))\n",
    "\n",
    "# 5 step 단위로 추출된 임계값에 따른 FPR, TPR \n",
    "print('샘플 임계값 별 FPR:', np.round(fprs[thr_index], 3))\n",
    "print('샘플 임계값 별 TPR:', np.round(tprs[thr_index], 3))"
   ]
  },
  {
   "cell_type": "code",
   "execution_count": 30,
   "id": "ad20b59e",
   "metadata": {
    "ExecuteTime": {
     "end_time": "2023-05-11T05:17:45.101254Z",
     "start_time": "2023-05-11T05:17:44.857816Z"
    }
   },
   "outputs": [
    {
     "data": {
      "image/png": "[encoded data removed]",
      "text/plain": [
       "<Figure size 640x480 with 1 Axes>"
      ]
     },
     "metadata": {},
     "output_type": "display_data"
    }
   ],
   "source": [
    "def roc_curve_plot(y_test, pred_proba_c1):\n",
    "    #임계값에 따른 FPR,TPR 값을 반환받음.\n",
    "    fprs, tprs, thresholds = roc_curve(y_test, pred_proba_class1) \n",
    "    \n",
    "   \n",
    "    plt.plot(fprs, tprs, label='ROC')\n",
    "     #가운데 대각선 직선 그리기\n",
    "    plt.plot([0,1],[0,1], 'k--', label = 'Random')\n",
    "\n",
    "    #FPR X 축의 Scale을 0.1 단위로 변경, X, Y 축명 설정\n",
    "    start, end = plt.xlim()\n",
    "    plt.xticks(np.round(np.arange(start, end, 0.1), 2))\n",
    "    plt.xlim(0,1); plt.ylim(0,1)\n",
    "    plt.xlabel('FPR(1-Sensitivity)');plt.ylabel('TPR(Recall)')\n",
    "    plt.legend()\n",
    "    plt.show()\n",
    "    \n",
    "roc_curve_plot(y_test, lr_clf.predict_proba(X_test)[:,1])"
   ]
  },
  {
   "cell_type": "code",
   "execution_count": 28,
   "id": "a661bdb6",
   "metadata": {
    "ExecuteTime": {
     "end_time": "2023-05-11T05:14:59.220837Z",
     "start_time": "2023-05-11T05:14:59.202298Z"
    }
   },
   "outputs": [
    {
     "name": "stdout",
     "output_type": "stream",
     "text": [
      "ROC AUC 값:  0.9023\n"
     ]
    }
   ],
   "source": [
    "from sklearn.metrics import roc_auc_score\n",
    "\n",
    "pred_proba = lr_clf.predict_proba(X_test)[:,1]\n",
    "\n",
    "roc_score = roc_auc_score(y_test, pred_proba)\n",
    "print(\"ROC AUC 값: {0: .4f}\".format(roc_score))"
   ]
  },
  {
   "cell_type": "code",
   "execution_count": null,
   "id": "f1137668",
   "metadata": {},
   "outputs": [],
   "source": []
  }
 ],
 "metadata": {
  "kernelspec": {
   "display_name": "Python 3 (ipykernel)",
   "language": "python",
   "name": "python3"
  },
  "language_info": {
   "codemirror_mode": {
    "name": "ipython",
    "version": 3
   },
   "file_extension": ".py",
   "mimetype": "text/x-python",
   "name": "python",
   "nbconvert_exporter": "python",
   "pygments_lexer": "ipython3",
   "version": "3.10.9"
  },
  "toc": {
   "base_numbering": 1,
   "nav_menu": {},
   "number_sections": true,
   "sideBar": true,
   "skip_h1_title": false,
   "title_cell": "Table of Contents",
   "title_sidebar": "Contents",
   "toc_cell": false,
   "toc_position": {},
   "toc_section_display": true,
   "toc_window_display": false
  },
  "varInspector": {
   "cols": {
    "lenName": 16,
    "lenType": 16,
    "lenVar": 40
   },
   "kernels_config": {
    "python": {
     "delete_cmd_postfix": "",
     "delete_cmd_prefix": "del ",
     "library": "var_list.py",
     "varRefreshCmd": "print(var_dic_list())"
    },
    "r": {
     "delete_cmd_postfix": ") ",
     "delete_cmd_prefix": "rm(",
     "library": "var_list.r",
     "varRefreshCmd": "cat(var_dic_list()) "
    }
   },
   "types_to_exclude": [
    "module",
    "function",
    "builtin_function_or_method",
    "instance",
    "_Feature"
   ],
   "window_display": false
  }
 },
 "nbformat": 4,
 "nbformat_minor": 5
}
