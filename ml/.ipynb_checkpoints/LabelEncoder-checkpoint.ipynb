{
 "cells": [
  {
   "cell_type": "markdown",
   "id": "3a1247d9",
   "metadata": {},
   "source": [
    "## sklearn.preprocessing.LabelEncoder\n",
    "* class sklearn.preprocessing.LabelEncoder\n",
    "fit(y)\n",
    "\n",
    "Fit label encoder.\n",
    "\n",
    "fit_transform(y)\n",
    "\n",
    "Fit label encoder and return encoded labels.\n",
    "\n",
    "get_params([deep])\n",
    "\n",
    "Get parameters for this estimator.\n",
    "\n",
    "inverse_transform(y)\n",
    "\n",
    "Transform labels back to original encoding.\n",
    "\n",
    "set_output(*[, transform])\n",
    "\n",
    "Set output container.\n",
    "\n",
    "set_params(**params)\n",
    "\n",
    "Set the parameters of this estimator.\n",
    "\n",
    "transform(y)\n",
    "\n",
    "Transform labels to normalized encoding."
   ]
  },
  {
   "cell_type": "code",
   "execution_count": 7,
   "id": "1dd844bf",
   "metadata": {
    "ExecuteTime": {
     "end_time": "2023-05-10T04:53:19.534282Z",
     "start_time": "2023-05-10T04:53:19.527061Z"
    }
   },
   "outputs": [
    {
     "name": "stdout",
     "output_type": "stream",
     "text": [
      "인코딩 변환값: [0 1 4 5 3 3 2 2]\n"
     ]
    }
   ],
   "source": [
    "from sklearn.preprocessing import LabelEncoder\n",
    "items=['TV','냉장고','전저렌지','컴퓨터','선풍기','선풍기','믹서','믹서']\n",
    "\n",
    "encoder =LabelEncoder()\n",
    "encoder.fit(items)\n",
    "labels=encoder.transform(items)\n",
    "print(\"인코딩 변환값:\", labels)"
   ]
  },
  {
   "cell_type": "code",
   "execution_count": 8,
   "id": "74b33dc0",
   "metadata": {
    "ExecuteTime": {
     "end_time": "2023-05-10T04:53:20.683911Z",
     "start_time": "2023-05-10T04:53:20.672499Z"
    }
   },
   "outputs": [
    {
     "name": "stdout",
     "output_type": "stream",
     "text": [
      "['TV' '냉장고' '전저렌지' '컴퓨터' '선풍기' '선풍기' '믹서' '믹서']\n"
     ]
    }
   ],
   "source": [
    "print(encoder.inverse_transform([0, 1, 4, 5, 3, 3, 2, 2]))"
   ]
  },
  {
   "cell_type": "code",
   "execution_count": null,
   "id": "b2818a2a",
   "metadata": {},
   "outputs": [],
   "source": []
  }
 ],
 "metadata": {
  "kernelspec": {
   "display_name": "Python 3 (ipykernel)",
   "language": "python",
   "name": "python3"
  },
  "language_info": {
   "codemirror_mode": {
    "name": "ipython",
    "version": 3
   },
   "file_extension": ".py",
   "mimetype": "text/x-python",
   "name": "python",
   "nbconvert_exporter": "python",
   "pygments_lexer": "ipython3",
   "version": "3.10.9"
  },
  "toc": {
   "base_numbering": 1,
   "nav_menu": {},
   "number_sections": true,
   "sideBar": true,
   "skip_h1_title": false,
   "title_cell": "Table of Contents",
   "title_sidebar": "Contents",
   "toc_cell": false,
   "toc_position": {},
   "toc_section_display": true,
   "toc_window_display": false
  },
  "varInspector": {
   "cols": {
    "lenName": 16,
    "lenType": 16,
    "lenVar": 40
   },
   "kernels_config": {
    "python": {
     "delete_cmd_postfix": "",
     "delete_cmd_prefix": "del ",
     "library": "var_list.py",
     "varRefreshCmd": "print(var_dic_list())"
    },
    "r": {
     "delete_cmd_postfix": ") ",
     "delete_cmd_prefix": "rm(",
     "library": "var_list.r",
     "varRefreshCmd": "cat(var_dic_list()) "
    }
   },
   "types_to_exclude": [
    "module",
    "function",
    "builtin_function_or_method",
    "instance",
    "_Feature"
   ],
   "window_display": false
  }
 },
 "nbformat": 4,
 "nbformat_minor": 5
}
