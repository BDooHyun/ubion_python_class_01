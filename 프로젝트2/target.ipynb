{
 "cells": [
  {
   "cell_type": "code",
   "execution_count": 1,
   "metadata": {},
   "outputs": [],
   "source": [
    "import pandas as pd"
   ]
  },
  {
   "cell_type": "code",
   "execution_count": 146,
   "metadata": {},
   "outputs": [],
   "source": [
    "big_a = pd.read_csv('./타겟나누기/중견1.csv', encoding='euc-kr')\n",
    "big_b = pd.read_csv('./타겟나누기/중견2.csv', encoding='euc-kr')\n",
    "sml_a = pd.read_csv('./타겟나누기/중소1.csv', encoding='euc-kr')\n",
    "sml_b = pd.read_csv('./타겟나누기/중소2.csv', encoding='euc-kr')\n",
    "sml_c = pd.read_csv('./타겟나누기/중소3.csv', encoding='euc-kr')\n",
    "sml_d = pd.read_csv('./타겟나누기/중소4.csv', encoding='euc-kr')\n",
    "sml_e = pd.read_csv('./타겟나누기/중소5.csv', encoding='euc-kr')\n",
    "sml_f = pd.read_csv('./타겟나누기/중소6.csv', encoding='euc-kr')\n",
    "sml_g = pd.read_csv('./타겟나누기/중소7.csv', encoding='euc-kr')\n",
    "sml_h = pd.read_csv('./타겟나누기/중소8.csv', encoding='euc-kr')\n",
    "sml_i = pd.read_csv('./타겟나누기/중소9.csv', encoding='euc-kr')\n",
    "sml_j = pd.read_csv('./타겟나누기/중소10.csv', encoding='euc-kr')\n",
    "sml_k = pd.read_csv('./타겟나누기/중소11.csv', encoding='euc-kr')"
   ]
  },
  {
   "cell_type": "code",
   "execution_count": 147,
   "metadata": {},
   "outputs": [],
   "source": [
    "total_df = pd.concat([big_a, big_b, sml_a, sml_b, sml_c, sml_d, sml_e, sml_f, sml_g, sml_h, sml_i, sml_j, sml_k], axis=0)"
   ]
  },
  {
   "cell_type": "code",
   "execution_count": 148,
   "metadata": {},
   "outputs": [
    {
     "data": {
      "text/plain": [
       "45863"
      ]
     },
     "execution_count": 148,
     "metadata": {},
     "output_type": "execute_result"
    }
   ],
   "source": [
    "len(total_df['회사명'].unique())"
   ]
  },
  {
   "cell_type": "code",
   "execution_count": 149,
   "metadata": {},
   "outputs": [
    {
     "data": {
      "text/plain": [
       "4699"
      ]
     },
     "execution_count": 149,
     "metadata": {},
     "output_type": "execute_result"
    }
   ],
   "source": [
    "len(big_a['회사명'].unique())"
   ]
  },
  {
   "cell_type": "code",
   "execution_count": 150,
   "metadata": {},
   "outputs": [
    {
     "data": {
      "text/plain": [
       "870"
      ]
     },
     "execution_count": 150,
     "metadata": {},
     "output_type": "execute_result"
    }
   ],
   "source": [
    "len(big_b['회사명'].unique())"
   ]
  },
  {
   "cell_type": "code",
   "execution_count": 151,
   "metadata": {},
   "outputs": [],
   "source": [
    "# total_df.reset_index()"
   ]
  },
  {
   "cell_type": "code",
   "execution_count": 152,
   "metadata": {},
   "outputs": [],
   "source": [
    "# total_df.to_csv('./mk_target.csv', index=False, encoding='euc-kr')"
   ]
  },
  {
   "cell_type": "code",
   "execution_count": 153,
   "metadata": {},
   "outputs": [],
   "source": [
    "total_df.reset_index(drop=True, inplace=True)"
   ]
  },
  {
   "cell_type": "code",
   "execution_count": 154,
   "metadata": {},
   "outputs": [
    {
     "data": {
      "text/html": [
       "<div>\n",
       "<style scoped>\n",
       "    .dataframe tbody tr th:only-of-type {\n",
       "        vertical-align: middle;\n",
       "    }\n",
       "\n",
       "    .dataframe tbody tr th {\n",
       "        vertical-align: top;\n",
       "    }\n",
       "\n",
       "    .dataframe thead th {\n",
       "        text-align: right;\n",
       "    }\n",
       "</style>\n",
       "<table border=\"1\" class=\"dataframe\">\n",
       "  <thead>\n",
       "    <tr style=\"text-align: right;\">\n",
       "      <th></th>\n",
       "      <th>회사명</th>\n",
       "      <th>거래소코드</th>\n",
       "      <th>회계년도</th>\n",
       "      <th>감사의견코드</th>\n",
       "    </tr>\n",
       "  </thead>\n",
       "  <tbody>\n",
       "    <tr>\n",
       "      <th>172292</th>\n",
       "      <td>(주)제이더블유엘</td>\n",
       "      <td>58276</td>\n",
       "      <td>2012/12</td>\n",
       "      <td>ZZ</td>\n",
       "    </tr>\n",
       "    <tr>\n",
       "      <th>172293</th>\n",
       "      <td>(주)제이더블유엘</td>\n",
       "      <td>58276</td>\n",
       "      <td>2013/12</td>\n",
       "      <td>QU</td>\n",
       "    </tr>\n",
       "    <tr>\n",
       "      <th>172294</th>\n",
       "      <td>(주)제이더블유엘</td>\n",
       "      <td>58276</td>\n",
       "      <td>2014/12</td>\n",
       "      <td>QU</td>\n",
       "    </tr>\n",
       "    <tr>\n",
       "      <th>172295</th>\n",
       "      <td>(주)제이더블유엘</td>\n",
       "      <td>58276</td>\n",
       "      <td>2015/12</td>\n",
       "      <td>QA</td>\n",
       "    </tr>\n",
       "    <tr>\n",
       "      <th>172296</th>\n",
       "      <td>(주)제이더블유엘</td>\n",
       "      <td>58276</td>\n",
       "      <td>2016/12</td>\n",
       "      <td>QU</td>\n",
       "    </tr>\n",
       "    <tr>\n",
       "      <th>172297</th>\n",
       "      <td>(주)제이더블유엘</td>\n",
       "      <td>58276</td>\n",
       "      <td>2017/12</td>\n",
       "      <td>QU</td>\n",
       "    </tr>\n",
       "    <tr>\n",
       "      <th>172298</th>\n",
       "      <td>(주)제이더블유엘</td>\n",
       "      <td>58276</td>\n",
       "      <td>2018/12</td>\n",
       "      <td>QU</td>\n",
       "    </tr>\n",
       "  </tbody>\n",
       "</table>\n",
       "</div>"
      ],
      "text/plain": [
       "              회사명  거래소코드     회계년도 감사의견코드\n",
       "172292  (주)제이더블유엘  58276  2012/12     ZZ\n",
       "172293  (주)제이더블유엘  58276  2013/12     QU\n",
       "172294  (주)제이더블유엘  58276  2014/12     QU\n",
       "172295  (주)제이더블유엘  58276  2015/12     QA\n",
       "172296  (주)제이더블유엘  58276  2016/12     QU\n",
       "172297  (주)제이더블유엘  58276  2017/12     QU\n",
       "172298  (주)제이더블유엘  58276  2018/12     QU"
      ]
     },
     "execution_count": 154,
     "metadata": {},
     "output_type": "execute_result"
    }
   ],
   "source": [
    "total_df[total_df['회사명']=='(주)제이더블유엘']"
   ]
  },
  {
   "cell_type": "code",
   "execution_count": 155,
   "metadata": {},
   "outputs": [
    {
     "data": {
      "text/html": [
       "<div>\n",
       "<style scoped>\n",
       "    .dataframe tbody tr th:only-of-type {\n",
       "        vertical-align: middle;\n",
       "    }\n",
       "\n",
       "    .dataframe tbody tr th {\n",
       "        vertical-align: top;\n",
       "    }\n",
       "\n",
       "    .dataframe thead th {\n",
       "        text-align: right;\n",
       "    }\n",
       "</style>\n",
       "<table border=\"1\" class=\"dataframe\">\n",
       "  <thead>\n",
       "    <tr style=\"text-align: right;\">\n",
       "      <th></th>\n",
       "      <th>회사명</th>\n",
       "      <th>거래소코드</th>\n",
       "      <th>회계년도</th>\n",
       "      <th>감사의견코드</th>\n",
       "    </tr>\n",
       "  </thead>\n",
       "  <tbody>\n",
       "    <tr>\n",
       "      <th>0</th>\n",
       "      <td>(유)그룹세브코리아</td>\n",
       "      <td>13171</td>\n",
       "      <td>2019/12</td>\n",
       "      <td>NaN</td>\n",
       "    </tr>\n",
       "    <tr>\n",
       "      <th>1</th>\n",
       "      <td>(유)그룹세브코리아</td>\n",
       "      <td>13171</td>\n",
       "      <td>2020/12</td>\n",
       "      <td>UQ</td>\n",
       "    </tr>\n",
       "    <tr>\n",
       "      <th>2</th>\n",
       "      <td>(유)그룹세브코리아</td>\n",
       "      <td>13171</td>\n",
       "      <td>2021/12</td>\n",
       "      <td>UQ</td>\n",
       "    </tr>\n",
       "    <tr>\n",
       "      <th>3</th>\n",
       "      <td>(유)그룹세브코리아</td>\n",
       "      <td>13171</td>\n",
       "      <td>2022/12</td>\n",
       "      <td>UQ</td>\n",
       "    </tr>\n",
       "    <tr>\n",
       "      <th>4</th>\n",
       "      <td>(유)디에스브이에어앤씨인터내셔널</td>\n",
       "      <td>104275</td>\n",
       "      <td>2021/12</td>\n",
       "      <td>NaN</td>\n",
       "    </tr>\n",
       "    <tr>\n",
       "      <th>...</th>\n",
       "      <td>...</td>\n",
       "      <td>...</td>\n",
       "      <td>...</td>\n",
       "      <td>...</td>\n",
       "    </tr>\n",
       "    <tr>\n",
       "      <th>294815</th>\n",
       "      <td>힐중공업주식회사</td>\n",
       "      <td>82007</td>\n",
       "      <td>2017/12</td>\n",
       "      <td>QS</td>\n",
       "    </tr>\n",
       "    <tr>\n",
       "      <th>294816</th>\n",
       "      <td>힐중공업주식회사</td>\n",
       "      <td>82007</td>\n",
       "      <td>2018/12</td>\n",
       "      <td>QU</td>\n",
       "    </tr>\n",
       "    <tr>\n",
       "      <th>294817</th>\n",
       "      <td>（주）신미코스메틱</td>\n",
       "      <td>85105</td>\n",
       "      <td>2017/12</td>\n",
       "      <td>NaN</td>\n",
       "    </tr>\n",
       "    <tr>\n",
       "      <th>294818</th>\n",
       "      <td>（주）신미코스메틱</td>\n",
       "      <td>85105</td>\n",
       "      <td>2018/12</td>\n",
       "      <td>UQ</td>\n",
       "    </tr>\n",
       "    <tr>\n",
       "      <th>294819</th>\n",
       "      <td>（주）신미코스메틱</td>\n",
       "      <td>85105</td>\n",
       "      <td>2019/12</td>\n",
       "      <td>UQ</td>\n",
       "    </tr>\n",
       "  </tbody>\n",
       "</table>\n",
       "<p>294820 rows × 4 columns</p>\n",
       "</div>"
      ],
      "text/plain": [
       "                      회사명   거래소코드     회계년도 감사의견코드\n",
       "0              (유)그룹세브코리아   13171  2019/12    NaN\n",
       "1              (유)그룹세브코리아   13171  2020/12     UQ\n",
       "2              (유)그룹세브코리아   13171  2021/12     UQ\n",
       "3              (유)그룹세브코리아   13171  2022/12     UQ\n",
       "4       (유)디에스브이에어앤씨인터내셔널  104275  2021/12    NaN\n",
       "...                   ...     ...      ...    ...\n",
       "294815           힐중공업주식회사   82007  2017/12     QS\n",
       "294816           힐중공업주식회사   82007  2018/12     QU\n",
       "294817          （주）신미코스메틱   85105  2017/12    NaN\n",
       "294818          （주）신미코스메틱   85105  2018/12     UQ\n",
       "294819          （주）신미코스메틱   85105  2019/12     UQ\n",
       "\n",
       "[294820 rows x 4 columns]"
      ]
     },
     "execution_count": 155,
     "metadata": {},
     "output_type": "execute_result"
    }
   ],
   "source": [
    "total_df"
   ]
  },
  {
   "cell_type": "code",
   "execution_count": 156,
   "metadata": {},
   "outputs": [
    {
     "data": {
      "text/plain": [
       "감사의견코드\n",
       "UQ    239780\n",
       "QS     13023\n",
       "DU      3604\n",
       "DS      2559\n",
       "QG      1208\n",
       "QU      1152\n",
       "AG       527\n",
       "QQ        27\n",
       "QA         4\n",
       "ZZ         1\n",
       "DI         1\n",
       "Name: count, dtype: int64"
      ]
     },
     "execution_count": 156,
     "metadata": {},
     "output_type": "execute_result"
    }
   ],
   "source": [
    "total_df['감사의견코드'].value_counts()"
   ]
  },
  {
   "cell_type": "code",
   "execution_count": 157,
   "metadata": {},
   "outputs": [
    {
     "data": {
      "text/plain": [
       "55040"
      ]
     },
     "execution_count": 157,
     "metadata": {},
     "output_type": "execute_result"
    }
   ],
   "source": [
    "294820 - 239780"
   ]
  },
  {
   "cell_type": "code",
   "execution_count": 158,
   "metadata": {},
   "outputs": [],
   "source": [
    "# df1 = pd.read_csv('./타겟나누기/1.csv', encoding='euc-kr')\n",
    "# df2 = pd.read_csv('./타겟나누기/2.csv', encoding='euc-kr')\n",
    "# df3 = pd.read_csv('./타겟나누기/3.csv', encoding='euc-kr')\n",
    "# df4 = pd.read_csv('./타겟나누기/4.csv', encoding='euc-kr')\n",
    "# df5 = pd.read_csv('./타겟나누기/5.csv', encoding='euc-kr')\n",
    "# df6 = pd.read_csv('./타겟나누기/6.csv', encoding='euc-kr')\n",
    "# df7 = pd.read_csv('./타겟나누기/7.csv', encoding='euc-kr')\n",
    "# df8 = pd.read_csv('./타겟나누기/8.csv', encoding='euc-kr')\n",
    "# df9 = pd.read_csv('./타겟나누기/9.csv', encoding='euc-kr')\n",
    "# df10 = pd.read_csv('./타겟나누기/10.csv', encoding='euc-kr')\n",
    "# df11 = pd.read_csv('./타겟나누기/11.csv', encoding='euc-kr')\n",
    "# df12 = pd.read_csv('./타겟나누기/12.csv', encoding='euc-kr')\n",
    "# df13 = pd.read_csv('./타겟나누기/13.csv', encoding='euc-kr')\n",
    "# df14 = pd.read_csv('./타겟나누기/14.csv', encoding='euc-kr')"
   ]
  },
  {
   "cell_type": "code",
   "execution_count": 159,
   "metadata": {},
   "outputs": [],
   "source": [
    "# total_df2 = pd.concat([df1, df2, df3, df4, df5, df6, df7, df8, df9, df10, df11, df12, df13, df14], axis=0)\n",
    "# total_df2"
   ]
  },
  {
   "cell_type": "code",
   "execution_count": 160,
   "metadata": {},
   "outputs": [],
   "source": [
    "df0 = pd.read_csv('./타겟나누기/15.csv', encoding='euc-kr')\n",
    "df1 = pd.read_csv('./타겟나누기/중소기업_1.csv', encoding='euc-kr')\n",
    "df2 = pd.read_csv('./타겟나누기/중소기업_2.csv', encoding='euc-kr')\n",
    "df3 = pd.read_csv('./타겟나누기/중소기업_3.csv', encoding='euc-kr')\n",
    "df4 = pd.read_csv('./타겟나누기/중소기업_4.csv', encoding='euc-kr')\n",
    "df5 = pd.read_csv('./타겟나누기/중소기업_5.csv', encoding='euc-kr')\n",
    "df6 = pd.read_csv('./타겟나누기/중소기업_6.csv', encoding='euc-kr')\n",
    "df7 = pd.read_csv('./타겟나누기/중소기업_7.csv', encoding='euc-kr')\n",
    "df8 = pd.read_csv('./타겟나누기/중소기업_8.csv', encoding='euc-kr')\n",
    "df9 = pd.read_csv('./타겟나누기/중소기업_9.csv', encoding='euc-kr')\n",
    "df10 = pd.read_csv('./타겟나누기/중소기업_10.csv', encoding='euc-kr')\n",
    "df11 = pd.read_csv('./타겟나누기/중소기업_11.csv', encoding='euc-kr')\n",
    "df12 = pd.read_csv('./타겟나누기/중견기업.csv', encoding='euc-kr')"
   ]
  },
  {
   "cell_type": "code",
   "execution_count": 161,
   "metadata": {},
   "outputs": [],
   "source": [
    "total_df3 = pd.concat([df0, df1, df2, df3, df4, df5, df6, df7, df8, df9, df10, df11, df12], axis=0)"
   ]
  },
  {
   "cell_type": "code",
   "execution_count": 162,
   "metadata": {},
   "outputs": [
    {
     "data": {
      "text/html": [
       "<div>\n",
       "<style scoped>\n",
       "    .dataframe tbody tr th:only-of-type {\n",
       "        vertical-align: middle;\n",
       "    }\n",
       "\n",
       "    .dataframe tbody tr th {\n",
       "        vertical-align: top;\n",
       "    }\n",
       "\n",
       "    .dataframe thead th {\n",
       "        text-align: right;\n",
       "    }\n",
       "</style>\n",
       "<table border=\"1\" class=\"dataframe\">\n",
       "  <thead>\n",
       "    <tr style=\"text-align: right;\">\n",
       "      <th></th>\n",
       "      <th>회사명</th>\n",
       "      <th>거래소코드</th>\n",
       "      <th>회계년도</th>\n",
       "      <th>산업코드</th>\n",
       "      <th>산업명</th>\n",
       "      <th>설립일</th>\n",
       "      <th>상장일</th>\n",
       "      <th>기업규모코드</th>\n",
       "      <th>감사의견코드</th>\n",
       "    </tr>\n",
       "  </thead>\n",
       "  <tbody>\n",
       "    <tr>\n",
       "      <th>0</th>\n",
       "      <td>(주)KAL호텔네트워크</td>\n",
       "      <td>29255</td>\n",
       "      <td>2012/12</td>\n",
       "      <td>95501</td>\n",
       "      <td>숙박업</td>\n",
       "      <td>2001/05/16</td>\n",
       "      <td>0000/00/00</td>\n",
       "      <td>10.0</td>\n",
       "      <td>UQ</td>\n",
       "    </tr>\n",
       "    <tr>\n",
       "      <th>1</th>\n",
       "      <td>(주)KAL호텔네트워크</td>\n",
       "      <td>29255</td>\n",
       "      <td>2013/12</td>\n",
       "      <td>95501</td>\n",
       "      <td>숙박업</td>\n",
       "      <td>2001/05/16</td>\n",
       "      <td>0000/00/00</td>\n",
       "      <td>10.0</td>\n",
       "      <td>UQ</td>\n",
       "    </tr>\n",
       "    <tr>\n",
       "      <th>2</th>\n",
       "      <td>(주)KAL호텔네트워크</td>\n",
       "      <td>29255</td>\n",
       "      <td>2014/12</td>\n",
       "      <td>95501</td>\n",
       "      <td>숙박업</td>\n",
       "      <td>2001/05/16</td>\n",
       "      <td>0000/00/00</td>\n",
       "      <td>10.0</td>\n",
       "      <td>UQ</td>\n",
       "    </tr>\n",
       "    <tr>\n",
       "      <th>3</th>\n",
       "      <td>(주)KAL호텔네트워크</td>\n",
       "      <td>29255</td>\n",
       "      <td>2015/12</td>\n",
       "      <td>95501</td>\n",
       "      <td>숙박업</td>\n",
       "      <td>2001/05/16</td>\n",
       "      <td>0000/00/00</td>\n",
       "      <td>10.0</td>\n",
       "      <td>UQ</td>\n",
       "    </tr>\n",
       "    <tr>\n",
       "      <th>4</th>\n",
       "      <td>(주)KAL호텔네트워크</td>\n",
       "      <td>29255</td>\n",
       "      <td>2016/12</td>\n",
       "      <td>95501</td>\n",
       "      <td>숙박업</td>\n",
       "      <td>2001/05/16</td>\n",
       "      <td>0000/00/00</td>\n",
       "      <td>10.0</td>\n",
       "      <td>UQ</td>\n",
       "    </tr>\n",
       "    <tr>\n",
       "      <th>...</th>\n",
       "      <td>...</td>\n",
       "      <td>...</td>\n",
       "      <td>...</td>\n",
       "      <td>...</td>\n",
       "      <td>...</td>\n",
       "      <td>...</td>\n",
       "      <td>...</td>\n",
       "      <td>...</td>\n",
       "      <td>...</td>\n",
       "    </tr>\n",
       "    <tr>\n",
       "      <th>40345</th>\n",
       "      <td>힐티코리아주식회사</td>\n",
       "      <td>10534</td>\n",
       "      <td>2018/12</td>\n",
       "      <td>74605</td>\n",
       "      <td>도매 및 상품 중개업</td>\n",
       "      <td>1986/07/10</td>\n",
       "      <td>0000/00/00</td>\n",
       "      <td>30.0</td>\n",
       "      <td>UQ</td>\n",
       "    </tr>\n",
       "    <tr>\n",
       "      <th>40346</th>\n",
       "      <td>힐티코리아주식회사</td>\n",
       "      <td>10534</td>\n",
       "      <td>2019/12</td>\n",
       "      <td>74605</td>\n",
       "      <td>도매 및 상품 중개업</td>\n",
       "      <td>1986/07/10</td>\n",
       "      <td>0000/00/00</td>\n",
       "      <td>30.0</td>\n",
       "      <td>UQ</td>\n",
       "    </tr>\n",
       "    <tr>\n",
       "      <th>40347</th>\n",
       "      <td>힐티코리아주식회사</td>\n",
       "      <td>10534</td>\n",
       "      <td>2020/12</td>\n",
       "      <td>74605</td>\n",
       "      <td>도매 및 상품 중개업</td>\n",
       "      <td>1986/07/10</td>\n",
       "      <td>0000/00/00</td>\n",
       "      <td>30.0</td>\n",
       "      <td>UQ</td>\n",
       "    </tr>\n",
       "    <tr>\n",
       "      <th>40348</th>\n",
       "      <td>힐티코리아주식회사</td>\n",
       "      <td>10534</td>\n",
       "      <td>2021/12</td>\n",
       "      <td>74605</td>\n",
       "      <td>도매 및 상품 중개업</td>\n",
       "      <td>1986/07/10</td>\n",
       "      <td>0000/00/00</td>\n",
       "      <td>20.0</td>\n",
       "      <td>UQ</td>\n",
       "    </tr>\n",
       "    <tr>\n",
       "      <th>40349</th>\n",
       "      <td>힐티코리아주식회사</td>\n",
       "      <td>10534</td>\n",
       "      <td>2022/12</td>\n",
       "      <td>74605</td>\n",
       "      <td>도매 및 상품 중개업</td>\n",
       "      <td>1986/07/10</td>\n",
       "      <td>0000/00/00</td>\n",
       "      <td>30.0</td>\n",
       "      <td>UQ</td>\n",
       "    </tr>\n",
       "  </tbody>\n",
       "</table>\n",
       "<p>294073 rows × 9 columns</p>\n",
       "</div>"
      ],
      "text/plain": [
       "                회사명  거래소코드     회계년도   산업코드            산업명         설립일   \n",
       "0      (주)KAL호텔네트워크  29255  2012/12  95501            숙박업  2001/05/16  \\\n",
       "1      (주)KAL호텔네트워크  29255  2013/12  95501            숙박업  2001/05/16   \n",
       "2      (주)KAL호텔네트워크  29255  2014/12  95501            숙박업  2001/05/16   \n",
       "3      (주)KAL호텔네트워크  29255  2015/12  95501            숙박업  2001/05/16   \n",
       "4      (주)KAL호텔네트워크  29255  2016/12  95501            숙박업  2001/05/16   \n",
       "...             ...    ...      ...    ...            ...         ...   \n",
       "40345     힐티코리아주식회사  10534  2018/12  74605    도매 및 상품 중개업  1986/07/10   \n",
       "40346     힐티코리아주식회사  10534  2019/12  74605    도매 및 상품 중개업  1986/07/10   \n",
       "40347     힐티코리아주식회사  10534  2020/12  74605    도매 및 상품 중개업  1986/07/10   \n",
       "40348     힐티코리아주식회사  10534  2021/12  74605    도매 및 상품 중개업  1986/07/10   \n",
       "40349     힐티코리아주식회사  10534  2022/12  74605    도매 및 상품 중개업  1986/07/10   \n",
       "\n",
       "              상장일  기업규모코드 감사의견코드  \n",
       "0      0000/00/00    10.0     UQ  \n",
       "1      0000/00/00    10.0     UQ  \n",
       "2      0000/00/00    10.0     UQ  \n",
       "3      0000/00/00    10.0     UQ  \n",
       "4      0000/00/00    10.0     UQ  \n",
       "...           ...     ...    ...  \n",
       "40345  0000/00/00    30.0     UQ  \n",
       "40346  0000/00/00    30.0     UQ  \n",
       "40347  0000/00/00    30.0     UQ  \n",
       "40348  0000/00/00    20.0     UQ  \n",
       "40349  0000/00/00    30.0     UQ  \n",
       "\n",
       "[294073 rows x 9 columns]"
      ]
     },
     "execution_count": 162,
     "metadata": {},
     "output_type": "execute_result"
    }
   ],
   "source": [
    "total_df3"
   ]
  },
  {
   "cell_type": "code",
   "execution_count": null,
   "metadata": {},
   "outputs": [],
   "source": [
    "total_df3['기업규모코드'].value_counts()"
   ]
  },
  {
   "cell_type": "code",
   "execution_count": 163,
   "metadata": {},
   "outputs": [],
   "source": [
    "# total_df3.to_csv('./mk_target2.csv', index=False, encoding='euc-kr')"
   ]
  },
  {
   "cell_type": "code",
   "execution_count": 171,
   "metadata": {},
   "outputs": [
    {
     "data": {
      "text/html": [
       "<div>\n",
       "<style scoped>\n",
       "    .dataframe tbody tr th:only-of-type {\n",
       "        vertical-align: middle;\n",
       "    }\n",
       "\n",
       "    .dataframe tbody tr th {\n",
       "        vertical-align: top;\n",
       "    }\n",
       "\n",
       "    .dataframe thead th {\n",
       "        text-align: right;\n",
       "    }\n",
       "</style>\n",
       "<table border=\"1\" class=\"dataframe\">\n",
       "  <thead>\n",
       "    <tr style=\"text-align: right;\">\n",
       "      <th></th>\n",
       "      <th>회사명</th>\n",
       "      <th>거래소코드</th>\n",
       "      <th>회계년도</th>\n",
       "      <th>산업코드</th>\n",
       "      <th>산업명</th>\n",
       "      <th>설립일</th>\n",
       "      <th>상장일</th>\n",
       "      <th>기업규모코드</th>\n",
       "      <th>감사의견코드</th>\n",
       "    </tr>\n",
       "  </thead>\n",
       "  <tbody>\n",
       "  </tbody>\n",
       "</table>\n",
       "</div>"
      ],
      "text/plain": [
       "Empty DataFrame\n",
       "Columns: [회사명, 거래소코드, 회계년도, 산업코드, 산업명, 설립일, 상장일, 기업규모코드, 감사의견코드]\n",
       "Index: []"
      ]
     },
     "execution_count": 171,
     "metadata": {},
     "output_type": "execute_result"
    }
   ],
   "source": [
    "total_df3[total_df3['회사명'].str.contains('spec')]"
   ]
  },
  {
   "cell_type": "code",
   "execution_count": 2,
   "metadata": {},
   "outputs": [],
   "source": [
    "total_df3 = pd.read_csv('./mk_target2.csv', encoding='euc-kr')"
   ]
  },
  {
   "cell_type": "code",
   "execution_count": 5,
   "metadata": {},
   "outputs": [
    {
     "name": "stdout",
     "output_type": "stream",
     "text": [
      "<class 'pandas.core.frame.DataFrame'>\n",
      "RangeIndex: 294073 entries, 0 to 294072\n",
      "Data columns (total 9 columns):\n",
      " #   Column  Non-Null Count   Dtype  \n",
      "---  ------  --------------   -----  \n",
      " 0   회사명     294073 non-null  object \n",
      " 1   거래소코드   294073 non-null  int64  \n",
      " 2   회계년도    294073 non-null  object \n",
      " 3   산업코드    294073 non-null  int64  \n",
      " 4   산업명     294073 non-null  object \n",
      " 5   설립일     293776 non-null  object \n",
      " 6   상장일     294061 non-null  object \n",
      " 7   기업규모코드  291112 non-null  float64\n",
      " 8   감사의견코드  260068 non-null  object \n",
      "dtypes: float64(1), int64(2), object(6)\n",
      "memory usage: 20.2+ MB\n"
     ]
    }
   ],
   "source": [
    "total_df3.info()"
   ]
  },
  {
   "cell_type": "code",
   "execution_count": 4,
   "metadata": {},
   "outputs": [
    {
     "data": {
      "text/plain": [
       "회사명           0\n",
       "거래소코드         0\n",
       "회계년도          0\n",
       "산업코드          0\n",
       "산업명           0\n",
       "설립일         297\n",
       "상장일          12\n",
       "기업규모코드     2961\n",
       "감사의견코드    34005\n",
       "dtype: int64"
      ]
     },
     "execution_count": 4,
     "metadata": {},
     "output_type": "execute_result"
    }
   ],
   "source": [
    "total_df3.isna().sum()"
   ]
  },
  {
   "cell_type": "code",
   "execution_count": null,
   "metadata": {},
   "outputs": [],
   "source": []
  }
 ],
 "metadata": {
  "kernelspec": {
   "display_name": "Python 3",
   "language": "python",
   "name": "python3"
  },
  "language_info": {
   "codemirror_mode": {
    "name": "ipython",
    "version": 3
   },
   "file_extension": ".py",
   "mimetype": "text/x-python",
   "name": "python",
   "nbconvert_exporter": "python",
   "pygments_lexer": "ipython3",
   "version": "3.10.9"
  },
  "orig_nbformat": 4
 },
 "nbformat": 4,
 "nbformat_minor": 2
}
