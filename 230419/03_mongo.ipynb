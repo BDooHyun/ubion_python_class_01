{
 "cells": [
  {
   "attachments": {},
   "cell_type": "markdown",
   "metadata": {},
   "source": [
    "# mongodb\n",
    "1. 라이브러리 설치\n",
    "2. 라이브러리 로드\n",
    "3. CRUD"
   ]
  },
  {
   "cell_type": "code",
   "execution_count": 1,
   "metadata": {},
   "outputs": [
    {
     "name": "stdout",
     "output_type": "stream",
     "text": [
      "Collecting pymongo\n",
      "  Downloading pymongo-4.3.3-cp311-cp311-win_amd64.whl (382 kB)\n",
      "     ------------------------------------- 382.5/382.5 kB 11.6 MB/s eta 0:00:00\n",
      "Collecting dnspython<3.0.0,>=1.16.0\n",
      "  Downloading dnspython-2.3.0-py3-none-any.whl (283 kB)\n",
      "     ------------------------------------- 283.7/283.7 kB 17.1 MB/s eta 0:00:00\n",
      "Installing collected packages: dnspython, pymongo\n",
      "Successfully installed dnspython-2.3.0 pymongo-4.3.3\n"
     ]
    },
    {
     "name": "stderr",
     "output_type": "stream",
     "text": [
      "\n",
      "[notice] A new release of pip available: 22.3.1 -> 23.1\n",
      "[notice] To update, run: python.exe -m pip install --upgrade pip\n"
     ]
    }
   ],
   "source": [
    "!pip install pymongo"
   ]
  },
  {
   "cell_type": "code",
   "execution_count": 2,
   "metadata": {},
   "outputs": [],
   "source": [
    "from pymongo import MongoClient"
   ]
  },
  {
   "cell_type": "code",
   "execution_count": 3,
   "metadata": {},
   "outputs": [],
   "source": [
    "client = MongoClient(\n",
    "    host = \"localhost\",\n",
    "    port  = 27017\n",
    ")"
   ]
  },
  {
   "cell_type": "code",
   "execution_count": 13,
   "metadata": {},
   "outputs": [
    {
     "data": {
      "text/plain": [
       "['admin', 'config', 'local', 'ubion']"
      ]
     },
     "execution_count": 13,
     "metadata": {},
     "output_type": "execute_result"
    }
   ],
   "source": [
    "# mongodb에 있는 데이터베이스의 목록 출력\n",
    "client.list_database_names()"
   ]
  },
  {
   "cell_type": "code",
   "execution_count": 5,
   "metadata": {},
   "outputs": [],
   "source": [
    "# 데이터베이스를 선택\n",
    "db = client[\"ubion\"]"
   ]
  },
  {
   "cell_type": "code",
   "execution_count": 7,
   "metadata": {},
   "outputs": [],
   "source": [
    "# collection 접근 (collection 은 sql 에서 table 과 같은 의미)\n",
    "collection = db[\"test\"]"
   ]
  },
  {
   "cell_type": "code",
   "execution_count": 8,
   "metadata": {},
   "outputs": [
    {
     "data": {
      "text/plain": [
       "<pymongo.results.InsertOneResult at 0x1feb57a3eb0>"
      ]
     },
     "execution_count": 8,
     "metadata": {},
     "output_type": "execute_result"
    }
   ],
   "source": [
    "# CRUD -> C\n",
    "# create -> insert()\n",
    "# insert_one() / insert_many()\n",
    "data = {\n",
    "    \"id\" : \"test\",\n",
    "    \"pass\" : \"1234\"\n",
    "}\n",
    "collection.insert_one(data)"
   ]
  },
  {
   "cell_type": "code",
   "execution_count": 9,
   "metadata": {},
   "outputs": [
    {
     "data": {
      "text/plain": [
       "{'_id': ObjectId('643f8ae8c1c0c484ec666d70'), 'id': 'test', 'pass': '1234'}"
      ]
     },
     "execution_count": 9,
     "metadata": {},
     "output_type": "execute_result"
    }
   ],
   "source": [
    "collection.find_one()"
   ]
  },
  {
   "cell_type": "code",
   "execution_count": 11,
   "metadata": {},
   "outputs": [
    {
     "data": {
      "text/plain": [
       "<pymongo.results.InsertManyResult at 0x1feb57e5f00>"
      ]
     },
     "execution_count": 11,
     "metadata": {},
     "output_type": "execute_result"
    }
   ],
   "source": [
    "data = [\n",
    "    {\n",
    "        \"name\" : \"test1\",\n",
    "        \"phone\" : \"01011112222\",\n",
    "        \"gender\" : \"male\",\n",
    "    },\n",
    "    {\n",
    "        \"loc\" : \" seoul\"\n",
    "    }\n",
    "]\n",
    "collection.insert_many(data)"
   ]
  },
  {
   "cell_type": "code",
   "execution_count": 12,
   "metadata": {},
   "outputs": [
    {
     "data": {
      "text/plain": [
       "[{'_id': ObjectId('643f8ae8c1c0c484ec666d70'), 'id': 'test', 'pass': '1234'},\n",
       " {'_id': ObjectId('643f8cd5c1c0c484ec666d71'),\n",
       "  'name': 'test1',\n",
       "  'phone': '01011112222',\n",
       "  'gender': 'male'},\n",
       " {'_id': ObjectId('643f8cd5c1c0c484ec666d72'), 'loc': ' seoul'}]"
      ]
     },
     "execution_count": 12,
     "metadata": {},
     "output_type": "execute_result"
    }
   ],
   "source": [
    "list(collection.find())"
   ]
  },
  {
   "attachments": {},
   "cell_type": "markdown",
   "metadata": {},
   "source": [
    "1. sql 에서 name 이 test1 인 경우의 데이터를 출력\n",
    "    - select * from test where name = \"test1\""
   ]
  },
  {
   "cell_type": "code",
   "execution_count": 16,
   "metadata": {},
   "outputs": [
    {
     "data": {
      "text/plain": [
       "[{'_id': ObjectId('643f8cd5c1c0c484ec666d71'),\n",
       "  'name': 'test1',\n",
       "  'phone': '01011112222',\n",
       "  'gender': 'male'}]"
      ]
     },
     "execution_count": 16,
     "metadata": {},
     "output_type": "execute_result"
    }
   ],
   "source": [
    "list(collection.find({\"name\" : \"test1\"}))"
   ]
  },
  {
   "attachments": {},
   "cell_type": "markdown",
   "metadata": {},
   "source": [
    "1. sql 에서 해당하는 컬럼의 데이터만 출력하려면\n",
    "    - select name from test"
   ]
  },
  {
   "cell_type": "code",
   "execution_count": 17,
   "metadata": {},
   "outputs": [
    {
     "data": {
      "text/plain": [
       "[{'_id': ObjectId('643f8ae8c1c0c484ec666d70')},\n",
       " {'_id': ObjectId('643f8cd5c1c0c484ec666d71'), 'name': 'test1'},\n",
       " {'_id': ObjectId('643f8cd5c1c0c484ec666d72')}]"
      ]
     },
     "execution_count": 17,
     "metadata": {},
     "output_type": "execute_result"
    }
   ],
   "source": [
    "list(collection.find({}, {\"name\" : 1}))"
   ]
  },
  {
   "attachments": {},
   "cell_type": "markdown",
   "metadata": {},
   "source": [
    "1. 데이터의 수정\n",
    "    - update test set pass = \"0000\" where id = \"test\"\n",
    "    - test 테이블의 id 가 test 인 데이터에서 pass 의 값을 0000 으로 수정"
   ]
  },
  {
   "cell_type": "code",
   "execution_count": 18,
   "metadata": {},
   "outputs": [
    {
     "data": {
      "text/plain": [
       "<pymongo.results.UpdateResult at 0x1feb5dadd20>"
      ]
     },
     "execution_count": 18,
     "metadata": {},
     "output_type": "execute_result"
    }
   ],
   "source": [
    "collection.update_one(\n",
    "    {\n",
    "        \"id\" : \"test\"\n",
    "    },\n",
    "    {\n",
    "        \"$set\" : {\n",
    "            \"pass\" : \"0000\"\n",
    "        }\n",
    "    }\n",
    ")"
   ]
  },
  {
   "cell_type": "code",
   "execution_count": 19,
   "metadata": {},
   "outputs": [
    {
     "data": {
      "text/plain": [
       "{'_id': ObjectId('643f8ae8c1c0c484ec666d70'), 'id': 'test', 'pass': '0000'}"
      ]
     },
     "execution_count": 19,
     "metadata": {},
     "output_type": "execute_result"
    }
   ],
   "source": [
    "collection.find_one()"
   ]
  },
  {
   "attachments": {},
   "cell_type": "markdown",
   "metadata": {},
   "source": [
    "1. sql 에서 데이터 삭제\n",
    "    - delete from test where id = \"test\n",
    "    - test 테이블에서 id 가 \"test\" 인 데이터를 삭제"
   ]
  },
  {
   "cell_type": "code",
   "execution_count": 20,
   "metadata": {},
   "outputs": [
    {
     "data": {
      "text/plain": [
       "<pymongo.results.DeleteResult at 0x1feb5da9a20>"
      ]
     },
     "execution_count": 20,
     "metadata": {},
     "output_type": "execute_result"
    }
   ],
   "source": [
    "collection.delete_one(\n",
    "    {\n",
    "        \"id\" : \"test\"\n",
    "    }\n",
    ")"
   ]
  },
  {
   "cell_type": "code",
   "execution_count": 22,
   "metadata": {},
   "outputs": [
    {
     "data": {
      "text/plain": [
       "[{'_id': ObjectId('643f8cd5c1c0c484ec666d71'),\n",
       "  'name': 'test1',\n",
       "  'phone': '01011112222',\n",
       "  'gender': 'male'},\n",
       " {'_id': ObjectId('643f8cd5c1c0c484ec666d72'), 'loc': ' seoul'}]"
      ]
     },
     "execution_count": 22,
     "metadata": {},
     "output_type": "execute_result"
    }
   ],
   "source": [
    "list(collection.find())"
   ]
  },
  {
   "cell_type": "code",
   "execution_count": 23,
   "metadata": {},
   "outputs": [
    {
     "data": {
      "text/plain": [
       "[{'_id': ObjectId('643f8cd5c1c0c484ec666d71'),\n",
       "  'name': 'test1',\n",
       "  'phone': '01011112222',\n",
       "  'gender': 'male'},\n",
       " {'_id': ObjectId('643f8cd5c1c0c484ec666d72'), 'loc': ' seoul'}]"
      ]
     },
     "execution_count": 23,
     "metadata": {},
     "output_type": "execute_result"
    }
   ],
   "source": [
    "list(client[\"ubion\"][\"test\"].find())"
   ]
  },
  {
   "attachments": {},
   "cell_type": "markdown",
   "metadata": {},
   "source": [
    "### mongodb select 조건식\n",
    "\n",
    "- find(옵션1, 옵션2, 옵션3, ..., 컬럼 선택)\n",
    "\n",
    "    1. db.collection.find() -> select * from TABLE\n",
    "    2. db.collection.find({},{\"id\" : 1, \"pass\" : 1}) -> select id, pass from TABLE\n",
    "    3. db.collection.find({}, {\"id\" : 1, \"pass\" : 1, \"_id\" : 0}) -> 2번 과정과 같은 sql 문이지만 _id 를 보여주지 않겠다\n",
    "    4. db.collection.find({\"id\" : \"test\"})  -> select * from TABLE where id = \"test\"\n",
    "    5. db.collection.find({\"id\" : \"test\", \"pass\" : \"1234\"}) -> select * from TABLE where id = \"test\" and pass = \"1234\"\n",
    "    6. db.collection.find({\"id\" : \"test\"}, {\"pass\" : \"1234\"}) -> select * from TABLE where id = \"test\" or pass = \"1234\"\n",
    "    7. db.collection.find({\"age\" : {\"$gt\" : 25}}) -> select * from TABLE where age > 25\n",
    "    8. db.collection.find({\"age\" : {\"$lt\" : 25}}) -> select * from TABLE where age < 25\n",
    "    9. db.collection.find({\"id\" : {/dc/}}) -> select * from TABLE where id like \"%bc\"\n",
    "    10. db.collection.find().sort({\"id\" : 1}) -> select * from TABLE order by id ASC\n",
    "    11. db.collection.find().sort({\"id\" : -1}) -> select * from TABLE order by id DESC\n",
    "    12. db.collection.find().limit(10) -> select * from TABLE limit 10"
   ]
  },
  {
   "cell_type": "code",
   "execution_count": null,
   "metadata": {},
   "outputs": [],
   "source": []
  }
 ],
 "metadata": {
  "kernelspec": {
   "display_name": "Python 3",
   "language": "python",
   "name": "python3"
  },
  "language_info": {
   "codemirror_mode": {
    "name": "ipython",
    "version": 3
   },
   "file_extension": ".py",
   "mimetype": "text/x-python",
   "name": "python",
   "nbconvert_exporter": "python",
   "pygments_lexer": "ipython3",
   "version": "3.11.2"
  },
  "orig_nbformat": 4
 },
 "nbformat": 4,
 "nbformat_minor": 2
}
