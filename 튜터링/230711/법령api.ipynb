{
 "cells": [
  {
   "cell_type": "code",
   "execution_count": 7,
   "metadata": {},
   "outputs": [],
   "source": [
    "# 라이브러리 불러오기\n",
    "import pandas as pd\n",
    "import statsmodels.api as sm\n",
    "import numpy as np\n",
    "import matplotlib.pyplot as plt\n",
    "import os\n",
    "import statistics as st\n",
    "from datetime import datetime, timedelta\n",
    "import requests\n",
    "import json\n",
    "\n",
    "# 경고 메세지 삭제\n",
    "import warnings\n",
    "warnings.filterwarnings('ignore')\n",
    "\n",
    "# 한글 깨짐 방지\n",
    "import matplotlib.pyplot as plt\n",
    "plt.rcParams['font.family'] = 'Malgun Gothic'"
   ]
  },
  {
   "cell_type": "code",
   "execution_count": 8,
   "metadata": {},
   "outputs": [
    {
     "data": {
      "text/plain": [
       "<Response [200]>"
      ]
     },
     "execution_count": 8,
     "metadata": {},
     "output_type": "execute_result"
    }
   ],
   "source": [
    "url = 'http://www.law.go.kr/DRF/lawSearch.do?OC=duja1017&target=lstrm&type=XML'\n",
    "\n",
    "res = requests.get(url)\n",
    "\n",
    "res"
   ]
  },
  {
   "cell_type": "code",
   "execution_count": 9,
   "metadata": {},
   "outputs": [
    {
     "data": {
      "text/plain": [
       "'<?xml version=\"1.0\" encoding=\"UTF-8\"?><LsTrmSearch><target>lstrm</target><키워드><![CDATA[*]]></키워드><section>tn_lstrm_list</section><totalCnt>71029</totalCnt><page>1</page><numOfRows>20</numOfRows><resultCode>00</resultCode><resultMsg>success</resultMsg><lstrm id=\"1\"><법령용어ID>3945293</법령용어ID><법령용어명><![CDATA[(Instrument Meterological Condition; IMC)]]></법령용어명><법령용어상세검색><![CDATA[/LSW/lsTrmInfoR.do?trmSeqs=3945293&mobile=]]></법령용어상세검색><법령용어상세링크><![CDATA[/DRF/lawService.do?OC=duja1017&target=lstrm&trmSeqs=3945293&mobile=&type=XML]]></법령용어상세링크><사전구분코드><![CDATA[011402]]></사전구분코드><법령종류코드><![CDATA[010102]]></법령종류코드></lstrm><lstrm id=\"2\"><법령용어ID>4043616</법령용어ID><법령용어명><![CDATA[(Terminal Operating Company)라 한다)]]></법령용어명><법령용어상세검색><![CDATA[/LSW/lsTrmInfoR.do?trmSeqs=4043616&mobile=]]></법령용어상세검색><법령용어상세링크><![CDATA[/DRF/lawService.do?OC=duja1017&target=lstrm&trmSeqs=4043616&mobile=&type=XML]]></법령용어상세링크><사전구분코드><![CDATA[011402]]></사전구분코드><법령종류코드><![CDATA[010101]]></법령종류코드></lstrm><lstrm id=\"3\"><법령용어ID>4472280</법령용어ID><법령용어명><![CDATA[(이하]]></법령용어명><법령용어상세검색><![CDATA[/LSW/lsTrmInfoR.do?trmSeqs=4472280&mobile=]]></법령용어상세검색><법령용어상세링크><![CDATA[/DRF/lawService.do?OC=duja1017&target=lstrm&trmSeqs=4472280&mobile=&type=XML]]></법령용어상세링크><사전구분코드><![CDATA[011402]]></사전구분코드><법령종류코드><![CDATA[010102]]></법령종류코드></lstrm><lstrm id=\"4\"><법령용어ID>3833856</법령용어ID><법령용어명><![CDATA[(지리적)위치(Position(geographical))]]></법령용어명><법령용어상세검색><![CDATA[/LSW/lsTrmInfoR.do?trmSeqs=3833856&mobile=]]></법령용어상세검색><법령용어상세링크><![CDATA[/DRF/lawService.do?OC=duja1017&target=lstrm&trmSeqs=3833856&mobile=&type=XML]]></법령용어상세링크><사전구분코드><![CDATA[011402]]></사전구분코드><법령종류코드><![CDATA[010102]]></법령종류코드></lstrm><lstrm id=\"5\"><법령용어ID>3862557</법령용어ID><법령용어명><![CDATA[0 정지방식 비상정지장치]]></법령용어명><법령용어상세검색><![CDATA[/LSW/lsTrmInfoR.do?trmSeqs=3862557&mobile=]]></법령용어상세검색><법령용어상세링크><![CDATA[/DRF/lawService.do?OC=duja1017&target=lstrm&trmSeqs=3862557&mobile=&type=XML]]></법령용어상세링크><사전구분코드><![CDATA[011402]]></사전구분코드><법령종류코드><![CDATA[010102]]></법령종류코드></lstrm><lstrm id=\"6\"><법령용어ID>3503681,1059941,808913</법령용어ID><법령용어명><![CDATA[0 정지방식(stop category 0) 비상정지장치]]></법령용어명><법령용어상세검색><![CDATA[/LSW/lsTrmInfoR.do?trmSeqs=3503681,1059941,808913&mobile=]]></법령용어상세검색><법령용어상세링크><![CDATA[/DRF/lawService.do?OC=duja1017&target=lstrm&trmSeqs=3503681,1059941,808913&mobile=&type=XML]]></법령용어상세링크><사전구분코드><![CDATA[011402]]></사전구분코드><법령종류코드><![CDATA[010102,010101]]></법령종류코드></lstrm><lstrm id=\"7\"><법령용어ID>4350393</법령용어ID><법령용어명><![CDATA[080착신과금사업자]]></법령용어명><법령용어상세검색><![CDATA[/LSW/lsTrmInfoR.do?trmSeqs=4350393&mobile=]]></법령용어상세검색><법령용어상세링크><![CDATA[/DRF/lawService.do?OC=duja1017&target=lstrm&trmSeqs=4350393&mobile=&type=XML]]></법령용어상세링크><사전구분코드><![CDATA[011402]]></사전구분코드><법령종류코드><![CDATA[010102]]></법령종류코드></lstrm><lstrm id=\"8\"><법령용어ID>4350383</법령용어ID><법령용어명><![CDATA[080착신과금서비스]]></법령용어명><법령용어상세검색><![CDATA[/LSW/lsTrmInfoR.do?trmSeqs=4350383&mobile=]]></법령용어상세검색><법령용어상세링크><![CDATA[/DRF/lawService.do?OC=duja1017&target=lstrm&trmSeqs=4350383&mobile=&type=XML]]></법령용어상세링크><사전구분코드><![CDATA[011402]]></사전구분코드><법령종류코드><![CDATA[010102]]></법령종류코드></lstrm><lstrm id=\"9\"><법령용어ID>4681852</법령용어ID><법령용어명><![CDATA[1 이산화탄소상당량톤]]></법령용어명><법령용어상세검색><![CDATA[/LSW/lsTrmInfoR.do?trmSeqs=4681852&mobile=]]></법령용어상세검색><법령용어상세링크><![CDATA[/DRF/lawService.do?OC=duja1017&target=lstrm&trmSeqs=4681852&mobile=&type=XML]]></법령용어상세링크><사전구분코드><![CDATA[011402]]></사전구분코드><법령종류코드><![CDATA[010101]]></법령종류코드></lstrm><lstrm id=\"10\"><법령용어ID>4380220</법령용어ID><법령용어명><![CDATA[1/3 옥타브대역]]></법령용어명><법령용어상세검색><![CDATA[/LSW/lsTrmInfoR.do?trmSeqs=4380220&mobile=]]></법령용어상세검색><법령용어상세링크><![CDATA[/DRF/lawService.do?OC=duja1017&target=lstrm&trmSeqs=4380220&mobile=&type=XML]]></법령용어상세링크><사전구분코드><![CDATA[011402]]></사전구분코드><법령종류코드><![CDATA[010102]]></법령종류코드></lstrm><lstrm id=\"11\"><법령용어ID>4380221</법령용어ID><법령용어명><![CDATA[1/3 옥타브대역 소음]]></법령용어명><법령용어상세검색><![CDATA[/LSW/lsTrmInfoR.do?trmSeqs=4380221&mobile=]]></법령용어상세검색><법령용어상세링크><![CDATA[/DRF/lawService.do?OC=duja1017&target=lstrm&trmSeqs=4380221&mobile=&type=XML]]></법령용어상세링크><사전구분코드><![CDATA[011402]]></사전구분코드><법령종류코드><![CDATA[010102]]></법령종류코드></lstrm><lstrm id=\"12\"><법령용어ID>4854553</법령용어ID><법령용어명><![CDATA[100분의 25 이상을 소유한 자로서 대통령령으로 정하는 자]]></법령용어명><법령용어상세검색><![CDATA[/LSW/lsTrmInfoR.do?trmSeqs=4854553&mobile=]]></법령용어상세검색><법령용어상세링크><![CDATA[/DRF/lawService.do?OC=duja1017&target=lstrm&trmSeqs=4854553&mobile=&type=XML]]></법령용어상세링크><사전구분코드><![CDATA[011402]]></사전구분코드><법령종류코드><![CDATA[010101]]></법령종류코드></lstrm><lstrm id=\"13\"><법령용어ID>4970711</법령용어ID><법령용어명><![CDATA[100분의 30 이상으로서 금융위원회가 정하는 비율]]></법령용어명><법령용어상세검색><![CDATA[/LSW/lsTrmInfoR.do?trmSeqs=4970711&mobile=]]></법령용어상세검색><법령용어상세링크><![CDATA[/DRF/lawService.do?OC=duja1017&target=lstrm&trmSeqs=4970711&mobile=&type=XML]]></법령용어상세링크><사전구분코드><![CDATA[011402]]></사전구분코드><법령종류코드><![CDATA[010101]]></법령종류코드></lstrm><lstrm id=\"14\"><법령용어ID>4970713</법령용어ID><법령용어명><![CDATA[100분의 30 이상으로서 금융위원회가 정하여 고시하는 비율]]></법령용어명><법령용어상세검색><![CDATA[/LSW/lsTrmInfoR.do?trmSeqs=4970713&mobile=]]></법령용어상세검색><법령용어상세링크><![CDATA[/DRF/lawService.do?OC=duja1017&target=lstrm&trmSeqs=4970713&mobile=&type=XML]]></법령용어상세링크><사전구분코드><![CDATA[011402]]></사전구분코드><법령종류코드><![CDATA[010102]]></법령종류코드></lstrm><lstrm id=\"15\"><법령용어ID>4711478</법령용어ID><법령용어명><![CDATA[100분의 40이하로서 금융위원회가 정하여 고시하는 비율]]></법령용어명><법령용어상세검색><![CDATA[/LSW/lsTrmInfoR.do?trmSeqs=4711478&mobile=]]></법령용어상세검색><법령용어상세링크><![CDATA[/DRF/lawService.do?OC=duja1017&target=lstrm&trmSeqs=4711478&mobile=&type=XML]]></법령용어상세링크><사전구분코드><![CDATA[011402]]></사전구분코드><법령종류코드><![CDATA[010102]]></법령종류코드></lstrm><lstrm id=\"16\"><법령용어ID>4711479</법령용어ID><법령용어명><![CDATA[100분의 60이하로서 금융위원회가 정하여 고시하는 비율]]></법령용어명><법령용어상세검색><![CDATA[/LSW/lsTrmInfoR.do?trmSeqs=4711479&mobile=]]></법령용어상세검색><법령용어상세링크><![CDATA[/DRF/lawService.do?OC=duja1017&target=lstrm&trmSeqs=4711479&mobile=&type=XML]]></법령용어상세링크><사전구분코드><![CDATA[011402]]></사전구분코드><법령종류코드><![CDATA[010102]]></법령종류코드></lstrm><lstrm id=\"17\"><법령용어ID>616864</법령용어ID><법령용어명><![CDATA[10·27법난 피해자의 명예회복 등에 관한 법률]]></법령용어명><법령용어상세검색><![CDATA[/LSW/lsTrmInfoR.do?trmSeqs=616864&mobile=]]></법령용어상세검색><법령용어상세링크><![CDATA[/DRF/lawService.do?OC=duja1017&target=lstrm&trmSeqs=616864&mobile=&type=XML]]></법령용어상세링크><사전구분코드><![CDATA[011403]]></사전구분코드><법령종류코드><![CDATA[010101]]></법령종류코드></lstrm><lstrm id=\"18\"><법령용어ID>4956118</법령용어ID><법령용어명><![CDATA[10ㆍ27법난]]></법령용어명><법령용어상세검색><![CDATA[/LSW/lsTrmInfoR.do?trmSeqs=4956118&mobile=]]></법령용어상세검색><법령용어상세링크><![CDATA[/DRF/lawService.do?OC=duja1017&target=lstrm&trmSeqs=4956118&mobile=&type=XML]]></법령용어상세링크><사전구분코드><![CDATA[011402]]></사전구분코드><법령종류코드><![CDATA[010101]]></법령종류코드></lstrm><lstrm id=\"19\"><법령용어ID>4082648,4083875</법령용어ID><법령용어명><![CDATA[10기가급인터넷서비스]]></법령용어명><법령용어상세검색><![CDATA[/LSW/lsTrmInfoR.do?trmSeqs=4082648,4083875&mobile=]]></법령용어상세검색><법령용어상세링크><![CDATA[/DRF/lawService.do?OC=duja1017&target=lstrm&trmSeqs=4082648,4083875&mobile=&type=XML]]></법령용어상세링크><사전구분코드><![CDATA[011402]]></사전구분코드><법령종류코드><![CDATA[010102,010101]]></법령종류코드></lstrm><lstrm id=\"20\"><법령용어ID>4772833</법령용어ID><법령용어명><![CDATA[10년 이상의 기간 경과 등 대통령령으로 정하는 요건]]></법령용어명><법령용어상세검색><![CDATA[/LSW/lsTrmInfoR.do?trmSeqs=4772833&mobile=]]></법령용어상세검색><법령용어상세링크><![CDATA[/DRF/lawService.do?OC=duja1017&target=lstrm&trmSeqs=4772833&mobile=&type=XML]]></법령용어상세링크><사전구분코드><![CDATA[011402]]></사전구분코드><법령종류코드><![CDATA[010101]]></법령종류코드></lstrm></LsTrmSearch>\\n\\r\\n'"
      ]
     },
     "execution_count": 9,
     "metadata": {},
     "output_type": "execute_result"
    }
   ],
   "source": [
    "text = res.text\n",
    "text"
   ]
  },
  {
   "cell_type": "code",
   "execution_count": 10,
   "metadata": {},
   "outputs": [
    {
     "data": {
      "text/plain": [
       "<?xml version=\"1.0\" encoding=\"UTF-8\"?><html><body><lstrmsearch><target>lstrm</target>&lt;키워드&gt;&lt;![CDATA[*]]&gt;키워드&gt;<section>tn_lstrm_list</section><totalcnt>71029</totalcnt><page>1</page><numofrows>20</numofrows><resultcode>00</resultcode><resultmsg>success</resultmsg><lstrm id=\"1\">&lt;법령용어ID&gt;3945293법령용어ID&gt;&lt;법령용어명&gt;&lt;![CDATA[(Instrument Meterological Condition; IMC)]]&gt;법령용어명&gt;&lt;법령용어상세검색&gt;&lt;![CDATA[/LSW/lsTrmInfoR.do?trmSeqs=3945293&amp;mobile=]]&gt;법령용어상세검색&gt;&lt;법령용어상세링크&gt;&lt;![CDATA[/DRF/lawService.do?OC=duja1017&amp;target=lstrm&amp;trmSeqs=3945293&amp;mobile=&amp;type=XML]]&gt;법령용어상세링크&gt;&lt;사전구분코드&gt;&lt;![CDATA[011402]]&gt;사전구분코드&gt;&lt;법령종류코드&gt;&lt;![CDATA[010102]]&gt;법령종류코드&gt;</lstrm><lstrm id=\"2\">&lt;법령용어ID&gt;4043616법령용어ID&gt;&lt;법령용어명&gt;&lt;![CDATA[(Terminal Operating Company)라 한다)]]&gt;법령용어명&gt;&lt;법령용어상세검색&gt;&lt;![CDATA[/LSW/lsTrmInfoR.do?trmSeqs=4043616&amp;mobile=]]&gt;법령용어상세검색&gt;&lt;법령용어상세링크&gt;&lt;![CDATA[/DRF/lawService.do?OC=duja1017&amp;target=lstrm&amp;trmSeqs=4043616&amp;mobile=&amp;type=XML]]&gt;법령용어상세링크&gt;&lt;사전구분코드&gt;&lt;![CDATA[011402]]&gt;사전구분코드&gt;&lt;법령종류코드&gt;&lt;![CDATA[010101]]&gt;법령종류코드&gt;</lstrm><lstrm id=\"3\">&lt;법령용어ID&gt;4472280법령용어ID&gt;&lt;법령용어명&gt;&lt;![CDATA[(이하]]&gt;법령용어명&gt;&lt;법령용어상세검색&gt;&lt;![CDATA[/LSW/lsTrmInfoR.do?trmSeqs=4472280&amp;mobile=]]&gt;법령용어상세검색&gt;&lt;법령용어상세링크&gt;&lt;![CDATA[/DRF/lawService.do?OC=duja1017&amp;target=lstrm&amp;trmSeqs=4472280&amp;mobile=&amp;type=XML]]&gt;법령용어상세링크&gt;&lt;사전구분코드&gt;&lt;![CDATA[011402]]&gt;사전구분코드&gt;&lt;법령종류코드&gt;&lt;![CDATA[010102]]&gt;법령종류코드&gt;</lstrm><lstrm id=\"4\">&lt;법령용어ID&gt;3833856법령용어ID&gt;&lt;법령용어명&gt;&lt;![CDATA[(지리적)위치(Position(geographical))]]&gt;법령용어명&gt;&lt;법령용어상세검색&gt;&lt;![CDATA[/LSW/lsTrmInfoR.do?trmSeqs=3833856&amp;mobile=]]&gt;법령용어상세검색&gt;&lt;법령용어상세링크&gt;&lt;![CDATA[/DRF/lawService.do?OC=duja1017&amp;target=lstrm&amp;trmSeqs=3833856&amp;mobile=&amp;type=XML]]&gt;법령용어상세링크&gt;&lt;사전구분코드&gt;&lt;![CDATA[011402]]&gt;사전구분코드&gt;&lt;법령종류코드&gt;&lt;![CDATA[010102]]&gt;법령종류코드&gt;</lstrm><lstrm id=\"5\">&lt;법령용어ID&gt;3862557법령용어ID&gt;&lt;법령용어명&gt;&lt;![CDATA[0 정지방식 비상정지장치]]&gt;법령용어명&gt;&lt;법령용어상세검색&gt;&lt;![CDATA[/LSW/lsTrmInfoR.do?trmSeqs=3862557&amp;mobile=]]&gt;법령용어상세검색&gt;&lt;법령용어상세링크&gt;&lt;![CDATA[/DRF/lawService.do?OC=duja1017&amp;target=lstrm&amp;trmSeqs=3862557&amp;mobile=&amp;type=XML]]&gt;법령용어상세링크&gt;&lt;사전구분코드&gt;&lt;![CDATA[011402]]&gt;사전구분코드&gt;&lt;법령종류코드&gt;&lt;![CDATA[010102]]&gt;법령종류코드&gt;</lstrm><lstrm id=\"6\">&lt;법령용어ID&gt;3503681,1059941,808913법령용어ID&gt;&lt;법령용어명&gt;&lt;![CDATA[0 정지방식(stop category 0) 비상정지장치]]&gt;법령용어명&gt;&lt;법령용어상세검색&gt;&lt;![CDATA[/LSW/lsTrmInfoR.do?trmSeqs=3503681,1059941,808913&amp;mobile=]]&gt;법령용어상세검색&gt;&lt;법령용어상세링크&gt;&lt;![CDATA[/DRF/lawService.do?OC=duja1017&amp;target=lstrm&amp;trmSeqs=3503681,1059941,808913&amp;mobile=&amp;type=XML]]&gt;법령용어상세링크&gt;&lt;사전구분코드&gt;&lt;![CDATA[011402]]&gt;사전구분코드&gt;&lt;법령종류코드&gt;&lt;![CDATA[010102,010101]]&gt;법령종류코드&gt;</lstrm><lstrm id=\"7\">&lt;법령용어ID&gt;4350393법령용어ID&gt;&lt;법령용어명&gt;&lt;![CDATA[080착신과금사업자]]&gt;법령용어명&gt;&lt;법령용어상세검색&gt;&lt;![CDATA[/LSW/lsTrmInfoR.do?trmSeqs=4350393&amp;mobile=]]&gt;법령용어상세검색&gt;&lt;법령용어상세링크&gt;&lt;![CDATA[/DRF/lawService.do?OC=duja1017&amp;target=lstrm&amp;trmSeqs=4350393&amp;mobile=&amp;type=XML]]&gt;법령용어상세링크&gt;&lt;사전구분코드&gt;&lt;![CDATA[011402]]&gt;사전구분코드&gt;&lt;법령종류코드&gt;&lt;![CDATA[010102]]&gt;법령종류코드&gt;</lstrm><lstrm id=\"8\">&lt;법령용어ID&gt;4350383법령용어ID&gt;&lt;법령용어명&gt;&lt;![CDATA[080착신과금서비스]]&gt;법령용어명&gt;&lt;법령용어상세검색&gt;&lt;![CDATA[/LSW/lsTrmInfoR.do?trmSeqs=4350383&amp;mobile=]]&gt;법령용어상세검색&gt;&lt;법령용어상세링크&gt;&lt;![CDATA[/DRF/lawService.do?OC=duja1017&amp;target=lstrm&amp;trmSeqs=4350383&amp;mobile=&amp;type=XML]]&gt;법령용어상세링크&gt;&lt;사전구분코드&gt;&lt;![CDATA[011402]]&gt;사전구분코드&gt;&lt;법령종류코드&gt;&lt;![CDATA[010102]]&gt;법령종류코드&gt;</lstrm><lstrm id=\"9\">&lt;법령용어ID&gt;4681852법령용어ID&gt;&lt;법령용어명&gt;&lt;![CDATA[1 이산화탄소상당량톤]]&gt;법령용어명&gt;&lt;법령용어상세검색&gt;&lt;![CDATA[/LSW/lsTrmInfoR.do?trmSeqs=4681852&amp;mobile=]]&gt;법령용어상세검색&gt;&lt;법령용어상세링크&gt;&lt;![CDATA[/DRF/lawService.do?OC=duja1017&amp;target=lstrm&amp;trmSeqs=4681852&amp;mobile=&amp;type=XML]]&gt;법령용어상세링크&gt;&lt;사전구분코드&gt;&lt;![CDATA[011402]]&gt;사전구분코드&gt;&lt;법령종류코드&gt;&lt;![CDATA[010101]]&gt;법령종류코드&gt;</lstrm><lstrm id=\"10\">&lt;법령용어ID&gt;4380220법령용어ID&gt;&lt;법령용어명&gt;&lt;![CDATA[1/3 옥타브대역]]&gt;법령용어명&gt;&lt;법령용어상세검색&gt;&lt;![CDATA[/LSW/lsTrmInfoR.do?trmSeqs=4380220&amp;mobile=]]&gt;법령용어상세검색&gt;&lt;법령용어상세링크&gt;&lt;![CDATA[/DRF/lawService.do?OC=duja1017&amp;target=lstrm&amp;trmSeqs=4380220&amp;mobile=&amp;type=XML]]&gt;법령용어상세링크&gt;&lt;사전구분코드&gt;&lt;![CDATA[011402]]&gt;사전구분코드&gt;&lt;법령종류코드&gt;&lt;![CDATA[010102]]&gt;법령종류코드&gt;</lstrm><lstrm id=\"11\">&lt;법령용어ID&gt;4380221법령용어ID&gt;&lt;법령용어명&gt;&lt;![CDATA[1/3 옥타브대역 소음]]&gt;법령용어명&gt;&lt;법령용어상세검색&gt;&lt;![CDATA[/LSW/lsTrmInfoR.do?trmSeqs=4380221&amp;mobile=]]&gt;법령용어상세검색&gt;&lt;법령용어상세링크&gt;&lt;![CDATA[/DRF/lawService.do?OC=duja1017&amp;target=lstrm&amp;trmSeqs=4380221&amp;mobile=&amp;type=XML]]&gt;법령용어상세링크&gt;&lt;사전구분코드&gt;&lt;![CDATA[011402]]&gt;사전구분코드&gt;&lt;법령종류코드&gt;&lt;![CDATA[010102]]&gt;법령종류코드&gt;</lstrm><lstrm id=\"12\">&lt;법령용어ID&gt;4854553법령용어ID&gt;&lt;법령용어명&gt;&lt;![CDATA[100분의 25 이상을 소유한 자로서 대통령령으로 정하는 자]]&gt;법령용어명&gt;&lt;법령용어상세검색&gt;&lt;![CDATA[/LSW/lsTrmInfoR.do?trmSeqs=4854553&amp;mobile=]]&gt;법령용어상세검색&gt;&lt;법령용어상세링크&gt;&lt;![CDATA[/DRF/lawService.do?OC=duja1017&amp;target=lstrm&amp;trmSeqs=4854553&amp;mobile=&amp;type=XML]]&gt;법령용어상세링크&gt;&lt;사전구분코드&gt;&lt;![CDATA[011402]]&gt;사전구분코드&gt;&lt;법령종류코드&gt;&lt;![CDATA[010101]]&gt;법령종류코드&gt;</lstrm><lstrm id=\"13\">&lt;법령용어ID&gt;4970711법령용어ID&gt;&lt;법령용어명&gt;&lt;![CDATA[100분의 30 이상으로서 금융위원회가 정하는 비율]]&gt;법령용어명&gt;&lt;법령용어상세검색&gt;&lt;![CDATA[/LSW/lsTrmInfoR.do?trmSeqs=4970711&amp;mobile=]]&gt;법령용어상세검색&gt;&lt;법령용어상세링크&gt;&lt;![CDATA[/DRF/lawService.do?OC=duja1017&amp;target=lstrm&amp;trmSeqs=4970711&amp;mobile=&amp;type=XML]]&gt;법령용어상세링크&gt;&lt;사전구분코드&gt;&lt;![CDATA[011402]]&gt;사전구분코드&gt;&lt;법령종류코드&gt;&lt;![CDATA[010101]]&gt;법령종류코드&gt;</lstrm><lstrm id=\"14\">&lt;법령용어ID&gt;4970713법령용어ID&gt;&lt;법령용어명&gt;&lt;![CDATA[100분의 30 이상으로서 금융위원회가 정하여 고시하는 비율]]&gt;법령용어명&gt;&lt;법령용어상세검색&gt;&lt;![CDATA[/LSW/lsTrmInfoR.do?trmSeqs=4970713&amp;mobile=]]&gt;법령용어상세검색&gt;&lt;법령용어상세링크&gt;&lt;![CDATA[/DRF/lawService.do?OC=duja1017&amp;target=lstrm&amp;trmSeqs=4970713&amp;mobile=&amp;type=XML]]&gt;법령용어상세링크&gt;&lt;사전구분코드&gt;&lt;![CDATA[011402]]&gt;사전구분코드&gt;&lt;법령종류코드&gt;&lt;![CDATA[010102]]&gt;법령종류코드&gt;</lstrm><lstrm id=\"15\">&lt;법령용어ID&gt;4711478법령용어ID&gt;&lt;법령용어명&gt;&lt;![CDATA[100분의 40이하로서 금융위원회가 정하여 고시하는 비율]]&gt;법령용어명&gt;&lt;법령용어상세검색&gt;&lt;![CDATA[/LSW/lsTrmInfoR.do?trmSeqs=4711478&amp;mobile=]]&gt;법령용어상세검색&gt;&lt;법령용어상세링크&gt;&lt;![CDATA[/DRF/lawService.do?OC=duja1017&amp;target=lstrm&amp;trmSeqs=4711478&amp;mobile=&amp;type=XML]]&gt;법령용어상세링크&gt;&lt;사전구분코드&gt;&lt;![CDATA[011402]]&gt;사전구분코드&gt;&lt;법령종류코드&gt;&lt;![CDATA[010102]]&gt;법령종류코드&gt;</lstrm><lstrm id=\"16\">&lt;법령용어ID&gt;4711479법령용어ID&gt;&lt;법령용어명&gt;&lt;![CDATA[100분의 60이하로서 금융위원회가 정하여 고시하는 비율]]&gt;법령용어명&gt;&lt;법령용어상세검색&gt;&lt;![CDATA[/LSW/lsTrmInfoR.do?trmSeqs=4711479&amp;mobile=]]&gt;법령용어상세검색&gt;&lt;법령용어상세링크&gt;&lt;![CDATA[/DRF/lawService.do?OC=duja1017&amp;target=lstrm&amp;trmSeqs=4711479&amp;mobile=&amp;type=XML]]&gt;법령용어상세링크&gt;&lt;사전구분코드&gt;&lt;![CDATA[011402]]&gt;사전구분코드&gt;&lt;법령종류코드&gt;&lt;![CDATA[010102]]&gt;법령종류코드&gt;</lstrm><lstrm id=\"17\">&lt;법령용어ID&gt;616864법령용어ID&gt;&lt;법령용어명&gt;&lt;![CDATA[10·27법난 피해자의 명예회복 등에 관한 법률]]&gt;법령용어명&gt;&lt;법령용어상세검색&gt;&lt;![CDATA[/LSW/lsTrmInfoR.do?trmSeqs=616864&amp;mobile=]]&gt;법령용어상세검색&gt;&lt;법령용어상세링크&gt;&lt;![CDATA[/DRF/lawService.do?OC=duja1017&amp;target=lstrm&amp;trmSeqs=616864&amp;mobile=&amp;type=XML]]&gt;법령용어상세링크&gt;&lt;사전구분코드&gt;&lt;![CDATA[011403]]&gt;사전구분코드&gt;&lt;법령종류코드&gt;&lt;![CDATA[010101]]&gt;법령종류코드&gt;</lstrm><lstrm id=\"18\">&lt;법령용어ID&gt;4956118법령용어ID&gt;&lt;법령용어명&gt;&lt;![CDATA[10ㆍ27법난]]&gt;법령용어명&gt;&lt;법령용어상세검색&gt;&lt;![CDATA[/LSW/lsTrmInfoR.do?trmSeqs=4956118&amp;mobile=]]&gt;법령용어상세검색&gt;&lt;법령용어상세링크&gt;&lt;![CDATA[/DRF/lawService.do?OC=duja1017&amp;target=lstrm&amp;trmSeqs=4956118&amp;mobile=&amp;type=XML]]&gt;법령용어상세링크&gt;&lt;사전구분코드&gt;&lt;![CDATA[011402]]&gt;사전구분코드&gt;&lt;법령종류코드&gt;&lt;![CDATA[010101]]&gt;법령종류코드&gt;</lstrm><lstrm id=\"19\">&lt;법령용어ID&gt;4082648,4083875법령용어ID&gt;&lt;법령용어명&gt;&lt;![CDATA[10기가급인터넷서비스]]&gt;법령용어명&gt;&lt;법령용어상세검색&gt;&lt;![CDATA[/LSW/lsTrmInfoR.do?trmSeqs=4082648,4083875&amp;mobile=]]&gt;법령용어상세검색&gt;&lt;법령용어상세링크&gt;&lt;![CDATA[/DRF/lawService.do?OC=duja1017&amp;target=lstrm&amp;trmSeqs=4082648,4083875&amp;mobile=&amp;type=XML]]&gt;법령용어상세링크&gt;&lt;사전구분코드&gt;&lt;![CDATA[011402]]&gt;사전구분코드&gt;&lt;법령종류코드&gt;&lt;![CDATA[010102,010101]]&gt;법령종류코드&gt;</lstrm><lstrm id=\"20\">&lt;법령용어ID&gt;4772833법령용어ID&gt;&lt;법령용어명&gt;&lt;![CDATA[10년 이상의 기간 경과 등 대통령령으로 정하는 요건]]&gt;법령용어명&gt;&lt;법령용어상세검색&gt;&lt;![CDATA[/LSW/lsTrmInfoR.do?trmSeqs=4772833&amp;mobile=]]&gt;법령용어상세검색&gt;&lt;법령용어상세링크&gt;&lt;![CDATA[/DRF/lawService.do?OC=duja1017&amp;target=lstrm&amp;trmSeqs=4772833&amp;mobile=&amp;type=XML]]&gt;법령용어상세링크&gt;&lt;사전구분코드&gt;&lt;![CDATA[011402]]&gt;사전구분코드&gt;&lt;법령종류코드&gt;&lt;![CDATA[010101]]&gt;법령종류코드&gt;</lstrm></lstrmsearch>\n",
       "</body></html>"
      ]
     },
     "execution_count": 10,
     "metadata": {},
     "output_type": "execute_result"
    }
   ],
   "source": [
    "from bs4 import BeautifulSoup as bs\n",
    "from urllib.request import urlopen\n",
    "\n",
    "url = \"http://www.law.go.kr/DRF/lawSearch.do?OC=duja1017&target=lstrm&type=XML\"\n",
    "response = urlopen(url).read()\n",
    "bs(response)\n"
   ]
  },
  {
   "cell_type": "code",
   "execution_count": 11,
   "metadata": {},
   "outputs": [
    {
     "name": "stdout",
     "output_type": "stream",
     "text": [
      "Collecting pypdf2\n",
      "  Downloading pypdf2-3.0.1-py3-none-any.whl (232 kB)\n",
      "     -------------------------------------- 232.6/232.6 kB 4.7 MB/s eta 0:00:00\n",
      "Installing collected packages: pypdf2\n",
      "Successfully installed pypdf2-3.0.1\n",
      "Note: you may need to restart the kernel to use updated packages.\n"
     ]
    },
    {
     "name": "stderr",
     "output_type": "stream",
     "text": [
      "\n",
      "[notice] A new release of pip available: 22.3.1 -> 23.2.1\n",
      "[notice] To update, run: python.exe -m pip install --upgrade pip\n"
     ]
    }
   ],
   "source": [
    "pip install pypdf2"
   ]
  },
  {
   "cell_type": "code",
   "execution_count": 15,
   "metadata": {},
   "outputs": [
    {
     "ename": "OSError",
     "evalue": "[Errno 22] Invalid argument: '\"C:\\\\\\\\Users\\\\\\\\duja1\\\\\\\\OneDrive\\\\\\\\바탕 화면\\\\\\\\「DGB청년도약계좌」 상품설명서.pdf\"'",
     "output_type": "error",
     "traceback": [
      "\u001b[1;31m---------------------------------------------------------------------------\u001b[0m",
      "\u001b[1;31mOSError\u001b[0m                                   Traceback (most recent call last)",
      "\u001b[1;32mc:\\Users\\duja1\\OneDrive\\문서\\GitHub\\ubion_python_class_01\\튜터링\\230711\\법령api.ipynb 셀 6\u001b[0m line \u001b[0;36m1\n\u001b[0;32m      <a href='vscode-notebook-cell:/c%3A/Users/duja1/OneDrive/%EB%AC%B8%EC%84%9C/GitHub/ubion_python_class_01/%ED%8A%9C%ED%84%B0%EB%A7%81/230711/%EB%B2%95%EB%A0%B9api.ipynb#X11sZmlsZQ%3D%3D?line=6'>7</a>\u001b[0m     \u001b[39mreturn\u001b[39;00m content\n\u001b[0;32m      <a href='vscode-notebook-cell:/c%3A/Users/duja1/OneDrive/%EB%AC%B8%EC%84%9C/GitHub/ubion_python_class_01/%ED%8A%9C%ED%84%B0%EB%A7%81/230711/%EB%B2%95%EB%A0%B9api.ipynb#X11sZmlsZQ%3D%3D?line=8'>9</a>\u001b[0m pdf_path \u001b[39m=\u001b[39m \u001b[39minput\u001b[39m(\u001b[39m\"\u001b[39m\u001b[39mPDF 파일 경로를 입력하세요: \u001b[39m\u001b[39m\"\u001b[39m)\n\u001b[1;32m---> <a href='vscode-notebook-cell:/c%3A/Users/duja1/OneDrive/%EB%AC%B8%EC%84%9C/GitHub/ubion_python_class_01/%ED%8A%9C%ED%84%B0%EB%A7%81/230711/%EB%B2%95%EB%A0%B9api.ipynb#X11sZmlsZQ%3D%3D?line=9'>10</a>\u001b[0m pdf_content \u001b[39m=\u001b[39m extract_pdf_content(pdf_path)\n\u001b[0;32m     <a href='vscode-notebook-cell:/c%3A/Users/duja1/OneDrive/%EB%AC%B8%EC%84%9C/GitHub/ubion_python_class_01/%ED%8A%9C%ED%84%B0%EB%A7%81/230711/%EB%B2%95%EB%A0%B9api.ipynb#X11sZmlsZQ%3D%3D?line=11'>12</a>\u001b[0m \u001b[39mfor\u001b[39;00m page_num, page_content \u001b[39min\u001b[39;00m \u001b[39menumerate\u001b[39m(pdf_content, \u001b[39m1\u001b[39m):\n\u001b[0;32m     <a href='vscode-notebook-cell:/c%3A/Users/duja1/OneDrive/%EB%AC%B8%EC%84%9C/GitHub/ubion_python_class_01/%ED%8A%9C%ED%84%B0%EB%A7%81/230711/%EB%B2%95%EB%A0%B9api.ipynb#X11sZmlsZQ%3D%3D?line=12'>13</a>\u001b[0m     \u001b[39mprint\u001b[39m(\u001b[39mf\u001b[39m\u001b[39m\"\u001b[39m\u001b[39m--- 페이지 \u001b[39m\u001b[39m{\u001b[39;00mpage_num\u001b[39m}\u001b[39;00m\u001b[39m ---\u001b[39m\u001b[39m\"\u001b[39m)\n",
      "\u001b[1;32mc:\\Users\\duja1\\OneDrive\\문서\\GitHub\\ubion_python_class_01\\튜터링\\230711\\법령api.ipynb 셀 6\u001b[0m line \u001b[0;36m4\n\u001b[0;32m      <a href='vscode-notebook-cell:/c%3A/Users/duja1/OneDrive/%EB%AC%B8%EC%84%9C/GitHub/ubion_python_class_01/%ED%8A%9C%ED%84%B0%EB%A7%81/230711/%EB%B2%95%EB%A0%B9api.ipynb#X11sZmlsZQ%3D%3D?line=2'>3</a>\u001b[0m \u001b[39mdef\u001b[39;00m \u001b[39mextract_pdf_content\u001b[39m(pdf_path):\n\u001b[1;32m----> <a href='vscode-notebook-cell:/c%3A/Users/duja1/OneDrive/%EB%AC%B8%EC%84%9C/GitHub/ubion_python_class_01/%ED%8A%9C%ED%84%B0%EB%A7%81/230711/%EB%B2%95%EB%A0%B9api.ipynb#X11sZmlsZQ%3D%3D?line=3'>4</a>\u001b[0m     \u001b[39mwith\u001b[39;00m \u001b[39mopen\u001b[39;49m(pdf_path, \u001b[39m'\u001b[39;49m\u001b[39mrb\u001b[39;49m\u001b[39m'\u001b[39;49m) \u001b[39mas\u001b[39;00m file:\n\u001b[0;32m      <a href='vscode-notebook-cell:/c%3A/Users/duja1/OneDrive/%EB%AC%B8%EC%84%9C/GitHub/ubion_python_class_01/%ED%8A%9C%ED%84%B0%EB%A7%81/230711/%EB%B2%95%EB%A0%B9api.ipynb#X11sZmlsZQ%3D%3D?line=4'>5</a>\u001b[0m         reader \u001b[39m=\u001b[39m PyPDF2\u001b[39m.\u001b[39mPdfFileReader(file)\n\u001b[0;32m      <a href='vscode-notebook-cell:/c%3A/Users/duja1/OneDrive/%EB%AC%B8%EC%84%9C/GitHub/ubion_python_class_01/%ED%8A%9C%ED%84%B0%EB%A7%81/230711/%EB%B2%95%EB%A0%B9api.ipynb#X11sZmlsZQ%3D%3D?line=5'>6</a>\u001b[0m         content \u001b[39m=\u001b[39m [reader\u001b[39m.\u001b[39mgetPage(i)\u001b[39m.\u001b[39mextractText() \u001b[39mfor\u001b[39;00m i \u001b[39min\u001b[39;00m \u001b[39mrange\u001b[39m(reader\u001b[39m.\u001b[39mnumPages)]\n",
      "File \u001b[1;32mc:\\Users\\duja1\\AppData\\Local\\Programs\\Python\\Python310\\lib\\site-packages\\IPython\\core\\interactiveshell.py:284\u001b[0m, in \u001b[0;36m_modified_open\u001b[1;34m(file, *args, **kwargs)\u001b[0m\n\u001b[0;32m    277\u001b[0m \u001b[39mif\u001b[39;00m file \u001b[39min\u001b[39;00m {\u001b[39m0\u001b[39m, \u001b[39m1\u001b[39m, \u001b[39m2\u001b[39m}:\n\u001b[0;32m    278\u001b[0m     \u001b[39mraise\u001b[39;00m \u001b[39mValueError\u001b[39;00m(\n\u001b[0;32m    279\u001b[0m         \u001b[39mf\u001b[39m\u001b[39m\"\u001b[39m\u001b[39mIPython won\u001b[39m\u001b[39m'\u001b[39m\u001b[39mt let you open fd=\u001b[39m\u001b[39m{\u001b[39;00mfile\u001b[39m}\u001b[39;00m\u001b[39m by default \u001b[39m\u001b[39m\"\u001b[39m\n\u001b[0;32m    280\u001b[0m         \u001b[39m\"\u001b[39m\u001b[39mas it is likely to crash IPython. If you know what you are doing, \u001b[39m\u001b[39m\"\u001b[39m\n\u001b[0;32m    281\u001b[0m         \u001b[39m\"\u001b[39m\u001b[39myou can use builtins\u001b[39m\u001b[39m'\u001b[39m\u001b[39m open.\u001b[39m\u001b[39m\"\u001b[39m\n\u001b[0;32m    282\u001b[0m     )\n\u001b[1;32m--> 284\u001b[0m \u001b[39mreturn\u001b[39;00m io_open(file, \u001b[39m*\u001b[39margs, \u001b[39m*\u001b[39m\u001b[39m*\u001b[39mkwargs)\n",
      "\u001b[1;31mOSError\u001b[0m: [Errno 22] Invalid argument: '\"C:\\\\\\\\Users\\\\\\\\duja1\\\\\\\\OneDrive\\\\\\\\바탕 화면\\\\\\\\「DGB청년도약계좌」 상품설명서.pdf\"'"
     ]
    }
   ],
   "source": [
    "import PyPDF2\n",
    "\n",
    "def extract_pdf_content(pdf_path):\n",
    "    with open(pdf_path, 'rb') as file:\n",
    "        reader = PyPDF2.PdfFileReader(file)\n",
    "        content = [reader.getPage(i).extractText() for i in range(reader.numPages)]\n",
    "    return content\n",
    "\n",
    "pdf_path = input(\"PDF 파일 경로를 입력하세요: \")\n",
    "pdf_content = extract_pdf_content(pdf_path)\n",
    "\n",
    "for page_num, page_content in enumerate(pdf_content, 1):\n",
    "    print(f\"--- 페이지 {page_num} ---\")\n",
    "    print(page_content)\n",
    "\n",
    "print(\"\\nPDF 파일의 내용이 위에 출력되었습니다.\")\n"
   ]
  },
  {
   "cell_type": "code",
   "execution_count": null,
   "metadata": {},
   "outputs": [],
   "source": []
  }
 ],
 "metadata": {
  "kernelspec": {
   "display_name": "Python 3",
   "language": "python",
   "name": "python3"
  },
  "language_info": {
   "codemirror_mode": {
    "name": "ipython",
    "version": 3
   },
   "file_extension": ".py",
   "mimetype": "text/x-python",
   "name": "python",
   "nbconvert_exporter": "python",
   "pygments_lexer": "ipython3",
   "version": "3.10.9"
  },
  "orig_nbformat": 4
 },
 "nbformat": 4,
 "nbformat_minor": 2
}
