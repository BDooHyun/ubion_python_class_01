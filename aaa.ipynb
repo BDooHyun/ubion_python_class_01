{
 "cells": [
  {
   "cell_type": "code",
   "execution_count": 1,
   "metadata": {},
   "outputs": [
    {
     "name": "stdout",
     "output_type": "stream",
     "text": [
      "Requirement already satisfied: yfinance in c:\\users\\duja1\\appdata\\local\\programs\\python\\python310\\lib\\site-packages (0.2.20)Note: you may need to restart the kernel to use updated packages.\n",
      "\n",
      "Requirement already satisfied: pandas in c:\\users\\duja1\\appdata\\local\\programs\\python\\python310\\lib\\site-packages (2.0.1)\n",
      "Requirement already satisfied: numpy>=1.16.5 in c:\\users\\duja1\\appdata\\local\\programs\\python\\python310\\lib\\site-packages (from yfinance) (1.23.5)\n",
      "Requirement already satisfied: html5lib>=1.1 in c:\\users\\duja1\\appdata\\local\\programs\\python\\python310\\lib\\site-packages (from yfinance) (1.1)\n",
      "Requirement already satisfied: requests>=2.26 in c:\\users\\duja1\\appdata\\local\\programs\\python\\python310\\lib\\site-packages (from yfinance) (2.31.0)\n",
      "Requirement already satisfied: appdirs>=1.4.4 in c:\\users\\duja1\\appdata\\local\\programs\\python\\python310\\lib\\site-packages (from yfinance) (1.4.4)\n",
      "Requirement already satisfied: multitasking>=0.0.7 in c:\\users\\duja1\\appdata\\local\\programs\\python\\python310\\lib\\site-packages (from yfinance) (0.0.11)\n",
      "Requirement already satisfied: beautifulsoup4>=4.11.1 in c:\\users\\duja1\\appdata\\local\\programs\\python\\python310\\lib\\site-packages (from yfinance) (4.12.2)\n",
      "Requirement already satisfied: pytz>=2022.5 in c:\\users\\duja1\\appdata\\local\\programs\\python\\python310\\lib\\site-packages (from yfinance) (2023.3)\n",
      "Requirement already satisfied: cryptography>=3.3.2 in c:\\users\\duja1\\appdata\\local\\programs\\python\\python310\\lib\\site-packages (from yfinance) (41.0.1)\n",
      "Requirement already satisfied: lxml>=4.9.1 in c:\\users\\duja1\\appdata\\local\\programs\\python\\python310\\lib\\site-packages (from yfinance) (4.9.2)\n",
      "Requirement already satisfied: frozendict>=2.3.4 in c:\\users\\duja1\\appdata\\local\\programs\\python\\python310\\lib\\site-packages (from yfinance) (2.3.8)\n",
      "Requirement already satisfied: tzdata>=2022.1 in c:\\users\\duja1\\appdata\\local\\programs\\python\\python310\\lib\\site-packages (from pandas) (2023.3)\n",
      "Requirement already satisfied: python-dateutil>=2.8.2 in c:\\users\\duja1\\appdata\\local\\programs\\python\\python310\\lib\\site-packages (from pandas) (2.8.2)\n",
      "Requirement already satisfied: soupsieve>1.2 in c:\\users\\duja1\\appdata\\local\\programs\\python\\python310\\lib\\site-packages (from beautifulsoup4>=4.11.1->yfinance) (2.4.1)\n",
      "Requirement already satisfied: cffi>=1.12 in c:\\users\\duja1\\appdata\\local\\programs\\python\\python310\\lib\\site-packages (from cryptography>=3.3.2->yfinance) (1.15.1)\n",
      "Requirement already satisfied: webencodings in c:\\users\\duja1\\appdata\\local\\programs\\python\\python310\\lib\\site-packages (from html5lib>=1.1->yfinance) (0.5.1)\n",
      "Requirement already satisfied: six>=1.9 in c:\\users\\duja1\\appdata\\local\\programs\\python\\python310\\lib\\site-packages (from html5lib>=1.1->yfinance) (1.16.0)\n",
      "Requirement already satisfied: charset-normalizer<4,>=2 in c:\\users\\duja1\\appdata\\local\\programs\\python\\python310\\lib\\site-packages (from requests>=2.26->yfinance) (3.1.0)\n",
      "Requirement already satisfied: certifi>=2017.4.17 in c:\\users\\duja1\\appdata\\local\\programs\\python\\python310\\lib\\site-packages (from requests>=2.26->yfinance) (2023.5.7)\n",
      "Requirement already satisfied: idna<4,>=2.5 in c:\\users\\duja1\\appdata\\local\\programs\\python\\python310\\lib\\site-packages (from requests>=2.26->yfinance) (3.4)\n",
      "Requirement already satisfied: urllib3<3,>=1.21.1 in c:\\users\\duja1\\appdata\\local\\programs\\python\\python310\\lib\\site-packages (from requests>=2.26->yfinance) (1.26.16)\n",
      "Requirement already satisfied: pycparser in c:\\users\\duja1\\appdata\\local\\programs\\python\\python310\\lib\\site-packages (from cffi>=1.12->cryptography>=3.3.2->yfinance) (2.21)\n"
     ]
    },
    {
     "name": "stderr",
     "output_type": "stream",
     "text": [
      "\n",
      "[notice] A new release of pip available: 22.3.1 -> 23.2.1\n",
      "[notice] To update, run: python.exe -m pip install --upgrade pip\n"
     ]
    }
   ],
   "source": [
    "pip install yfinance pandas"
   ]
  },
  {
   "cell_type": "code",
   "execution_count": 2,
   "metadata": {},
   "outputs": [
    {
     "name": "stdout",
     "output_type": "stream",
     "text": [
      "[*********************100%***********************]  1 of 1 completed\n",
      "2022년 Samsung Electronics의 주식 상승률은 -29.73%입니다.\n"
     ]
    }
   ],
   "source": [
    "import yfinance as yf\n",
    "import pandas as pd\n",
    "\n",
    "def 주식_상승률_계산():\n",
    "    # Samsung Electronics의 주식 코드와 2022년 데이터를 위한 날짜 범위 설정\n",
    "    ticker = \"005930.KS\"\n",
    "    start_date = \"2022-01-01\"\n",
    "    end_date = \"2022-12-31\"\n",
    "\n",
    "    # Yahoo Finance에서 데이터 다운로드\n",
    "    data = yf.download(ticker, start=start_date, end=end_date)\n",
    "\n",
    "    # 시작과 끝의 종가 추출\n",
    "    start_price = data.iloc[0]['Close']\n",
    "    end_price = data.iloc[-1]['Close']\n",
    "\n",
    "    # 상승률 계산\n",
    "    상승률 = ((end_price - start_price) / start_price) * 100\n",
    "\n",
    "    return 상승률\n",
    "\n",
    "if __name__ == \"__main__\":\n",
    "    상승률 = 주식_상승률_계산()\n",
    "    print(f\"2022년 Samsung Electronics의 주식 상승률은 {상승률:.2f}%입니다.\")\n",
    "\n"
   ]
  },
  {
   "cell_type": "code",
   "execution_count": null,
   "metadata": {},
   "outputs": [],
   "source": []
  }
 ],
 "metadata": {
  "kernelspec": {
   "display_name": "Python 3",
   "language": "python",
   "name": "python3"
  },
  "language_info": {
   "codemirror_mode": {
    "name": "ipython",
    "version": 3
   },
   "file_extension": ".py",
   "mimetype": "text/x-python",
   "name": "python",
   "nbconvert_exporter": "python",
   "pygments_lexer": "ipython3",
   "version": "3.10.9"
  },
  "orig_nbformat": 4
 },
 "nbformat": 4,
 "nbformat_minor": 2
}
