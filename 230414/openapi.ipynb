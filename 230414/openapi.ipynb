{
 "cells": [
  {
   "cell_type": "code",
   "execution_count": 1,
   "metadata": {},
   "outputs": [],
   "source": [
    "import requests\n",
    "import xmltodict\n",
    "import pandas as pd\n",
    "from urllib import parse"
   ]
  },
  {
   "cell_type": "code",
   "execution_count": null,
   "metadata": {},
   "outputs": [],
   "source": [
    "url = 'http://apis.data.go.kr/1160100/service/GetFnCoBasiInfoService/getFnCoOutl'\n",
    "params ={\n",
    "    'serviceKey' : 'MI0t/PXbzdthrdQLeDIXafSV74SGrfrEaNEcZ3p0dERBWtjorN0RVTsmm1fDoDIKLYUx+1iuiZSNAgSSXsXPBA==', \n",
    "         'pageNo' : '1', \n",
    "         'numOfRows' : '10', \n",
    "         'resultType' : 'xml', \n",
    "         'basDt' : '20200408', \n",
    "         'crno' : '1101113892240', \n",
    "         'fncoNm' : '메리츠자산운용' \n",
    "         }\n",
    "\n",
    "response = requests.get(url, params=params)\n",
    "print(response.content)"
   ]
  }
 ],
 "metadata": {
  "kernelspec": {
   "display_name": "Python 3",
   "language": "python",
   "name": "python3"
  },
  "language_info": {
   "codemirror_mode": {
    "name": "ipython",
    "version": 3
   },
   "file_extension": ".py",
   "mimetype": "text/x-python",
   "name": "python",
   "nbconvert_exporter": "python",
   "pygments_lexer": "ipython3",
   "version": "3.11.2"
  },
  "orig_nbformat": 4
 },
 "nbformat": 4,
 "nbformat_minor": 2
}
