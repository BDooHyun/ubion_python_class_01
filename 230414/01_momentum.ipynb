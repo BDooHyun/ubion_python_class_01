{
 "cells": [
  {
   "cell_type": "code",
   "execution_count": null,
   "metadata": {},
   "outputs": [],
   "source": [
    "import pandas as pd\n",
    "import numpy as np"
   ]
  },
  {
   "attachments": {},
   "cell_type": "markdown",
   "metadata": {},
   "source": [
    "# 절대 모멘텀\n",
    "1. 주식 데이터 로드\n",
    "2. 년월 파생변수 생성 -> Date 컬럼에서 년-월 추출하여 대입\n",
    "3. 년, 월 별 마지막날의 month_last_dt 데이터프레임을 생성\n",
    "4. 전월의 종가를 가지는 파생변수 하나 생성\n",
    "5. 전년도의 종가를 가지는 파생변수 하나 생성\n",
    "6. 전월, 전년도의 종가를 가지고 거래내역 생성\n",
    "7. 수익율 계산"
   ]
  },
  {
   "cell_type": "code",
   "execution_count": null,
   "metadata": {},
   "outputs": [],
   "source": [
    "df = pd.read_csv(\"../csv/GDX.csv\", index_col = \"Date\")\n",
    "df.head(3)"
   ]
  },
  {
   "cell_type": "code",
   "execution_count": null,
   "metadata": {},
   "outputs": [],
   "source": [
    "# index를 시계열 데이터로 변경\n",
    "df.index = pd.to_datetime(df.index, format = \"%Y-%m-%d\")"
   ]
  },
  {
   "attachments": {},
   "cell_type": "markdown",
   "metadata": {},
   "source": [
    "# to_datetime()의 기능을 구현"
   ]
  },
  {
   "cell_type": "code",
   "execution_count": null,
   "metadata": {},
   "outputs": [],
   "source": [
    "from datetime import datetime"
   ]
  },
  {
   "cell_type": "code",
   "execution_count": null,
   "metadata": {},
   "outputs": [],
   "source": [
    "# datetime 라이브러리를 이용하여 시계열로 변경\n",
    "test_df = df.copy()"
   ]
  },
  {
   "cell_type": "code",
   "execution_count": null,
   "metadata": {},
   "outputs": [],
   "source": [
    "# 리셋 인덱스\n",
    "# case 1\n",
    "test_df = test_df.reset_index()\n",
    "test_df[\"Date\"] = test_df[\"Date\"].apply(lambda x : datetime.strptime(x, \"%Y-%m-%d\"))\n",
    "test_df.set_index(\"Date\")"
   ]
  },
  {
   "cell_type": "code",
   "execution_count": null,
   "metadata": {},
   "outputs": [],
   "source": [
    "# case 2\n",
    "test_df.index\n",
    "\n",
    "def change(x) :\n",
    "    return datetime.strptime(x, \"%Y-%m-%d\")\n",
    "\n",
    "test_df.index = list(map(change, test_df.index))     "
   ]
  },
  {
   "cell_type": "code",
   "execution_count": null,
   "metadata": {},
   "outputs": [],
   "source": [
    "test_df.head(2)"
   ]
  },
  {
   "cell_type": "code",
   "execution_count": null,
   "metadata": {},
   "outputs": [],
   "source": [
    "# map 함수\n",
    "x = [1, 2, 3, 4]\n",
    "def change(x) :\n",
    "    return x ** 2\n",
    "\n",
    "list(map(lambda y : y ** 2, x))"
   ]
  },
  {
   "attachments": {},
   "cell_type": "markdown",
   "metadata": {},
   "source": [
    "# 모멘텀 어게인"
   ]
  },
  {
   "cell_type": "code",
   "execution_count": null,
   "metadata": {},
   "outputs": [],
   "source": [
    "# 새로운 파생변수 년-월 데이터를 대입\n",
    "df[\"STD-YM\"] = list(map(lambda x : datetime.strftime(x, \"%Y-%m\"), df.index))\n",
    "df.head()"
   ]
  },
  {
   "cell_type": "code",
   "execution_count": null,
   "metadata": {},
   "outputs": [],
   "source": [
    "# 월별 마지막 인덱스만 추출하여 새로운 데이터프레임에 대입\n",
    "\n",
    "# case 1 (shift 이용)\n",
    "# 현재의 STM-YM의 값과 다음 행의 STD-YM의 값이 다른 경우\n",
    "df.loc[df[\"STD-YM\"] != df.shift(-1)[\"STD-YM\"]]\n"
   ]
  },
  {
   "cell_type": "code",
   "execution_count": null,
   "metadata": {},
   "outputs": [],
   "source": [
    "# case 2 (for 이용)\n",
    "month_list_df = pd.DataFrame()\n",
    "_list = df[\"STD-YM\"].unique()\n",
    "\n",
    "for i in _list :\n",
    "    last_df = df.loc[df[\"STD-YM\"] == i].tail(1)\n",
    "    month_list_df = pd.concat([month_list_df, last_df])\n",
    "\n",
    "month_list_df"
   ]
  },
  {
   "cell_type": "code",
   "execution_count": null,
   "metadata": {},
   "outputs": [],
   "source": [
    "# 전월의 종가(Adj Close)를 가지는 파생변수(BF_1M)을 생성하고 결측치는 0으로 대체\n",
    "# 전년도의 종가(Adj Close)를 가지는 파생변수(BF_12M)을 생성하고 결측치는 0으로 대체\n",
    "month_list_df[\"BF_1M\"] = month_list_df.shift(1)[\"Adj Close\"].fillna(0)\n",
    "month_list_df[\"BF_12M\"] = month_list_df.shift(12)[\"Adj Close\"].fillna(0)\n",
    "month_list_df.head(13)"
   ]
  },
  {
   "cell_type": "code",
   "execution_count": null,
   "metadata": {},
   "outputs": [],
   "source": [
    "# 거래내역 추가\n",
    "# 구매 조건 -> ((전월 종가 / 전 년도 종가) - 1)의 값이 0보다 크고 무한대가 아닌 경우\n",
    "\n",
    "df[\"trade\"] = \"\"\n",
    "\n",
    "for i in month_list_df.index :\n",
    "    signal = \"\"\n",
    "\n",
    "    # 절대 모멘텀 계산\n",
    "    momentum_index = month_list_df.loc[i, \"BF_1M\"] / month_list_df.loc[i, \"BF_12M\"] - 1\n",
    "\n",
    "    # 절대 모멘텀 지표에 따라서 True 와 False 로 구분\n",
    "    flag = True if((momentum_index > 0) and (momentum_index != -np.inf) and(momentum_index != np.inf)) else False\n",
    "\n",
    "    if flag :\n",
    "        signal = \"buy\"\n",
    "\n",
    "    print(\"날짜 : \", i, \"모멘텀 인덱스 : \", momentum_index, \"flag : \", flag, \"signal : \", signal)\n",
    "\n",
    "    df.loc[i, \"trade\"] = signal"
   ]
  },
  {
   "cell_type": "code",
   "execution_count": null,
   "metadata": {},
   "outputs": [],
   "source": [
    "df[\"trade\"].value_counts()"
   ]
  },
  {
   "cell_type": "code",
   "execution_count": null,
   "metadata": {},
   "outputs": [],
   "source": [
    "df.head()"
   ]
  },
  {
   "attachments": {},
   "cell_type": "markdown",
   "metadata": {},
   "source": [
    "### 수익율 계산\n",
    "1. 파생변수(return) 값은 1로 생성\n",
    "2. rtn = 1.0, buy, sell 변수는 0으로 생성\n",
    "3. 반복문을 이용해서 현재의 trade가 buy이고 전 행의 trade가 \"\" 인 경우 구매 날\n",
    "4. 전 행의 trade가 buy이고 현재의 trade가 \"\" 인 경우 판매 날\n",
    "5. 수익율 계산해서 return 대입\n",
    "\n",
    "### 누적 수익율 계산\n",
    "1. acc_rtn = 1.0 생성\n",
    "2. return의 항목들을 누적 곱하여 acc_rtn 컬럼에 대입\n",
    "3. 최종적으로 acc_rtn을 출력"
   ]
  },
  {
   "cell_type": "code",
   "execution_count": null,
   "metadata": {},
   "outputs": [],
   "source": [
    "# 1. 파생변수(return) 값은 1로 생성\n",
    "df[\"return\"] = 1\n",
    "# 2. rtn = 1.0, buy, sell 변수는 0으로 생성\n",
    "rtn = 1.0 \n",
    "buy = 0\n",
    "sell = 0\n",
    "\n",
    "for i in df.index :\n",
    "    # 3. 반복문을 이용해서 현재의 trade가 buy이고 전 행의 trade가 \"\" 인 경우 구매 날\n",
    "    if (df.loc[i, \"trade\"] == \"buy\") and (df.shift(1).loc[i, \"trade\"] == \"\") :\n",
    "        buy = df.loc[i, \"Adj Close\"]\n",
    "        print(\"진입일 : \", i, \"구입 가격 : \", buy)\n",
    "    # 4. 전 행의 trade가 buy이고 현재의 trade가 \"\" 인 경우 판매 날\n",
    "    elif (df.shift(1).loc[i, \"trade\"] == \"buy\") and (df.loc[i, \"trade\"] == \"\") :\n",
    "        sell = df.loc[i, \"Adj Close\"]\n",
    "        # 5. 수익율 계산해서 return 대입\n",
    "        rtn = (sell - buy) / buy + 1\n",
    "        df.loc[i, \"return\"] = rtn\n",
    "        print(\"판매일 : \", i, \"판매가격 : \", sell, \"수익률 : \", rtn)\n",
    "\n"
   ]
  },
  {
   "cell_type": "code",
   "execution_count": null,
   "metadata": {},
   "outputs": [],
   "source": [
    "acc_rtn = 1.0\n",
    "\n",
    "for i in df.index :\n",
    "    acc_rtn *= df.loc[i, \"return\"]\n",
    "    df.loc[i, \"acc_rtn\"] = acc_rtn\n",
    "print(\"누적수익율 : \", acc_rtn)"
   ]
  },
  {
   "cell_type": "code",
   "execution_count": null,
   "metadata": {},
   "outputs": [],
   "source": [
    "df[\"return\"].cumprod()"
   ]
  },
  {
   "attachments": {},
   "cell_type": "markdown",
   "metadata": {},
   "source": [
    "# 절대 모멘텀을 함수화\n",
    "1. 첫번째 함수\n",
    "    - 매개변수 1게(데이터프레임)\n",
    "    - 데이터프레임에 결측치와 이상치를 제거\n",
    "    - 수정종가를 제외한 나머지 컬럼은 삭제\n",
    "    - 인덱스를 시계열로 변경\n",
    "    - \"STD-YM\" 파생변수를 생성하여 인덱스의 년-월 추출해서 대입\n",
    "2. 두번째 함수\n",
    "    - 매개변수 1개(데이터프레임)\n",
    "    - 새로운 데이터프레임 생성\n",
    "    - 인자값으로 받아온 데이터프레임에서 년-월별 마지막 데이터들을 새로운 데이터프레임에 대입\n",
    "    - df에 파생변수 2개 생성\n",
    "        - \"BF_1M\" : 전월의 종가, 결측치는 0으로 대체\n",
    "        - \"BF_12M\" : 전년도의 종가, 결측치는 0으로 대체\n",
    "    - df2를 리턴\n",
    "3. 세번째 함수\n",
    "    - 매개변수 2개(첫번째 함수의 결과(df1), 두번째 함수의 결과(df2))\n",
    "    - df1에 trade 컬럼을 생성, 값은 \"\"\n",
    "    - df1에 return 컬럼을 생성, 값은 1\n",
    "    - df2의 값들을 이용하여 momentum_index를 구하고 df1에 거래 내역 삽입\n",
    "    - df1의 거래 내역을 이용하여 수익율 return 컬럼에 대입\n",
    "    - return 컬럼의 데이터를 가지고 누적수익율(acc_rtn)에 대입\n",
    "    - 누적수익율을 print를 이용하여 출력\n",
    "    - df1을 리턴"
   ]
  },
  {
   "cell_type": "code",
   "execution_count": 81,
   "metadata": {},
   "outputs": [],
   "source": [
    "import pandas as pd\n",
    "import numpy as np\n",
    "from datetime import datetime\n",
    "\n",
    "# 1. 첫번째 함수\n",
    "# 매개변수 1게(데이터프레임)\n",
    "def mmt1 (df) :\n",
    "    # 인덱스가 Date가 아니면? Date 컬럼을 인덱스로 변경\n",
    "    if \"Date\" in df.columns :\n",
    "        df = df.set_index(\"Date\")\n",
    "    # 데이터프레임에 결측치와 이상치를 제거, 수정종가를 제외한 나머지 컬럼은 삭제\n",
    "    df = df.loc[~df.isin([np.nan, np.inf, -np.inf]).any(1), [\"Adj Close\"]]\n",
    "    # 인덱스를 시계열로 변경\n",
    "    df.index = pd.to_datetime(df.index, format = \"%Y-%m-%d\")\n",
    "    # \"STD-YM\" 파생변수를 생성하여 인덱스의 년-월 추출해서 대입\n",
    "    df[\"STD-YM\"] = list(map(lambda x : datetime.strftime(x, \"%Y-%m\"), df.index))\n",
    "    return df"
   ]
  },
  {
   "cell_type": "code",
   "execution_count": 84,
   "metadata": {},
   "outputs": [
    {
     "name": "stderr",
     "output_type": "stream",
     "text": [
      "C:\\Users\\duja1\\AppData\\Local\\Temp\\ipykernel_19928\\2805242224.py:12: FutureWarning: In a future version of pandas all arguments of DataFrame.any and Series.any will be keyword-only.\n",
      "  df = df.loc[~df.isin([np.nan, np.inf, -np.inf]).any(1), [\"Adj Close\"]]\n"
     ]
    }
   ],
   "source": [
    "data = pd.read_csv(\"../csv/GDX.csv\")\n",
    "df1 = mmt1(data)"
   ]
  },
  {
   "cell_type": "code",
   "execution_count": 85,
   "metadata": {},
   "outputs": [],
   "source": [
    "# 2. 두번째 함수\n",
    "# 매개변수 1개(데이터프레임)\n",
    "def mmt2 (df) :\n",
    "    # 새로운 데이터프레임 생성\n",
    "    df2 = pd.DataFrame()\n",
    "    # 인자값으로 받아온 데이터프레임에서 년-월별 마지막 데이터들을 새로운 데이터프레임에 대입\n",
    "    df2 = df.loc[df[\"STD-YM\"] != df.shift(-1)[\"STD-YM\"]]\n",
    "    # df에 파생변수 2개 생성\n",
    "    # \"BF_1M\" : 전월의 종가, 결측치는 0으로 대체\n",
    "    df2[\"BF_1M\"] = df2.shift(1)[\"Adj Close\"].fillna(0)\n",
    "    # \"BF_12M\" : 전년도의 종가, 결측치는 0으로 대체\n",
    "    df2[\"BF_12M\"] = df2.shift(12)[\"Adj Close\"].fillna(0)\n",
    "    return df2\n",
    "    "
   ]
  },
  {
   "cell_type": "code",
   "execution_count": 87,
   "metadata": {},
   "outputs": [
    {
     "name": "stderr",
     "output_type": "stream",
     "text": [
      "C:\\Users\\duja1\\AppData\\Local\\Temp\\ipykernel_19928\\2207663293.py:10: SettingWithCopyWarning: \n",
      "A value is trying to be set on a copy of a slice from a DataFrame.\n",
      "Try using .loc[row_indexer,col_indexer] = value instead\n",
      "\n",
      "See the caveats in the documentation: https://pandas.pydata.org/pandas-docs/stable/user_guide/indexing.html#returning-a-view-versus-a-copy\n",
      "  month_list_df[\"BF_1M\"] = month_list_df.shift(1)[\"Adj Close\"].fillna(0)\n",
      "C:\\Users\\duja1\\AppData\\Local\\Temp\\ipykernel_19928\\2207663293.py:12: SettingWithCopyWarning: \n",
      "A value is trying to be set on a copy of a slice from a DataFrame.\n",
      "Try using .loc[row_indexer,col_indexer] = value instead\n",
      "\n",
      "See the caveats in the documentation: https://pandas.pydata.org/pandas-docs/stable/user_guide/indexing.html#returning-a-view-versus-a-copy\n",
      "  month_list_df[\"BF_12M\"] = month_list_df.shift(12)[\"Adj Close\"].fillna(0)\n"
     ]
    }
   ],
   "source": [
    "df2 = mmt2(df1)"
   ]
  },
  {
   "cell_type": "code",
   "execution_count": 97,
   "metadata": {},
   "outputs": [],
   "source": [
    "# 3. 세번째 함수\n",
    "# 매개변수 2개(첫번째 함수의 결과(df1), 두번째 함수의 결과(df2))\n",
    "def mmt3(df1, df2) :\n",
    "    # df1에 trade 컬럼을 생성, 값은 \"\"\n",
    "    df1[\"trade\"] = \"\"\n",
    "    # df1에 return 컬럼을 생성, 값은 1\n",
    "    df1[\"return\"] = 1\n",
    "    # df2의 값들을 이용하여 momentum_index를 구하고 df1에 거래 내역 삽입\n",
    "    for i in df2.index :\n",
    "        signal = \"\"\n",
    "        # 절대 모멘텀 계산\n",
    "        momentum_index = df2.loc[i, \"BF_1M\"] / df2.loc[i, \"BF_12M\"] - 1\n",
    "        # 절대 모멘텀 지표에 따라서 True 와 False 로 구분\n",
    "        flag = True if((momentum_index > 0) and (momentum_index != -np.inf) and(momentum_index != np.inf)) else False\n",
    "        if flag :\n",
    "            signal = \"buy\"\n",
    "        df1.loc[i, \"trade\"] = signal\n",
    "    # df1의 거래 내역을 이용하여 수익율 return 컬럼에 대입\n",
    "    # 2. rtn = 1.0, buy, sell 변수는 0으로 생성\n",
    "    rtn = 1.0 \n",
    "    buy = 0\n",
    "    sell = 0\n",
    "\n",
    "    for i in df1.index :\n",
    "        # 3. 반복문을 이용해서 현재의 trade가 buy이고 전 행의 trade가 \"\" 인 경우 구매 날\n",
    "        if (df1.loc[i, \"trade\"] == \"buy\") and (df1.shift(1).loc[i, \"trade\"] == \"\") :\n",
    "            buy = df1.loc[i, \"Adj Close\"]\n",
    "            print(\"구입일 : \", i, \"구입 가격 : \", buy)\n",
    "        # 4. 전 행의 trade가 buy이고 현재의 trade가 \"\" 인 경우 판매 날\n",
    "        elif (df1.shift(1).loc[i, \"trade\"] == \"buy\") and (df1.loc[i, \"trade\"] == \"\") :\n",
    "            sell = df1.loc[i, \"Adj Close\"]\n",
    "            # 5. 수익율 계산해서 return 대입\n",
    "            print(\"판매일 : \", i, \"판매가격 : \", sell)\n",
    "            rtn = (sell - buy) / buy + 1\n",
    "            df1.loc[i, \"return\"] = rtn\n",
    "            \n",
    "    # return 컬럼의 데이터를 가지고 누적수익율(acc_rtn)에 대입\n",
    "    acc_rtn = 1.0\n",
    "    for i in df1.index :\n",
    "        acc_rtn *= df1.loc[i, \"return\"]\n",
    "        df1.loc[i, \"acc_rtn\"] = acc_rtn\n",
    "    print(acc_rtn)\n",
    "\n",
    "    return df1"
   ]
  },
  {
   "cell_type": "code",
   "execution_count": 98,
   "metadata": {},
   "outputs": [
    {
     "name": "stderr",
     "output_type": "stream",
     "text": [
      "C:\\Users\\duja1\\AppData\\Local\\Temp\\ipykernel_19928\\3850679863.py:12: RuntimeWarning: invalid value encountered in scalar divide\n",
      "  momentum_index = df2.loc[i, \"BF_1M\"] / df2.loc[i, \"BF_12M\"] - 1\n",
      "C:\\Users\\duja1\\AppData\\Local\\Temp\\ipykernel_19928\\3850679863.py:12: RuntimeWarning: divide by zero encountered in scalar divide\n",
      "  momentum_index = df2.loc[i, \"BF_1M\"] / df2.loc[i, \"BF_12M\"] - 1\n"
     ]
    },
    {
     "name": "stdout",
     "output_type": "stream",
     "text": [
      "구입일 :  2007-05-31 00:00:00 구입 가격 :  36.162109\n",
      "판매일 :  2007-06-01 00:00:00 판매가격 :  36.993214\n",
      "구입일 :  2007-06-29 00:00:00 구입 가격 :  34.989338\n",
      "판매일 :  2007-07-02 00:00:00 판매가격 :  35.866615\n",
      "구입일 :  2007-09-28 00:00:00 구입 가격 :  41.878242\n",
      "판매일 :  2007-10-01 00:00:00 판매가격 :  42.312256\n",
      "구입일 :  2007-10-31 00:00:00 구입 가격 :  46.72633\n",
      "판매일 :  2007-11-01 00:00:00 판매가격 :  45.082588\n",
      "구입일 :  2007-11-30 00:00:00 구입 가격 :  42.810921\n",
      "판매일 :  2007-12-03 00:00:00 판매가격 :  43.235706\n",
      "구입일 :  2007-12-31 00:00:00 구입 가격 :  43.033947\n",
      "판매일 :  2008-01-02 00:00:00 판매가격 :  46.235912\n",
      "구입일 :  2008-01-31 00:00:00 구입 가격 :  47.278187\n",
      "판매일 :  2008-02-01 00:00:00 판매가격 :  46.151402\n",
      "구입일 :  2008-02-29 00:00:00 구입 가격 :  49.879185\n",
      "판매일 :  2008-03-03 00:00:00 판매가격 :  51.287678\n",
      "구입일 :  2008-03-31 00:00:00 구입 가격 :  44.78986\n",
      "판매일 :  2008-04-01 00:00:00 판매가격 :  43.559784\n",
      "구입일 :  2008-04-30 00:00:00 구입 가격 :  40.939995\n",
      "판매일 :  2008-05-01 00:00:00 판매가격 :  40.047958\n",
      "구입일 :  2008-05-30 00:00:00 구입 가격 :  43.212353\n",
      "판매일 :  2008-06-02 00:00:00 판매가격 :  43.57856\n",
      "구입일 :  2008-06-30 00:00:00 구입 가격 :  45.625561\n",
      "판매일 :  2008-07-01 00:00:00 판매가격 :  46.508213\n",
      "구입일 :  2008-07-31 00:00:00 구입 가격 :  40.827316\n",
      "판매일 :  2008-08-01 00:00:00 판매가격 :  39.813213\n",
      "구입일 :  2008-08-29 00:00:00 구입 가격 :  35.343613\n",
      "판매일 :  2008-09-02 00:00:00 판매가격 :  33.099422\n",
      "구입일 :  2009-08-31 00:00:00 구입 가격 :  37.099522\n",
      "판매일 :  2009-09-01 00:00:00 판매가격 :  36.423454\n",
      "구입일 :  2009-09-30 00:00:00 구입 가격 :  42.526897\n",
      "판매일 :  2009-10-01 00:00:00 판매가격 :  40.432941\n",
      "구입일 :  2009-10-30 00:00:00 구입 가격 :  39.785034\n",
      "판매일 :  2009-11-02 00:00:00 판매가격 :  40.263927\n",
      "구입일 :  2009-11-30 00:00:00 구입 가격 :  47.991817\n",
      "판매일 :  2009-12-01 00:00:00 판매가격 :  50.405022\n",
      "구입일 :  2009-12-31 00:00:00 구입 가격 :  43.496857\n",
      "판매일 :  2010-01-04 00:00:00 판매가격 :  44.908779\n",
      "구입일 :  2010-01-29 00:00:00 구입 가격 :  38.329189\n",
      "판매일 :  2010-02-01 00:00:00 판매가격 :  40.418842\n",
      "구입일 :  2010-02-26 00:00:00 구입 가격 :  41.313072\n",
      "판매일 :  2010-03-01 00:00:00 판매가격 :  42.019035\n",
      "구입일 :  2010-03-31 00:00:00 구입 가격 :  41.80254\n",
      "판매일 :  2010-04-01 00:00:00 판매가격 :  43.675705\n",
      "구입일 :  2010-04-30 00:00:00 구입 가격 :  47.544388\n",
      "판매일 :  2010-05-03 00:00:00 판매가격 :  46.951374\n",
      "구입일 :  2010-05-28 00:00:00 구입 가격 :  46.932549\n",
      "판매일 :  2010-06-01 00:00:00 판매가격 :  46.885487\n",
      "구입일 :  2010-06-30 00:00:00 구입 가격 :  48.909252\n",
      "판매일 :  2010-07-01 00:00:00 판매가격 :  46.706642\n",
      "구입일 :  2010-07-30 00:00:00 구입 가격 :  45.388844\n",
      "판매일 :  2010-08-02 00:00:00 판매가격 :  45.228813\n",
      "구입일 :  2010-08-31 00:00:00 구입 가격 :  50.462372\n",
      "판매일 :  2010-09-01 00:00:00 판매가격 :  49.746994\n",
      "구입일 :  2010-09-30 00:00:00 구입 가격 :  52.64616\n",
      "판매일 :  2010-10-01 00:00:00 판매가격 :  53.276817\n",
      "구입일 :  2010-10-29 00:00:00 구입 가격 :  53.935722\n",
      "판매일 :  2010-11-01 00:00:00 판매가격 :  53.869831\n",
      "구입일 :  2010-11-30 00:00:00 구입 가격 :  56.00655\n",
      "판매일 :  2010-12-01 00:00:00 판매가격 :  56.740753\n",
      "구입일 :  2010-12-31 00:00:00 구입 가격 :  58.251236\n",
      "판매일 :  2011-01-03 00:00:00 판매가격 :  57.587898\n",
      "구입일 :  2011-01-31 00:00:00 구입 가격 :  51.096581\n",
      "판매일 :  2011-02-01 00:00:00 판매가격 :  52.536987\n",
      "구입일 :  2011-02-28 00:00:00 구입 가격 :  56.697117\n",
      "판매일 :  2011-03-01 00:00:00 판매가격 :  57.616322\n",
      "구입일 :  2011-03-31 00:00:00 구입 가격 :  56.952976\n",
      "판매일 :  2011-04-01 00:00:00 판매가격 :  56.640263\n",
      "구입일 :  2011-04-29 00:00:00 구입 가격 :  58.94302\n",
      "판매일 :  2011-05-02 00:00:00 판매가격 :  56.971931\n",
      "구입일 :  2011-05-31 00:00:00 구입 가격 :  55.105083\n",
      "판매일 :  2011-06-01 00:00:00 판매가격 :  54.081638\n",
      "구입일 :  2011-06-30 00:00:00 구입 가격 :  51.731499\n",
      "판매일 :  2011-07-01 00:00:00 판매가격 :  50.92601\n",
      "구입일 :  2011-07-29 00:00:00 구입 가격 :  53.911064\n",
      "판매일 :  2011-08-01 00:00:00 판매가격 :  54.356449\n",
      "구입일 :  2011-08-31 00:00:00 구입 가격 :  59.511593\n",
      "판매일 :  2011-09-01 00:00:00 판매가격 :  60.06123\n",
      "구입일 :  2011-09-30 00:00:00 구입 가격 :  52.300083\n",
      "판매일 :  2011-10-03 00:00:00 판매가격 :  51.598824\n",
      "구입일 :  2014-09-30 00:00:00 구입 가격 :  20.70196\n",
      "판매일 :  2014-10-01 00:00:00 판매가격 :  20.740725\n",
      "구입일 :  2016-03-31 00:00:00 구입 가격 :  19.649097\n",
      "판매일 :  2016-04-01 00:00:00 판매가격 :  19.796688\n",
      "구입일 :  2016-04-29 00:00:00 구입 가격 :  25.414934\n",
      "판매일 :  2016-05-02 00:00:00 판매가격 :  24.982004\n",
      "구입일 :  2016-05-31 00:00:00 구입 가격 :  22.217159\n",
      "판매일 :  2016-06-01 00:00:00 판매가격 :  22.354908\n",
      "구입일 :  2016-06-30 00:00:00 구입 가격 :  27.264723\n",
      "판매일 :  2016-07-01 00:00:00 판매가격 :  28.583189\n",
      "구입일 :  2016-07-29 00:00:00 구입 가격 :  30.098446\n",
      "판매일 :  2016-08-01 00:00:00 판매가격 :  30.432981\n",
      "구입일 :  2016-08-31 00:00:00 구입 가격 :  25.080399\n",
      "판매일 :  2016-09-01 00:00:00 판매가격 :  25.995451\n",
      "구입일 :  2016-09-30 00:00:00 구입 가격 :  26.005293\n",
      "판매일 :  2016-10-03 00:00:00 판매가격 :  25.542843\n",
      "구입일 :  2016-10-31 00:00:00 구입 가격 :  24.125984\n",
      "판매일 :  2016-11-01 00:00:00 판매가격 :  24.726181\n",
      "구입일 :  2016-11-30 00:00:00 구입 가격 :  20.495279\n",
      "판매일 :  2016-12-01 00:00:00 판매가격 :  20.328011\n",
      "구입일 :  2016-12-30 00:00:00 구입 가격 :  20.643339\n",
      "판매일 :  2017-01-03 00:00:00 판매가격 :  21.472231\n",
      "구입일 :  2017-01-31 00:00:00 구입 가격 :  23.613533\n",
      "판매일 :  2017-02-01 00:00:00 판매가격 :  23.534592\n",
      "구입일 :  2017-02-28 00:00:00 구입 가격 :  22.547815\n",
      "판매일 :  2017-03-01 00:00:00 판매가격 :  22.676096\n",
      "구입일 :  2017-03-31 00:00:00 구입 가격 :  22.508345\n",
      "판매일 :  2017-04-03 00:00:00 판매가격 :  22.893188\n",
      "구입일 :  2017-11-30 00:00:00 구입 가격 :  22.17284\n",
      "판매일 :  2017-12-01 00:00:00 판매가격 :  22.192577\n",
      "구입일 :  2017-12-29 00:00:00 구입 가격 :  23.117683\n",
      "판매일 :  2018-01-02 00:00:00 판매가격 :  23.694632\n",
      "구입일 :  2018-02-28 00:00:00 구입 가격 :  21.237633\n",
      "판매일 :  2018-03-01 00:00:00 판매가격 :  21.456474\n",
      "구입일 :  2018-06-29 00:00:00 구입 가격 :  22.192579\n",
      "판매일 :  2018-07-02 00:00:00 판매가격 :  21.963789\n",
      "구입일 :  2019-02-28 00:00:00 구입 가격 :  22.24\n",
      "판매일 :  2019-03-01 00:00:00 판매가격 :  21.700001\n",
      "구입일 :  2019-03-29 00:00:00 구입 가격 :  22.42\n",
      "판매일 :  2019-04-01 00:00:00 판매가격 :  21.959999\n",
      "구입일 :  2019-04-30 00:00:00 구입 가격 :  20.889999\n",
      "판매일 :  2019-05-01 00:00:00 판매가격 :  20.52\n",
      "1.165001849964831\n"
     ]
    },
    {
     "data": {
      "text/html": [
       "<div>\n",
       "<style scoped>\n",
       "    .dataframe tbody tr th:only-of-type {\n",
       "        vertical-align: middle;\n",
       "    }\n",
       "\n",
       "    .dataframe tbody tr th {\n",
       "        vertical-align: top;\n",
       "    }\n",
       "\n",
       "    .dataframe thead th {\n",
       "        text-align: right;\n",
       "    }\n",
       "</style>\n",
       "<table border=\"1\" class=\"dataframe\">\n",
       "  <thead>\n",
       "    <tr style=\"text-align: right;\">\n",
       "      <th></th>\n",
       "      <th>Adj Close</th>\n",
       "      <th>STD-YM</th>\n",
       "      <th>trade</th>\n",
       "      <th>return</th>\n",
       "      <th>acc_rtn</th>\n",
       "    </tr>\n",
       "    <tr>\n",
       "      <th>Date</th>\n",
       "      <th></th>\n",
       "      <th></th>\n",
       "      <th></th>\n",
       "      <th></th>\n",
       "      <th></th>\n",
       "    </tr>\n",
       "  </thead>\n",
       "  <tbody>\n",
       "    <tr>\n",
       "      <th>2006-05-22</th>\n",
       "      <td>34.280224</td>\n",
       "      <td>2006-05</td>\n",
       "      <td></td>\n",
       "      <td>1.0</td>\n",
       "      <td>1.000000</td>\n",
       "    </tr>\n",
       "    <tr>\n",
       "      <th>2006-05-23</th>\n",
       "      <td>34.952393</td>\n",
       "      <td>2006-05</td>\n",
       "      <td></td>\n",
       "      <td>1.0</td>\n",
       "      <td>1.000000</td>\n",
       "    </tr>\n",
       "    <tr>\n",
       "      <th>2006-05-24</th>\n",
       "      <td>33.626480</td>\n",
       "      <td>2006-05</td>\n",
       "      <td></td>\n",
       "      <td>1.0</td>\n",
       "      <td>1.000000</td>\n",
       "    </tr>\n",
       "    <tr>\n",
       "      <th>2006-05-25</th>\n",
       "      <td>35.283867</td>\n",
       "      <td>2006-05</td>\n",
       "      <td></td>\n",
       "      <td>1.0</td>\n",
       "      <td>1.000000</td>\n",
       "    </tr>\n",
       "    <tr>\n",
       "      <th>2006-05-26</th>\n",
       "      <td>35.495640</td>\n",
       "      <td>2006-05</td>\n",
       "      <td></td>\n",
       "      <td>1.0</td>\n",
       "      <td>1.000000</td>\n",
       "    </tr>\n",
       "    <tr>\n",
       "      <th>...</th>\n",
       "      <td>...</td>\n",
       "      <td>...</td>\n",
       "      <td>...</td>\n",
       "      <td>...</td>\n",
       "      <td>...</td>\n",
       "    </tr>\n",
       "    <tr>\n",
       "      <th>2019-06-18</th>\n",
       "      <td>23.670000</td>\n",
       "      <td>2019-06</td>\n",
       "      <td></td>\n",
       "      <td>1.0</td>\n",
       "      <td>1.165002</td>\n",
       "    </tr>\n",
       "    <tr>\n",
       "      <th>2019-06-19</th>\n",
       "      <td>24.000000</td>\n",
       "      <td>2019-06</td>\n",
       "      <td></td>\n",
       "      <td>1.0</td>\n",
       "      <td>1.165002</td>\n",
       "    </tr>\n",
       "    <tr>\n",
       "      <th>2019-06-20</th>\n",
       "      <td>25.049999</td>\n",
       "      <td>2019-06</td>\n",
       "      <td></td>\n",
       "      <td>1.0</td>\n",
       "      <td>1.165002</td>\n",
       "    </tr>\n",
       "    <tr>\n",
       "      <th>2019-06-21</th>\n",
       "      <td>25.209999</td>\n",
       "      <td>2019-06</td>\n",
       "      <td></td>\n",
       "      <td>1.0</td>\n",
       "      <td>1.165002</td>\n",
       "    </tr>\n",
       "    <tr>\n",
       "      <th>2019-06-24</th>\n",
       "      <td>25.703501</td>\n",
       "      <td>2019-06</td>\n",
       "      <td></td>\n",
       "      <td>1.0</td>\n",
       "      <td>1.165002</td>\n",
       "    </tr>\n",
       "  </tbody>\n",
       "</table>\n",
       "<p>3295 rows × 5 columns</p>\n",
       "</div>"
      ],
      "text/plain": [
       "            Adj Close   STD-YM trade  return   acc_rtn\n",
       "Date                                                  \n",
       "2006-05-22  34.280224  2006-05           1.0  1.000000\n",
       "2006-05-23  34.952393  2006-05           1.0  1.000000\n",
       "2006-05-24  33.626480  2006-05           1.0  1.000000\n",
       "2006-05-25  35.283867  2006-05           1.0  1.000000\n",
       "2006-05-26  35.495640  2006-05           1.0  1.000000\n",
       "...               ...      ...   ...     ...       ...\n",
       "2019-06-18  23.670000  2019-06           1.0  1.165002\n",
       "2019-06-19  24.000000  2019-06           1.0  1.165002\n",
       "2019-06-20  25.049999  2019-06           1.0  1.165002\n",
       "2019-06-21  25.209999  2019-06           1.0  1.165002\n",
       "2019-06-24  25.703501  2019-06           1.0  1.165002\n",
       "\n",
       "[3295 rows x 5 columns]"
      ]
     },
     "execution_count": 98,
     "metadata": {},
     "output_type": "execute_result"
    }
   ],
   "source": [
    "mmt3(df1, df2)"
   ]
  }
 ],
 "metadata": {
  "kernelspec": {
   "display_name": "Python 3",
   "language": "python",
   "name": "python3"
  },
  "language_info": {
   "codemirror_mode": {
    "name": "ipython",
    "version": 3
   },
   "file_extension": ".py",
   "mimetype": "text/x-python",
   "name": "python",
   "nbconvert_exporter": "python",
   "pygments_lexer": "ipython3",
   "version": "3.11.2"
  },
  "orig_nbformat": 4
 },
 "nbformat": 4,
 "nbformat_minor": 2
}
